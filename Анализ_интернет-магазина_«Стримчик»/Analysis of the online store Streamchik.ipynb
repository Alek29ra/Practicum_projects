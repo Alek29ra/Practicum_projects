{
 "cells": [
  {
   "cell_type": "markdown",
   "metadata": {},
   "source": [
    "#  Сборный проект\n",
    "#  Анализ интернет-магазина «Стримчик»\n",
    "\n",
    "\n",
    "Интернет-магазин «Стримчик» продаёт по всему миру компьютерные игры. Из открытых источников доступны исторические данные о продажах игр, оценки пользователей и экспертов, жанры и платформы (например, Xbox или PlayStation). \n",
    "\n",
    "Данные представлены до 2016 года, также имеется аббревиатура ESRB (Entertainment Software Rating Board) — это ассоциация, определяющая возрастной рейтинг компьютерных игр. ESRB оценивает игровой контент и присваивает ему подходящую возрастную категорию, например, «Для взрослых», «Для детей младшего возраста» или «Для подростков».\n",
    "\n",
    "**Цель:** Выявить определяющие успешность игры закономерности, что позволит сделать ставку на потенциально популярный продукт и спланировать рекламные кампании.\n",
    "\n",
    "**Этапы проекта:**\n",
    " 1. Изучение общей информации\n",
    " 2. Подготовка данных:\n",
    "  * исправить названия столбцов\n",
    "  * изменить типы данных, там, где это нужно\n",
    "  * выявить пропуски, дубликаты, аномалии.\n",
    " 3. Исследовать данные \n",
    " 4. Составление портрета пользователя каждого региона по данным\n",
    " 5. Проверка гипотез\n",
    " 6. Составление общего вывода\n",
    " \n",
    "**Описание данных:**\n",
    " - Name — название игры\n",
    " - Platform — платформа\n",
    " - Year_of_Release — год выпуска\n",
    " - Genre — жанр игры\n",
    " - NA_sales — продажи в Северной Америке (миллионы проданных копий)\n",
    " - EU_sales — продажи в Европе (миллионы проданных копий)\n",
    " - JP_sales — продажи в Японии (миллионы проданных копий)\n",
    " - Other_sales — продажи в других странах (миллионы проданных копий)\n",
    " - Critic_Score — оценка критиков (максимум 100)\n",
    " - User_Score — оценка пользователей (максимум 10)\n",
    " - Rating — рейтинг от организации ESRB (англ. Entertainment Software Rating Board). Эта ассоциация определяет рейтинг компьютерных игр и присваивает им подходящую возрастную категорию."
   ]
  },
  {
   "cell_type": "markdown",
   "metadata": {},
   "source": [
    "**Импорт библиотек**"
   ]
  },
  {
   "cell_type": "code",
   "execution_count": 83,
   "metadata": {},
   "outputs": [
    {
     "name": "stdout",
     "output_type": "stream",
     "text": [
      "Requirement already satisfied: missingno in /opt/conda/lib/python3.9/site-packages (0.5.2)\n",
      "Requirement already satisfied: seaborn in /opt/conda/lib/python3.9/site-packages (from missingno) (0.11.1)\n",
      "Requirement already satisfied: numpy in /opt/conda/lib/python3.9/site-packages (from missingno) (1.21.1)\n",
      "Requirement already satisfied: scipy in /opt/conda/lib/python3.9/site-packages (from missingno) (1.9.1)\n",
      "Requirement already satisfied: matplotlib in /opt/conda/lib/python3.9/site-packages (from missingno) (3.3.4)\n",
      "Requirement already satisfied: cycler>=0.10 in /opt/conda/lib/python3.9/site-packages (from matplotlib->missingno) (0.11.0)\n",
      "Requirement already satisfied: pyparsing!=2.0.4,!=2.1.2,!=2.1.6,>=2.0.3 in /opt/conda/lib/python3.9/site-packages (from matplotlib->missingno) (2.4.7)\n",
      "Requirement already satisfied: python-dateutil>=2.1 in /opt/conda/lib/python3.9/site-packages (from matplotlib->missingno) (2.8.1)\n",
      "Requirement already satisfied: kiwisolver>=1.0.1 in /opt/conda/lib/python3.9/site-packages (from matplotlib->missingno) (1.4.4)\n",
      "Requirement already satisfied: pillow>=6.2.0 in /opt/conda/lib/python3.9/site-packages (from matplotlib->missingno) (8.4.0)\n",
      "Requirement already satisfied: six>=1.5 in /opt/conda/lib/python3.9/site-packages (from python-dateutil>=2.1->matplotlib->missingno) (1.16.0)\n",
      "Requirement already satisfied: pandas>=0.23 in /opt/conda/lib/python3.9/site-packages (from seaborn->missingno) (1.2.4)\n",
      "Requirement already satisfied: pytz>=2017.3 in /opt/conda/lib/python3.9/site-packages (from pandas>=0.23->seaborn->missingno) (2021.1)\n"
     ]
    }
   ],
   "source": [
    "import pandas as pd\n",
    "import matplotlib.pyplot as plt \n",
    "from scipy import stats as st\n",
    "import numpy as np\n",
    "import seaborn as sns\n",
    "from math import factorial\n",
    "\n",
    "!pip install missingno \n",
    "import missingno as msno"
   ]
  },
  {
   "cell_type": "markdown",
   "metadata": {},
   "source": [
    "## Изучение общей информации"
   ]
  },
  {
   "cell_type": "markdown",
   "metadata": {},
   "source": [
    "### Открытие файла"
   ]
  },
  {
   "cell_type": "code",
   "execution_count": 84,
   "metadata": {},
   "outputs": [],
   "source": [
    "data = pd.read_csv('/datasets/games.csv')"
   ]
  },
  {
   "cell_type": "markdown",
   "metadata": {},
   "source": [
    "### Анализ таблицы"
   ]
  },
  {
   "cell_type": "code",
   "execution_count": 85,
   "metadata": {},
   "outputs": [
    {
     "data": {
      "text/html": [
       "<div>\n",
       "<style scoped>\n",
       "    .dataframe tbody tr th:only-of-type {\n",
       "        vertical-align: middle;\n",
       "    }\n",
       "\n",
       "    .dataframe tbody tr th {\n",
       "        vertical-align: top;\n",
       "    }\n",
       "\n",
       "    .dataframe thead th {\n",
       "        text-align: right;\n",
       "    }\n",
       "</style>\n",
       "<table border=\"1\" class=\"dataframe\">\n",
       "  <thead>\n",
       "    <tr style=\"text-align: right;\">\n",
       "      <th></th>\n",
       "      <th>Name</th>\n",
       "      <th>Platform</th>\n",
       "      <th>Year_of_Release</th>\n",
       "      <th>Genre</th>\n",
       "      <th>NA_sales</th>\n",
       "      <th>EU_sales</th>\n",
       "      <th>JP_sales</th>\n",
       "      <th>Other_sales</th>\n",
       "      <th>Critic_Score</th>\n",
       "      <th>User_Score</th>\n",
       "      <th>Rating</th>\n",
       "    </tr>\n",
       "  </thead>\n",
       "  <tbody>\n",
       "    <tr>\n",
       "      <th>0</th>\n",
       "      <td>Wii Sports</td>\n",
       "      <td>Wii</td>\n",
       "      <td>2006.0</td>\n",
       "      <td>Sports</td>\n",
       "      <td>41.36</td>\n",
       "      <td>28.96</td>\n",
       "      <td>3.77</td>\n",
       "      <td>8.45</td>\n",
       "      <td>76.0</td>\n",
       "      <td>8</td>\n",
       "      <td>E</td>\n",
       "    </tr>\n",
       "    <tr>\n",
       "      <th>1</th>\n",
       "      <td>Super Mario Bros.</td>\n",
       "      <td>NES</td>\n",
       "      <td>1985.0</td>\n",
       "      <td>Platform</td>\n",
       "      <td>29.08</td>\n",
       "      <td>3.58</td>\n",
       "      <td>6.81</td>\n",
       "      <td>0.77</td>\n",
       "      <td>NaN</td>\n",
       "      <td>NaN</td>\n",
       "      <td>NaN</td>\n",
       "    </tr>\n",
       "    <tr>\n",
       "      <th>2</th>\n",
       "      <td>Mario Kart Wii</td>\n",
       "      <td>Wii</td>\n",
       "      <td>2008.0</td>\n",
       "      <td>Racing</td>\n",
       "      <td>15.68</td>\n",
       "      <td>12.76</td>\n",
       "      <td>3.79</td>\n",
       "      <td>3.29</td>\n",
       "      <td>82.0</td>\n",
       "      <td>8.3</td>\n",
       "      <td>E</td>\n",
       "    </tr>\n",
       "    <tr>\n",
       "      <th>3</th>\n",
       "      <td>Wii Sports Resort</td>\n",
       "      <td>Wii</td>\n",
       "      <td>2009.0</td>\n",
       "      <td>Sports</td>\n",
       "      <td>15.61</td>\n",
       "      <td>10.93</td>\n",
       "      <td>3.28</td>\n",
       "      <td>2.95</td>\n",
       "      <td>80.0</td>\n",
       "      <td>8</td>\n",
       "      <td>E</td>\n",
       "    </tr>\n",
       "    <tr>\n",
       "      <th>4</th>\n",
       "      <td>Pokemon Red/Pokemon Blue</td>\n",
       "      <td>GB</td>\n",
       "      <td>1996.0</td>\n",
       "      <td>Role-Playing</td>\n",
       "      <td>11.27</td>\n",
       "      <td>8.89</td>\n",
       "      <td>10.22</td>\n",
       "      <td>1.00</td>\n",
       "      <td>NaN</td>\n",
       "      <td>NaN</td>\n",
       "      <td>NaN</td>\n",
       "    </tr>\n",
       "    <tr>\n",
       "      <th>5</th>\n",
       "      <td>Tetris</td>\n",
       "      <td>GB</td>\n",
       "      <td>1989.0</td>\n",
       "      <td>Puzzle</td>\n",
       "      <td>23.20</td>\n",
       "      <td>2.26</td>\n",
       "      <td>4.22</td>\n",
       "      <td>0.58</td>\n",
       "      <td>NaN</td>\n",
       "      <td>NaN</td>\n",
       "      <td>NaN</td>\n",
       "    </tr>\n",
       "    <tr>\n",
       "      <th>6</th>\n",
       "      <td>New Super Mario Bros.</td>\n",
       "      <td>DS</td>\n",
       "      <td>2006.0</td>\n",
       "      <td>Platform</td>\n",
       "      <td>11.28</td>\n",
       "      <td>9.14</td>\n",
       "      <td>6.50</td>\n",
       "      <td>2.88</td>\n",
       "      <td>89.0</td>\n",
       "      <td>8.5</td>\n",
       "      <td>E</td>\n",
       "    </tr>\n",
       "    <tr>\n",
       "      <th>7</th>\n",
       "      <td>Wii Play</td>\n",
       "      <td>Wii</td>\n",
       "      <td>2006.0</td>\n",
       "      <td>Misc</td>\n",
       "      <td>13.96</td>\n",
       "      <td>9.18</td>\n",
       "      <td>2.93</td>\n",
       "      <td>2.84</td>\n",
       "      <td>58.0</td>\n",
       "      <td>6.6</td>\n",
       "      <td>E</td>\n",
       "    </tr>\n",
       "    <tr>\n",
       "      <th>8</th>\n",
       "      <td>New Super Mario Bros. Wii</td>\n",
       "      <td>Wii</td>\n",
       "      <td>2009.0</td>\n",
       "      <td>Platform</td>\n",
       "      <td>14.44</td>\n",
       "      <td>6.94</td>\n",
       "      <td>4.70</td>\n",
       "      <td>2.24</td>\n",
       "      <td>87.0</td>\n",
       "      <td>8.4</td>\n",
       "      <td>E</td>\n",
       "    </tr>\n",
       "    <tr>\n",
       "      <th>9</th>\n",
       "      <td>Duck Hunt</td>\n",
       "      <td>NES</td>\n",
       "      <td>1984.0</td>\n",
       "      <td>Shooter</td>\n",
       "      <td>26.93</td>\n",
       "      <td>0.63</td>\n",
       "      <td>0.28</td>\n",
       "      <td>0.47</td>\n",
       "      <td>NaN</td>\n",
       "      <td>NaN</td>\n",
       "      <td>NaN</td>\n",
       "    </tr>\n",
       "  </tbody>\n",
       "</table>\n",
       "</div>"
      ],
      "text/plain": [
       "                        Name Platform  Year_of_Release         Genre  \\\n",
       "0                 Wii Sports      Wii           2006.0        Sports   \n",
       "1          Super Mario Bros.      NES           1985.0      Platform   \n",
       "2             Mario Kart Wii      Wii           2008.0        Racing   \n",
       "3          Wii Sports Resort      Wii           2009.0        Sports   \n",
       "4   Pokemon Red/Pokemon Blue       GB           1996.0  Role-Playing   \n",
       "5                     Tetris       GB           1989.0        Puzzle   \n",
       "6      New Super Mario Bros.       DS           2006.0      Platform   \n",
       "7                   Wii Play      Wii           2006.0          Misc   \n",
       "8  New Super Mario Bros. Wii      Wii           2009.0      Platform   \n",
       "9                  Duck Hunt      NES           1984.0       Shooter   \n",
       "\n",
       "   NA_sales  EU_sales  JP_sales  Other_sales  Critic_Score User_Score Rating  \n",
       "0     41.36     28.96      3.77         8.45          76.0          8      E  \n",
       "1     29.08      3.58      6.81         0.77           NaN        NaN    NaN  \n",
       "2     15.68     12.76      3.79         3.29          82.0        8.3      E  \n",
       "3     15.61     10.93      3.28         2.95          80.0          8      E  \n",
       "4     11.27      8.89     10.22         1.00           NaN        NaN    NaN  \n",
       "5     23.20      2.26      4.22         0.58           NaN        NaN    NaN  \n",
       "6     11.28      9.14      6.50         2.88          89.0        8.5      E  \n",
       "7     13.96      9.18      2.93         2.84          58.0        6.6      E  \n",
       "8     14.44      6.94      4.70         2.24          87.0        8.4      E  \n",
       "9     26.93      0.63      0.28         0.47           NaN        NaN    NaN  "
      ]
     },
     "execution_count": 85,
     "metadata": {},
     "output_type": "execute_result"
    }
   ],
   "source": [
    "data.head(10)"
   ]
  },
  {
   "cell_type": "markdown",
   "metadata": {},
   "source": [
    "##### Вывод общей информации о датафрейме"
   ]
  },
  {
   "cell_type": "code",
   "execution_count": 86,
   "metadata": {},
   "outputs": [
    {
     "name": "stdout",
     "output_type": "stream",
     "text": [
      "<class 'pandas.core.frame.DataFrame'>\n",
      "RangeIndex: 16715 entries, 0 to 16714\n",
      "Data columns (total 11 columns):\n",
      " #   Column           Non-Null Count  Dtype  \n",
      "---  ------           --------------  -----  \n",
      " 0   Name             16713 non-null  object \n",
      " 1   Platform         16715 non-null  object \n",
      " 2   Year_of_Release  16446 non-null  float64\n",
      " 3   Genre            16713 non-null  object \n",
      " 4   NA_sales         16715 non-null  float64\n",
      " 5   EU_sales         16715 non-null  float64\n",
      " 6   JP_sales         16715 non-null  float64\n",
      " 7   Other_sales      16715 non-null  float64\n",
      " 8   Critic_Score     8137 non-null   float64\n",
      " 9   User_Score       10014 non-null  object \n",
      " 10  Rating           9949 non-null   object \n",
      "dtypes: float64(6), object(5)\n",
      "memory usage: 1.4+ MB\n"
     ]
    }
   ],
   "source": [
    "data.info()"
   ]
  },
  {
   "cell_type": "code",
   "execution_count": 87,
   "metadata": {},
   "outputs": [
    {
     "data": {
      "text/html": [
       "<div>\n",
       "<style scoped>\n",
       "    .dataframe tbody tr th:only-of-type {\n",
       "        vertical-align: middle;\n",
       "    }\n",
       "\n",
       "    .dataframe tbody tr th {\n",
       "        vertical-align: top;\n",
       "    }\n",
       "\n",
       "    .dataframe thead th {\n",
       "        text-align: right;\n",
       "    }\n",
       "</style>\n",
       "<table border=\"1\" class=\"dataframe\">\n",
       "  <thead>\n",
       "    <tr style=\"text-align: right;\">\n",
       "      <th></th>\n",
       "      <th>count</th>\n",
       "      <th>mean</th>\n",
       "      <th>std</th>\n",
       "      <th>min</th>\n",
       "      <th>25%</th>\n",
       "      <th>50%</th>\n",
       "      <th>75%</th>\n",
       "      <th>max</th>\n",
       "    </tr>\n",
       "  </thead>\n",
       "  <tbody>\n",
       "    <tr>\n",
       "      <th>Year_of_Release</th>\n",
       "      <td>16446.0</td>\n",
       "      <td>2006.484616</td>\n",
       "      <td>5.877050</td>\n",
       "      <td>1980.0</td>\n",
       "      <td>2003.0</td>\n",
       "      <td>2007.00</td>\n",
       "      <td>2010.00</td>\n",
       "      <td>2016.00</td>\n",
       "    </tr>\n",
       "    <tr>\n",
       "      <th>NA_sales</th>\n",
       "      <td>16715.0</td>\n",
       "      <td>0.263377</td>\n",
       "      <td>0.813604</td>\n",
       "      <td>0.0</td>\n",
       "      <td>0.0</td>\n",
       "      <td>0.08</td>\n",
       "      <td>0.24</td>\n",
       "      <td>41.36</td>\n",
       "    </tr>\n",
       "    <tr>\n",
       "      <th>EU_sales</th>\n",
       "      <td>16715.0</td>\n",
       "      <td>0.145060</td>\n",
       "      <td>0.503339</td>\n",
       "      <td>0.0</td>\n",
       "      <td>0.0</td>\n",
       "      <td>0.02</td>\n",
       "      <td>0.11</td>\n",
       "      <td>28.96</td>\n",
       "    </tr>\n",
       "    <tr>\n",
       "      <th>JP_sales</th>\n",
       "      <td>16715.0</td>\n",
       "      <td>0.077617</td>\n",
       "      <td>0.308853</td>\n",
       "      <td>0.0</td>\n",
       "      <td>0.0</td>\n",
       "      <td>0.00</td>\n",
       "      <td>0.04</td>\n",
       "      <td>10.22</td>\n",
       "    </tr>\n",
       "    <tr>\n",
       "      <th>Other_sales</th>\n",
       "      <td>16715.0</td>\n",
       "      <td>0.047342</td>\n",
       "      <td>0.186731</td>\n",
       "      <td>0.0</td>\n",
       "      <td>0.0</td>\n",
       "      <td>0.01</td>\n",
       "      <td>0.03</td>\n",
       "      <td>10.57</td>\n",
       "    </tr>\n",
       "    <tr>\n",
       "      <th>Critic_Score</th>\n",
       "      <td>8137.0</td>\n",
       "      <td>68.967679</td>\n",
       "      <td>13.938165</td>\n",
       "      <td>13.0</td>\n",
       "      <td>60.0</td>\n",
       "      <td>71.00</td>\n",
       "      <td>79.00</td>\n",
       "      <td>98.00</td>\n",
       "    </tr>\n",
       "  </tbody>\n",
       "</table>\n",
       "</div>"
      ],
      "text/plain": [
       "                   count         mean        std     min     25%      50%  \\\n",
       "Year_of_Release  16446.0  2006.484616   5.877050  1980.0  2003.0  2007.00   \n",
       "NA_sales         16715.0     0.263377   0.813604     0.0     0.0     0.08   \n",
       "EU_sales         16715.0     0.145060   0.503339     0.0     0.0     0.02   \n",
       "JP_sales         16715.0     0.077617   0.308853     0.0     0.0     0.00   \n",
       "Other_sales      16715.0     0.047342   0.186731     0.0     0.0     0.01   \n",
       "Critic_Score      8137.0    68.967679  13.938165    13.0    60.0    71.00   \n",
       "\n",
       "                     75%      max  \n",
       "Year_of_Release  2010.00  2016.00  \n",
       "NA_sales            0.24    41.36  \n",
       "EU_sales            0.11    28.96  \n",
       "JP_sales            0.04    10.22  \n",
       "Other_sales         0.03    10.57  \n",
       "Critic_Score       79.00    98.00  "
      ]
     },
     "execution_count": 87,
     "metadata": {},
     "output_type": "execute_result"
    }
   ],
   "source": [
    "data.describe().T"
   ]
  },
  {
   "cell_type": "markdown",
   "metadata": {},
   "source": [
    "##### Потсроение графиков для каждого столбца"
   ]
  },
  {
   "cell_type": "code",
   "execution_count": 88,
   "metadata": {},
   "outputs": [
    {
     "data": {
      "image/png": "[encoded data removed]",
      "text/plain": [
       "<Figure size 720x720 with 6 Axes>"
      ]
     },
     "metadata": {
      "needs_background": "light"
     },
     "output_type": "display_data"
    }
   ],
   "source": [
    "data.hist(figsize = (10, 10));"
   ]
  },
  {
   "cell_type": "markdown",
   "metadata": {},
   "source": [
    "При рассмотрении общей информации выявлено:\n",
    "\n",
    "В таблице 16715 строк, заголовки столбцов нужно перевести в нижний регистр.\n",
    "\n",
    "**Пропуски замечены в следующих столбцах:**\n",
    "- Мало пропущенных строк\n",
    " - Name\n",
    " - Genre\n",
    " \n",
    "Можно предположить, что названия игры и жанра забыли внести из-за невнимательности.\n",
    " \n",
    "- Более 100 пропущенных значений\n",
    " - Year_of_Release\n",
    " \n",
    "- Более 1000 пропущенных значений\n",
    " - Critic_Score\n",
    " - User_Score\n",
    " - Rating  \n",
    "\n",
    "В остальных случаях возможен сбой при заполнении таблицы.\n",
    "\n",
    "**Несоотвестсвующий тип данных у следующих стобцов:**\n",
    " - Year_of_Release(float64) - заменить на int64\n",
    " - User_score(object) - заменить на float64\n",
    " \n",
    "**Из анализа гафиков видно следующее** - приближенный к нормальному вид имеют графики двух столбцов year_of_release и critic_dcore, в остальных случаях наблюдается пик около нуля."
   ]
  },
  {
   "cell_type": "markdown",
   "metadata": {},
   "source": [
    "## Предобработка данных"
   ]
  },
  {
   "cell_type": "markdown",
   "metadata": {},
   "source": [
    "### Замена названий столбцов\n",
    "\n",
    "Приводим названия столбцов к нижнему регистру"
   ]
  },
  {
   "cell_type": "code",
   "execution_count": 89,
   "metadata": {},
   "outputs": [
    {
     "data": {
      "text/plain": [
       "Index(['name', 'platform', 'year_of_release', 'genre', 'na_sales', 'eu_sales',\n",
       "       'jp_sales', 'other_sales', 'critic_score', 'user_score', 'rating'],\n",
       "      dtype='object')"
      ]
     },
     "execution_count": 89,
     "metadata": {},
     "output_type": "execute_result"
    }
   ],
   "source": [
    "data.columns = data.columns.str.lower()\n",
    "data.columns"
   ]
  },
  {
   "cell_type": "markdown",
   "metadata": {},
   "source": [
    "### Обработка пропусков"
   ]
  },
  {
   "cell_type": "code",
   "execution_count": 90,
   "metadata": {},
   "outputs": [
    {
     "data": {
      "text/plain": [
       "name                  2\n",
       "platform              0\n",
       "year_of_release     269\n",
       "genre                 2\n",
       "na_sales              0\n",
       "eu_sales              0\n",
       "jp_sales              0\n",
       "other_sales           0\n",
       "critic_score       8578\n",
       "user_score         6701\n",
       "rating             6766\n",
       "dtype: int64"
      ]
     },
     "execution_count": 90,
     "metadata": {},
     "output_type": "execute_result"
    }
   ],
   "source": [
    "data.isna().sum()"
   ]
  },
  {
   "cell_type": "code",
   "execution_count": 91,
   "metadata": {},
   "outputs": [
    {
     "data": {
      "image/png": "[encoded data removed]",
      "text/plain": [
       "<Figure size 1800x720 with 3 Axes>"
      ]
     },
     "metadata": {
      "needs_background": "light"
     },
     "output_type": "display_data"
    }
   ],
   "source": [
    "msno.bar(data);"
   ]
  },
  {
   "cell_type": "markdown",
   "metadata": {},
   "source": [
    "Посмотрим на количество пропусков в процентном соотношении"
   ]
  },
  {
   "cell_type": "code",
   "execution_count": 92,
   "metadata": {},
   "outputs": [
    {
     "data": {
      "text/html": [
       "<style  type=\"text/css\" >\n",
       "#T_f5b51_row0_col0,#T_f5b51_row1_col0,#T_f5b51_row3_col0,#T_f5b51_row4_col0,#T_f5b51_row5_col0,#T_f5b51_row6_col0,#T_f5b51_row7_col0{\n",
       "            background-color:  #3b4cc0;\n",
       "            color:  #f1f1f1;\n",
       "        }#T_f5b51_row2_col0{\n",
       "            background-color:  #445acc;\n",
       "            color:  #f1f1f1;\n",
       "        }#T_f5b51_row8_col0{\n",
       "            background-color:  #b40426;\n",
       "            color:  #f1f1f1;\n",
       "        }#T_f5b51_row9_col0{\n",
       "            background-color:  #f18d6f;\n",
       "            color:  #000000;\n",
       "        }#T_f5b51_row10_col0{\n",
       "            background-color:  #f08a6c;\n",
       "            color:  #000000;\n",
       "        }</style><table id=\"T_f5b51_\" ><thead>    <tr>        <th class=\"blank level0\" ></th>        <th class=\"col_heading level0 col0\" >0</th>    </tr></thead><tbody>\n",
       "                <tr>\n",
       "                        <th id=\"T_f5b51_level0_row0\" class=\"row_heading level0 row0\" >name</th>\n",
       "                        <td id=\"T_f5b51_row0_col0\" class=\"data row0 col0\" >0%</td>\n",
       "            </tr>\n",
       "            <tr>\n",
       "                        <th id=\"T_f5b51_level0_row1\" class=\"row_heading level0 row1\" >platform</th>\n",
       "                        <td id=\"T_f5b51_row1_col0\" class=\"data row1 col0\" >0%</td>\n",
       "            </tr>\n",
       "            <tr>\n",
       "                        <th id=\"T_f5b51_level0_row2\" class=\"row_heading level0 row2\" >year_of_release</th>\n",
       "                        <td id=\"T_f5b51_row2_col0\" class=\"data row2 col0\" >2%</td>\n",
       "            </tr>\n",
       "            <tr>\n",
       "                        <th id=\"T_f5b51_level0_row3\" class=\"row_heading level0 row3\" >genre</th>\n",
       "                        <td id=\"T_f5b51_row3_col0\" class=\"data row3 col0\" >0%</td>\n",
       "            </tr>\n",
       "            <tr>\n",
       "                        <th id=\"T_f5b51_level0_row4\" class=\"row_heading level0 row4\" >na_sales</th>\n",
       "                        <td id=\"T_f5b51_row4_col0\" class=\"data row4 col0\" >0%</td>\n",
       "            </tr>\n",
       "            <tr>\n",
       "                        <th id=\"T_f5b51_level0_row5\" class=\"row_heading level0 row5\" >eu_sales</th>\n",
       "                        <td id=\"T_f5b51_row5_col0\" class=\"data row5 col0\" >0%</td>\n",
       "            </tr>\n",
       "            <tr>\n",
       "                        <th id=\"T_f5b51_level0_row6\" class=\"row_heading level0 row6\" >jp_sales</th>\n",
       "                        <td id=\"T_f5b51_row6_col0\" class=\"data row6 col0\" >0%</td>\n",
       "            </tr>\n",
       "            <tr>\n",
       "                        <th id=\"T_f5b51_level0_row7\" class=\"row_heading level0 row7\" >other_sales</th>\n",
       "                        <td id=\"T_f5b51_row7_col0\" class=\"data row7 col0\" >0%</td>\n",
       "            </tr>\n",
       "            <tr>\n",
       "                        <th id=\"T_f5b51_level0_row8\" class=\"row_heading level0 row8\" >critic_score</th>\n",
       "                        <td id=\"T_f5b51_row8_col0\" class=\"data row8 col0\" >51%</td>\n",
       "            </tr>\n",
       "            <tr>\n",
       "                        <th id=\"T_f5b51_level0_row9\" class=\"row_heading level0 row9\" >user_score</th>\n",
       "                        <td id=\"T_f5b51_row9_col0\" class=\"data row9 col0\" >40%</td>\n",
       "            </tr>\n",
       "            <tr>\n",
       "                        <th id=\"T_f5b51_level0_row10\" class=\"row_heading level0 row10\" >rating</th>\n",
       "                        <td id=\"T_f5b51_row10_col0\" class=\"data row10 col0\" >40%</td>\n",
       "            </tr>\n",
       "    </tbody></table>"
      ],
      "text/plain": [
       "<pandas.io.formats.style.Styler at 0x7fb66ddf6790>"
      ]
     },
     "execution_count": 92,
     "metadata": {},
     "output_type": "execute_result"
    }
   ],
   "source": [
    "pd.DataFrame(data.isna().mean()).style.background_gradient('coolwarm').format('{:.0%}')"
   ]
  },
  {
   "cell_type": "markdown",
   "metadata": {},
   "source": [
    "**Рассмотрим столбец user_score**"
   ]
  },
  {
   "cell_type": "code",
   "execution_count": 93,
   "metadata": {},
   "outputs": [
    {
     "data": {
      "text/plain": [
       "NaN    6701\n",
       "tbd    2424\n",
       "7.8     324\n",
       "8       290\n",
       "8.2     282\n",
       "       ... \n",
       "0.3       2\n",
       "1.1       2\n",
       "1.9       2\n",
       "9.7       1\n",
       "0         1\n",
       "Name: user_score, Length: 97, dtype: int64"
      ]
     },
     "execution_count": 93,
     "metadata": {},
     "output_type": "execute_result"
    }
   ],
   "source": [
    "data['user_score'].value_counts(dropna = False)"
   ]
  },
  {
   "cell_type": "markdown",
   "metadata": {},
   "source": [
    "В столбце user_score кроме пропусков имеется аббривеатура tbd (To Be Determined) – означает «будет определено» или «будет установлено». Она используется для указания на неопределенность или незавершенность чего-либо на данный момент. \n",
    "Малочисленные пропуски в столбцах имени игры и жанра появились в результате человеческого фактора - их могли не внести из-за невнимательности, к этому же можно отнести и год релиза. Но нельзя исключать системные ошибки при внесении данных и потерю записей при обьединении таблиц.\n",
    "\n",
    "Пропуски в name, genre, year_of_release можно удалить, т.к. и по количесвенному, и по процентному соотношению они составляют малую часть и сильно не повлияют на дальнейший анализ."
   ]
  },
  {
   "cell_type": "code",
   "execution_count": 94,
   "metadata": {},
   "outputs": [
    {
     "data": {
      "text/plain": [
       "name               0\n",
       "genre              0\n",
       "year_of_release    0\n",
       "dtype: int64"
      ]
     },
     "execution_count": 94,
     "metadata": {},
     "output_type": "execute_result"
    }
   ],
   "source": [
    "data = data.dropna(subset = ['name', 'genre', 'year_of_release']).reset_index(drop = True)\n",
    "data[['name', 'genre', 'year_of_release']].isna().sum()"
   ]
  },
  {
   "cell_type": "markdown",
   "metadata": {},
   "source": [
    "Также можно заменить пропуски в rating на undef"
   ]
  },
  {
   "cell_type": "code",
   "execution_count": 95,
   "metadata": {},
   "outputs": [
    {
     "data": {
      "text/plain": [
       "undef    6676\n",
       "E        3921\n",
       "T        2905\n",
       "M        1536\n",
       "E10+     1393\n",
       "EC          8\n",
       "K-A         3\n",
       "AO          1\n",
       "RP          1\n",
       "Name: rating, dtype: int64"
      ]
     },
     "execution_count": 95,
     "metadata": {},
     "output_type": "execute_result"
    }
   ],
   "source": [
    "data['rating'] = data['rating'].fillna('undef')\n",
    "data['rating'].value_counts()"
   ]
  },
  {
   "cell_type": "markdown",
   "metadata": {},
   "source": [
    "В остальных случаях оставим пропуски, т.к. их удаление сильно повлияет на дальнейший анализ и исказит общую картину. "
   ]
  },
  {
   "cell_type": "markdown",
   "metadata": {},
   "source": [
    "### Преобразование данных в нужные типы"
   ]
  },
  {
   "cell_type": "markdown",
   "metadata": {},
   "source": [
    "Заменим типы данных в следующих столбцах:\n",
    "- year_of_release(float64) - заменить на int64\n",
    "- user_score(object) - заменить на float64, при этом строки с аббривеатурой tbd нужно заменить на NaN\n",
    "\n",
    "Также нужно заменить тип данных в critic_score на целочисленный, но в данном столбце много пропусков."
   ]
  },
  {
   "cell_type": "code",
   "execution_count": 96,
   "metadata": {},
   "outputs": [
    {
     "name": "stdout",
     "output_type": "stream",
     "text": [
      "<class 'pandas.core.frame.DataFrame'>\n",
      "RangeIndex: 16444 entries, 0 to 16443\n",
      "Data columns (total 11 columns):\n",
      " #   Column           Non-Null Count  Dtype  \n",
      "---  ------           --------------  -----  \n",
      " 0   name             16444 non-null  object \n",
      " 1   platform         16444 non-null  object \n",
      " 2   year_of_release  16444 non-null  int64  \n",
      " 3   genre            16444 non-null  object \n",
      " 4   na_sales         16444 non-null  float64\n",
      " 5   eu_sales         16444 non-null  float64\n",
      " 6   jp_sales         16444 non-null  float64\n",
      " 7   other_sales      16444 non-null  float64\n",
      " 8   critic_score     7983 non-null   float64\n",
      " 9   user_score       7463 non-null   float64\n",
      " 10  rating           16444 non-null  object \n",
      "dtypes: float64(6), int64(1), object(4)\n",
      "memory usage: 1.4+ MB\n"
     ]
    }
   ],
   "source": [
    "data['year_of_release'] = data['year_of_release'].astype('int')\n",
    "\n",
    "data['user_score'] = pd.to_numeric(data['user_score'], errors = 'coerce')\n",
    "\n",
    "data.info()"
   ]
  },
  {
   "cell_type": "markdown",
   "metadata": {},
   "source": [
    "### Обработка дубликатов"
   ]
  },
  {
   "cell_type": "markdown",
   "metadata": {},
   "source": [
    "##### Поиск явных дубликатов"
   ]
  },
  {
   "cell_type": "code",
   "execution_count": 97,
   "metadata": {},
   "outputs": [
    {
     "data": {
      "text/plain": [
       "0"
      ]
     },
     "execution_count": 97,
     "metadata": {},
     "output_type": "execute_result"
    }
   ],
   "source": [
    "data.duplicated().sum()"
   ]
  },
  {
   "cell_type": "markdown",
   "metadata": {},
   "source": [
    "##### Поиск неявных дубликатов\n",
    "\n",
    "Рассмотрим значения в следующих столбцах:\n",
    " - name\n",
    " - platform \n",
    " - genre\n",
    " - rating"
   ]
  },
  {
   "cell_type": "code",
   "execution_count": 98,
   "metadata": {},
   "outputs": [
    {
     "data": {
      "text/plain": [
       "array(['Wii Sports', 'Super Mario Bros.', 'Mario Kart Wii',\n",
       "       'Wii Sports Resort', 'Pokemon Red/Pokemon Blue', 'Tetris',\n",
       "       'New Super Mario Bros.', 'Wii Play', 'New Super Mario Bros. Wii',\n",
       "       'Duck Hunt', 'Nintendogs', 'Mario Kart DS',\n",
       "       'Pokemon Gold/Pokemon Silver', 'Wii Fit', 'Kinect Adventures!',\n",
       "       'Wii Fit Plus', 'Grand Theft Auto V',\n",
       "       'Grand Theft Auto: San Andreas', 'Super Mario World',\n",
       "       'Brain Age: Train Your Brain in Minutes a Day',\n",
       "       'Pokemon Diamond/Pokemon Pearl', 'Super Mario Land',\n",
       "       'Super Mario Bros. 3', 'Grand Theft Auto: Vice City',\n",
       "       'Pokemon Ruby/Pokemon Sapphire',\n",
       "       'Brain Age 2: More Training in Minutes a Day',\n",
       "       'Pokemon Black/Pokemon White', 'Gran Turismo 3: A-Spec',\n",
       "       'Call of Duty: Modern Warfare 3',\n",
       "       'Pokémon Yellow: Special Pikachu Edition',\n",
       "       'Call of Duty: Black Ops 3', 'Call of Duty: Black Ops',\n",
       "       'Pokemon X/Pokemon Y', 'Call of Duty: Black Ops II',\n",
       "       'Call of Duty: Modern Warfare 2', 'Grand Theft Auto III',\n",
       "       'Super Smash Bros. Brawl', 'Mario Kart 7',\n",
       "       'Animal Crossing: Wild World', 'Halo 3', 'Super Mario 64',\n",
       "       'Pokemon HeartGold/Pokemon SoulSilver',\n",
       "       'Pokemon Omega Ruby/Pokemon Alpha Sapphire', 'Gran Turismo 4',\n",
       "       'Super Mario Galaxy'], dtype=object)"
      ]
     },
     "execution_count": 98,
     "metadata": {},
     "output_type": "execute_result"
    }
   ],
   "source": [
    "data['name'].head(50).unique()"
   ]
  },
  {
   "cell_type": "code",
   "execution_count": 99,
   "metadata": {},
   "outputs": [
    {
     "data": {
      "text/plain": [
       "array(['Wii', 'NES', 'GB', 'DS', 'X360', 'PS3', 'PS2', 'SNES', 'GBA',\n",
       "       'PS4', '3DS', 'N64', 'PS', 'XB', 'PC', '2600', 'PSP', 'XOne',\n",
       "       'WiiU', 'GC', 'GEN', 'DC', 'PSV', 'SAT', 'SCD', 'WS', 'NG', 'TG16',\n",
       "       '3DO', 'GG', 'PCFX'], dtype=object)"
      ]
     },
     "execution_count": 99,
     "metadata": {},
     "output_type": "execute_result"
    }
   ],
   "source": [
    "data['platform'].unique()"
   ]
  },
  {
   "cell_type": "code",
   "execution_count": 100,
   "metadata": {},
   "outputs": [
    {
     "data": {
      "text/plain": [
       "array(['Sports', 'Platform', 'Racing', 'Role-Playing', 'Puzzle', 'Misc',\n",
       "       'Shooter', 'Simulation', 'Action', 'Fighting', 'Adventure',\n",
       "       'Strategy'], dtype=object)"
      ]
     },
     "execution_count": 100,
     "metadata": {},
     "output_type": "execute_result"
    }
   ],
   "source": [
    "data['genre'].unique()"
   ]
  },
  {
   "cell_type": "code",
   "execution_count": 101,
   "metadata": {},
   "outputs": [
    {
     "data": {
      "text/plain": [
       "array(['E', 'undef', 'M', 'T', 'E10+', 'K-A', 'AO', 'EC', 'RP'],\n",
       "      dtype=object)"
      ]
     },
     "execution_count": 101,
     "metadata": {},
     "output_type": "execute_result"
    }
   ],
   "source": [
    "data['rating'].unique()"
   ]
  },
  {
   "cell_type": "markdown",
   "metadata": {},
   "source": [
    "Явных и неявных дубликатов не обнаружено. Что касается столбца name, в нем слишком много значений, чтобы оценить всю картину целиком, поэтому оставим его без изменений."
   ]
  },
  {
   "cell_type": "markdown",
   "metadata": {},
   "source": [
    "### Подсчет суммарных продаж в регионах"
   ]
  },
  {
   "cell_type": "code",
   "execution_count": 102,
   "metadata": {},
   "outputs": [
    {
     "data": {
      "text/html": [
       "<div>\n",
       "<style scoped>\n",
       "    .dataframe tbody tr th:only-of-type {\n",
       "        vertical-align: middle;\n",
       "    }\n",
       "\n",
       "    .dataframe tbody tr th {\n",
       "        vertical-align: top;\n",
       "    }\n",
       "\n",
       "    .dataframe thead th {\n",
       "        text-align: right;\n",
       "    }\n",
       "</style>\n",
       "<table border=\"1\" class=\"dataframe\">\n",
       "  <thead>\n",
       "    <tr style=\"text-align: right;\">\n",
       "      <th></th>\n",
       "      <th>name</th>\n",
       "      <th>platform</th>\n",
       "      <th>year_of_release</th>\n",
       "      <th>genre</th>\n",
       "      <th>na_sales</th>\n",
       "      <th>eu_sales</th>\n",
       "      <th>jp_sales</th>\n",
       "      <th>other_sales</th>\n",
       "      <th>critic_score</th>\n",
       "      <th>user_score</th>\n",
       "      <th>rating</th>\n",
       "      <th>sum_sales_on_regeons</th>\n",
       "    </tr>\n",
       "  </thead>\n",
       "  <tbody>\n",
       "    <tr>\n",
       "      <th>0</th>\n",
       "      <td>Wii Sports</td>\n",
       "      <td>Wii</td>\n",
       "      <td>2006</td>\n",
       "      <td>Sports</td>\n",
       "      <td>41.36</td>\n",
       "      <td>28.96</td>\n",
       "      <td>3.77</td>\n",
       "      <td>8.45</td>\n",
       "      <td>76.0</td>\n",
       "      <td>8.0</td>\n",
       "      <td>E</td>\n",
       "      <td>82.54</td>\n",
       "    </tr>\n",
       "    <tr>\n",
       "      <th>1</th>\n",
       "      <td>Super Mario Bros.</td>\n",
       "      <td>NES</td>\n",
       "      <td>1985</td>\n",
       "      <td>Platform</td>\n",
       "      <td>29.08</td>\n",
       "      <td>3.58</td>\n",
       "      <td>6.81</td>\n",
       "      <td>0.77</td>\n",
       "      <td>NaN</td>\n",
       "      <td>NaN</td>\n",
       "      <td>undef</td>\n",
       "      <td>40.24</td>\n",
       "    </tr>\n",
       "    <tr>\n",
       "      <th>2</th>\n",
       "      <td>Mario Kart Wii</td>\n",
       "      <td>Wii</td>\n",
       "      <td>2008</td>\n",
       "      <td>Racing</td>\n",
       "      <td>15.68</td>\n",
       "      <td>12.76</td>\n",
       "      <td>3.79</td>\n",
       "      <td>3.29</td>\n",
       "      <td>82.0</td>\n",
       "      <td>8.3</td>\n",
       "      <td>E</td>\n",
       "      <td>35.52</td>\n",
       "    </tr>\n",
       "    <tr>\n",
       "      <th>3</th>\n",
       "      <td>Wii Sports Resort</td>\n",
       "      <td>Wii</td>\n",
       "      <td>2009</td>\n",
       "      <td>Sports</td>\n",
       "      <td>15.61</td>\n",
       "      <td>10.93</td>\n",
       "      <td>3.28</td>\n",
       "      <td>2.95</td>\n",
       "      <td>80.0</td>\n",
       "      <td>8.0</td>\n",
       "      <td>E</td>\n",
       "      <td>32.77</td>\n",
       "    </tr>\n",
       "    <tr>\n",
       "      <th>4</th>\n",
       "      <td>Pokemon Red/Pokemon Blue</td>\n",
       "      <td>GB</td>\n",
       "      <td>1996</td>\n",
       "      <td>Role-Playing</td>\n",
       "      <td>11.27</td>\n",
       "      <td>8.89</td>\n",
       "      <td>10.22</td>\n",
       "      <td>1.00</td>\n",
       "      <td>NaN</td>\n",
       "      <td>NaN</td>\n",
       "      <td>undef</td>\n",
       "      <td>31.38</td>\n",
       "    </tr>\n",
       "  </tbody>\n",
       "</table>\n",
       "</div>"
      ],
      "text/plain": [
       "                       name platform  year_of_release         genre  na_sales  \\\n",
       "0                Wii Sports      Wii             2006        Sports     41.36   \n",
       "1         Super Mario Bros.      NES             1985      Platform     29.08   \n",
       "2            Mario Kart Wii      Wii             2008        Racing     15.68   \n",
       "3         Wii Sports Resort      Wii             2009        Sports     15.61   \n",
       "4  Pokemon Red/Pokemon Blue       GB             1996  Role-Playing     11.27   \n",
       "\n",
       "   eu_sales  jp_sales  other_sales  critic_score  user_score rating  \\\n",
       "0     28.96      3.77         8.45          76.0         8.0      E   \n",
       "1      3.58      6.81         0.77           NaN         NaN  undef   \n",
       "2     12.76      3.79         3.29          82.0         8.3      E   \n",
       "3     10.93      3.28         2.95          80.0         8.0      E   \n",
       "4      8.89     10.22         1.00           NaN         NaN  undef   \n",
       "\n",
       "   sum_sales_on_regeons  \n",
       "0                 82.54  \n",
       "1                 40.24  \n",
       "2                 35.52  \n",
       "3                 32.77  \n",
       "4                 31.38  "
      ]
     },
     "execution_count": 102,
     "metadata": {},
     "output_type": "execute_result"
    }
   ],
   "source": [
    "data['sum_sales_on_regeons'] = data['na_sales'] + data['eu_sales'] + data['jp_sales'] + data['other_sales']\n",
    "data.head()"
   ]
  },
  {
   "cell_type": "markdown",
   "metadata": {},
   "source": [
    "При предобработке данных названия столбцов были переведы в нижний регист, согласно snake_case. При обработке пропусков были устранены пропуски в столбцах - name, genre, year_of_release; и заменены значения NaN на undef в стобце rating. Изменены типы данных у столбцов year_of_release(int) и user_score(float). При поиске не обнаружены явные дубликаты, также на повторяющиеся или похожие значения проверены столбцы name, genre, rating. Осуществлен подсчет суммарных продаж в регионах."
   ]
  },
  {
   "cell_type": "markdown",
   "metadata": {},
   "source": [
    "## Исследовательский анализ"
   ]
  },
  {
   "cell_type": "markdown",
   "metadata": {},
   "source": [
    "### Количество выпускаемых игр по годам"
   ]
  },
  {
   "cell_type": "code",
   "execution_count": 103,
   "metadata": {},
   "outputs": [
    {
     "data": {
      "text/plain": [
       "year_of_release\n",
       "1980       9\n",
       "1981      46\n",
       "1982      36\n",
       "1983      17\n",
       "1984      14\n",
       "1985      14\n",
       "1986      21\n",
       "1987      16\n",
       "1988      15\n",
       "1989      17\n",
       "1990      16\n",
       "1991      41\n",
       "1992      43\n",
       "1993      60\n",
       "1994     121\n",
       "1995     219\n",
       "1996     263\n",
       "1997     289\n",
       "1998     379\n",
       "1999     338\n",
       "2000     350\n",
       "2001     482\n",
       "2002     829\n",
       "2003     775\n",
       "2004     762\n",
       "2005     939\n",
       "2006    1006\n",
       "2007    1197\n",
       "2008    1427\n",
       "2009    1426\n",
       "2010    1255\n",
       "2011    1136\n",
       "2012     653\n",
       "2013     544\n",
       "2014     581\n",
       "2015     606\n",
       "2016     502\n",
       "Name: name, dtype: int64"
      ]
     },
     "execution_count": 103,
     "metadata": {},
     "output_type": "execute_result"
    }
   ],
   "source": [
    "data.groupby('year_of_release')['name'].count()"
   ]
  },
  {
   "cell_type": "code",
   "execution_count": 104,
   "metadata": {},
   "outputs": [
    {
     "data": {
      "image/png": "[encoded data removed]",
      "text/plain": [
       "<Figure size 1080x720 with 1 Axes>"
      ]
     },
     "metadata": {
      "needs_background": "light"
     },
     "output_type": "display_data"
    }
   ],
   "source": [
    "data.groupby('year_of_release')['name'].count().plot(kind = 'bar', figsize = (15, 10))\n",
    "plt.title('Количество проданных игр по годам')\n",
    "plt.ylabel('Количество игр')\n",
    "plt.xlabel('Год');"
   ]
  },
  {
   "cell_type": "markdown",
   "metadata": {},
   "source": [
    "По графику можно заметить, что заметный рост продаж наблюдается после 1994 года, в то время как в предыдущие года продавалось от 9 до 60 игр. Посмотрим сколько всего записей до 94 года."
   ]
  },
  {
   "cell_type": "code",
   "execution_count": 105,
   "metadata": {},
   "outputs": [
    {
     "data": {
      "text/plain": [
       "365"
      ]
     },
     "execution_count": 105,
     "metadata": {},
     "output_type": "execute_result"
    }
   ],
   "source": [
    "min_sales = data.query('year_of_release < 1994').count()\n",
    "min_sales['year_of_release']"
   ]
  },
  {
   "cell_type": "code",
   "execution_count": 106,
   "metadata": {},
   "outputs": [
    {
     "data": {
      "image/png": "[encoded data removed]",
      "text/plain": [
       "<Figure size 720x720 with 1 Axes>"
      ]
     },
     "metadata": {
      "needs_background": "light"
     },
     "output_type": "display_data"
    }
   ],
   "source": [
    "data.boxplot(column = ['year_of_release'], figsize = (10,10));"
   ]
  },
  {
   "cell_type": "markdown",
   "metadata": {},
   "source": [
    "Значения до 94 года являются выбросами и их не очень много, поэтому их удаление минимально повлияет на общую картину."
   ]
  },
  {
   "cell_type": "code",
   "execution_count": 107,
   "metadata": {},
   "outputs": [
    {
     "data": {
      "text/html": [
       "<div>\n",
       "<style scoped>\n",
       "    .dataframe tbody tr th:only-of-type {\n",
       "        vertical-align: middle;\n",
       "    }\n",
       "\n",
       "    .dataframe tbody tr th {\n",
       "        vertical-align: top;\n",
       "    }\n",
       "\n",
       "    .dataframe thead th {\n",
       "        text-align: right;\n",
       "    }\n",
       "</style>\n",
       "<table border=\"1\" class=\"dataframe\">\n",
       "  <thead>\n",
       "    <tr style=\"text-align: right;\">\n",
       "      <th></th>\n",
       "      <th>count</th>\n",
       "      <th>mean</th>\n",
       "      <th>std</th>\n",
       "      <th>min</th>\n",
       "      <th>25%</th>\n",
       "      <th>50%</th>\n",
       "      <th>75%</th>\n",
       "      <th>max</th>\n",
       "    </tr>\n",
       "  </thead>\n",
       "  <tbody>\n",
       "    <tr>\n",
       "      <th>year_of_release</th>\n",
       "      <td>16079.0</td>\n",
       "      <td>2006.918776</td>\n",
       "      <td>5.138981</td>\n",
       "      <td>1994.0</td>\n",
       "      <td>2003.00</td>\n",
       "      <td>2008.00</td>\n",
       "      <td>2011.00</td>\n",
       "      <td>2016.00</td>\n",
       "    </tr>\n",
       "    <tr>\n",
       "      <th>na_sales</th>\n",
       "      <td>16079.0</td>\n",
       "      <td>0.249924</td>\n",
       "      <td>0.715359</td>\n",
       "      <td>0.0</td>\n",
       "      <td>0.00</td>\n",
       "      <td>0.08</td>\n",
       "      <td>0.23</td>\n",
       "      <td>41.36</td>\n",
       "    </tr>\n",
       "    <tr>\n",
       "      <th>eu_sales</th>\n",
       "      <td>16079.0</td>\n",
       "      <td>0.145565</td>\n",
       "      <td>0.508146</td>\n",
       "      <td>0.0</td>\n",
       "      <td>0.00</td>\n",
       "      <td>0.02</td>\n",
       "      <td>0.11</td>\n",
       "      <td>28.96</td>\n",
       "    </tr>\n",
       "    <tr>\n",
       "      <th>jp_sales</th>\n",
       "      <td>16079.0</td>\n",
       "      <td>0.068677</td>\n",
       "      <td>0.282183</td>\n",
       "      <td>0.0</td>\n",
       "      <td>0.00</td>\n",
       "      <td>0.00</td>\n",
       "      <td>0.03</td>\n",
       "      <td>10.22</td>\n",
       "    </tr>\n",
       "    <tr>\n",
       "      <th>other_sales</th>\n",
       "      <td>16079.0</td>\n",
       "      <td>0.047940</td>\n",
       "      <td>0.189360</td>\n",
       "      <td>0.0</td>\n",
       "      <td>0.00</td>\n",
       "      <td>0.01</td>\n",
       "      <td>0.03</td>\n",
       "      <td>10.57</td>\n",
       "    </tr>\n",
       "    <tr>\n",
       "      <th>critic_score</th>\n",
       "      <td>7980.0</td>\n",
       "      <td>68.994236</td>\n",
       "      <td>13.920962</td>\n",
       "      <td>13.0</td>\n",
       "      <td>60.00</td>\n",
       "      <td>71.00</td>\n",
       "      <td>79.00</td>\n",
       "      <td>98.00</td>\n",
       "    </tr>\n",
       "    <tr>\n",
       "      <th>user_score</th>\n",
       "      <td>7460.0</td>\n",
       "      <td>7.127024</td>\n",
       "      <td>1.498533</td>\n",
       "      <td>0.0</td>\n",
       "      <td>6.40</td>\n",
       "      <td>7.50</td>\n",
       "      <td>8.20</td>\n",
       "      <td>9.70</td>\n",
       "    </tr>\n",
       "    <tr>\n",
       "      <th>sum_sales_on_regeons</th>\n",
       "      <td>16079.0</td>\n",
       "      <td>0.512105</td>\n",
       "      <td>1.470474</td>\n",
       "      <td>0.0</td>\n",
       "      <td>0.06</td>\n",
       "      <td>0.16</td>\n",
       "      <td>0.45</td>\n",
       "      <td>82.54</td>\n",
       "    </tr>\n",
       "  </tbody>\n",
       "</table>\n",
       "</div>"
      ],
      "text/plain": [
       "                        count         mean        std     min      25%  \\\n",
       "year_of_release       16079.0  2006.918776   5.138981  1994.0  2003.00   \n",
       "na_sales              16079.0     0.249924   0.715359     0.0     0.00   \n",
       "eu_sales              16079.0     0.145565   0.508146     0.0     0.00   \n",
       "jp_sales              16079.0     0.068677   0.282183     0.0     0.00   \n",
       "other_sales           16079.0     0.047940   0.189360     0.0     0.00   \n",
       "critic_score           7980.0    68.994236  13.920962    13.0    60.00   \n",
       "user_score             7460.0     7.127024   1.498533     0.0     6.40   \n",
       "sum_sales_on_regeons  16079.0     0.512105   1.470474     0.0     0.06   \n",
       "\n",
       "                          50%      75%      max  \n",
       "year_of_release       2008.00  2011.00  2016.00  \n",
       "na_sales                 0.08     0.23    41.36  \n",
       "eu_sales                 0.02     0.11    28.96  \n",
       "jp_sales                 0.00     0.03    10.22  \n",
       "other_sales              0.01     0.03    10.57  \n",
       "critic_score            71.00    79.00    98.00  \n",
       "user_score               7.50     8.20     9.70  \n",
       "sum_sales_on_regeons     0.16     0.45    82.54  "
      ]
     },
     "execution_count": 107,
     "metadata": {},
     "output_type": "execute_result"
    }
   ],
   "source": [
    "data = data.query('year_of_release >= 1994')\n",
    "data.describe().T"
   ]
  },
  {
   "cell_type": "markdown",
   "metadata": {},
   "source": [
    "### Изменение продаж на платформах\n",
    "\n",
    "Посмотреть, как менялись продажи по платформам. Выберать платформы с наибольшими суммарными продажами и построить распределение по годам. За какой характерный срок появляются новые и исчезают старые платформы?"
   ]
  },
  {
   "cell_type": "code",
   "execution_count": 156,
   "metadata": {},
   "outputs": [
    {
     "data": {
      "image/png": "[encoded data removed]",
      "text/plain": [
       "<Figure size 1080x720 with 1 Axes>"
      ]
     },
     "metadata": {
      "needs_background": "light"
     },
     "output_type": "display_data"
    }
   ],
   "source": [
    "region_sales = data.pivot_table(index = 'platform', values = 'sum_sales_on_regeons', aggfunc = 'sum')\n",
    "region_sales.sort_values(by = 'sum_sales_on_regeons', ascending = False).plot(\n",
    "    kind = 'bar', \n",
    "    figsize = (15, 10)\n",
    ")\n",
    "plt.title('Изменение продаж на платформах')\n",
    "plt.ylabel('Сумма')\n",
    "plt.xlabel('Платформа');"
   ]
  },
  {
   "cell_type": "markdown",
   "metadata": {},
   "source": [
    "По графику видно, что у 6 платформ имеются большие продажи. Выведем их с помощью сортировки."
   ]
  },
  {
   "cell_type": "code",
   "execution_count": 109,
   "metadata": {},
   "outputs": [
    {
     "data": {
      "text/html": [
       "<div>\n",
       "<style scoped>\n",
       "    .dataframe tbody tr th:only-of-type {\n",
       "        vertical-align: middle;\n",
       "    }\n",
       "\n",
       "    .dataframe tbody tr th {\n",
       "        vertical-align: top;\n",
       "    }\n",
       "\n",
       "    .dataframe thead th {\n",
       "        text-align: right;\n",
       "    }\n",
       "</style>\n",
       "<table border=\"1\" class=\"dataframe\">\n",
       "  <thead>\n",
       "    <tr style=\"text-align: right;\">\n",
       "      <th></th>\n",
       "      <th>sum_sales_on_regeons</th>\n",
       "    </tr>\n",
       "    <tr>\n",
       "      <th>platform</th>\n",
       "      <th></th>\n",
       "    </tr>\n",
       "  </thead>\n",
       "  <tbody>\n",
       "    <tr>\n",
       "      <th>PS2</th>\n",
       "      <td>1233.56</td>\n",
       "    </tr>\n",
       "    <tr>\n",
       "      <th>X360</th>\n",
       "      <td>961.24</td>\n",
       "    </tr>\n",
       "    <tr>\n",
       "      <th>PS3</th>\n",
       "      <td>931.34</td>\n",
       "    </tr>\n",
       "    <tr>\n",
       "      <th>Wii</th>\n",
       "      <td>891.18</td>\n",
       "    </tr>\n",
       "    <tr>\n",
       "      <th>DS</th>\n",
       "      <td>802.76</td>\n",
       "    </tr>\n",
       "    <tr>\n",
       "      <th>PS</th>\n",
       "      <td>727.58</td>\n",
       "    </tr>\n",
       "  </tbody>\n",
       "</table>\n",
       "</div>"
      ],
      "text/plain": [
       "          sum_sales_on_regeons\n",
       "platform                      \n",
       "PS2                    1233.56\n",
       "X360                    961.24\n",
       "PS3                     931.34\n",
       "Wii                     891.18\n",
       "DS                      802.76\n",
       "PS                      727.58"
      ]
     },
     "execution_count": 109,
     "metadata": {},
     "output_type": "execute_result"
    }
   ],
   "source": [
    "region_sales = region_sales.sort_values(by = 'sum_sales_on_regeons', ascending = False).head(6)\n",
    "region_sales"
   ]
  },
  {
   "cell_type": "markdown",
   "metadata": {},
   "source": [
    "Построим графики распределения с помощью цикла."
   ]
  },
  {
   "cell_type": "code",
   "execution_count": 110,
   "metadata": {},
   "outputs": [
    {
     "data": {
      "image/png": "[encoded data removed]",
      "text/plain": [
       "<Figure size 720x360 with 1 Axes>"
      ]
     },
     "metadata": {
      "needs_background": "light"
     },
     "output_type": "display_data"
    },
    {
     "data": {
      "image/png": "[encoded data removed]",
      "text/plain": [
       "<Figure size 720x360 with 1 Axes>"
      ]
     },
     "metadata": {
      "needs_background": "light"
     },
     "output_type": "display_data"
    },
    {
     "data": {
      "image/png": "[encoded data removed]",
      "text/plain": [
       "<Figure size 720x360 with 1 Axes>"
      ]
     },
     "metadata": {
      "needs_background": "light"
     },
     "output_type": "display_data"
    },
    {
     "data": {
      "image/png": "[encoded data removed]",
      "text/plain": [
       "<Figure size 720x360 with 1 Axes>"
      ]
     },
     "metadata": {
      "needs_background": "light"
     },
     "output_type": "display_data"
    },
    {
     "data": {
      "image/png": "[encoded data removed]",
      "text/plain": [
       "<Figure size 720x360 with 1 Axes>"
      ]
     },
     "metadata": {
      "needs_background": "light"
     },
     "output_type": "display_data"
    },
    {
     "data": {
      "image/png": "[encoded data removed]",
      "text/plain": [
       "<Figure size 720x360 with 1 Axes>"
      ]
     },
     "metadata": {
      "needs_background": "light"
     },
     "output_type": "display_data"
    }
   ],
   "source": [
    "for item in region_sales.index:\n",
    "    \n",
    "    data.query('platform == @item').pivot_table(\n",
    "        index = 'year_of_release',\n",
    "        values = 'sum_sales_on_regeons',\n",
    "        aggfunc = 'sum'\n",
    "    ).plot(\n",
    "        kind = 'bar', \n",
    "        figsize = (10, 5),\n",
    "        title = item\n",
    "    )\n",
    "    plt.xlabel('Год релиза')\n",
    "    plt.show()"
   ]
  },
  {
   "cell_type": "markdown",
   "metadata": {},
   "source": [
    "Срок существования всех популярных платформ в среднем составляет 6-7 лет"
   ]
  },
  {
   "cell_type": "markdown",
   "metadata": {},
   "source": [
    "### Прогноз на 2017 год\n",
    "\n",
    "Для прогноза возьмем данные с 2014 года, т.к. это позволит отсеить уже исчезнувшие на тот момент платформы и сделать прогноз более точным."
   ]
  },
  {
   "cell_type": "code",
   "execution_count": 111,
   "metadata": {},
   "outputs": [
    {
     "data": {
      "image/png": "[encoded data removed]",
      "text/plain": [
       "<Figure size 1080x720 with 1 Axes>"
      ]
     },
     "metadata": {
      "needs_background": "light"
     },
     "output_type": "display_data"
    }
   ],
   "source": [
    "predict_table = data.query('year_of_release >= 2014').pivot_table(\n",
    "    index = 'year_of_release', \n",
    "    columns = 'platform', \n",
    "    values = 'sum_sales_on_regeons', \n",
    "    aggfunc = 'sum'\n",
    ")\n",
    "predict_table.plot(\n",
    "    figsize = (15, 10),\n",
    ")\n",
    "plt.title('Популярность платформ')\n",
    "plt.ylabel('Cуммарная прибыль')\n",
    "plt.xlabel('Год релиза');"
   ]
  },
  {
   "cell_type": "markdown",
   "metadata": {},
   "source": [
    "С такими результатами прогноз на 2017 год не самый лучший, т.к. продажи на многих платформах начали падать к 2016 году."
   ]
  },
  {
   "cell_type": "markdown",
   "metadata": {},
   "source": [
    "### Лидирующие по продажам платформы"
   ]
  },
  {
   "cell_type": "code",
   "execution_count": 167,
   "metadata": {},
   "outputs": [
    {
     "data": {
      "image/png": "[encoded data removed]",
      "text/plain": [
       "<Figure size 1080x720 with 1 Axes>"
      ]
     },
     "metadata": {
      "needs_background": "light"
     },
     "output_type": "display_data"
    }
   ],
   "source": [
    "data.query('year_of_release >= 2014').boxplot(\n",
    "    column = 'sum_sales_on_regeons',\n",
    "    by = 'platform',\n",
    "    figsize = (15,10),\n",
    "    showfliers = False\n",
    ")\n",
    "plt.ylim(0, 2)\n",
    "plt.title('Лидирующие по продажам платформы')\n",
    "plt.xlabel('Названия платформ')\n",
    "plt.ylabel('Количество продаж');"
   ]
  },
  {
   "cell_type": "code",
   "execution_count": 113,
   "metadata": {},
   "outputs": [
    {
     "data": {
      "text/html": [
       "<div>\n",
       "<style scoped>\n",
       "    .dataframe tbody tr th:only-of-type {\n",
       "        vertical-align: middle;\n",
       "    }\n",
       "\n",
       "    .dataframe tbody tr th {\n",
       "        vertical-align: top;\n",
       "    }\n",
       "\n",
       "    .dataframe thead th {\n",
       "        text-align: right;\n",
       "    }\n",
       "</style>\n",
       "<table border=\"1\" class=\"dataframe\">\n",
       "  <thead>\n",
       "    <tr style=\"text-align: right;\">\n",
       "      <th>platform</th>\n",
       "      <th>3DS</th>\n",
       "      <th>PC</th>\n",
       "      <th>PS3</th>\n",
       "      <th>PS4</th>\n",
       "      <th>PSP</th>\n",
       "      <th>PSV</th>\n",
       "      <th>Wii</th>\n",
       "      <th>WiiU</th>\n",
       "      <th>X360</th>\n",
       "      <th>XOne</th>\n",
       "    </tr>\n",
       "  </thead>\n",
       "  <tbody>\n",
       "    <tr>\n",
       "      <th>count</th>\n",
       "      <td>3.000000</td>\n",
       "      <td>3.000000</td>\n",
       "      <td>3.000000</td>\n",
       "      <td>3.000000</td>\n",
       "      <td>2.000000</td>\n",
       "      <td>3.000000</td>\n",
       "      <td>3.000000</td>\n",
       "      <td>3.000000</td>\n",
       "      <td>3.000000</td>\n",
       "      <td>3.000000</td>\n",
       "    </tr>\n",
       "    <tr>\n",
       "      <th>mean</th>\n",
       "      <td>28.893333</td>\n",
       "      <td>9.016667</td>\n",
       "      <td>22.726667</td>\n",
       "      <td>96.050000</td>\n",
       "      <td>0.180000</td>\n",
       "      <td>7.466667</td>\n",
       "      <td>1.690000</td>\n",
       "      <td>14.326667</td>\n",
       "      <td>16.073333</td>\n",
       "      <td>46.786667</td>\n",
       "    </tr>\n",
       "    <tr>\n",
       "      <th>std</th>\n",
       "      <td>14.342445</td>\n",
       "      <td>4.037974</td>\n",
       "      <td>22.664795</td>\n",
       "      <td>25.059579</td>\n",
       "      <td>0.084853</td>\n",
       "      <td>3.967472</td>\n",
       "      <td>1.847458</td>\n",
       "      <td>8.889411</td>\n",
       "      <td>16.987694</td>\n",
       "      <td>18.127748</td>\n",
       "    </tr>\n",
       "    <tr>\n",
       "      <th>min</th>\n",
       "      <td>15.140000</td>\n",
       "      <td>5.250000</td>\n",
       "      <td>3.600000</td>\n",
       "      <td>69.250000</td>\n",
       "      <td>0.120000</td>\n",
       "      <td>4.250000</td>\n",
       "      <td>0.180000</td>\n",
       "      <td>4.600000</td>\n",
       "      <td>1.520000</td>\n",
       "      <td>26.150000</td>\n",
       "    </tr>\n",
       "    <tr>\n",
       "      <th>25%</th>\n",
       "      <td>21.460000</td>\n",
       "      <td>6.885000</td>\n",
       "      <td>10.210000</td>\n",
       "      <td>84.625000</td>\n",
       "      <td>0.150000</td>\n",
       "      <td>5.250000</td>\n",
       "      <td>0.660000</td>\n",
       "      <td>10.475000</td>\n",
       "      <td>6.740000</td>\n",
       "      <td>40.110000</td>\n",
       "    </tr>\n",
       "    <tr>\n",
       "      <th>50%</th>\n",
       "      <td>27.780000</td>\n",
       "      <td>8.520000</td>\n",
       "      <td>16.820000</td>\n",
       "      <td>100.000000</td>\n",
       "      <td>0.180000</td>\n",
       "      <td>6.250000</td>\n",
       "      <td>1.140000</td>\n",
       "      <td>16.350000</td>\n",
       "      <td>11.960000</td>\n",
       "      <td>54.070000</td>\n",
       "    </tr>\n",
       "    <tr>\n",
       "      <th>75%</th>\n",
       "      <td>35.770000</td>\n",
       "      <td>10.900000</td>\n",
       "      <td>32.290000</td>\n",
       "      <td>109.450000</td>\n",
       "      <td>0.210000</td>\n",
       "      <td>9.075000</td>\n",
       "      <td>2.445000</td>\n",
       "      <td>19.190000</td>\n",
       "      <td>23.350000</td>\n",
       "      <td>57.105000</td>\n",
       "    </tr>\n",
       "    <tr>\n",
       "      <th>max</th>\n",
       "      <td>43.760000</td>\n",
       "      <td>13.280000</td>\n",
       "      <td>47.760000</td>\n",
       "      <td>118.900000</td>\n",
       "      <td>0.240000</td>\n",
       "      <td>11.900000</td>\n",
       "      <td>3.750000</td>\n",
       "      <td>22.030000</td>\n",
       "      <td>34.740000</td>\n",
       "      <td>60.140000</td>\n",
       "    </tr>\n",
       "  </tbody>\n",
       "</table>\n",
       "</div>"
      ],
      "text/plain": [
       "platform        3DS         PC        PS3         PS4       PSP        PSV  \\\n",
       "count      3.000000   3.000000   3.000000    3.000000  2.000000   3.000000   \n",
       "mean      28.893333   9.016667  22.726667   96.050000  0.180000   7.466667   \n",
       "std       14.342445   4.037974  22.664795   25.059579  0.084853   3.967472   \n",
       "min       15.140000   5.250000   3.600000   69.250000  0.120000   4.250000   \n",
       "25%       21.460000   6.885000  10.210000   84.625000  0.150000   5.250000   \n",
       "50%       27.780000   8.520000  16.820000  100.000000  0.180000   6.250000   \n",
       "75%       35.770000  10.900000  32.290000  109.450000  0.210000   9.075000   \n",
       "max       43.760000  13.280000  47.760000  118.900000  0.240000  11.900000   \n",
       "\n",
       "platform       Wii       WiiU       X360       XOne  \n",
       "count     3.000000   3.000000   3.000000   3.000000  \n",
       "mean      1.690000  14.326667  16.073333  46.786667  \n",
       "std       1.847458   8.889411  16.987694  18.127748  \n",
       "min       0.180000   4.600000   1.520000  26.150000  \n",
       "25%       0.660000  10.475000   6.740000  40.110000  \n",
       "50%       1.140000  16.350000  11.960000  54.070000  \n",
       "75%       2.445000  19.190000  23.350000  57.105000  \n",
       "max       3.750000  22.030000  34.740000  60.140000  "
      ]
     },
     "execution_count": 113,
     "metadata": {},
     "output_type": "execute_result"
    }
   ],
   "source": [
    "predict_table.describe()"
   ]
  },
  {
   "cell_type": "markdown",
   "metadata": {},
   "source": [
    "На диаграмме видно, что самой прибыльной платформой является **PS4**:\n",
    " - Основные значения находятся в диапазоне от 84, до 109, а медиана равна 100. Максимум суммарных продаж достигает почти 120 и минимум имеет значение, которое превышает максимальное у остальных платформ.\n",
    "\n",
    "На второе место можно поставить **XOne**:\n",
    " - Максимум(60) и медиана(54) также имеют большие значения, чем у других платформ, основные значенния лежат в диапазоне от 40 до 57. \n",
    "\n",
    "Ещё выеляются платформы PS3 и 3DS, но в предыдущем графике видно, что их популярность падает и, возможно, они исчезнут или суммарные продажи будут находится около нуля.\n",
    "\n",
    "**На графике также выделяются платформы Wii и WiiU, но их не берем в рассмотрение, т.к. первая по показателям продаж находится стабильно около нуля, а вторая исчезла в 2015 году.**"
   ]
  },
  {
   "cell_type": "markdown",
   "metadata": {},
   "source": [
    "### Влияние отзывов на продажи внутри одной платформы"
   ]
  },
  {
   "cell_type": "markdown",
   "metadata": {},
   "source": [
    "Для анализа влияния отзывов на продажи возьмем также данные за 2014 год и три платформы:\n",
    "1. PS4 на которой будем изучать наглядное влияние отзывов\n",
    "2. XOne и 3DS для сравнения показателей\n",
    "\n",
    "Для более достоверного результата исключим пропуски в стоблцах с оценкой пользователей и критиков"
   ]
  },
  {
   "cell_type": "markdown",
   "metadata": {},
   "source": [
    "##### Платформа PS4"
   ]
  },
  {
   "cell_type": "code",
   "execution_count": 114,
   "metadata": {
    "scrolled": true
   },
   "outputs": [],
   "source": [
    "#создадим датасеты по платформе и году релиза, и уберем пропуски в столбце с оценкой критиков\n",
    "critic_table_ps4 = data.query(\n",
    "    'year_of_release >= 2014 and platform == \"PS4\"'\n",
    ").dropna(subset = ['critic_score']).reset_index(drop = True)\n",
    "\n",
    "#с оценкой пользователей\n",
    "user_table_ps4 = data.query(\n",
    "    'year_of_release >= 2014 and platform == \"PS4\"'\n",
    ").dropna(subset = ['user_score']).reset_index(drop = True)"
   ]
  },
  {
   "cell_type": "code",
   "execution_count": 115,
   "metadata": {},
   "outputs": [
    {
     "data": {
      "image/png": "[encoded data removed]",
      "text/plain": [
       "<Figure size 432x288 with 1 Axes>"
      ]
     },
     "metadata": {
      "needs_background": "light"
     },
     "output_type": "display_data"
    }
   ],
   "source": [
    "plt.scatter(\n",
    "    x = 'critic_score',\n",
    "    y = 'sum_sales_on_regeons',\n",
    "    data = critic_table_ps4,\n",
    "    alpha = 0.5\n",
    ")\n",
    "plt.title('Продажи на PS4')\n",
    "plt.ylabel('Cуммарная прибыль')\n",
    "plt.xlabel('Отзывы критиков');"
   ]
  },
  {
   "cell_type": "code",
   "execution_count": 116,
   "metadata": {},
   "outputs": [
    {
     "name": "stdout",
     "output_type": "stream",
     "text": [
      "0.4\n"
     ]
    }
   ],
   "source": [
    "print(round(critic_table_ps4['critic_score'].corr(critic_table_ps4['sum_sales_on_regeons']), 2))"
   ]
  },
  {
   "cell_type": "markdown",
   "metadata": {},
   "source": [
    "По положительному значению корреляции Пирсона можно сделать вывод, что есть небольшая зависимость продаж от оценки критиков.\n",
    "\n",
    "Чем выше оценка критиков, тем больше прибыли будет получено."
   ]
  },
  {
   "cell_type": "code",
   "execution_count": 117,
   "metadata": {},
   "outputs": [
    {
     "data": {
      "image/png": "[encoded data removed]",
      "text/plain": [
       "<Figure size 432x288 with 1 Axes>"
      ]
     },
     "metadata": {
      "needs_background": "light"
     },
     "output_type": "display_data"
    }
   ],
   "source": [
    "plt.scatter(\n",
    "    x = 'user_score',\n",
    "    y = 'sum_sales_on_regeons',\n",
    "    data = user_table_ps4,\n",
    "    alpha = 0.5\n",
    ")\n",
    "plt.title('Продажи на PS4')\n",
    "plt.ylabel('Cуммарная прибыль')\n",
    "plt.xlabel('Отзывы пользователей');"
   ]
  },
  {
   "cell_type": "code",
   "execution_count": 118,
   "metadata": {},
   "outputs": [
    {
     "name": "stdout",
     "output_type": "stream",
     "text": [
      "-0.04\n"
     ]
    }
   ],
   "source": [
    "print(round(user_table_ps4['user_score'].corr(user_table_ps4['sum_sales_on_regeons']), 2))"
   ]
  },
  {
   "cell_type": "markdown",
   "metadata": {},
   "source": [
    "Корреляция имеет небольшое, но отрицательное значение, что может говороить о том, что величины почти не влияют друг на друга."
   ]
  },
  {
   "cell_type": "markdown",
   "metadata": {},
   "source": [
    "##### Платформа XOne <a id='intro'></a>"
   ]
  },
  {
   "cell_type": "code",
   "execution_count": 119,
   "metadata": {},
   "outputs": [],
   "source": [
    "critic_table_xone = data.query(\n",
    "    'year_of_release >= 2014 and platform == \"XOne\"'\n",
    ").dropna(subset = ['critic_score']).reset_index(drop = True)\n",
    "\n",
    "user_table_xone = data.query(\n",
    "    'year_of_release >= 2014 and platform == \"XOne\"'\n",
    ").dropna(subset = ['user_score']).reset_index(drop = True)"
   ]
  },
  {
   "cell_type": "code",
   "execution_count": 120,
   "metadata": {},
   "outputs": [
    {
     "data": {
      "image/png": "[encoded data removed]",
      "text/plain": [
       "<Figure size 432x288 with 1 Axes>"
      ]
     },
     "metadata": {
      "needs_background": "light"
     },
     "output_type": "display_data"
    }
   ],
   "source": [
    "plt.scatter(\n",
    "    x = 'critic_score',\n",
    "    y = 'sum_sales_on_regeons',\n",
    "    data = critic_table_xone,\n",
    "    alpha = 0.5\n",
    ")\n",
    "plt.title('Продажи на XOne')\n",
    "plt.ylabel('Cуммарная прибыль')\n",
    "plt.xlabel('Отзывы критиков');"
   ]
  },
  {
   "cell_type": "code",
   "execution_count": 121,
   "metadata": {},
   "outputs": [
    {
     "name": "stdout",
     "output_type": "stream",
     "text": [
      "-0.09\n"
     ]
    }
   ],
   "source": [
    "print(round(critic_table_xone['user_score'].corr(critic_table_xone['sum_sales_on_regeons']), 2))"
   ]
  },
  {
   "cell_type": "markdown",
   "metadata": {},
   "source": [
    "Отрицательное значение хоть и приближено к единице, но всеравно слишком мало, что указывает на отсутствие связи между рассматриваемыми показателями."
   ]
  },
  {
   "cell_type": "code",
   "execution_count": 122,
   "metadata": {},
   "outputs": [
    {
     "data": {
      "image/png": "[encoded data removed]",
      "text/plain": [
       "<Figure size 432x288 with 1 Axes>"
      ]
     },
     "metadata": {
      "needs_background": "light"
     },
     "output_type": "display_data"
    }
   ],
   "source": [
    "plt.scatter(\n",
    "    x = 'user_score',\n",
    "    y = 'sum_sales_on_regeons',\n",
    "    data = user_table_xone,\n",
    "    alpha = 0.5\n",
    ")\n",
    "plt.title('Продажи на XOne')\n",
    "plt.ylabel('Cуммарная прибыль')\n",
    "plt.xlabel('Отзывы пользователей');"
   ]
  },
  {
   "cell_type": "code",
   "execution_count": 123,
   "metadata": {},
   "outputs": [
    {
     "name": "stdout",
     "output_type": "stream",
     "text": [
      "-0.07\n"
     ]
    }
   ],
   "source": [
    "print(round(user_table_xone['user_score'].corr(user_table_xone['sum_sales_on_regeons']), 2))"
   ]
  },
  {
   "cell_type": "markdown",
   "metadata": {},
   "source": [
    "Ситуация с пользователями повторяется."
   ]
  },
  {
   "cell_type": "markdown",
   "metadata": {},
   "source": [
    "##### Платформа 3DS"
   ]
  },
  {
   "cell_type": "code",
   "execution_count": 124,
   "metadata": {},
   "outputs": [],
   "source": [
    "critic_table_3ds = data.query(\n",
    "    'year_of_release >= 2014 and platform == \"3DS\"'\n",
    ").dropna(subset = ['critic_score']).reset_index(drop = True)\n",
    "\n",
    "user_table_3ds = data.query(\n",
    "    'year_of_release >= 2014 and platform == \"3DS\"'\n",
    ").dropna(subset = ['user_score']).reset_index(drop = True)"
   ]
  },
  {
   "cell_type": "code",
   "execution_count": 125,
   "metadata": {},
   "outputs": [
    {
     "data": {
      "image/png": "[encoded data removed]",
      "text/plain": [
       "<Figure size 432x288 with 1 Axes>"
      ]
     },
     "metadata": {
      "needs_background": "light"
     },
     "output_type": "display_data"
    }
   ],
   "source": [
    "plt.scatter(\n",
    "    x = 'critic_score',\n",
    "    y = 'sum_sales_on_regeons',\n",
    "    data = critic_table_3ds,\n",
    "    alpha = 0.5\n",
    ")\n",
    "plt.title('Продажи на 3DS')\n",
    "plt.ylabel('Cуммарная прибыль')\n",
    "plt.xlabel('Отзывы критиков');"
   ]
  },
  {
   "cell_type": "code",
   "execution_count": 126,
   "metadata": {
    "scrolled": true
   },
   "outputs": [
    {
     "name": "stdout",
     "output_type": "stream",
     "text": [
      "0.31\n"
     ]
    }
   ],
   "source": [
    "print(round(critic_table_3ds['critic_score'].corr(critic_table_3ds['sum_sales_on_regeons']), 2))"
   ]
  },
  {
   "cell_type": "markdown",
   "metadata": {},
   "source": [
    "Здесь прослеживается небольшая положительная зависимость прибыли от оценки критиков - от положительных отзывов увеличивается прибыль."
   ]
  },
  {
   "cell_type": "code",
   "execution_count": 127,
   "metadata": {},
   "outputs": [
    {
     "data": {
      "image/png": "[encoded data removed]",
      "text/plain": [
       "<Figure size 432x288 with 1 Axes>"
      ]
     },
     "metadata": {
      "needs_background": "light"
     },
     "output_type": "display_data"
    }
   ],
   "source": [
    "plt.scatter(\n",
    "    x = 'user_score',\n",
    "    y = 'sum_sales_on_regeons',\n",
    "    data = user_table_3ds,\n",
    "    alpha = 0.5\n",
    ")\n",
    "plt.title('Продажи на 3DS')\n",
    "plt.ylabel('Cуммарная прибыль')\n",
    "plt.xlabel('Отзывы пользователей');"
   ]
  },
  {
   "cell_type": "code",
   "execution_count": 128,
   "metadata": {},
   "outputs": [
    {
     "name": "stdout",
     "output_type": "stream",
     "text": [
      "0.22\n"
     ]
    }
   ],
   "source": [
    "print(round(user_table_3ds['user_score'].corr(user_table_3ds['sum_sales_on_regeons']), 2))"
   ]
  },
  {
   "cell_type": "markdown",
   "metadata": {},
   "source": [
    "Есть очень малая зависимость, что прибыль будет увеличиваться от отзывов."
   ]
  },
  {
   "cell_type": "markdown",
   "metadata": {},
   "source": [
    "На продажи платформы PS4 имеют небольшое влияние отзывы критиков, пользователи на показатели никак не влияют. На другой платформе XOne на прибыль отзывы не влияют, а на 3DS напротив, критики и пользователи имеют некоторое влияние на продажи."
   ]
  },
  {
   "cell_type": "markdown",
   "metadata": {},
   "source": [
    "### Распределение игр по жанрам\n",
    "\n",
    "Посмотрите на общее распределение игр по жанрам. Что можно сказать о самых прибыльных жанрах? Выделяются ли жанры с высокими и низкими продажами?"
   ]
  },
  {
   "cell_type": "code",
   "execution_count": 174,
   "metadata": {},
   "outputs": [
    {
     "data": {
      "image/png": "[encoded data removed]",
      "text/plain": [
       "<Figure size 1080x720 with 1 Axes>"
      ]
     },
     "metadata": {
      "needs_background": "light"
     },
     "output_type": "display_data"
    }
   ],
   "source": [
    "genre_data = data.query('year_of_release >= 2014').groupby('genre')['sum_sales_on_regeons'].sum()\n",
    "genre_data.sort_values().plot(kind = 'barh', figsize = (15,10));\n",
    "plt.title('График суммарных продаж игровых жанров')\n",
    "plt.ylabel('Название жанра')\n",
    "plt.xlabel('Показатели продаж');"
   ]
  },
  {
   "cell_type": "markdown",
   "metadata": {},
   "source": [
    "Для более точного распределения рассмотрим средние и медианные продажи."
   ]
  },
  {
   "cell_type": "markdown",
   "metadata": {},
   "source": [
    "Выведем рейтинг по средним показателям продаж."
   ]
  },
  {
   "cell_type": "code",
   "execution_count": 169,
   "metadata": {},
   "outputs": [
    {
     "data": {
      "image/png": "[encoded data removed]",
      "text/plain": [
       "<Figure size 1080x720 with 1 Axes>"
      ]
     },
     "metadata": {
      "needs_background": "light"
     },
     "output_type": "display_data"
    }
   ],
   "source": [
    "genre_data = data.query('year_of_release >= 2014').groupby('genre')['sum_sales_on_regeons'].mean()\n",
    "genre_data.sort_values().plot(kind = 'barh', figsize = (15,10));\n",
    "plt.title('График средних продаж игровых жанров')\n",
    "plt.ylabel('Название жанра')\n",
    "plt.xlabel('Показатели продаж');"
   ]
  },
  {
   "cell_type": "markdown",
   "metadata": {},
   "source": [
    "Теперь рассмотрим медианные продажи."
   ]
  },
  {
   "cell_type": "code",
   "execution_count": 171,
   "metadata": {},
   "outputs": [
    {
     "data": {
      "image/png": "[encoded data removed]",
      "text/plain": [
       "<Figure size 1080x720 with 1 Axes>"
      ]
     },
     "metadata": {
      "needs_background": "light"
     },
     "output_type": "display_data"
    }
   ],
   "source": [
    "genre_data = data.query('year_of_release >= 2014').groupby('genre')['sum_sales_on_regeons'].median()\n",
    "genre_data.sort_values().plot(kind = 'barh', figsize = (15,10));\n",
    "plt.title('График медианных продаж игровых жанров')\n",
    "plt.ylabel('Название жанра')\n",
    "plt.xlabel('Показатели продаж');"
   ]
  },
  {
   "cell_type": "markdown",
   "metadata": {},
   "source": [
    "Рассмотрим жанры с самыми высокими суммарными, средними и медианными продажами."
   ]
  },
  {
   "cell_type": "code",
   "execution_count": 183,
   "metadata": {},
   "outputs": [
    {
     "data": {
      "text/html": [
       "<div>\n",
       "<style scoped>\n",
       "    .dataframe tbody tr th:only-of-type {\n",
       "        vertical-align: middle;\n",
       "    }\n",
       "\n",
       "    .dataframe tbody tr th {\n",
       "        vertical-align: top;\n",
       "    }\n",
       "\n",
       "    .dataframe thead th {\n",
       "        text-align: right;\n",
       "    }\n",
       "</style>\n",
       "<table border=\"1\" class=\"dataframe\">\n",
       "  <thead>\n",
       "    <tr style=\"text-align: right;\">\n",
       "      <th></th>\n",
       "      <th>mean</th>\n",
       "      <th>median</th>\n",
       "      <th>sum</th>\n",
       "    </tr>\n",
       "    <tr>\n",
       "      <th>genre</th>\n",
       "      <th></th>\n",
       "      <th></th>\n",
       "      <th></th>\n",
       "    </tr>\n",
       "  </thead>\n",
       "  <tbody>\n",
       "    <tr>\n",
       "      <th>Action</th>\n",
       "      <td>0.510422</td>\n",
       "      <td>0.18</td>\n",
       "      <td>1646.62</td>\n",
       "    </tr>\n",
       "    <tr>\n",
       "      <th>Sports</th>\n",
       "      <td>0.560504</td>\n",
       "      <td>0.22</td>\n",
       "      <td>1266.74</td>\n",
       "    </tr>\n",
       "    <tr>\n",
       "      <th>Shooter</th>\n",
       "      <td>0.776025</td>\n",
       "      <td>0.23</td>\n",
       "      <td>976.24</td>\n",
       "    </tr>\n",
       "  </tbody>\n",
       "</table>\n",
       "</div>"
      ],
      "text/plain": [
       "             mean  median      sum\n",
       "genre                             \n",
       "Action   0.510422    0.18  1646.62\n",
       "Sports   0.560504    0.22  1266.74\n",
       "Shooter  0.776025    0.23   976.24"
      ]
     },
     "execution_count": 183,
     "metadata": {},
     "output_type": "execute_result"
    }
   ],
   "source": [
    "genre_data = data.pivot_table(index = 'genre', values = 'sum_sales_on_regeons', aggfunc = ('sum', 'mean', 'median'))\n",
    "genre_data.sort_values(by = 'sum', ascending = False).query('genre in [\"Action\", \"Shooter\", \"Sports\"]')"
   ]
  },
  {
   "cell_type": "markdown",
   "metadata": {},
   "source": [
    "По суммарным продажам самые популярные жанры экшн и шутер, но по остальным показателям шутеры и спортивные игры оказались популярнее, поэтому выделим топ-3 популярных жанра:\n",
    " 1. Shooter\n",
    " 2. Sports\n",
    " 3. Action"
   ]
  },
  {
   "cell_type": "markdown",
   "metadata": {},
   "source": [
    "И жанры с самыми низкими продажами."
   ]
  },
  {
   "cell_type": "code",
   "execution_count": 184,
   "metadata": {},
   "outputs": [
    {
     "data": {
      "text/html": [
       "<div>\n",
       "<style scoped>\n",
       "    .dataframe tbody tr th:only-of-type {\n",
       "        vertical-align: middle;\n",
       "    }\n",
       "\n",
       "    .dataframe tbody tr th {\n",
       "        vertical-align: top;\n",
       "    }\n",
       "\n",
       "    .dataframe thead th {\n",
       "        text-align: right;\n",
       "    }\n",
       "</style>\n",
       "<table border=\"1\" class=\"dataframe\">\n",
       "  <thead>\n",
       "    <tr style=\"text-align: right;\">\n",
       "      <th></th>\n",
       "      <th>mean</th>\n",
       "      <th>median</th>\n",
       "      <th>sum</th>\n",
       "    </tr>\n",
       "    <tr>\n",
       "      <th>genre</th>\n",
       "      <th></th>\n",
       "      <th></th>\n",
       "      <th></th>\n",
       "    </tr>\n",
       "  </thead>\n",
       "  <tbody>\n",
       "    <tr>\n",
       "      <th>Adventure</th>\n",
       "      <td>0.166659</td>\n",
       "      <td>0.05</td>\n",
       "      <td>213.99</td>\n",
       "    </tr>\n",
       "    <tr>\n",
       "      <th>Strategy</th>\n",
       "      <td>0.256702</td>\n",
       "      <td>0.10</td>\n",
       "      <td>170.45</td>\n",
       "    </tr>\n",
       "    <tr>\n",
       "      <th>Puzzle</th>\n",
       "      <td>0.298321</td>\n",
       "      <td>0.09</td>\n",
       "      <td>159.90</td>\n",
       "    </tr>\n",
       "  </tbody>\n",
       "</table>\n",
       "</div>"
      ],
      "text/plain": [
       "               mean  median     sum\n",
       "genre                              \n",
       "Adventure  0.166659    0.05  213.99\n",
       "Strategy   0.256702    0.10  170.45\n",
       "Puzzle     0.298321    0.09  159.90"
      ]
     },
     "execution_count": 184,
     "metadata": {},
     "output_type": "execute_result"
    }
   ],
   "source": [
    "genre_data.sort_values(by = 'sum', ascending = False).query('genre in [\"Adventure\", \"Puzzle\", \"Strategy\"]')"
   ]
  },
  {
   "cell_type": "markdown",
   "metadata": {},
   "source": [
    "По суммарным продажам самый непродаваемый жанр - головоломка, по медианным и средним - приключение, стратегия занимает второе место. Топ-3 непопулярных жанра:\n",
    " 1. Adventure\n",
    " 2. Strategy\n",
    " 3. Puzzle"
   ]
  },
  {
   "cell_type": "markdown",
   "metadata": {},
   "source": [
    "## Портреты пользователей каждого региона"
   ]
  },
  {
   "cell_type": "markdown",
   "metadata": {},
   "source": [
    "Возьмем данные с 2014 по 2016 года. Создадим таблицы для каждого региона с суммарными продажами на платформах."
   ]
  },
  {
   "cell_type": "markdown",
   "metadata": {},
   "source": [
    "### Топ-5 популярных платформ"
   ]
  },
  {
   "cell_type": "code",
   "execution_count": 132,
   "metadata": {
    "scrolled": true
   },
   "outputs": [],
   "source": [
    "na_data = data.query('year_of_release >= 2014').pivot_table(\n",
    "    index = 'platform',\n",
    "    values = 'na_sales',\n",
    "    aggfunc = 'sum'\n",
    ")\n",
    "eu_data = data.query('year_of_release >= 2014').pivot_table(\n",
    "    index = 'platform',\n",
    "    values = 'eu_sales',\n",
    "    aggfunc = 'sum'\n",
    ")\n",
    "jp_data = data.query('year_of_release >= 2014').pivot_table(\n",
    "    index = 'platform',\n",
    "    values = 'jp_sales',\n",
    "    aggfunc = 'sum'\n",
    ")"
   ]
  },
  {
   "cell_type": "markdown",
   "metadata": {},
   "source": [
    "##### Северная Америка"
   ]
  },
  {
   "cell_type": "code",
   "execution_count": 133,
   "metadata": {},
   "outputs": [
    {
     "data": {
      "image/png": "[encoded data removed]",
      "text/plain": [
       "<Figure size 1080x720 with 1 Axes>"
      ]
     },
     "metadata": {
      "needs_background": "light"
     },
     "output_type": "display_data"
    }
   ],
   "source": [
    "na_data.sort_values(by = 'na_sales').plot(\n",
    "    kind = 'barh',\n",
    "    figsize = (15, 10)\n",
    ")\n",
    "plt.title('График популярности игровых платформ')\n",
    "plt.ylabel('Название платформы')\n",
    "plt.xlabel('Показатели продаж');"
   ]
  },
  {
   "cell_type": "code",
   "execution_count": 134,
   "metadata": {},
   "outputs": [
    {
     "data": {
      "text/html": [
       "<div>\n",
       "<style scoped>\n",
       "    .dataframe tbody tr th:only-of-type {\n",
       "        vertical-align: middle;\n",
       "    }\n",
       "\n",
       "    .dataframe tbody tr th {\n",
       "        vertical-align: top;\n",
       "    }\n",
       "\n",
       "    .dataframe thead th {\n",
       "        text-align: right;\n",
       "    }\n",
       "</style>\n",
       "<table border=\"1\" class=\"dataframe\">\n",
       "  <thead>\n",
       "    <tr style=\"text-align: right;\">\n",
       "      <th></th>\n",
       "      <th>na_sales</th>\n",
       "    </tr>\n",
       "    <tr>\n",
       "      <th>platform</th>\n",
       "      <th></th>\n",
       "    </tr>\n",
       "  </thead>\n",
       "  <tbody>\n",
       "    <tr>\n",
       "      <th>PS4</th>\n",
       "      <td>98.61</td>\n",
       "    </tr>\n",
       "    <tr>\n",
       "      <th>XOne</th>\n",
       "      <td>81.27</td>\n",
       "    </tr>\n",
       "    <tr>\n",
       "      <th>X360</th>\n",
       "      <td>28.30</td>\n",
       "    </tr>\n",
       "    <tr>\n",
       "      <th>3DS</th>\n",
       "      <td>22.64</td>\n",
       "    </tr>\n",
       "    <tr>\n",
       "      <th>PS3</th>\n",
       "      <td>22.05</td>\n",
       "    </tr>\n",
       "  </tbody>\n",
       "</table>\n",
       "</div>"
      ],
      "text/plain": [
       "          na_sales\n",
       "platform          \n",
       "PS4          98.61\n",
       "XOne         81.27\n",
       "X360         28.30\n",
       "3DS          22.64\n",
       "PS3          22.05"
      ]
     },
     "execution_count": 134,
     "metadata": {},
     "output_type": "execute_result"
    }
   ],
   "source": [
    "na_data.sort_values(by = 'na_sales', ascending = False).head(5)"
   ]
  },
  {
   "cell_type": "markdown",
   "metadata": {},
   "source": [
    "##### Европа"
   ]
  },
  {
   "cell_type": "code",
   "execution_count": 135,
   "metadata": {},
   "outputs": [
    {
     "data": {
      "image/png": "[encoded data removed]",
      "text/plain": [
       "<Figure size 1080x720 with 1 Axes>"
      ]
     },
     "metadata": {
      "needs_background": "light"
     },
     "output_type": "display_data"
    }
   ],
   "source": [
    "eu_data.sort_values(by = 'eu_sales').plot(\n",
    "    kind = 'barh',\n",
    "    figsize = (15, 10)\n",
    ")\n",
    "plt.title('График популярности игровых платформ')\n",
    "plt.ylabel('Название платформы')\n",
    "plt.xlabel('Показатели продаж');"
   ]
  },
  {
   "cell_type": "code",
   "execution_count": 136,
   "metadata": {},
   "outputs": [
    {
     "data": {
      "text/html": [
       "<div>\n",
       "<style scoped>\n",
       "    .dataframe tbody tr th:only-of-type {\n",
       "        vertical-align: middle;\n",
       "    }\n",
       "\n",
       "    .dataframe tbody tr th {\n",
       "        vertical-align: top;\n",
       "    }\n",
       "\n",
       "    .dataframe thead th {\n",
       "        text-align: right;\n",
       "    }\n",
       "</style>\n",
       "<table border=\"1\" class=\"dataframe\">\n",
       "  <thead>\n",
       "    <tr style=\"text-align: right;\">\n",
       "      <th></th>\n",
       "      <th>eu_sales</th>\n",
       "    </tr>\n",
       "    <tr>\n",
       "      <th>platform</th>\n",
       "      <th></th>\n",
       "    </tr>\n",
       "  </thead>\n",
       "  <tbody>\n",
       "    <tr>\n",
       "      <th>PS4</th>\n",
       "      <td>130.04</td>\n",
       "    </tr>\n",
       "    <tr>\n",
       "      <th>XOne</th>\n",
       "      <td>46.25</td>\n",
       "    </tr>\n",
       "    <tr>\n",
       "      <th>PS3</th>\n",
       "      <td>25.54</td>\n",
       "    </tr>\n",
       "    <tr>\n",
       "      <th>PC</th>\n",
       "      <td>17.97</td>\n",
       "    </tr>\n",
       "    <tr>\n",
       "      <th>3DS</th>\n",
       "      <td>16.12</td>\n",
       "    </tr>\n",
       "  </tbody>\n",
       "</table>\n",
       "</div>"
      ],
      "text/plain": [
       "          eu_sales\n",
       "platform          \n",
       "PS4         130.04\n",
       "XOne         46.25\n",
       "PS3          25.54\n",
       "PC           17.97\n",
       "3DS          16.12"
      ]
     },
     "execution_count": 136,
     "metadata": {},
     "output_type": "execute_result"
    }
   ],
   "source": [
    "eu_data.sort_values(by = 'eu_sales', ascending = False).head(5)"
   ]
  },
  {
   "cell_type": "markdown",
   "metadata": {},
   "source": [
    "##### Япония"
   ]
  },
  {
   "cell_type": "code",
   "execution_count": 137,
   "metadata": {},
   "outputs": [
    {
     "data": {
      "image/png": "[encoded data removed]",
      "text/plain": [
       "<Figure size 1080x720 with 1 Axes>"
      ]
     },
     "metadata": {
      "needs_background": "light"
     },
     "output_type": "display_data"
    }
   ],
   "source": [
    "jp_data.sort_values(by = 'jp_sales').plot(\n",
    "    kind = 'barh',\n",
    "    figsize = (15, 10)\n",
    ")\n",
    "plt.title('График популярности игровых платформ')\n",
    "plt.ylabel('Название платформы')\n",
    "plt.xlabel('Показатели продаж');"
   ]
  },
  {
   "cell_type": "code",
   "execution_count": 138,
   "metadata": {},
   "outputs": [
    {
     "data": {
      "text/html": [
       "<div>\n",
       "<style scoped>\n",
       "    .dataframe tbody tr th:only-of-type {\n",
       "        vertical-align: middle;\n",
       "    }\n",
       "\n",
       "    .dataframe tbody tr th {\n",
       "        vertical-align: top;\n",
       "    }\n",
       "\n",
       "    .dataframe thead th {\n",
       "        text-align: right;\n",
       "    }\n",
       "</style>\n",
       "<table border=\"1\" class=\"dataframe\">\n",
       "  <thead>\n",
       "    <tr style=\"text-align: right;\">\n",
       "      <th></th>\n",
       "      <th>jp_sales</th>\n",
       "    </tr>\n",
       "    <tr>\n",
       "      <th>platform</th>\n",
       "      <th></th>\n",
       "    </tr>\n",
       "  </thead>\n",
       "  <tbody>\n",
       "    <tr>\n",
       "      <th>3DS</th>\n",
       "      <td>44.24</td>\n",
       "    </tr>\n",
       "    <tr>\n",
       "      <th>PS4</th>\n",
       "      <td>15.02</td>\n",
       "    </tr>\n",
       "    <tr>\n",
       "      <th>PSV</th>\n",
       "      <td>14.54</td>\n",
       "    </tr>\n",
       "    <tr>\n",
       "      <th>PS3</th>\n",
       "      <td>11.22</td>\n",
       "    </tr>\n",
       "    <tr>\n",
       "      <th>WiiU</th>\n",
       "      <td>7.31</td>\n",
       "    </tr>\n",
       "  </tbody>\n",
       "</table>\n",
       "</div>"
      ],
      "text/plain": [
       "          jp_sales\n",
       "platform          \n",
       "3DS          44.24\n",
       "PS4          15.02\n",
       "PSV          14.54\n",
       "PS3          11.22\n",
       "WiiU          7.31"
      ]
     },
     "execution_count": 138,
     "metadata": {},
     "output_type": "execute_result"
    }
   ],
   "source": [
    "jp_data.sort_values(by = 'jp_sales', ascending = False).head(5)"
   ]
  },
  {
   "cell_type": "markdown",
   "metadata": {},
   "source": [
    "В Европе и Северной Америке по продажам лидируют: на первом месте в списке топ-5 PS4 и на втором XOne, в Японии 3DS оказалась более популярна, чем PS4, видимо в этой стране игровым приставкам предпочитали портативные игровые системы."
   ]
  },
  {
   "cell_type": "markdown",
   "metadata": {},
   "source": [
    "### Топ-5 популярных жанров игр"
   ]
  },
  {
   "cell_type": "code",
   "execution_count": 139,
   "metadata": {},
   "outputs": [],
   "source": [
    "na_data = data.query('year_of_release >= 2014').pivot_table(\n",
    "    index = 'genre',\n",
    "    values = 'na_sales',\n",
    "    aggfunc = 'sum'\n",
    ")\n",
    "eu_data = data.query('year_of_release >= 2014').pivot_table(\n",
    "    index = 'genre',\n",
    "    values = 'eu_sales',\n",
    "    aggfunc = 'sum'\n",
    ")\n",
    "jp_data = data.query('year_of_release >= 2014').pivot_table(\n",
    "    index = 'genre',\n",
    "    values = 'jp_sales',\n",
    "    aggfunc = 'sum'\n",
    ")"
   ]
  },
  {
   "cell_type": "markdown",
   "metadata": {},
   "source": [
    "##### Северная Америка"
   ]
  },
  {
   "cell_type": "code",
   "execution_count": 140,
   "metadata": {},
   "outputs": [
    {
     "data": {
      "image/png": "[encoded data removed]",
      "text/plain": [
       "<Figure size 1080x720 with 1 Axes>"
      ]
     },
     "metadata": {
      "needs_background": "light"
     },
     "output_type": "display_data"
    }
   ],
   "source": [
    "na_data.sort_values(by = 'na_sales').plot(\n",
    "    kind = 'barh',\n",
    "    figsize = (15, 10)\n",
    ")\n",
    "plt.title('График популярности игровых жанров')\n",
    "plt.ylabel('Название жанра')\n",
    "plt.xlabel('Показатели продаж');"
   ]
  },
  {
   "cell_type": "code",
   "execution_count": 141,
   "metadata": {},
   "outputs": [
    {
     "data": {
      "text/html": [
       "<div>\n",
       "<style scoped>\n",
       "    .dataframe tbody tr th:only-of-type {\n",
       "        vertical-align: middle;\n",
       "    }\n",
       "\n",
       "    .dataframe tbody tr th {\n",
       "        vertical-align: top;\n",
       "    }\n",
       "\n",
       "    .dataframe thead th {\n",
       "        text-align: right;\n",
       "    }\n",
       "</style>\n",
       "<table border=\"1\" class=\"dataframe\">\n",
       "  <thead>\n",
       "    <tr style=\"text-align: right;\">\n",
       "      <th></th>\n",
       "      <th>na_sales</th>\n",
       "    </tr>\n",
       "    <tr>\n",
       "      <th>genre</th>\n",
       "      <th></th>\n",
       "    </tr>\n",
       "  </thead>\n",
       "  <tbody>\n",
       "    <tr>\n",
       "      <th>Shooter</th>\n",
       "      <td>79.02</td>\n",
       "    </tr>\n",
       "    <tr>\n",
       "      <th>Action</th>\n",
       "      <td>72.53</td>\n",
       "    </tr>\n",
       "    <tr>\n",
       "      <th>Sports</th>\n",
       "      <td>46.13</td>\n",
       "    </tr>\n",
       "    <tr>\n",
       "      <th>Role-Playing</th>\n",
       "      <td>33.47</td>\n",
       "    </tr>\n",
       "    <tr>\n",
       "      <th>Misc</th>\n",
       "      <td>15.05</td>\n",
       "    </tr>\n",
       "  </tbody>\n",
       "</table>\n",
       "</div>"
      ],
      "text/plain": [
       "              na_sales\n",
       "genre                 \n",
       "Shooter          79.02\n",
       "Action           72.53\n",
       "Sports           46.13\n",
       "Role-Playing     33.47\n",
       "Misc             15.05"
      ]
     },
     "execution_count": 141,
     "metadata": {},
     "output_type": "execute_result"
    }
   ],
   "source": [
    "na_data.sort_values(by = 'na_sales', ascending = False).head(5)"
   ]
  },
  {
   "cell_type": "markdown",
   "metadata": {},
   "source": [
    "##### Европа"
   ]
  },
  {
   "cell_type": "code",
   "execution_count": 142,
   "metadata": {},
   "outputs": [
    {
     "data": {
      "image/png": "[encoded data removed]",
      "text/plain": [
       "<Figure size 1080x720 with 1 Axes>"
      ]
     },
     "metadata": {
      "needs_background": "light"
     },
     "output_type": "display_data"
    }
   ],
   "source": [
    "eu_data.sort_values(by = 'eu_sales').plot(\n",
    "    kind = 'barh',\n",
    "    figsize = (15, 10)\n",
    ")\n",
    "plt.title('График популярности игровых жанров')\n",
    "plt.ylabel('Название жанра')\n",
    "plt.xlabel('Показатели продаж');"
   ]
  },
  {
   "cell_type": "code",
   "execution_count": 143,
   "metadata": {},
   "outputs": [
    {
     "data": {
      "text/html": [
       "<div>\n",
       "<style scoped>\n",
       "    .dataframe tbody tr th:only-of-type {\n",
       "        vertical-align: middle;\n",
       "    }\n",
       "\n",
       "    .dataframe tbody tr th {\n",
       "        vertical-align: top;\n",
       "    }\n",
       "\n",
       "    .dataframe thead th {\n",
       "        text-align: right;\n",
       "    }\n",
       "</style>\n",
       "<table border=\"1\" class=\"dataframe\">\n",
       "  <thead>\n",
       "    <tr style=\"text-align: right;\">\n",
       "      <th></th>\n",
       "      <th>eu_sales</th>\n",
       "    </tr>\n",
       "    <tr>\n",
       "      <th>genre</th>\n",
       "      <th></th>\n",
       "    </tr>\n",
       "  </thead>\n",
       "  <tbody>\n",
       "    <tr>\n",
       "      <th>Action</th>\n",
       "      <td>74.68</td>\n",
       "    </tr>\n",
       "    <tr>\n",
       "      <th>Shooter</th>\n",
       "      <td>65.52</td>\n",
       "    </tr>\n",
       "    <tr>\n",
       "      <th>Sports</th>\n",
       "      <td>45.73</td>\n",
       "    </tr>\n",
       "    <tr>\n",
       "      <th>Role-Playing</th>\n",
       "      <td>28.17</td>\n",
       "    </tr>\n",
       "    <tr>\n",
       "      <th>Racing</th>\n",
       "      <td>14.13</td>\n",
       "    </tr>\n",
       "  </tbody>\n",
       "</table>\n",
       "</div>"
      ],
      "text/plain": [
       "              eu_sales\n",
       "genre                 \n",
       "Action           74.68\n",
       "Shooter          65.52\n",
       "Sports           45.73\n",
       "Role-Playing     28.17\n",
       "Racing           14.13"
      ]
     },
     "execution_count": 143,
     "metadata": {},
     "output_type": "execute_result"
    }
   ],
   "source": [
    "eu_data.sort_values(by = 'eu_sales', ascending = False).head()"
   ]
  },
  {
   "cell_type": "markdown",
   "metadata": {},
   "source": [
    "##### Япония"
   ]
  },
  {
   "cell_type": "code",
   "execution_count": 144,
   "metadata": {},
   "outputs": [
    {
     "data": {
      "image/png": "[encoded data removed]",
      "text/plain": [
       "<Figure size 1080x720 with 1 Axes>"
      ]
     },
     "metadata": {
      "needs_background": "light"
     },
     "output_type": "display_data"
    }
   ],
   "source": [
    "jp_data.sort_values(by = 'jp_sales').plot(\n",
    "    kind = 'barh',\n",
    "    figsize = (15, 10)\n",
    ")\n",
    "plt.title('График популярности игровых жанров')\n",
    "plt.ylabel('Название жанра')\n",
    "plt.xlabel('Показатели продаж');"
   ]
  },
  {
   "cell_type": "code",
   "execution_count": 145,
   "metadata": {},
   "outputs": [
    {
     "data": {
      "text/html": [
       "<div>\n",
       "<style scoped>\n",
       "    .dataframe tbody tr th:only-of-type {\n",
       "        vertical-align: middle;\n",
       "    }\n",
       "\n",
       "    .dataframe tbody tr th {\n",
       "        vertical-align: top;\n",
       "    }\n",
       "\n",
       "    .dataframe thead th {\n",
       "        text-align: right;\n",
       "    }\n",
       "</style>\n",
       "<table border=\"1\" class=\"dataframe\">\n",
       "  <thead>\n",
       "    <tr style=\"text-align: right;\">\n",
       "      <th></th>\n",
       "      <th>jp_sales</th>\n",
       "    </tr>\n",
       "    <tr>\n",
       "      <th>genre</th>\n",
       "      <th></th>\n",
       "    </tr>\n",
       "  </thead>\n",
       "  <tbody>\n",
       "    <tr>\n",
       "      <th>Role-Playing</th>\n",
       "      <td>31.16</td>\n",
       "    </tr>\n",
       "    <tr>\n",
       "      <th>Action</th>\n",
       "      <td>29.58</td>\n",
       "    </tr>\n",
       "    <tr>\n",
       "      <th>Fighting</th>\n",
       "      <td>6.37</td>\n",
       "    </tr>\n",
       "    <tr>\n",
       "      <th>Misc</th>\n",
       "      <td>5.61</td>\n",
       "    </tr>\n",
       "    <tr>\n",
       "      <th>Shooter</th>\n",
       "      <td>4.87</td>\n",
       "    </tr>\n",
       "  </tbody>\n",
       "</table>\n",
       "</div>"
      ],
      "text/plain": [
       "              jp_sales\n",
       "genre                 \n",
       "Role-Playing     31.16\n",
       "Action           29.58\n",
       "Fighting          6.37\n",
       "Misc              5.61\n",
       "Shooter           4.87"
      ]
     },
     "execution_count": 145,
     "metadata": {},
     "output_type": "execute_result"
    }
   ],
   "source": [
    "jp_data.sort_values(by = 'jp_sales', ascending = False).head(5)"
   ]
  },
  {
   "cell_type": "markdown",
   "metadata": {},
   "source": [
    "В Северной Америке самым популярным игровым жанром является шутер, на втором месте стоят экшн-игры и третье занимают спортивные;\n",
    "\n",
    "В Европе ситуация похожая, только игры жанра экшн сместили шутеры на второе место; \n",
    "\n",
    "В Японии большую популярность получили ролевые игры, шутеры также остались на втором месте, а на третьем оказались игры в жанре файтинг."
   ]
  },
  {
   "cell_type": "markdown",
   "metadata": {},
   "source": [
    "### Влияние рейтинга ESRB на продажи в отдельном регионе"
   ]
  },
  {
   "cell_type": "code",
   "execution_count": 146,
   "metadata": {},
   "outputs": [],
   "source": [
    "na_data = data.query('year_of_release >= 2014 and rating != \"undef\"').pivot_table(\n",
    "    index = 'rating',\n",
    "    values = 'na_sales',\n",
    "    aggfunc = 'sum'\n",
    ")\n",
    "eu_data = data.query('year_of_release >= 2014 and rating != \"undef\"').pivot_table(\n",
    "    index = 'rating',\n",
    "    values = 'eu_sales',\n",
    "    aggfunc = 'sum'\n",
    ")\n",
    "jp_data = data.query('year_of_release >= 2014 and rating != \"undef\"').pivot_table(\n",
    "    index = 'rating',\n",
    "    values = 'jp_sales',\n",
    "    aggfunc = 'sum'\n",
    ")"
   ]
  },
  {
   "cell_type": "markdown",
   "metadata": {},
   "source": [
    "##### Северная Америка"
   ]
  },
  {
   "cell_type": "code",
   "execution_count": 147,
   "metadata": {},
   "outputs": [
    {
     "data": {
      "image/png": "[encoded data removed]",
      "text/plain": [
       "<Figure size 720x360 with 1 Axes>"
      ]
     },
     "metadata": {
      "needs_background": "light"
     },
     "output_type": "display_data"
    }
   ],
   "source": [
    "na_data.sort_values(by = 'na_sales').plot(\n",
    "    kind = 'bar',\n",
    "    figsize = (10, 5)\n",
    ")\n",
    "plt.title('График популярности игровых жанров')\n",
    "plt.ylabel('Показатели продаж')\n",
    "plt.xlabel('Возрастная категория');"
   ]
  },
  {
   "cell_type": "code",
   "execution_count": 148,
   "metadata": {},
   "outputs": [
    {
     "data": {
      "text/html": [
       "<div>\n",
       "<style scoped>\n",
       "    .dataframe tbody tr th:only-of-type {\n",
       "        vertical-align: middle;\n",
       "    }\n",
       "\n",
       "    .dataframe tbody tr th {\n",
       "        vertical-align: top;\n",
       "    }\n",
       "\n",
       "    .dataframe thead th {\n",
       "        text-align: right;\n",
       "    }\n",
       "</style>\n",
       "<table border=\"1\" class=\"dataframe\">\n",
       "  <thead>\n",
       "    <tr style=\"text-align: right;\">\n",
       "      <th></th>\n",
       "      <th>na_sales</th>\n",
       "    </tr>\n",
       "    <tr>\n",
       "      <th>rating</th>\n",
       "      <th></th>\n",
       "    </tr>\n",
       "  </thead>\n",
       "  <tbody>\n",
       "    <tr>\n",
       "      <th>M</th>\n",
       "      <td>96.42</td>\n",
       "    </tr>\n",
       "    <tr>\n",
       "      <th>E</th>\n",
       "      <td>50.74</td>\n",
       "    </tr>\n",
       "    <tr>\n",
       "      <th>T</th>\n",
       "      <td>38.95</td>\n",
       "    </tr>\n",
       "    <tr>\n",
       "      <th>E10+</th>\n",
       "      <td>33.23</td>\n",
       "    </tr>\n",
       "  </tbody>\n",
       "</table>\n",
       "</div>"
      ],
      "text/plain": [
       "        na_sales\n",
       "rating          \n",
       "M          96.42\n",
       "E          50.74\n",
       "T          38.95\n",
       "E10+       33.23"
      ]
     },
     "execution_count": 148,
     "metadata": {},
     "output_type": "execute_result"
    }
   ],
   "source": [
    "na_data.sort_values(by = 'na_sales', ascending = False).head(5)"
   ]
  },
  {
   "cell_type": "markdown",
   "metadata": {},
   "source": [
    "##### Европа"
   ]
  },
  {
   "cell_type": "code",
   "execution_count": 149,
   "metadata": {},
   "outputs": [
    {
     "data": {
      "image/png": "[encoded data removed]",
      "text/plain": [
       "<Figure size 720x360 with 1 Axes>"
      ]
     },
     "metadata": {
      "needs_background": "light"
     },
     "output_type": "display_data"
    }
   ],
   "source": [
    "eu_data.sort_values(by = 'eu_sales').plot(\n",
    "    kind = 'bar',\n",
    "    figsize = (10, 5)\n",
    ")\n",
    "plt.title('График популярности игровых жанров')\n",
    "plt.ylabel('Показатели продаж')\n",
    "plt.xlabel('Возрастная категория');"
   ]
  },
  {
   "cell_type": "code",
   "execution_count": 150,
   "metadata": {},
   "outputs": [
    {
     "data": {
      "text/html": [
       "<div>\n",
       "<style scoped>\n",
       "    .dataframe tbody tr th:only-of-type {\n",
       "        vertical-align: middle;\n",
       "    }\n",
       "\n",
       "    .dataframe tbody tr th {\n",
       "        vertical-align: top;\n",
       "    }\n",
       "\n",
       "    .dataframe thead th {\n",
       "        text-align: right;\n",
       "    }\n",
       "</style>\n",
       "<table border=\"1\" class=\"dataframe\">\n",
       "  <thead>\n",
       "    <tr style=\"text-align: right;\">\n",
       "      <th></th>\n",
       "      <th>eu_sales</th>\n",
       "    </tr>\n",
       "    <tr>\n",
       "      <th>rating</th>\n",
       "      <th></th>\n",
       "    </tr>\n",
       "  </thead>\n",
       "  <tbody>\n",
       "    <tr>\n",
       "      <th>M</th>\n",
       "      <td>93.44</td>\n",
       "    </tr>\n",
       "    <tr>\n",
       "      <th>E</th>\n",
       "      <td>58.06</td>\n",
       "    </tr>\n",
       "    <tr>\n",
       "      <th>T</th>\n",
       "      <td>34.07</td>\n",
       "    </tr>\n",
       "    <tr>\n",
       "      <th>E10+</th>\n",
       "      <td>26.16</td>\n",
       "    </tr>\n",
       "  </tbody>\n",
       "</table>\n",
       "</div>"
      ],
      "text/plain": [
       "        eu_sales\n",
       "rating          \n",
       "M          93.44\n",
       "E          58.06\n",
       "T          34.07\n",
       "E10+       26.16"
      ]
     },
     "execution_count": 150,
     "metadata": {},
     "output_type": "execute_result"
    }
   ],
   "source": [
    "eu_data.sort_values(by = 'eu_sales', ascending = False).head(5)"
   ]
  },
  {
   "cell_type": "markdown",
   "metadata": {},
   "source": [
    "##### Япония"
   ]
  },
  {
   "cell_type": "code",
   "execution_count": 151,
   "metadata": {},
   "outputs": [
    {
     "data": {
      "image/png": "[encoded data removed]",
      "text/plain": [
       "<Figure size 720x360 with 1 Axes>"
      ]
     },
     "metadata": {
      "needs_background": "light"
     },
     "output_type": "display_data"
    }
   ],
   "source": [
    "jp_data.sort_values(by = 'jp_sales').plot(\n",
    "    kind = 'bar',\n",
    "    figsize = (10, 5)\n",
    ")\n",
    "plt.title('График популярности игровых жанров')\n",
    "plt.ylabel('Показатели продаж')\n",
    "plt.xlabel('Возрастная категория');"
   ]
  },
  {
   "cell_type": "code",
   "execution_count": 152,
   "metadata": {},
   "outputs": [
    {
     "data": {
      "text/html": [
       "<div>\n",
       "<style scoped>\n",
       "    .dataframe tbody tr th:only-of-type {\n",
       "        vertical-align: middle;\n",
       "    }\n",
       "\n",
       "    .dataframe tbody tr th {\n",
       "        vertical-align: top;\n",
       "    }\n",
       "\n",
       "    .dataframe thead th {\n",
       "        text-align: right;\n",
       "    }\n",
       "</style>\n",
       "<table border=\"1\" class=\"dataframe\">\n",
       "  <thead>\n",
       "    <tr style=\"text-align: right;\">\n",
       "      <th></th>\n",
       "      <th>jp_sales</th>\n",
       "    </tr>\n",
       "    <tr>\n",
       "      <th>rating</th>\n",
       "      <th></th>\n",
       "    </tr>\n",
       "  </thead>\n",
       "  <tbody>\n",
       "    <tr>\n",
       "      <th>T</th>\n",
       "      <td>14.78</td>\n",
       "    </tr>\n",
       "    <tr>\n",
       "      <th>E</th>\n",
       "      <td>8.94</td>\n",
       "    </tr>\n",
       "    <tr>\n",
       "      <th>M</th>\n",
       "      <td>8.01</td>\n",
       "    </tr>\n",
       "    <tr>\n",
       "      <th>E10+</th>\n",
       "      <td>4.46</td>\n",
       "    </tr>\n",
       "  </tbody>\n",
       "</table>\n",
       "</div>"
      ],
      "text/plain": [
       "        jp_sales\n",
       "rating          \n",
       "T          14.78\n",
       "E           8.94\n",
       "M           8.01\n",
       "E10+        4.46"
      ]
     },
     "execution_count": 152,
     "metadata": {},
     "output_type": "execute_result"
    }
   ],
   "source": [
    "jp_data.sort_values(by = 'jp_sales', ascending = False).head(5)"
   ]
  },
  {
   "cell_type": "markdown",
   "metadata": {},
   "source": [
    "Для начала расшифруем возрастные категории:\n",
    "\n",
    " - «E» («Everyone») — «Для всех»\n",
    " - «E10+» («Everyone 10 and older») — «Для всех от 10 лет и старше»\n",
    " - «T» («Teen») — «Подросткам»: Игра подходит для лиц от 13 лет.\n",
    " - «M» («Mature») — «Для взрослых»: Материалы игры не подходят для лиц младше 17 лет.\n",
    " \n",
    "В Европе и Северной Америке на первом месте по продажам стоят игры категории М, второе занмает категория Е - более предпочтительны категории игр для лиц старше 17 лет или которые подходят под любой возраст. В Японии же более предпочтительной категорией игр оказалась Т - игры для лиц от 13 и второе место занмает та же категория, что в предыдущих рассмотренных странах. "
   ]
  },
  {
   "cell_type": "markdown",
   "metadata": {},
   "source": [
    "## Проверка гипотез"
   ]
  },
  {
   "cell_type": "markdown",
   "metadata": {},
   "source": [
    "Параметр **alpha** укажем равным 0.05"
   ]
  },
  {
   "cell_type": "markdown",
   "metadata": {},
   "source": [
    "### Гипотеза 1. Средние пользовательские рейтинги платформ Xbox One и PC одинаковые;"
   ]
  },
  {
   "cell_type": "markdown",
   "metadata": {},
   "source": [
    "Н0: Средние пользовательские рейтинги платформ Xbox One и PC равны\n",
    "\n",
    "Н1: Средние пользовательские рейтинги платформ Xbox One и PC не равны\n",
    "\n",
    "Для проверки двух независимых выборок будем использовать гипотезу о равенстве средних двух генеральных совокупностей. Будем проверять двустороннюю гипотезу, т.к. вопрос состоит в том, одинаковые средние пользовательские рейтинги или нет. Также укажем, что дисперсии не равны, потому что при проверке платформ в пункте [3.5.2](#intro) замечен большой разброс значений."
   ]
  },
  {
   "cell_type": "code",
   "execution_count": 153,
   "metadata": {},
   "outputs": [
    {
     "name": "stdout",
     "output_type": "stream",
     "text": [
      "p - значение 0.11601398086668832\n",
      "\n",
      "Не отвергаем нулевую гипотезу\n"
     ]
    }
   ],
   "source": [
    "#сделаем срез, чтобы избавиться от остальных платформ и пропусков\n",
    "user_table_pc = data.query(\n",
    "    'year_of_release >= 2014 and platform == \"PC\"'\n",
    ").dropna(subset = ['user_score']).reset_index(drop = True)\n",
    "user_table_xone = data.query(\n",
    "    'year_of_release >= 2014 and platform == \"XOne\"'\n",
    ").dropna(subset = ['user_score']).reset_index(drop = True)\n",
    "\n",
    "#пользовательский рейтинг для платформы PC\n",
    "platform_pc = user_table_pc['user_score']\n",
    "#для Xbox One\n",
    "platform_xone = user_table_xone['user_score']\n",
    "\n",
    "alpha = 0.05\n",
    "\n",
    "result = st.ttest_ind(\n",
    "    platform_xone,\n",
    "    platform_pc,\n",
    "    equal_var = False\n",
    ")\n",
    "\n",
    "print('p - значение', result.pvalue)\n",
    "print()\n",
    "if result.pvalue < alpha:\n",
    "    print('Отвергаем нулевую гипотезу')\n",
    "else:\n",
    "    print('Не отвергаем нулевую гипотезу')"
   ]
  },
  {
   "cell_type": "markdown",
   "metadata": {},
   "source": [
    "В результате проверки нулевая гипотеза не отвергается, потому что средние пользовательские рейтинги платформ  Xbox One и PC равны. О достоверности проверки может говорить p-значение(0,12), которое выше уровня статистической значимости(0,05)"
   ]
  },
  {
   "cell_type": "markdown",
   "metadata": {},
   "source": [
    "### Гипотеза 2. Средние пользовательские рейтинги жанров Action и Sports разные."
   ]
  },
  {
   "cell_type": "markdown",
   "metadata": {},
   "source": [
    "Н0: Средние пользовательские рейтинги жанров Action и Sports не равны\n",
    "\n",
    "Н1: Средние пользовательские рейтинги жанров Action и Sports равны\n",
    "\n",
    "Для проверки данных гипотез будем использовать тот же метод и параметры, что в предыдущем пункте, т.к. здесь также присутствуют две независимые выборки и будет проверяться двусторонняя гипотеза."
   ]
  },
  {
   "cell_type": "code",
   "execution_count": 154,
   "metadata": {},
   "outputs": [
    {
     "name": "stdout",
     "output_type": "stream",
     "text": [
      "p - значение 1.1825550382644557e-14\n",
      "\n",
      "Отвергаем нулевую гипотезу\n"
     ]
    }
   ],
   "source": [
    "#сделаем срез, чтобы избавиться от остальных платформ и пропусков\n",
    "user_table_action = data.query(\n",
    "    'year_of_release >= 2014 and genre == \"Action\"'\n",
    ").dropna(subset = ['user_score']).reset_index(drop = True)\n",
    "user_table_sports = data.query(\n",
    "    'year_of_release >= 2014 and genre == \"Sports\"'\n",
    ").dropna(subset = ['user_score']).reset_index(drop = True)\n",
    "\n",
    "#пользовательский рейтинг для платформы PC\n",
    "action = user_table_action['user_score']\n",
    "#для Xbox One\n",
    "sports = user_table_sports['user_score']\n",
    "\n",
    "alpha = 0.05\n",
    "\n",
    "result = st.ttest_ind(\n",
    "    action,\n",
    "    sports,\n",
    "    equal_var = False\n",
    ")\n",
    "\n",
    "print('p - значение', result.pvalue)\n",
    "print()\n",
    "if result.pvalue < alpha:\n",
    "    print('Отвергаем нулевую гипотезу')\n",
    "else:\n",
    "    print('Не отвергаем нулевую гипотезу')"
   ]
  },
  {
   "cell_type": "markdown",
   "metadata": {},
   "source": [
    "После нулевая гипотеза была отвергнута в пользу первой, поэтому можно утверждать, что средние пользовательские рейтинги жанров Action и Sports одинаковые."
   ]
  },
  {
   "cell_type": "markdown",
   "metadata": {},
   "source": [
    "## Общий вывод"
   ]
  },
  {
   "cell_type": "markdown",
   "metadata": {},
   "source": [
    "При анализе игрового магазина были изучены таблицы и выявлены следующие проблемы:\n",
    " - малочисленные пропуски в колонках: name, genre, year_of_release\n",
    " - много отсутствующих значений в столбцах: critic_score, user_score, rating\n",
    " - несоответствие типов данных в стодбцах: year_of_release, user_score\n",
    " - значения tbd в столбце с пользовательской оценкой\n",
    "\n",
    "В результате обработки данных были устранены пропуски из столбцов name, genre, year_of_release, заменены значения NaN на undef в rating. Приведены к коррекному типу данных описанные выше столбцы. При проверке не обнаружено явных и неявных дубликатов.\n",
    "\n",
    "При анализе было сокращено количество значений в столбце year_of_release до 1994 года, но для дальнейшей работы использовались данные с 2014 по 2016 год.\n",
    "\n",
    "Также выявлено, что на продажи влияют следуюшие факторы:\n",
    " - Отзывы критиков\n",
    " - Год выпуска платформы\n",
    " - Популярность платформы у пользователей. По сравнению рейтингов из трех регионов можно выделить топ-3 самых популярных платформ:\n",
    "     1. XOne\n",
    "     2. PS4\n",
    "     3. 3DS\n",
    " - Популярные жанры:\n",
    "     1. Action\n",
    "     2. Sports\n",
    "     3. Shooter\n",
    " - Рейтинг ESRB:\n",
    "     1. E\n",
    "     2. M\n",
    "     3. T\n",
    "\n",
    "После проверки гипотез было выявлено, что средние пользовательские рейтинги одинаковы у платформ Xbox One и PC, то же можно сказать и о средних пользовательских рейтингах у жанров Action и Sports."
   ]
  }
 ],
 "metadata": {
  "ExecuteTimeLog": [
   {
    "duration": 43,
    "start_time": "2023-12-04T12:04:35.250Z"
   },
   {
    "duration": 1208,
    "start_time": "2023-12-04T12:04:38.371Z"
   },
   {
    "duration": 103,
    "start_time": "2023-12-04T12:04:39.581Z"
   },
   {
    "duration": 12,
    "start_time": "2023-12-04T12:05:20.455Z"
   },
   {
    "duration": 16,
    "start_time": "2023-12-04T12:06:22.169Z"
   },
   {
    "duration": 11,
    "start_time": "2023-12-04T12:06:56.065Z"
   },
   {
    "duration": 26,
    "start_time": "2023-12-04T12:07:33.154Z"
   },
   {
    "duration": 25,
    "start_time": "2023-12-04T12:11:09.045Z"
   },
   {
    "duration": 50,
    "start_time": "2023-12-04T12:28:07.136Z"
   },
   {
    "duration": 57,
    "start_time": "2023-12-04T12:31:19.371Z"
   },
   {
    "duration": 6,
    "start_time": "2023-12-04T12:31:23.363Z"
   },
   {
    "duration": 7,
    "start_time": "2023-12-04T12:31:43.410Z"
   },
   {
    "duration": 9,
    "start_time": "2023-12-04T12:31:50.355Z"
   },
   {
    "duration": 3,
    "start_time": "2023-12-04T12:32:20.466Z"
   },
   {
    "duration": 7,
    "start_time": "2023-12-04T12:32:29.335Z"
   },
   {
    "duration": 7,
    "start_time": "2023-12-04T12:32:42.402Z"
   },
   {
    "duration": 6,
    "start_time": "2023-12-04T12:33:38.149Z"
   },
   {
    "duration": 7,
    "start_time": "2023-12-04T12:33:47.597Z"
   },
   {
    "duration": 6,
    "start_time": "2023-12-04T12:34:01.413Z"
   },
   {
    "duration": 6,
    "start_time": "2023-12-04T12:34:04.493Z"
   },
   {
    "duration": 3,
    "start_time": "2023-12-04T12:34:43.214Z"
   },
   {
    "duration": 7,
    "start_time": "2023-12-04T12:34:57.107Z"
   },
   {
    "duration": 49,
    "start_time": "2023-12-04T12:35:04.918Z"
   },
   {
    "duration": 16,
    "start_time": "2023-12-04T12:35:06.614Z"
   },
   {
    "duration": 11,
    "start_time": "2023-12-04T12:35:08.105Z"
   },
   {
    "duration": 25,
    "start_time": "2023-12-04T12:35:08.812Z"
   },
   {
    "duration": 3,
    "start_time": "2023-12-04T12:36:16.004Z"
   },
   {
    "duration": 4,
    "start_time": "2023-12-04T12:36:23.784Z"
   },
   {
    "duration": 6,
    "start_time": "2023-12-04T12:39:45.155Z"
   },
   {
    "duration": 12,
    "start_time": "2023-12-04T12:39:56.748Z"
   },
   {
    "duration": 15,
    "start_time": "2023-12-04T12:40:43.567Z"
   },
   {
    "duration": 14,
    "start_time": "2023-12-04T12:40:50.095Z"
   },
   {
    "duration": 11,
    "start_time": "2023-12-04T12:41:17.600Z"
   },
   {
    "duration": 14,
    "start_time": "2023-12-04T12:41:25.198Z"
   },
   {
    "duration": 15,
    "start_time": "2023-12-04T12:41:49.102Z"
   },
   {
    "duration": 12,
    "start_time": "2023-12-04T12:44:14.528Z"
   },
   {
    "duration": 10,
    "start_time": "2023-12-04T12:45:58.533Z"
   },
   {
    "duration": 7,
    "start_time": "2023-12-04T12:49:15.316Z"
   },
   {
    "duration": 533,
    "start_time": "2023-12-04T12:50:18.229Z"
   },
   {
    "duration": 531,
    "start_time": "2023-12-04T12:50:26.454Z"
   },
   {
    "duration": 45,
    "start_time": "2023-12-04T12:52:29.792Z"
   },
   {
    "duration": 12,
    "start_time": "2023-12-04T12:53:50.714Z"
   },
   {
    "duration": 12,
    "start_time": "2023-12-04T12:54:21.988Z"
   },
   {
    "duration": 13,
    "start_time": "2023-12-04T12:54:27.292Z"
   },
   {
    "duration": 12,
    "start_time": "2023-12-04T12:54:35.578Z"
   },
   {
    "duration": 12,
    "start_time": "2023-12-04T12:54:45.411Z"
   },
   {
    "duration": 12,
    "start_time": "2023-12-04T12:55:08.315Z"
   },
   {
    "duration": 12,
    "start_time": "2023-12-04T12:55:25.939Z"
   },
   {
    "duration": 13,
    "start_time": "2023-12-04T12:55:39.749Z"
   },
   {
    "duration": 11,
    "start_time": "2023-12-04T12:55:46.570Z"
   },
   {
    "duration": 13,
    "start_time": "2023-12-04T12:55:52.483Z"
   },
   {
    "duration": 12,
    "start_time": "2023-12-04T12:55:57.534Z"
   },
   {
    "duration": 12,
    "start_time": "2023-12-04T12:56:26.507Z"
   },
   {
    "duration": 14,
    "start_time": "2023-12-04T12:57:19.773Z"
   },
   {
    "duration": 8,
    "start_time": "2023-12-04T12:58:11.375Z"
   },
   {
    "duration": 17,
    "start_time": "2023-12-04T12:58:33.224Z"
   },
   {
    "duration": 12,
    "start_time": "2023-12-04T12:59:26.337Z"
   },
   {
    "duration": 12,
    "start_time": "2023-12-04T12:59:38.009Z"
   },
   {
    "duration": 13,
    "start_time": "2023-12-04T12:59:45.191Z"
   },
   {
    "duration": 50,
    "start_time": "2023-12-04T13:01:32.065Z"
   },
   {
    "duration": 16,
    "start_time": "2023-12-04T13:01:32.647Z"
   },
   {
    "duration": 12,
    "start_time": "2023-12-04T13:01:34.231Z"
   },
   {
    "duration": 24,
    "start_time": "2023-12-04T13:01:34.655Z"
   },
   {
    "duration": 506,
    "start_time": "2023-12-04T13:01:35.858Z"
   },
   {
    "duration": 4,
    "start_time": "2023-12-04T13:01:45.238Z"
   },
   {
    "duration": 8,
    "start_time": "2023-12-04T13:01:48.883Z"
   },
   {
    "duration": 13,
    "start_time": "2023-12-04T13:01:50.443Z"
   },
   {
    "duration": 7,
    "start_time": "2023-12-04T13:03:27.796Z"
   },
   {
    "duration": 6,
    "start_time": "2023-12-04T13:03:46.579Z"
   },
   {
    "duration": 7,
    "start_time": "2023-12-04T13:05:36.181Z"
   },
   {
    "duration": 6,
    "start_time": "2023-12-04T13:07:00.887Z"
   },
   {
    "duration": 7,
    "start_time": "2023-12-04T13:14:37.855Z"
   },
   {
    "duration": 17,
    "start_time": "2023-12-04T13:14:49.839Z"
   },
   {
    "duration": 21,
    "start_time": "2023-12-04T13:15:49.336Z"
   },
   {
    "duration": 13,
    "start_time": "2023-12-04T13:16:48.769Z"
   },
   {
    "duration": 11,
    "start_time": "2023-12-04T13:23:21.690Z"
   },
   {
    "duration": 24,
    "start_time": "2023-12-04T13:23:23.765Z"
   },
   {
    "duration": 507,
    "start_time": "2023-12-04T13:23:24.844Z"
   },
   {
    "duration": 4,
    "start_time": "2023-12-04T13:23:28.155Z"
   },
   {
    "duration": 8,
    "start_time": "2023-12-04T13:23:29.341Z"
   },
   {
    "duration": 12,
    "start_time": "2023-12-04T13:23:31.881Z"
   },
   {
    "duration": 6,
    "start_time": "2023-12-04T13:23:34.622Z"
   },
   {
    "duration": 6,
    "start_time": "2023-12-04T13:23:41.751Z"
   },
   {
    "duration": 7,
    "start_time": "2023-12-04T13:23:42.862Z"
   },
   {
    "duration": 13,
    "start_time": "2023-12-04T13:23:48.255Z"
   },
   {
    "duration": 2,
    "start_time": "2023-12-04T13:23:52.555Z"
   },
   {
    "duration": 50,
    "start_time": "2023-12-04T13:23:52.561Z"
   },
   {
    "duration": 16,
    "start_time": "2023-12-04T13:23:52.612Z"
   },
   {
    "duration": 12,
    "start_time": "2023-12-04T13:23:52.629Z"
   },
   {
    "duration": 99,
    "start_time": "2023-12-04T13:23:52.642Z"
   },
   {
    "duration": 507,
    "start_time": "2023-12-04T13:23:52.742Z"
   },
   {
    "duration": 4,
    "start_time": "2023-12-04T13:23:53.251Z"
   },
   {
    "duration": 14,
    "start_time": "2023-12-04T13:23:53.256Z"
   },
   {
    "duration": 13,
    "start_time": "2023-12-04T13:23:53.272Z"
   },
   {
    "duration": 5,
    "start_time": "2023-12-04T13:23:53.286Z"
   },
   {
    "duration": 24,
    "start_time": "2023-12-04T13:23:53.292Z"
   },
   {
    "duration": 5,
    "start_time": "2023-12-04T13:23:53.317Z"
   },
   {
    "duration": 10,
    "start_time": "2023-12-04T13:23:53.324Z"
   },
   {
    "duration": 4,
    "start_time": "2023-12-04T13:25:10.855Z"
   },
   {
    "duration": 9,
    "start_time": "2023-12-04T13:26:52.015Z"
   },
   {
    "duration": 8,
    "start_time": "2023-12-04T13:26:56.818Z"
   },
   {
    "duration": 12,
    "start_time": "2023-12-04T13:27:09.517Z"
   },
   {
    "duration": 1440,
    "start_time": "2023-12-04T13:29:22.502Z"
   },
   {
    "duration": 1297,
    "start_time": "2023-12-04T13:29:47.576Z"
   },
   {
    "duration": 12,
    "start_time": "2023-12-04T13:29:57.454Z"
   },
   {
    "duration": 11,
    "start_time": "2023-12-04T13:30:06.767Z"
   },
   {
    "duration": 8,
    "start_time": "2023-12-04T13:40:34.302Z"
   },
   {
    "duration": 8,
    "start_time": "2023-12-04T13:40:41.816Z"
   },
   {
    "duration": 17,
    "start_time": "2023-12-04T13:41:00.224Z"
   },
   {
    "duration": 15,
    "start_time": "2023-12-04T13:43:02.593Z"
   },
   {
    "duration": 6,
    "start_time": "2023-12-04T13:43:37.163Z"
   },
   {
    "duration": 8,
    "start_time": "2023-12-04T13:44:45.620Z"
   },
   {
    "duration": 4,
    "start_time": "2023-12-04T13:44:52.604Z"
   },
   {
    "duration": 4,
    "start_time": "2023-12-04T13:45:34.092Z"
   },
   {
    "duration": 4,
    "start_time": "2023-12-04T13:46:04.550Z"
   },
   {
    "duration": 1460,
    "start_time": "2023-12-04T13:46:28.934Z"
   },
   {
    "duration": 4,
    "start_time": "2023-12-04T13:46:35.316Z"
   },
   {
    "duration": 10,
    "start_time": "2023-12-04T13:56:34.482Z"
   },
   {
    "duration": 4,
    "start_time": "2023-12-04T13:57:47.354Z"
   },
   {
    "duration": 12,
    "start_time": "2023-12-04T13:58:00.936Z"
   },
   {
    "duration": 14,
    "start_time": "2023-12-04T13:58:02.050Z"
   },
   {
    "duration": 11,
    "start_time": "2023-12-04T14:00:23.354Z"
   },
   {
    "duration": 6,
    "start_time": "2023-12-04T14:00:37.619Z"
   },
   {
    "duration": 129,
    "start_time": "2023-12-04T14:01:36.964Z"
   },
   {
    "duration": 235,
    "start_time": "2023-12-04T14:03:48.913Z"
   },
   {
    "duration": 242,
    "start_time": "2023-12-04T14:04:04.855Z"
   },
   {
    "duration": 272,
    "start_time": "2023-12-04T14:04:54.664Z"
   },
   {
    "duration": 8,
    "start_time": "2023-12-04T14:09:20.782Z"
   },
   {
    "duration": 8,
    "start_time": "2023-12-04T14:09:48.692Z"
   },
   {
    "duration": 348,
    "start_time": "2023-12-04T14:10:19.469Z"
   },
   {
    "duration": 281,
    "start_time": "2023-12-04T14:11:39.202Z"
   },
   {
    "duration": 7,
    "start_time": "2023-12-04T14:11:56.049Z"
   },
   {
    "duration": 8,
    "start_time": "2023-12-04T14:11:59.752Z"
   },
   {
    "duration": 80,
    "start_time": "2023-12-04T14:13:04.391Z"
   },
   {
    "duration": 81,
    "start_time": "2023-12-04T14:13:37.538Z"
   },
   {
    "duration": 87,
    "start_time": "2023-12-04T14:13:58.554Z"
   },
   {
    "duration": 86,
    "start_time": "2023-12-04T14:14:25.288Z"
   },
   {
    "duration": 94,
    "start_time": "2023-12-04T14:14:41.402Z"
   },
   {
    "duration": 116,
    "start_time": "2023-12-04T14:15:12.403Z"
   },
   {
    "duration": 49,
    "start_time": "2023-12-04T14:17:42.717Z"
   },
   {
    "duration": 49,
    "start_time": "2023-12-04T14:17:51.277Z"
   },
   {
    "duration": 4,
    "start_time": "2023-12-04T14:17:59.414Z"
   },
   {
    "duration": 34,
    "start_time": "2023-12-04T14:18:45.302Z"
   },
   {
    "duration": 7,
    "start_time": "2023-12-04T14:20:18.016Z"
   },
   {
    "duration": 6,
    "start_time": "2023-12-04T14:21:24.208Z"
   },
   {
    "duration": 13,
    "start_time": "2023-12-04T14:24:32.456Z"
   },
   {
    "duration": 265,
    "start_time": "2023-12-04T14:24:59.703Z"
   },
   {
    "duration": 259,
    "start_time": "2023-12-04T14:25:23.912Z"
   },
   {
    "duration": 7,
    "start_time": "2023-12-04T14:26:47.414Z"
   },
   {
    "duration": 265,
    "start_time": "2023-12-04T14:27:21.922Z"
   },
   {
    "duration": 7,
    "start_time": "2023-12-04T14:27:25.070Z"
   },
   {
    "duration": 7,
    "start_time": "2023-12-04T14:27:44.735Z"
   },
   {
    "duration": 8,
    "start_time": "2023-12-04T14:28:01.671Z"
   },
   {
    "duration": 7,
    "start_time": "2023-12-04T14:28:19.760Z"
   },
   {
    "duration": 338,
    "start_time": "2023-12-04T14:28:35.172Z"
   },
   {
    "duration": 214,
    "start_time": "2023-12-04T14:28:46.403Z"
   },
   {
    "duration": 6,
    "start_time": "2023-12-04T14:29:32.274Z"
   },
   {
    "duration": 294,
    "start_time": "2023-12-04T14:41:14.112Z"
   },
   {
    "duration": 72,
    "start_time": "2023-12-04T14:42:25.458Z"
   },
   {
    "duration": 243,
    "start_time": "2023-12-04T14:43:09.697Z"
   },
   {
    "duration": 3867,
    "start_time": "2023-12-04T14:48:28.366Z"
   },
   {
    "duration": 4,
    "start_time": "2023-12-04T14:49:33.237Z"
   },
   {
    "duration": 6,
    "start_time": "2023-12-04T14:49:44.685Z"
   },
   {
    "duration": 930,
    "start_time": "2023-12-04T14:49:46.999Z"
   },
   {
    "duration": 881,
    "start_time": "2023-12-04T14:50:42.185Z"
   },
   {
    "duration": 941,
    "start_time": "2023-12-04T14:50:53.138Z"
   },
   {
    "duration": 13,
    "start_time": "2023-12-04T15:03:31.474Z"
   },
   {
    "duration": 8,
    "start_time": "2023-12-04T15:11:43.764Z"
   },
   {
    "duration": 369,
    "start_time": "2023-12-04T15:11:52.188Z"
   },
   {
    "duration": 228,
    "start_time": "2023-12-04T15:13:29.095Z"
   },
   {
    "duration": 224,
    "start_time": "2023-12-04T15:15:12.674Z"
   },
   {
    "duration": 236,
    "start_time": "2023-12-04T15:15:25.128Z"
   },
   {
    "duration": 50,
    "start_time": "2023-12-05T11:31:52.184Z"
   },
   {
    "duration": 1367,
    "start_time": "2023-12-05T11:31:55.758Z"
   },
   {
    "duration": 190,
    "start_time": "2023-12-05T11:31:57.127Z"
   },
   {
    "duration": 19,
    "start_time": "2023-12-05T11:31:57.319Z"
   },
   {
    "duration": 14,
    "start_time": "2023-12-05T11:31:57.340Z"
   },
   {
    "duration": 29,
    "start_time": "2023-12-05T11:31:57.355Z"
   },
   {
    "duration": 625,
    "start_time": "2023-12-05T11:31:57.386Z"
   },
   {
    "duration": 4,
    "start_time": "2023-12-05T11:31:58.013Z"
   },
   {
    "duration": 10,
    "start_time": "2023-12-05T11:31:58.018Z"
   },
   {
    "duration": 52,
    "start_time": "2023-12-05T11:31:58.030Z"
   },
   {
    "duration": 19,
    "start_time": "2023-12-05T11:31:58.084Z"
   },
   {
    "duration": 38,
    "start_time": "2023-12-05T11:31:58.105Z"
   },
   {
    "duration": 19,
    "start_time": "2023-12-05T11:31:58.145Z"
   },
   {
    "duration": 14,
    "start_time": "2023-12-05T11:31:58.165Z"
   },
   {
    "duration": 5,
    "start_time": "2023-12-05T11:31:58.180Z"
   },
   {
    "duration": 13,
    "start_time": "2023-12-05T11:31:58.186Z"
   },
   {
    "duration": 18,
    "start_time": "2023-12-05T11:31:58.200Z"
   },
   {
    "duration": 8,
    "start_time": "2023-12-05T11:31:58.219Z"
   },
   {
    "duration": 17,
    "start_time": "2023-12-05T11:31:58.228Z"
   },
   {
    "duration": 5,
    "start_time": "2023-12-05T11:31:58.246Z"
   },
   {
    "duration": 337,
    "start_time": "2023-12-05T11:31:58.253Z"
   },
   {
    "duration": 13,
    "start_time": "2023-12-05T11:31:58.592Z"
   },
   {
    "duration": 143,
    "start_time": "2023-12-05T11:31:58.606Z"
   },
   {
    "duration": 37,
    "start_time": "2023-12-05T11:31:58.750Z"
   },
   {
    "duration": 375,
    "start_time": "2023-12-05T11:31:58.789Z"
   },
   {
    "duration": 8,
    "start_time": "2023-12-05T11:31:59.165Z"
   },
   {
    "duration": 1064,
    "start_time": "2023-12-05T11:31:59.174Z"
   },
   {
    "duration": 297,
    "start_time": "2023-12-05T11:32:00.240Z"
   },
   {
    "duration": 110,
    "start_time": "2023-12-05T11:33:08.636Z"
   },
   {
    "duration": 139,
    "start_time": "2023-12-05T11:34:00.094Z"
   },
   {
    "duration": 271,
    "start_time": "2023-12-05T11:43:26.017Z"
   },
   {
    "duration": 278,
    "start_time": "2023-12-05T11:43:53.774Z"
   },
   {
    "duration": 91,
    "start_time": "2023-12-05T11:44:13.734Z"
   },
   {
    "duration": 245,
    "start_time": "2023-12-05T11:44:21.488Z"
   },
   {
    "duration": 216,
    "start_time": "2023-12-05T11:44:24.658Z"
   },
   {
    "duration": 1164,
    "start_time": "2023-12-05T11:45:37.607Z"
   },
   {
    "duration": 11,
    "start_time": "2023-12-05T11:45:48.794Z"
   },
   {
    "duration": 9,
    "start_time": "2023-12-05T11:46:06.440Z"
   },
   {
    "duration": 1086,
    "start_time": "2023-12-05T11:46:11.617Z"
   },
   {
    "duration": 34,
    "start_time": "2023-12-05T11:46:23.944Z"
   },
   {
    "duration": 33,
    "start_time": "2023-12-05T11:56:28.924Z"
   },
   {
    "duration": 16,
    "start_time": "2023-12-05T12:05:20.956Z"
   },
   {
    "duration": 280,
    "start_time": "2023-12-05T12:07:54.061Z"
   },
   {
    "duration": 27,
    "start_time": "2023-12-05T12:08:37.807Z"
   },
   {
    "duration": 21,
    "start_time": "2023-12-05T12:09:48.745Z"
   },
   {
    "duration": 151,
    "start_time": "2023-12-05T12:10:07.143Z"
   },
   {
    "duration": 1538,
    "start_time": "2023-12-05T12:10:30.090Z"
   },
   {
    "duration": 106,
    "start_time": "2023-12-05T12:11:23.378Z"
   },
   {
    "duration": 104,
    "start_time": "2023-12-05T12:12:14.393Z"
   },
   {
    "duration": 101,
    "start_time": "2023-12-05T12:12:19.697Z"
   },
   {
    "duration": 101,
    "start_time": "2023-12-05T12:12:29.834Z"
   },
   {
    "duration": 92,
    "start_time": "2023-12-05T12:12:55.812Z"
   },
   {
    "duration": 111,
    "start_time": "2023-12-05T12:13:04.625Z"
   },
   {
    "duration": 97,
    "start_time": "2023-12-05T12:13:15.437Z"
   },
   {
    "duration": 160,
    "start_time": "2023-12-05T12:14:46.372Z"
   },
   {
    "duration": 84,
    "start_time": "2023-12-05T12:14:50.795Z"
   },
   {
    "duration": 100,
    "start_time": "2023-12-05T12:16:18.717Z"
   },
   {
    "duration": 1075,
    "start_time": "2023-12-05T12:16:38.406Z"
   },
   {
    "duration": 14,
    "start_time": "2023-12-05T12:18:02.781Z"
   },
   {
    "duration": 32,
    "start_time": "2023-12-05T12:18:15.958Z"
   },
   {
    "duration": 6,
    "start_time": "2023-12-05T12:25:37.738Z"
   },
   {
    "duration": 6,
    "start_time": "2023-12-05T12:26:32.178Z"
   },
   {
    "duration": 11,
    "start_time": "2023-12-05T12:27:01.533Z"
   },
   {
    "duration": 35,
    "start_time": "2023-12-05T12:27:33.370Z"
   },
   {
    "duration": 9,
    "start_time": "2023-12-05T12:29:17.912Z"
   },
   {
    "duration": 5,
    "start_time": "2023-12-05T12:29:29.343Z"
   },
   {
    "duration": 10,
    "start_time": "2023-12-05T12:29:32.119Z"
   },
   {
    "duration": 4,
    "start_time": "2023-12-05T12:29:41.743Z"
   },
   {
    "duration": 72,
    "start_time": "2023-12-05T12:29:41.751Z"
   },
   {
    "duration": 24,
    "start_time": "2023-12-05T12:29:41.825Z"
   },
   {
    "duration": 27,
    "start_time": "2023-12-05T12:29:41.850Z"
   },
   {
    "duration": 58,
    "start_time": "2023-12-05T12:29:41.879Z"
   },
   {
    "duration": 614,
    "start_time": "2023-12-05T12:29:41.939Z"
   },
   {
    "duration": 5,
    "start_time": "2023-12-05T12:29:42.556Z"
   },
   {
    "duration": 10,
    "start_time": "2023-12-05T12:29:42.563Z"
   },
   {
    "duration": 29,
    "start_time": "2023-12-05T12:29:42.574Z"
   },
   {
    "duration": 7,
    "start_time": "2023-12-05T12:29:42.605Z"
   },
   {
    "duration": 15,
    "start_time": "2023-12-05T12:29:42.614Z"
   },
   {
    "duration": 132,
    "start_time": "2023-12-05T12:29:42.631Z"
   },
   {
    "duration": 0,
    "start_time": "2023-12-05T12:29:42.764Z"
   },
   {
    "duration": 0,
    "start_time": "2023-12-05T12:29:42.765Z"
   },
   {
    "duration": 0,
    "start_time": "2023-12-05T12:29:42.766Z"
   },
   {
    "duration": 0,
    "start_time": "2023-12-05T12:29:42.767Z"
   },
   {
    "duration": 0,
    "start_time": "2023-12-05T12:29:42.768Z"
   },
   {
    "duration": 0,
    "start_time": "2023-12-05T12:29:42.769Z"
   },
   {
    "duration": 0,
    "start_time": "2023-12-05T12:29:42.770Z"
   },
   {
    "duration": 0,
    "start_time": "2023-12-05T12:29:42.771Z"
   },
   {
    "duration": 0,
    "start_time": "2023-12-05T12:29:42.772Z"
   },
   {
    "duration": 0,
    "start_time": "2023-12-05T12:29:42.772Z"
   },
   {
    "duration": 0,
    "start_time": "2023-12-05T12:29:42.773Z"
   },
   {
    "duration": 0,
    "start_time": "2023-12-05T12:29:42.775Z"
   },
   {
    "duration": 0,
    "start_time": "2023-12-05T12:29:42.776Z"
   },
   {
    "duration": 0,
    "start_time": "2023-12-05T12:29:42.777Z"
   },
   {
    "duration": 0,
    "start_time": "2023-12-05T12:29:42.778Z"
   },
   {
    "duration": 0,
    "start_time": "2023-12-05T12:29:42.779Z"
   },
   {
    "duration": 0,
    "start_time": "2023-12-05T12:29:42.799Z"
   },
   {
    "duration": 0,
    "start_time": "2023-12-05T12:29:42.800Z"
   },
   {
    "duration": 0,
    "start_time": "2023-12-05T12:29:42.801Z"
   },
   {
    "duration": 0,
    "start_time": "2023-12-05T12:29:42.803Z"
   },
   {
    "duration": 0,
    "start_time": "2023-12-05T12:29:42.803Z"
   },
   {
    "duration": 16,
    "start_time": "2023-12-05T12:30:09.441Z"
   },
   {
    "duration": 17,
    "start_time": "2023-12-05T12:30:32.440Z"
   },
   {
    "duration": 17,
    "start_time": "2023-12-05T12:31:10.030Z"
   },
   {
    "duration": 220,
    "start_time": "2023-12-05T12:31:33.166Z"
   },
   {
    "duration": 31,
    "start_time": "2023-12-05T12:31:33.612Z"
   },
   {
    "duration": 13,
    "start_time": "2023-12-05T12:31:37.637Z"
   },
   {
    "duration": 11,
    "start_time": "2023-12-05T12:31:37.976Z"
   },
   {
    "duration": 3,
    "start_time": "2023-12-05T12:31:59.150Z"
   },
   {
    "duration": 58,
    "start_time": "2023-12-05T12:31:59.157Z"
   },
   {
    "duration": 16,
    "start_time": "2023-12-05T12:31:59.217Z"
   },
   {
    "duration": 27,
    "start_time": "2023-12-05T12:31:59.235Z"
   },
   {
    "duration": 43,
    "start_time": "2023-12-05T12:31:59.264Z"
   },
   {
    "duration": 616,
    "start_time": "2023-12-05T12:31:59.309Z"
   },
   {
    "duration": 5,
    "start_time": "2023-12-05T12:31:59.927Z"
   },
   {
    "duration": 10,
    "start_time": "2023-12-05T12:31:59.934Z"
   },
   {
    "duration": 15,
    "start_time": "2023-12-05T12:31:59.945Z"
   },
   {
    "duration": 6,
    "start_time": "2023-12-05T12:31:59.962Z"
   },
   {
    "duration": 43,
    "start_time": "2023-12-05T12:31:59.971Z"
   },
   {
    "duration": 100,
    "start_time": "2023-12-05T12:32:00.016Z"
   },
   {
    "duration": 108,
    "start_time": "2023-12-05T12:32:00.118Z"
   },
   {
    "duration": 73,
    "start_time": "2023-12-05T12:32:00.228Z"
   },
   {
    "duration": 49,
    "start_time": "2023-12-05T12:32:00.303Z"
   },
   {
    "duration": 19,
    "start_time": "2023-12-05T12:32:00.353Z"
   },
   {
    "duration": 37,
    "start_time": "2023-12-05T12:32:00.373Z"
   },
   {
    "duration": 74,
    "start_time": "2023-12-05T12:32:00.411Z"
   },
   {
    "duration": 26,
    "start_time": "2023-12-05T12:32:00.487Z"
   },
   {
    "duration": 347,
    "start_time": "2023-12-05T12:32:00.514Z"
   },
   {
    "duration": 9,
    "start_time": "2023-12-05T12:32:00.863Z"
   },
   {
    "duration": 215,
    "start_time": "2023-12-05T12:32:00.873Z"
   },
   {
    "duration": 39,
    "start_time": "2023-12-05T12:32:01.090Z"
   },
   {
    "duration": 328,
    "start_time": "2023-12-05T12:32:01.131Z"
   },
   {
    "duration": 8,
    "start_time": "2023-12-05T12:32:01.461Z"
   },
   {
    "duration": 1174,
    "start_time": "2023-12-05T12:32:01.470Z"
   },
   {
    "duration": 283,
    "start_time": "2023-12-05T12:32:02.645Z"
   },
   {
    "duration": 222,
    "start_time": "2023-12-05T12:32:02.929Z"
   },
   {
    "duration": 45,
    "start_time": "2023-12-05T12:32:03.154Z"
   },
   {
    "duration": 14,
    "start_time": "2023-12-05T12:32:03.201Z"
   },
   {
    "duration": 37,
    "start_time": "2023-12-05T12:32:03.216Z"
   },
   {
    "duration": 1211,
    "start_time": "2023-12-05T12:32:03.254Z"
   },
   {
    "duration": 17,
    "start_time": "2023-12-05T12:32:49.729Z"
   },
   {
    "duration": 1029,
    "start_time": "2023-12-05T12:33:44.275Z"
   },
   {
    "duration": 34,
    "start_time": "2023-12-05T12:34:09.195Z"
   },
   {
    "duration": 46,
    "start_time": "2023-12-05T12:35:02.315Z"
   },
   {
    "duration": 8,
    "start_time": "2023-12-05T12:39:35.494Z"
   },
   {
    "duration": 9,
    "start_time": "2023-12-05T12:40:01.895Z"
   },
   {
    "duration": 16,
    "start_time": "2023-12-05T12:40:22.968Z"
   },
   {
    "duration": 15,
    "start_time": "2023-12-05T12:40:26.790Z"
   },
   {
    "duration": 4,
    "start_time": "2023-12-05T12:40:29.622Z"
   },
   {
    "duration": 4,
    "start_time": "2023-12-05T12:40:30.799Z"
   },
   {
    "duration": 5,
    "start_time": "2023-12-05T12:40:31.398Z"
   },
   {
    "duration": 5,
    "start_time": "2023-12-05T12:40:33.006Z"
   },
   {
    "duration": 15,
    "start_time": "2023-12-05T12:40:36.560Z"
   },
   {
    "duration": 7,
    "start_time": "2023-12-05T12:40:42.086Z"
   },
   {
    "duration": 246,
    "start_time": "2023-12-05T12:40:42.737Z"
   },
   {
    "duration": 7,
    "start_time": "2023-12-05T12:40:43.512Z"
   },
   {
    "duration": 116,
    "start_time": "2023-12-05T12:40:43.870Z"
   },
   {
    "duration": 3,
    "start_time": "2023-12-05T12:40:49.230Z"
   },
   {
    "duration": 56,
    "start_time": "2023-12-05T12:40:49.237Z"
   },
   {
    "duration": 15,
    "start_time": "2023-12-05T12:40:49.295Z"
   },
   {
    "duration": 21,
    "start_time": "2023-12-05T12:40:49.311Z"
   },
   {
    "duration": 40,
    "start_time": "2023-12-05T12:40:49.334Z"
   },
   {
    "duration": 717,
    "start_time": "2023-12-05T12:40:49.376Z"
   },
   {
    "duration": 7,
    "start_time": "2023-12-05T12:40:50.094Z"
   },
   {
    "duration": 25,
    "start_time": "2023-12-05T12:40:50.102Z"
   },
   {
    "duration": 15,
    "start_time": "2023-12-05T12:40:50.128Z"
   },
   {
    "duration": 18,
    "start_time": "2023-12-05T12:40:50.144Z"
   },
   {
    "duration": 38,
    "start_time": "2023-12-05T12:40:50.165Z"
   },
   {
    "duration": 8,
    "start_time": "2023-12-05T12:40:50.204Z"
   },
   {
    "duration": 26,
    "start_time": "2023-12-05T12:40:50.213Z"
   },
   {
    "duration": 21,
    "start_time": "2023-12-05T12:40:50.241Z"
   },
   {
    "duration": 4,
    "start_time": "2023-12-05T12:40:50.264Z"
   },
   {
    "duration": 5,
    "start_time": "2023-12-05T12:40:50.270Z"
   },
   {
    "duration": 5,
    "start_time": "2023-12-05T12:40:50.276Z"
   },
   {
    "duration": 5,
    "start_time": "2023-12-05T12:40:50.300Z"
   },
   {
    "duration": 28,
    "start_time": "2023-12-05T12:40:50.306Z"
   },
   {
    "duration": 6,
    "start_time": "2023-12-05T12:40:50.335Z"
   },
   {
    "duration": 333,
    "start_time": "2023-12-05T12:40:50.343Z"
   },
   {
    "duration": 9,
    "start_time": "2023-12-05T12:40:50.678Z"
   },
   {
    "duration": 151,
    "start_time": "2023-12-05T12:40:50.689Z"
   },
   {
    "duration": 38,
    "start_time": "2023-12-05T12:40:50.842Z"
   },
   {
    "duration": 300,
    "start_time": "2023-12-05T12:40:50.882Z"
   },
   {
    "duration": 8,
    "start_time": "2023-12-05T12:40:51.183Z"
   },
   {
    "duration": 1149,
    "start_time": "2023-12-05T12:40:51.199Z"
   },
   {
    "duration": 288,
    "start_time": "2023-12-05T12:40:52.350Z"
   },
   {
    "duration": 223,
    "start_time": "2023-12-05T12:40:52.641Z"
   },
   {
    "duration": 39,
    "start_time": "2023-12-05T12:40:52.866Z"
   },
   {
    "duration": 13,
    "start_time": "2023-12-05T12:40:52.906Z"
   },
   {
    "duration": 53,
    "start_time": "2023-12-05T12:40:52.921Z"
   },
   {
    "duration": 983,
    "start_time": "2023-12-05T12:40:52.976Z"
   },
   {
    "duration": 14,
    "start_time": "2023-12-05T12:51:34.931Z"
   },
   {
    "duration": 9,
    "start_time": "2023-12-05T12:51:57.314Z"
   },
   {
    "duration": 24,
    "start_time": "2023-12-05T12:52:27.283Z"
   },
   {
    "duration": 12,
    "start_time": "2023-12-05T12:55:57.131Z"
   },
   {
    "duration": 13,
    "start_time": "2023-12-05T12:56:50.928Z"
   },
   {
    "duration": 12,
    "start_time": "2023-12-05T12:56:53.609Z"
   },
   {
    "duration": 136,
    "start_time": "2023-12-05T13:00:41.669Z"
   },
   {
    "duration": 129,
    "start_time": "2023-12-05T13:01:07.430Z"
   },
   {
    "duration": 129,
    "start_time": "2023-12-05T13:01:37.943Z"
   },
   {
    "duration": 137,
    "start_time": "2023-12-05T13:02:28.408Z"
   },
   {
    "duration": 132,
    "start_time": "2023-12-05T13:03:28.860Z"
   },
   {
    "duration": 113,
    "start_time": "2023-12-05T13:05:34.500Z"
   },
   {
    "duration": 255,
    "start_time": "2023-12-05T13:07:09.516Z"
   },
   {
    "duration": 147,
    "start_time": "2023-12-05T13:07:32.712Z"
   },
   {
    "duration": 127,
    "start_time": "2023-12-05T13:08:15.541Z"
   },
   {
    "duration": 126,
    "start_time": "2023-12-05T13:08:22.845Z"
   },
   {
    "duration": 147,
    "start_time": "2023-12-05T13:08:45.381Z"
   },
   {
    "duration": 134,
    "start_time": "2023-12-05T13:08:50.558Z"
   },
   {
    "duration": 134,
    "start_time": "2023-12-05T13:08:55.212Z"
   },
   {
    "duration": 135,
    "start_time": "2023-12-05T13:09:00.182Z"
   },
   {
    "duration": 125,
    "start_time": "2023-12-05T13:09:04.462Z"
   },
   {
    "duration": 12,
    "start_time": "2023-12-05T13:14:27.721Z"
   },
   {
    "duration": 4,
    "start_time": "2023-12-05T13:14:51.921Z"
   },
   {
    "duration": 5,
    "start_time": "2023-12-05T13:15:11.273Z"
   },
   {
    "duration": 5,
    "start_time": "2023-12-05T13:15:15.346Z"
   },
   {
    "duration": 4,
    "start_time": "2023-12-05T13:15:21.779Z"
   },
   {
    "duration": 4,
    "start_time": "2023-12-05T13:15:36.649Z"
   },
   {
    "duration": 4,
    "start_time": "2023-12-05T13:15:42.954Z"
   },
   {
    "duration": 5,
    "start_time": "2023-12-05T13:19:43.230Z"
   },
   {
    "duration": 123,
    "start_time": "2023-12-05T13:22:34.124Z"
   },
   {
    "duration": 129,
    "start_time": "2023-12-05T13:22:36.339Z"
   },
   {
    "duration": 124,
    "start_time": "2023-12-05T13:22:50.813Z"
   },
   {
    "duration": 138,
    "start_time": "2023-12-05T13:22:56.595Z"
   },
   {
    "duration": 4,
    "start_time": "2023-12-05T13:23:47.683Z"
   },
   {
    "duration": 4,
    "start_time": "2023-12-05T13:24:07.738Z"
   },
   {
    "duration": 99,
    "start_time": "2023-12-05T13:27:12.138Z"
   },
   {
    "duration": 128,
    "start_time": "2023-12-05T13:27:22.528Z"
   },
   {
    "duration": 4,
    "start_time": "2023-12-05T13:27:23.405Z"
   },
   {
    "duration": 131,
    "start_time": "2023-12-05T13:28:34.563Z"
   },
   {
    "duration": 5,
    "start_time": "2023-12-05T13:29:28.543Z"
   },
   {
    "duration": 139,
    "start_time": "2023-12-05T13:30:00.669Z"
   },
   {
    "duration": 228,
    "start_time": "2023-12-05T13:30:30.940Z"
   },
   {
    "duration": 4,
    "start_time": "2023-12-05T13:30:47.586Z"
   },
   {
    "duration": 16,
    "start_time": "2023-12-05T13:38:00.667Z"
   },
   {
    "duration": 155,
    "start_time": "2023-12-05T13:38:01.164Z"
   },
   {
    "duration": 7,
    "start_time": "2023-12-05T13:38:02.203Z"
   },
   {
    "duration": 140,
    "start_time": "2023-12-05T13:38:04.026Z"
   },
   {
    "duration": 4,
    "start_time": "2023-12-05T13:38:04.714Z"
   },
   {
    "duration": 7,
    "start_time": "2023-12-05T13:43:43.694Z"
   },
   {
    "duration": 12,
    "start_time": "2023-12-05T13:44:15.647Z"
   },
   {
    "duration": 5,
    "start_time": "2023-12-05T13:45:04.528Z"
   },
   {
    "duration": 8,
    "start_time": "2023-12-05T13:45:15.265Z"
   },
   {
    "duration": 9,
    "start_time": "2023-12-05T13:45:28.537Z"
   },
   {
    "duration": 8,
    "start_time": "2023-12-05T13:45:38.041Z"
   },
   {
    "duration": 8,
    "start_time": "2023-12-05T13:45:48.361Z"
   },
   {
    "duration": 5,
    "start_time": "2023-12-05T13:47:34.483Z"
   },
   {
    "duration": 26,
    "start_time": "2023-12-05T13:54:01.992Z"
   },
   {
    "duration": 194,
    "start_time": "2023-12-05T13:57:30.709Z"
   },
   {
    "duration": 197,
    "start_time": "2023-12-05T13:57:34.444Z"
   },
   {
    "duration": 11,
    "start_time": "2023-12-05T13:57:38.788Z"
   },
   {
    "duration": 194,
    "start_time": "2023-12-05T13:57:42.628Z"
   },
   {
    "duration": 192,
    "start_time": "2023-12-05T13:57:51.789Z"
   },
   {
    "duration": 221,
    "start_time": "2023-12-05T13:58:02.981Z"
   },
   {
    "duration": 188,
    "start_time": "2023-12-05T14:00:05.833Z"
   },
   {
    "duration": 182,
    "start_time": "2023-12-05T14:00:13.009Z"
   },
   {
    "duration": 184,
    "start_time": "2023-12-05T14:00:19.602Z"
   },
   {
    "duration": 201,
    "start_time": "2023-12-05T14:01:10.684Z"
   },
   {
    "duration": 18,
    "start_time": "2023-12-05T14:04:03.563Z"
   },
   {
    "duration": 40,
    "start_time": "2023-12-05T14:04:24.756Z"
   },
   {
    "duration": 28,
    "start_time": "2023-12-05T14:06:22.077Z"
   },
   {
    "duration": 10,
    "start_time": "2023-12-05T14:07:28.413Z"
   },
   {
    "duration": 27,
    "start_time": "2023-12-05T14:08:36.784Z"
   },
   {
    "duration": 145,
    "start_time": "2023-12-05T14:10:26.397Z"
   },
   {
    "duration": 24,
    "start_time": "2023-12-05T14:11:11.960Z"
   },
   {
    "duration": 9,
    "start_time": "2023-12-05T14:13:12.580Z"
   },
   {
    "duration": 10,
    "start_time": "2023-12-05T14:13:20.580Z"
   },
   {
    "duration": 159,
    "start_time": "2023-12-05T14:14:47.025Z"
   },
   {
    "duration": 159,
    "start_time": "2023-12-05T14:14:55.568Z"
   },
   {
    "duration": 213,
    "start_time": "2023-12-05T14:15:05.193Z"
   },
   {
    "duration": 3,
    "start_time": "2023-12-05T14:16:46.999Z"
   },
   {
    "duration": 11,
    "start_time": "2023-12-05T14:17:23.612Z"
   },
   {
    "duration": 197,
    "start_time": "2023-12-05T14:17:32.563Z"
   },
   {
    "duration": 8,
    "start_time": "2023-12-05T14:17:53.880Z"
   },
   {
    "duration": 191,
    "start_time": "2023-12-05T14:18:59.573Z"
   },
   {
    "duration": 8,
    "start_time": "2023-12-05T14:19:20.889Z"
   },
   {
    "duration": 31,
    "start_time": "2023-12-05T15:43:22.107Z"
   },
   {
    "duration": 222,
    "start_time": "2023-12-05T15:45:55.771Z"
   },
   {
    "duration": 8,
    "start_time": "2023-12-05T15:45:56.782Z"
   },
   {
    "duration": 212,
    "start_time": "2023-12-05T15:45:58.074Z"
   },
   {
    "duration": 8,
    "start_time": "2023-12-05T15:45:58.871Z"
   },
   {
    "duration": 229,
    "start_time": "2023-12-05T15:45:59.978Z"
   },
   {
    "duration": 7,
    "start_time": "2023-12-05T15:46:00.798Z"
   },
   {
    "duration": 9,
    "start_time": "2023-12-05T15:46:30.898Z"
   },
   {
    "duration": 9,
    "start_time": "2023-12-05T15:46:58.601Z"
   },
   {
    "duration": 9,
    "start_time": "2023-12-05T15:47:10.639Z"
   },
   {
    "duration": 20,
    "start_time": "2023-12-05T15:47:59.109Z"
   },
   {
    "duration": 23,
    "start_time": "2023-12-05T15:48:11.240Z"
   },
   {
    "duration": 189,
    "start_time": "2023-12-05T15:48:47.716Z"
   },
   {
    "duration": 26,
    "start_time": "2023-12-05T15:57:46.865Z"
   },
   {
    "duration": 28,
    "start_time": "2023-12-05T15:58:07.457Z"
   },
   {
    "duration": 174,
    "start_time": "2023-12-05T15:58:14.558Z"
   },
   {
    "duration": 172,
    "start_time": "2023-12-05T15:58:29.791Z"
   },
   {
    "duration": 4,
    "start_time": "2023-12-05T15:58:39.983Z"
   },
   {
    "duration": 175,
    "start_time": "2023-12-05T15:58:45.199Z"
   },
   {
    "duration": 259,
    "start_time": "2023-12-05T15:58:53.391Z"
   },
   {
    "duration": 8,
    "start_time": "2023-12-05T16:03:24.712Z"
   },
   {
    "duration": 148,
    "start_time": "2023-12-05T16:03:27.170Z"
   },
   {
    "duration": 7,
    "start_time": "2023-12-05T16:03:37.384Z"
   },
   {
    "duration": 157,
    "start_time": "2023-12-05T16:03:38.250Z"
   },
   {
    "duration": 154,
    "start_time": "2023-12-05T16:03:51.691Z"
   },
   {
    "duration": 7,
    "start_time": "2023-12-05T16:04:02.857Z"
   },
   {
    "duration": 140,
    "start_time": "2023-12-05T16:04:14.500Z"
   },
   {
    "duration": 7,
    "start_time": "2023-12-05T16:04:15.209Z"
   },
   {
    "duration": 46,
    "start_time": "2023-12-06T12:54:22.152Z"
   },
   {
    "duration": 1338,
    "start_time": "2023-12-06T12:54:27.175Z"
   },
   {
    "duration": 103,
    "start_time": "2023-12-06T12:54:28.515Z"
   },
   {
    "duration": 21,
    "start_time": "2023-12-06T12:54:28.620Z"
   },
   {
    "duration": 15,
    "start_time": "2023-12-06T12:54:28.643Z"
   },
   {
    "duration": 39,
    "start_time": "2023-12-06T12:54:28.660Z"
   },
   {
    "duration": 681,
    "start_time": "2023-12-06T12:54:28.701Z"
   },
   {
    "duration": 5,
    "start_time": "2023-12-06T12:54:29.383Z"
   },
   {
    "duration": 13,
    "start_time": "2023-12-06T12:54:29.389Z"
   },
   {
    "duration": 50,
    "start_time": "2023-12-06T12:54:29.404Z"
   },
   {
    "duration": 30,
    "start_time": "2023-12-06T12:54:29.456Z"
   },
   {
    "duration": 30,
    "start_time": "2023-12-06T12:54:29.488Z"
   },
   {
    "duration": 9,
    "start_time": "2023-12-06T12:54:29.519Z"
   },
   {
    "duration": 20,
    "start_time": "2023-12-06T12:54:29.530Z"
   },
   {
    "duration": 31,
    "start_time": "2023-12-06T12:54:29.552Z"
   },
   {
    "duration": 5,
    "start_time": "2023-12-06T12:54:29.584Z"
   },
   {
    "duration": 6,
    "start_time": "2023-12-06T12:54:29.591Z"
   },
   {
    "duration": 6,
    "start_time": "2023-12-06T12:54:29.599Z"
   },
   {
    "duration": 6,
    "start_time": "2023-12-06T12:54:29.607Z"
   },
   {
    "duration": 17,
    "start_time": "2023-12-06T12:54:29.614Z"
   },
   {
    "duration": 6,
    "start_time": "2023-12-06T12:54:29.633Z"
   },
   {
    "duration": 362,
    "start_time": "2023-12-06T12:54:29.682Z"
   },
   {
    "duration": 10,
    "start_time": "2023-12-06T12:54:30.045Z"
   },
   {
    "duration": 188,
    "start_time": "2023-12-06T12:54:30.057Z"
   },
   {
    "duration": 62,
    "start_time": "2023-12-06T12:54:30.247Z"
   },
   {
    "duration": 412,
    "start_time": "2023-12-06T12:54:30.311Z"
   },
   {
    "duration": 10,
    "start_time": "2023-12-06T12:54:30.725Z"
   },
   {
    "duration": 1324,
    "start_time": "2023-12-06T12:54:30.736Z"
   },
   {
    "duration": 316,
    "start_time": "2023-12-06T12:54:32.064Z"
   },
   {
    "duration": 241,
    "start_time": "2023-12-06T12:54:32.382Z"
   },
   {
    "duration": 32,
    "start_time": "2023-12-06T12:54:32.624Z"
   },
   {
    "duration": 26,
    "start_time": "2023-12-06T12:54:32.658Z"
   },
   {
    "duration": 132,
    "start_time": "2023-12-06T12:54:32.685Z"
   },
   {
    "duration": 3,
    "start_time": "2023-12-06T12:54:32.819Z"
   },
   {
    "duration": 230,
    "start_time": "2023-12-06T12:54:32.824Z"
   },
   {
    "duration": 4,
    "start_time": "2023-12-06T12:54:33.055Z"
   },
   {
    "duration": 25,
    "start_time": "2023-12-06T12:54:33.061Z"
   },
   {
    "duration": 139,
    "start_time": "2023-12-06T12:54:33.087Z"
   },
   {
    "duration": 5,
    "start_time": "2023-12-06T12:54:33.228Z"
   },
   {
    "duration": 132,
    "start_time": "2023-12-06T12:54:33.234Z"
   },
   {
    "duration": 4,
    "start_time": "2023-12-06T12:54:33.368Z"
   },
   {
    "duration": 11,
    "start_time": "2023-12-06T12:54:33.381Z"
   },
   {
    "duration": 140,
    "start_time": "2023-12-06T12:54:33.394Z"
   },
   {
    "duration": 4,
    "start_time": "2023-12-06T12:54:33.536Z"
   },
   {
    "duration": 148,
    "start_time": "2023-12-06T12:54:33.541Z"
   },
   {
    "duration": 4,
    "start_time": "2023-12-06T12:54:33.691Z"
   },
   {
    "duration": 207,
    "start_time": "2023-12-06T12:54:33.697Z"
   },
   {
    "duration": 6,
    "start_time": "2023-12-06T12:54:33.905Z"
   },
   {
    "duration": 7,
    "start_time": "2023-12-06T12:54:33.912Z"
   },
   {
    "duration": 23,
    "start_time": "2023-12-06T12:54:33.921Z"
   },
   {
    "duration": 206,
    "start_time": "2023-12-06T12:54:33.946Z"
   },
   {
    "duration": 7,
    "start_time": "2023-12-06T12:54:34.154Z"
   },
   {
    "duration": 200,
    "start_time": "2023-12-06T12:54:34.163Z"
   },
   {
    "duration": 8,
    "start_time": "2023-12-06T12:54:34.365Z"
   },
   {
    "duration": 201,
    "start_time": "2023-12-06T12:54:34.374Z"
   },
   {
    "duration": 7,
    "start_time": "2023-12-06T12:54:34.582Z"
   },
   {
    "duration": 24,
    "start_time": "2023-12-06T12:54:34.590Z"
   },
   {
    "duration": 226,
    "start_time": "2023-12-06T12:54:34.615Z"
   },
   {
    "duration": 6,
    "start_time": "2023-12-06T12:54:34.843Z"
   },
   {
    "duration": 234,
    "start_time": "2023-12-06T12:54:34.851Z"
   },
   {
    "duration": 7,
    "start_time": "2023-12-06T12:54:35.087Z"
   },
   {
    "duration": 289,
    "start_time": "2023-12-06T12:54:35.095Z"
   },
   {
    "duration": 7,
    "start_time": "2023-12-06T12:54:35.386Z"
   },
   {
    "duration": 30,
    "start_time": "2023-12-06T12:54:35.394Z"
   },
   {
    "duration": 133,
    "start_time": "2023-12-06T12:54:35.425Z"
   },
   {
    "duration": 7,
    "start_time": "2023-12-06T12:54:35.560Z"
   },
   {
    "duration": 136,
    "start_time": "2023-12-06T12:54:35.568Z"
   },
   {
    "duration": 7,
    "start_time": "2023-12-06T12:54:35.705Z"
   },
   {
    "duration": 146,
    "start_time": "2023-12-06T12:54:35.714Z"
   },
   {
    "duration": 6,
    "start_time": "2023-12-06T12:54:35.862Z"
   },
   {
    "duration": 14,
    "start_time": "2023-12-06T12:54:35.869Z"
   },
   {
    "duration": 82,
    "start_time": "2023-12-06T12:54:35.884Z"
   },
   {
    "duration": 4,
    "start_time": "2023-12-06T12:55:57.162Z"
   },
   {
    "duration": 8,
    "start_time": "2023-12-06T12:56:34.081Z"
   },
   {
    "duration": 12,
    "start_time": "2023-12-06T13:02:51.825Z"
   },
   {
    "duration": 17,
    "start_time": "2023-12-06T13:09:05.608Z"
   },
   {
    "duration": 17,
    "start_time": "2023-12-06T13:10:18.897Z"
   },
   {
    "duration": 13,
    "start_time": "2023-12-06T13:10:33.793Z"
   },
   {
    "duration": 13,
    "start_time": "2023-12-06T13:11:38.851Z"
   },
   {
    "duration": 17,
    "start_time": "2023-12-06T13:13:23.135Z"
   },
   {
    "duration": 16,
    "start_time": "2023-12-06T13:13:59.854Z"
   },
   {
    "duration": 128,
    "start_time": "2023-12-06T13:25:52.280Z"
   },
   {
    "duration": 129,
    "start_time": "2023-12-06T13:26:05.121Z"
   },
   {
    "duration": 319,
    "start_time": "2023-12-06T13:29:30.364Z"
   },
   {
    "duration": 6,
    "start_time": "2023-12-06T13:40:38.356Z"
   },
   {
    "duration": 15,
    "start_time": "2023-12-06T13:40:58.858Z"
   },
   {
    "duration": 16,
    "start_time": "2023-12-06T13:41:57.407Z"
   },
   {
    "duration": 17,
    "start_time": "2023-12-06T13:42:08.493Z"
   },
   {
    "duration": 236,
    "start_time": "2023-12-06T14:18:30.446Z"
   },
   {
    "duration": 5,
    "start_time": "2023-12-06T14:18:37.025Z"
   },
   {
    "duration": 5,
    "start_time": "2023-12-06T14:18:38.850Z"
   },
   {
    "duration": 1345,
    "start_time": "2023-12-07T10:42:36.361Z"
   },
   {
    "duration": 73,
    "start_time": "2023-12-07T10:42:59.315Z"
   },
   {
    "duration": 9,
    "start_time": "2023-12-07T10:56:22.474Z"
   },
   {
    "duration": 2994,
    "start_time": "2023-12-07T10:59:03.325Z"
   },
   {
    "duration": 19,
    "start_time": "2023-12-07T11:00:21.529Z"
   },
   {
    "duration": 2482,
    "start_time": "2023-12-07T11:00:24.664Z"
   },
   {
    "duration": 98,
    "start_time": "2023-12-07T11:00:27.149Z"
   },
   {
    "duration": 20,
    "start_time": "2023-12-07T11:00:27.249Z"
   },
   {
    "duration": 21,
    "start_time": "2023-12-07T11:00:27.271Z"
   },
   {
    "duration": 35,
    "start_time": "2023-12-07T11:00:27.294Z"
   },
   {
    "duration": 634,
    "start_time": "2023-12-07T11:00:27.331Z"
   },
   {
    "duration": 5,
    "start_time": "2023-12-07T11:00:27.967Z"
   },
   {
    "duration": 12,
    "start_time": "2023-12-07T11:00:27.973Z"
   },
   {
    "duration": 1044,
    "start_time": "2023-12-07T11:00:27.987Z"
   },
   {
    "duration": 65,
    "start_time": "2023-12-07T11:00:29.034Z"
   },
   {
    "duration": 20,
    "start_time": "2023-12-07T11:00:29.100Z"
   },
   {
    "duration": 18,
    "start_time": "2023-12-07T11:00:29.121Z"
   },
   {
    "duration": 8,
    "start_time": "2023-12-07T11:00:29.141Z"
   },
   {
    "duration": 23,
    "start_time": "2023-12-07T11:00:29.150Z"
   },
   {
    "duration": 42,
    "start_time": "2023-12-07T11:00:29.175Z"
   },
   {
    "duration": 5,
    "start_time": "2023-12-07T11:00:29.219Z"
   },
   {
    "duration": 5,
    "start_time": "2023-12-07T11:00:29.227Z"
   },
   {
    "duration": 12,
    "start_time": "2023-12-07T11:00:29.234Z"
   },
   {
    "duration": 5,
    "start_time": "2023-12-07T11:00:29.248Z"
   },
   {
    "duration": 18,
    "start_time": "2023-12-07T11:00:29.255Z"
   },
   {
    "duration": 37,
    "start_time": "2023-12-07T11:00:29.274Z"
   },
   {
    "duration": 403,
    "start_time": "2023-12-07T11:00:29.312Z"
   },
   {
    "duration": 9,
    "start_time": "2023-12-07T11:00:29.716Z"
   },
   {
    "duration": 150,
    "start_time": "2023-12-07T11:00:29.726Z"
   },
   {
    "duration": 44,
    "start_time": "2023-12-07T11:00:29.878Z"
   },
   {
    "duration": 318,
    "start_time": "2023-12-07T11:00:29.923Z"
   },
   {
    "duration": 9,
    "start_time": "2023-12-07T11:00:30.243Z"
   },
   {
    "duration": 1108,
    "start_time": "2023-12-07T11:00:30.256Z"
   },
   {
    "duration": 414,
    "start_time": "2023-12-07T11:00:31.366Z"
   },
   {
    "duration": 251,
    "start_time": "2023-12-07T11:00:31.782Z"
   },
   {
    "duration": 51,
    "start_time": "2023-12-07T11:00:32.035Z"
   },
   {
    "duration": 29,
    "start_time": "2023-12-07T11:00:32.088Z"
   },
   {
    "duration": 171,
    "start_time": "2023-12-07T11:00:32.119Z"
   },
   {
    "duration": 4,
    "start_time": "2023-12-07T11:00:32.292Z"
   },
   {
    "duration": 149,
    "start_time": "2023-12-07T11:00:32.297Z"
   },
   {
    "duration": 4,
    "start_time": "2023-12-07T11:00:32.447Z"
   },
   {
    "duration": 25,
    "start_time": "2023-12-07T11:00:32.453Z"
   },
   {
    "duration": 146,
    "start_time": "2023-12-07T11:00:32.480Z"
   },
   {
    "duration": 4,
    "start_time": "2023-12-07T11:00:32.628Z"
   },
   {
    "duration": 154,
    "start_time": "2023-12-07T11:00:32.633Z"
   },
   {
    "duration": 4,
    "start_time": "2023-12-07T11:00:32.788Z"
   },
   {
    "duration": 90,
    "start_time": "2023-12-07T11:00:32.794Z"
   },
   {
    "duration": 137,
    "start_time": "2023-12-07T11:00:32.885Z"
   },
   {
    "duration": 5,
    "start_time": "2023-12-07T11:00:33.023Z"
   },
   {
    "duration": 156,
    "start_time": "2023-12-07T11:00:33.030Z"
   },
   {
    "duration": 4,
    "start_time": "2023-12-07T11:00:33.188Z"
   },
   {
    "duration": 225,
    "start_time": "2023-12-07T11:00:33.195Z"
   },
   {
    "duration": 6,
    "start_time": "2023-12-07T11:00:33.422Z"
   },
   {
    "duration": 5,
    "start_time": "2023-12-07T11:00:33.430Z"
   },
   {
    "duration": 27,
    "start_time": "2023-12-07T11:00:33.437Z"
   },
   {
    "duration": 219,
    "start_time": "2023-12-07T11:00:33.466Z"
   },
   {
    "duration": 7,
    "start_time": "2023-12-07T11:00:33.687Z"
   },
   {
    "duration": 311,
    "start_time": "2023-12-07T11:00:33.696Z"
   },
   {
    "duration": 8,
    "start_time": "2023-12-07T11:00:34.010Z"
   },
   {
    "duration": 201,
    "start_time": "2023-12-07T11:00:34.019Z"
   },
   {
    "duration": 7,
    "start_time": "2023-12-07T11:00:34.222Z"
   },
   {
    "duration": 23,
    "start_time": "2023-12-07T11:00:34.231Z"
   },
   {
    "duration": 246,
    "start_time": "2023-12-07T11:00:34.256Z"
   },
   {
    "duration": 7,
    "start_time": "2023-12-07T11:00:34.511Z"
   },
   {
    "duration": 232,
    "start_time": "2023-12-07T11:00:34.520Z"
   },
   {
    "duration": 8,
    "start_time": "2023-12-07T11:00:34.753Z"
   },
   {
    "duration": 269,
    "start_time": "2023-12-07T11:00:34.763Z"
   },
   {
    "duration": 9,
    "start_time": "2023-12-07T11:00:35.034Z"
   },
   {
    "duration": 45,
    "start_time": "2023-12-07T11:00:35.044Z"
   },
   {
    "duration": 136,
    "start_time": "2023-12-07T11:00:35.091Z"
   },
   {
    "duration": 7,
    "start_time": "2023-12-07T11:00:35.228Z"
   },
   {
    "duration": 158,
    "start_time": "2023-12-07T11:00:35.236Z"
   },
   {
    "duration": 7,
    "start_time": "2023-12-07T11:00:35.396Z"
   },
   {
    "duration": 146,
    "start_time": "2023-12-07T11:00:35.411Z"
   },
   {
    "duration": 7,
    "start_time": "2023-12-07T11:00:35.558Z"
   },
   {
    "duration": 56,
    "start_time": "2023-12-07T11:00:35.566Z"
   },
   {
    "duration": 15,
    "start_time": "2023-12-07T11:00:35.624Z"
   },
   {
    "duration": 1194,
    "start_time": "2023-12-07T11:02:10.723Z"
   },
   {
    "duration": 1162,
    "start_time": "2023-12-07T11:02:39.031Z"
   },
   {
    "duration": 18,
    "start_time": "2023-12-07T11:05:39.048Z"
   },
   {
    "duration": 11,
    "start_time": "2023-12-07T11:05:46.377Z"
   },
   {
    "duration": 1074,
    "start_time": "2023-12-07T11:05:57.117Z"
   },
   {
    "duration": 2378,
    "start_time": "2023-12-07T11:06:42.797Z"
   },
   {
    "duration": 56,
    "start_time": "2023-12-07T11:06:45.177Z"
   },
   {
    "duration": 16,
    "start_time": "2023-12-07T11:06:45.235Z"
   },
   {
    "duration": 26,
    "start_time": "2023-12-07T11:06:45.253Z"
   },
   {
    "duration": 42,
    "start_time": "2023-12-07T11:06:45.281Z"
   },
   {
    "duration": 638,
    "start_time": "2023-12-07T11:06:45.324Z"
   },
   {
    "duration": 5,
    "start_time": "2023-12-07T11:06:45.964Z"
   },
   {
    "duration": 15,
    "start_time": "2023-12-07T11:06:45.971Z"
   },
   {
    "duration": 1148,
    "start_time": "2023-12-07T11:06:45.988Z"
   },
   {
    "duration": 15,
    "start_time": "2023-12-07T11:06:47.139Z"
   },
   {
    "duration": 60,
    "start_time": "2023-12-07T11:06:47.156Z"
   },
   {
    "duration": 32,
    "start_time": "2023-12-07T11:06:47.217Z"
   },
   {
    "duration": 24,
    "start_time": "2023-12-07T11:06:47.250Z"
   },
   {
    "duration": 53,
    "start_time": "2023-12-07T11:06:47.275Z"
   },
   {
    "duration": 13,
    "start_time": "2023-12-07T11:06:47.330Z"
   },
   {
    "duration": 68,
    "start_time": "2023-12-07T11:06:47.344Z"
   },
   {
    "duration": 7,
    "start_time": "2023-12-07T11:06:47.413Z"
   },
   {
    "duration": 11,
    "start_time": "2023-12-07T11:06:47.421Z"
   },
   {
    "duration": 12,
    "start_time": "2023-12-07T11:06:47.434Z"
   },
   {
    "duration": 63,
    "start_time": "2023-12-07T11:06:47.448Z"
   },
   {
    "duration": 10,
    "start_time": "2023-12-07T11:06:47.512Z"
   },
   {
    "duration": 717,
    "start_time": "2023-12-07T11:06:47.524Z"
   },
   {
    "duration": 13,
    "start_time": "2023-12-07T11:06:48.243Z"
   },
   {
    "duration": 341,
    "start_time": "2023-12-07T11:06:48.258Z"
   },
   {
    "duration": 38,
    "start_time": "2023-12-07T11:06:48.601Z"
   },
   {
    "duration": 410,
    "start_time": "2023-12-07T11:06:48.642Z"
   },
   {
    "duration": 7,
    "start_time": "2023-12-07T11:06:49.054Z"
   },
   {
    "duration": 1173,
    "start_time": "2023-12-07T11:06:49.063Z"
   },
   {
    "duration": 296,
    "start_time": "2023-12-07T11:06:50.238Z"
   },
   {
    "duration": 324,
    "start_time": "2023-12-07T11:06:50.536Z"
   },
   {
    "duration": 32,
    "start_time": "2023-12-07T11:06:50.861Z"
   },
   {
    "duration": 27,
    "start_time": "2023-12-07T11:06:50.894Z"
   },
   {
    "duration": 153,
    "start_time": "2023-12-07T11:06:50.922Z"
   },
   {
    "duration": 4,
    "start_time": "2023-12-07T11:06:51.077Z"
   },
   {
    "duration": 151,
    "start_time": "2023-12-07T11:06:51.082Z"
   },
   {
    "duration": 4,
    "start_time": "2023-12-07T11:06:51.234Z"
   },
   {
    "duration": 15,
    "start_time": "2023-12-07T11:06:51.240Z"
   },
   {
    "duration": 149,
    "start_time": "2023-12-07T11:06:51.257Z"
   },
   {
    "duration": 4,
    "start_time": "2023-12-07T11:06:51.410Z"
   },
   {
    "duration": 134,
    "start_time": "2023-12-07T11:06:51.415Z"
   },
   {
    "duration": 3,
    "start_time": "2023-12-07T11:06:51.553Z"
   },
   {
    "duration": 14,
    "start_time": "2023-12-07T11:06:51.558Z"
   },
   {
    "duration": 162,
    "start_time": "2023-12-07T11:06:51.573Z"
   },
   {
    "duration": 4,
    "start_time": "2023-12-07T11:06:51.737Z"
   },
   {
    "duration": 151,
    "start_time": "2023-12-07T11:06:51.743Z"
   },
   {
    "duration": 4,
    "start_time": "2023-12-07T11:06:51.896Z"
   },
   {
    "duration": 245,
    "start_time": "2023-12-07T11:06:51.901Z"
   },
   {
    "duration": 5,
    "start_time": "2023-12-07T11:06:52.147Z"
   },
   {
    "duration": 26,
    "start_time": "2023-12-07T11:06:52.154Z"
   },
   {
    "duration": 42,
    "start_time": "2023-12-07T11:06:52.182Z"
   },
   {
    "duration": 208,
    "start_time": "2023-12-07T11:06:52.225Z"
   },
   {
    "duration": 8,
    "start_time": "2023-12-07T11:06:52.434Z"
   },
   {
    "duration": 220,
    "start_time": "2023-12-07T11:06:52.443Z"
   },
   {
    "duration": 8,
    "start_time": "2023-12-07T11:06:52.664Z"
   },
   {
    "duration": 203,
    "start_time": "2023-12-07T11:06:52.674Z"
   },
   {
    "duration": 8,
    "start_time": "2023-12-07T11:06:52.879Z"
   },
   {
    "duration": 40,
    "start_time": "2023-12-07T11:06:52.888Z"
   },
   {
    "duration": 234,
    "start_time": "2023-12-07T11:06:52.929Z"
   },
   {
    "duration": 8,
    "start_time": "2023-12-07T11:06:53.165Z"
   },
   {
    "duration": 234,
    "start_time": "2023-12-07T11:06:53.174Z"
   },
   {
    "duration": 9,
    "start_time": "2023-12-07T11:06:53.411Z"
   },
   {
    "duration": 330,
    "start_time": "2023-12-07T11:06:53.421Z"
   },
   {
    "duration": 8,
    "start_time": "2023-12-07T11:06:53.752Z"
   },
   {
    "duration": 34,
    "start_time": "2023-12-07T11:06:53.762Z"
   },
   {
    "duration": 146,
    "start_time": "2023-12-07T11:06:53.798Z"
   },
   {
    "duration": 8,
    "start_time": "2023-12-07T11:06:53.946Z"
   },
   {
    "duration": 150,
    "start_time": "2023-12-07T11:06:53.955Z"
   },
   {
    "duration": 8,
    "start_time": "2023-12-07T11:06:54.110Z"
   },
   {
    "duration": 152,
    "start_time": "2023-12-07T11:06:54.119Z"
   },
   {
    "duration": 7,
    "start_time": "2023-12-07T11:06:54.273Z"
   },
   {
    "duration": 25,
    "start_time": "2023-12-07T11:06:54.281Z"
   },
   {
    "duration": 16,
    "start_time": "2023-12-07T11:06:54.311Z"
   },
   {
    "duration": 27,
    "start_time": "2023-12-07T11:24:03.732Z"
   },
   {
    "duration": 288,
    "start_time": "2023-12-07T11:24:26.546Z"
   },
   {
    "duration": 300,
    "start_time": "2023-12-07T11:26:36.935Z"
   },
   {
    "duration": 11,
    "start_time": "2023-12-07T11:26:49.207Z"
   },
   {
    "duration": 10,
    "start_time": "2023-12-07T11:27:09.118Z"
   },
   {
    "duration": 151,
    "start_time": "2023-12-07T11:35:04.459Z"
   },
   {
    "duration": 149,
    "start_time": "2023-12-07T11:36:14.815Z"
   },
   {
    "duration": 250,
    "start_time": "2023-12-07T11:36:52.950Z"
   },
   {
    "duration": 349,
    "start_time": "2023-12-07T11:40:57.163Z"
   },
   {
    "duration": 274,
    "start_time": "2023-12-07T11:41:09.658Z"
   },
   {
    "duration": 261,
    "start_time": "2023-12-07T11:41:20.887Z"
   },
   {
    "duration": 251,
    "start_time": "2023-12-07T11:43:28.218Z"
   },
   {
    "duration": 282,
    "start_time": "2023-12-07T11:45:06.259Z"
   },
   {
    "duration": 124,
    "start_time": "2023-12-07T11:46:01.969Z"
   },
   {
    "duration": 219,
    "start_time": "2023-12-07T11:53:00.927Z"
   },
   {
    "duration": 293,
    "start_time": "2023-12-07T11:54:19.463Z"
   },
   {
    "duration": 211,
    "start_time": "2023-12-07T11:54:36.174Z"
   },
   {
    "duration": 15,
    "start_time": "2023-12-07T11:55:34.814Z"
   },
   {
    "duration": 199,
    "start_time": "2023-12-07T11:56:11.391Z"
   },
   {
    "duration": 212,
    "start_time": "2023-12-07T11:56:20.953Z"
   },
   {
    "duration": 20,
    "start_time": "2023-12-07T11:57:27.239Z"
   },
   {
    "duration": 21,
    "start_time": "2023-12-07T11:57:35.685Z"
   },
   {
    "duration": 19,
    "start_time": "2023-12-07T11:58:15.316Z"
   },
   {
    "duration": 21,
    "start_time": "2023-12-07T11:59:27.570Z"
   },
   {
    "duration": 19,
    "start_time": "2023-12-07T12:01:42.528Z"
   },
   {
    "duration": 13,
    "start_time": "2023-12-07T12:02:49.543Z"
   },
   {
    "duration": 9,
    "start_time": "2023-12-07T12:03:37.009Z"
   },
   {
    "duration": 10,
    "start_time": "2023-12-07T12:03:46.247Z"
   },
   {
    "duration": 20,
    "start_time": "2023-12-07T12:06:29.531Z"
   },
   {
    "duration": 11,
    "start_time": "2023-12-07T12:09:16.963Z"
   }
  ],
  "kernelspec": {
   "display_name": "Python 3 (ipykernel)",
   "language": "python",
   "name": "python3"
  },
  "language_info": {
   "codemirror_mode": {
    "name": "ipython",
    "version": 3
   },
   "file_extension": ".py",
   "mimetype": "text/x-python",
   "name": "python",
   "nbconvert_exporter": "python",
   "pygments_lexer": "ipython3",
   "version": "3.9.19"
  },
  "toc": {
   "base_numbering": 1,
   "nav_menu": {},
   "number_sections": true,
   "sideBar": true,
   "skip_h1_title": true,
   "title_cell": "Table of Contents",
   "title_sidebar": "Contents",
   "toc_cell": false,
   "toc_position": {
    "height": "calc(100% - 180px)",
    "left": "10px",
    "top": "150px",
    "width": "313.301px"
   },
   "toc_section_display": true,
   "toc_window_display": true
  }
 },
 "nbformat": 4,
 "nbformat_minor": 4
}
