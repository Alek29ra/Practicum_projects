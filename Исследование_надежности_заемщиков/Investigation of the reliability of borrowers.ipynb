{
 "cells": [
  {
   "cell_type": "markdown",
   "id": "de85b3ae",
   "metadata": {
    "deletable": false,
    "editable": false,
    "id": "c81daeeb"
   },
   "source": [
    "# Исследование надежности заемщиков\n"
   ]
  },
  {
   "cell_type": "markdown",
   "id": "ea71c81b-889c-4759-abb8-4e4475ff9d3c",
   "metadata": {},
   "source": [
    "**Описание проекта**\n",
    "\n",
    "Заказчик — кредитный отдел банка. Нужно разобраться, влияет ли семейное положение и количество детей клиента на факт погашения кредита в срок. \n",
    "Входные данные от банка — статистика о платёжеспособности клиентов.\n",
    "\n",
    "Результаты исследования будут учтены при построении модели кредитного скоринга — специальной системы, которая оценивает способность потенциального заёмщика вернуть кредит банку.\n",
    "\n",
    "**Описание данных**\n",
    "- children — количество детей в семье\n",
    "- days_employed — общий трудовой стаж в днях\n",
    "- dob_years — возраст клиента в годах\n",
    "- education — уровень образования клиента\n",
    "- education_id — идентификатор уровня образования\n",
    "- family_status — семейное положение\n",
    "- family_status_id — идентификатор семейного положения\n",
    "- gender — пол клиента\n",
    "- income_type — тип занятости\n",
    "- debt — имел ли задолженность по возврату кредитов\n",
    "- total_income — ежемесячный доход\n",
    "- purpose — цель получения кредита"
   ]
  },
  {
   "cell_type": "markdown",
   "id": "58af0ea3",
   "metadata": {
    "deletable": false,
    "editable": false,
    "id": "827c20bf"
   },
   "source": [
    "Во второй части проекта вы выполните шаги 3 и 4. Их вручную проверит ревьюер.\n",
    "Чтобы вам не пришлось писать код заново для шагов 1 и 2, мы добавили авторские решения в ячейки с кодом. \n",
    "\n"
   ]
  },
  {
   "cell_type": "markdown",
   "id": "beb679bf",
   "metadata": {
    "deletable": false,
    "editable": false,
    "id": "744d7639"
   },
   "source": [
    "## Откройте таблицу и изучите общую информацию о данных"
   ]
  },
  {
   "cell_type": "markdown",
   "id": "cc0a3754",
   "metadata": {
    "deletable": false,
    "editable": false,
    "id": "e7a14c31"
   },
   "source": [
    "**Задание 1. Импортируйте библиотеку pandas. Считайте данные из csv-файла в датафрейм и сохраните в переменную `data`. Путь к файлу:**\n",
    "\n",
    "`/datasets/data.csv`"
   ]
  },
  {
   "cell_type": "code",
   "execution_count": 1,
   "id": "7f1ad6a0",
   "metadata": {
    "deletable": false,
    "id": "7bcf75c9"
   },
   "outputs": [],
   "source": [
    "import pandas as pd\n",
    "\n",
    "try:\n",
    "    data = pd.read_csv('/datasets/data.csv')\n",
    "except:\n",
    "    data = pd.read_csv('https://code.s3.yandex.net/datasets/data.csv')"
   ]
  },
  {
   "cell_type": "markdown",
   "id": "3ad617b2",
   "metadata": {
    "deletable": false,
    "editable": false,
    "id": "b8038fe3"
   },
   "source": [
    "**Задание 2. Выведите первые 20 строчек датафрейма `data` на экран.**"
   ]
  },
  {
   "cell_type": "code",
   "execution_count": 2,
   "id": "d46932aa",
   "metadata": {
    "deletable": false,
    "id": "2a7cab99",
    "outputId": "1a8f3ef2-d323-4ec2-ddf7-89670b5944c4"
   },
   "outputs": [
    {
     "data": {
      "text/html": [
       "<div>\n",
       "<style scoped>\n",
       "    .dataframe tbody tr th:only-of-type {\n",
       "        vertical-align: middle;\n",
       "    }\n",
       "\n",
       "    .dataframe tbody tr th {\n",
       "        vertical-align: top;\n",
       "    }\n",
       "\n",
       "    .dataframe thead th {\n",
       "        text-align: right;\n",
       "    }\n",
       "</style>\n",
       "<table border=\"1\" class=\"dataframe\">\n",
       "  <thead>\n",
       "    <tr style=\"text-align: right;\">\n",
       "      <th></th>\n",
       "      <th>children</th>\n",
       "      <th>days_employed</th>\n",
       "      <th>dob_years</th>\n",
       "      <th>education</th>\n",
       "      <th>education_id</th>\n",
       "      <th>family_status</th>\n",
       "      <th>family_status_id</th>\n",
       "      <th>gender</th>\n",
       "      <th>income_type</th>\n",
       "      <th>debt</th>\n",
       "      <th>total_income</th>\n",
       "      <th>purpose</th>\n",
       "    </tr>\n",
       "  </thead>\n",
       "  <tbody>\n",
       "    <tr>\n",
       "      <th>0</th>\n",
       "      <td>1</td>\n",
       "      <td>-8437.673028</td>\n",
       "      <td>42</td>\n",
       "      <td>высшее</td>\n",
       "      <td>0</td>\n",
       "      <td>женат / замужем</td>\n",
       "      <td>0</td>\n",
       "      <td>F</td>\n",
       "      <td>сотрудник</td>\n",
       "      <td>0</td>\n",
       "      <td>253875.639453</td>\n",
       "      <td>покупка жилья</td>\n",
       "    </tr>\n",
       "    <tr>\n",
       "      <th>1</th>\n",
       "      <td>1</td>\n",
       "      <td>-4024.803754</td>\n",
       "      <td>36</td>\n",
       "      <td>среднее</td>\n",
       "      <td>1</td>\n",
       "      <td>женат / замужем</td>\n",
       "      <td>0</td>\n",
       "      <td>F</td>\n",
       "      <td>сотрудник</td>\n",
       "      <td>0</td>\n",
       "      <td>112080.014102</td>\n",
       "      <td>приобретение автомобиля</td>\n",
       "    </tr>\n",
       "    <tr>\n",
       "      <th>2</th>\n",
       "      <td>0</td>\n",
       "      <td>-5623.422610</td>\n",
       "      <td>33</td>\n",
       "      <td>Среднее</td>\n",
       "      <td>1</td>\n",
       "      <td>женат / замужем</td>\n",
       "      <td>0</td>\n",
       "      <td>M</td>\n",
       "      <td>сотрудник</td>\n",
       "      <td>0</td>\n",
       "      <td>145885.952297</td>\n",
       "      <td>покупка жилья</td>\n",
       "    </tr>\n",
       "    <tr>\n",
       "      <th>3</th>\n",
       "      <td>3</td>\n",
       "      <td>-4124.747207</td>\n",
       "      <td>32</td>\n",
       "      <td>среднее</td>\n",
       "      <td>1</td>\n",
       "      <td>женат / замужем</td>\n",
       "      <td>0</td>\n",
       "      <td>M</td>\n",
       "      <td>сотрудник</td>\n",
       "      <td>0</td>\n",
       "      <td>267628.550329</td>\n",
       "      <td>дополнительное образование</td>\n",
       "    </tr>\n",
       "    <tr>\n",
       "      <th>4</th>\n",
       "      <td>0</td>\n",
       "      <td>340266.072047</td>\n",
       "      <td>53</td>\n",
       "      <td>среднее</td>\n",
       "      <td>1</td>\n",
       "      <td>гражданский брак</td>\n",
       "      <td>1</td>\n",
       "      <td>F</td>\n",
       "      <td>пенсионер</td>\n",
       "      <td>0</td>\n",
       "      <td>158616.077870</td>\n",
       "      <td>сыграть свадьбу</td>\n",
       "    </tr>\n",
       "    <tr>\n",
       "      <th>5</th>\n",
       "      <td>0</td>\n",
       "      <td>-926.185831</td>\n",
       "      <td>27</td>\n",
       "      <td>высшее</td>\n",
       "      <td>0</td>\n",
       "      <td>гражданский брак</td>\n",
       "      <td>1</td>\n",
       "      <td>M</td>\n",
       "      <td>компаньон</td>\n",
       "      <td>0</td>\n",
       "      <td>255763.565419</td>\n",
       "      <td>покупка жилья</td>\n",
       "    </tr>\n",
       "    <tr>\n",
       "      <th>6</th>\n",
       "      <td>0</td>\n",
       "      <td>-2879.202052</td>\n",
       "      <td>43</td>\n",
       "      <td>высшее</td>\n",
       "      <td>0</td>\n",
       "      <td>женат / замужем</td>\n",
       "      <td>0</td>\n",
       "      <td>F</td>\n",
       "      <td>компаньон</td>\n",
       "      <td>0</td>\n",
       "      <td>240525.971920</td>\n",
       "      <td>операции с жильем</td>\n",
       "    </tr>\n",
       "    <tr>\n",
       "      <th>7</th>\n",
       "      <td>0</td>\n",
       "      <td>-152.779569</td>\n",
       "      <td>50</td>\n",
       "      <td>СРЕДНЕЕ</td>\n",
       "      <td>1</td>\n",
       "      <td>женат / замужем</td>\n",
       "      <td>0</td>\n",
       "      <td>M</td>\n",
       "      <td>сотрудник</td>\n",
       "      <td>0</td>\n",
       "      <td>135823.934197</td>\n",
       "      <td>образование</td>\n",
       "    </tr>\n",
       "    <tr>\n",
       "      <th>8</th>\n",
       "      <td>2</td>\n",
       "      <td>-6929.865299</td>\n",
       "      <td>35</td>\n",
       "      <td>ВЫСШЕЕ</td>\n",
       "      <td>0</td>\n",
       "      <td>гражданский брак</td>\n",
       "      <td>1</td>\n",
       "      <td>F</td>\n",
       "      <td>сотрудник</td>\n",
       "      <td>0</td>\n",
       "      <td>95856.832424</td>\n",
       "      <td>на проведение свадьбы</td>\n",
       "    </tr>\n",
       "    <tr>\n",
       "      <th>9</th>\n",
       "      <td>0</td>\n",
       "      <td>-2188.756445</td>\n",
       "      <td>41</td>\n",
       "      <td>среднее</td>\n",
       "      <td>1</td>\n",
       "      <td>женат / замужем</td>\n",
       "      <td>0</td>\n",
       "      <td>M</td>\n",
       "      <td>сотрудник</td>\n",
       "      <td>0</td>\n",
       "      <td>144425.938277</td>\n",
       "      <td>покупка жилья для семьи</td>\n",
       "    </tr>\n",
       "    <tr>\n",
       "      <th>10</th>\n",
       "      <td>2</td>\n",
       "      <td>-4171.483647</td>\n",
       "      <td>36</td>\n",
       "      <td>высшее</td>\n",
       "      <td>0</td>\n",
       "      <td>женат / замужем</td>\n",
       "      <td>0</td>\n",
       "      <td>M</td>\n",
       "      <td>компаньон</td>\n",
       "      <td>0</td>\n",
       "      <td>113943.491460</td>\n",
       "      <td>покупка недвижимости</td>\n",
       "    </tr>\n",
       "    <tr>\n",
       "      <th>11</th>\n",
       "      <td>0</td>\n",
       "      <td>-792.701887</td>\n",
       "      <td>40</td>\n",
       "      <td>среднее</td>\n",
       "      <td>1</td>\n",
       "      <td>женат / замужем</td>\n",
       "      <td>0</td>\n",
       "      <td>F</td>\n",
       "      <td>сотрудник</td>\n",
       "      <td>0</td>\n",
       "      <td>77069.234271</td>\n",
       "      <td>покупка коммерческой недвижимости</td>\n",
       "    </tr>\n",
       "    <tr>\n",
       "      <th>12</th>\n",
       "      <td>0</td>\n",
       "      <td>NaN</td>\n",
       "      <td>65</td>\n",
       "      <td>среднее</td>\n",
       "      <td>1</td>\n",
       "      <td>гражданский брак</td>\n",
       "      <td>1</td>\n",
       "      <td>M</td>\n",
       "      <td>пенсионер</td>\n",
       "      <td>0</td>\n",
       "      <td>NaN</td>\n",
       "      <td>сыграть свадьбу</td>\n",
       "    </tr>\n",
       "    <tr>\n",
       "      <th>13</th>\n",
       "      <td>0</td>\n",
       "      <td>-1846.641941</td>\n",
       "      <td>54</td>\n",
       "      <td>неоконченное высшее</td>\n",
       "      <td>2</td>\n",
       "      <td>женат / замужем</td>\n",
       "      <td>0</td>\n",
       "      <td>F</td>\n",
       "      <td>сотрудник</td>\n",
       "      <td>0</td>\n",
       "      <td>130458.228857</td>\n",
       "      <td>приобретение автомобиля</td>\n",
       "    </tr>\n",
       "    <tr>\n",
       "      <th>14</th>\n",
       "      <td>0</td>\n",
       "      <td>-1844.956182</td>\n",
       "      <td>56</td>\n",
       "      <td>высшее</td>\n",
       "      <td>0</td>\n",
       "      <td>гражданский брак</td>\n",
       "      <td>1</td>\n",
       "      <td>F</td>\n",
       "      <td>компаньон</td>\n",
       "      <td>1</td>\n",
       "      <td>165127.911772</td>\n",
       "      <td>покупка жилой недвижимости</td>\n",
       "    </tr>\n",
       "    <tr>\n",
       "      <th>15</th>\n",
       "      <td>1</td>\n",
       "      <td>-972.364419</td>\n",
       "      <td>26</td>\n",
       "      <td>среднее</td>\n",
       "      <td>1</td>\n",
       "      <td>женат / замужем</td>\n",
       "      <td>0</td>\n",
       "      <td>F</td>\n",
       "      <td>сотрудник</td>\n",
       "      <td>0</td>\n",
       "      <td>116820.904450</td>\n",
       "      <td>строительство собственной недвижимости</td>\n",
       "    </tr>\n",
       "    <tr>\n",
       "      <th>16</th>\n",
       "      <td>0</td>\n",
       "      <td>-1719.934226</td>\n",
       "      <td>35</td>\n",
       "      <td>среднее</td>\n",
       "      <td>1</td>\n",
       "      <td>женат / замужем</td>\n",
       "      <td>0</td>\n",
       "      <td>F</td>\n",
       "      <td>сотрудник</td>\n",
       "      <td>0</td>\n",
       "      <td>289202.704229</td>\n",
       "      <td>недвижимость</td>\n",
       "    </tr>\n",
       "    <tr>\n",
       "      <th>17</th>\n",
       "      <td>0</td>\n",
       "      <td>-2369.999720</td>\n",
       "      <td>33</td>\n",
       "      <td>высшее</td>\n",
       "      <td>0</td>\n",
       "      <td>гражданский брак</td>\n",
       "      <td>1</td>\n",
       "      <td>M</td>\n",
       "      <td>сотрудник</td>\n",
       "      <td>0</td>\n",
       "      <td>90410.586745</td>\n",
       "      <td>строительство недвижимости</td>\n",
       "    </tr>\n",
       "    <tr>\n",
       "      <th>18</th>\n",
       "      <td>0</td>\n",
       "      <td>400281.136913</td>\n",
       "      <td>53</td>\n",
       "      <td>среднее</td>\n",
       "      <td>1</td>\n",
       "      <td>вдовец / вдова</td>\n",
       "      <td>2</td>\n",
       "      <td>F</td>\n",
       "      <td>пенсионер</td>\n",
       "      <td>0</td>\n",
       "      <td>56823.777243</td>\n",
       "      <td>на покупку подержанного автомобиля</td>\n",
       "    </tr>\n",
       "    <tr>\n",
       "      <th>19</th>\n",
       "      <td>0</td>\n",
       "      <td>-10038.818549</td>\n",
       "      <td>48</td>\n",
       "      <td>СРЕДНЕЕ</td>\n",
       "      <td>1</td>\n",
       "      <td>в разводе</td>\n",
       "      <td>3</td>\n",
       "      <td>F</td>\n",
       "      <td>сотрудник</td>\n",
       "      <td>0</td>\n",
       "      <td>242831.107982</td>\n",
       "      <td>на покупку своего автомобиля</td>\n",
       "    </tr>\n",
       "  </tbody>\n",
       "</table>\n",
       "</div>"
      ],
      "text/plain": [
       "    children  days_employed  dob_years            education  education_id  \\\n",
       "0          1   -8437.673028         42               высшее             0   \n",
       "1          1   -4024.803754         36              среднее             1   \n",
       "2          0   -5623.422610         33              Среднее             1   \n",
       "3          3   -4124.747207         32              среднее             1   \n",
       "4          0  340266.072047         53              среднее             1   \n",
       "5          0    -926.185831         27               высшее             0   \n",
       "6          0   -2879.202052         43               высшее             0   \n",
       "7          0    -152.779569         50              СРЕДНЕЕ             1   \n",
       "8          2   -6929.865299         35               ВЫСШЕЕ             0   \n",
       "9          0   -2188.756445         41              среднее             1   \n",
       "10         2   -4171.483647         36               высшее             0   \n",
       "11         0    -792.701887         40              среднее             1   \n",
       "12         0            NaN         65              среднее             1   \n",
       "13         0   -1846.641941         54  неоконченное высшее             2   \n",
       "14         0   -1844.956182         56               высшее             0   \n",
       "15         1    -972.364419         26              среднее             1   \n",
       "16         0   -1719.934226         35              среднее             1   \n",
       "17         0   -2369.999720         33               высшее             0   \n",
       "18         0  400281.136913         53              среднее             1   \n",
       "19         0  -10038.818549         48              СРЕДНЕЕ             1   \n",
       "\n",
       "       family_status  family_status_id gender income_type  debt  \\\n",
       "0    женат / замужем                 0      F   сотрудник     0   \n",
       "1    женат / замужем                 0      F   сотрудник     0   \n",
       "2    женат / замужем                 0      M   сотрудник     0   \n",
       "3    женат / замужем                 0      M   сотрудник     0   \n",
       "4   гражданский брак                 1      F   пенсионер     0   \n",
       "5   гражданский брак                 1      M   компаньон     0   \n",
       "6    женат / замужем                 0      F   компаньон     0   \n",
       "7    женат / замужем                 0      M   сотрудник     0   \n",
       "8   гражданский брак                 1      F   сотрудник     0   \n",
       "9    женат / замужем                 0      M   сотрудник     0   \n",
       "10   женат / замужем                 0      M   компаньон     0   \n",
       "11   женат / замужем                 0      F   сотрудник     0   \n",
       "12  гражданский брак                 1      M   пенсионер     0   \n",
       "13   женат / замужем                 0      F   сотрудник     0   \n",
       "14  гражданский брак                 1      F   компаньон     1   \n",
       "15   женат / замужем                 0      F   сотрудник     0   \n",
       "16   женат / замужем                 0      F   сотрудник     0   \n",
       "17  гражданский брак                 1      M   сотрудник     0   \n",
       "18    вдовец / вдова                 2      F   пенсионер     0   \n",
       "19         в разводе                 3      F   сотрудник     0   \n",
       "\n",
       "     total_income                                 purpose  \n",
       "0   253875.639453                           покупка жилья  \n",
       "1   112080.014102                 приобретение автомобиля  \n",
       "2   145885.952297                           покупка жилья  \n",
       "3   267628.550329              дополнительное образование  \n",
       "4   158616.077870                         сыграть свадьбу  \n",
       "5   255763.565419                           покупка жилья  \n",
       "6   240525.971920                       операции с жильем  \n",
       "7   135823.934197                             образование  \n",
       "8    95856.832424                   на проведение свадьбы  \n",
       "9   144425.938277                 покупка жилья для семьи  \n",
       "10  113943.491460                    покупка недвижимости  \n",
       "11   77069.234271       покупка коммерческой недвижимости  \n",
       "12            NaN                         сыграть свадьбу  \n",
       "13  130458.228857                 приобретение автомобиля  \n",
       "14  165127.911772              покупка жилой недвижимости  \n",
       "15  116820.904450  строительство собственной недвижимости  \n",
       "16  289202.704229                            недвижимость  \n",
       "17   90410.586745              строительство недвижимости  \n",
       "18   56823.777243      на покупку подержанного автомобиля  \n",
       "19  242831.107982            на покупку своего автомобиля  "
      ]
     },
     "execution_count": 2,
     "metadata": {},
     "output_type": "execute_result"
    }
   ],
   "source": [
    "data.head(20)"
   ]
  },
  {
   "cell_type": "markdown",
   "id": "a950b58e",
   "metadata": {
    "deletable": false,
    "editable": false,
    "id": "1c12e233"
   },
   "source": [
    "**Задание 3. Выведите основную информацию о датафрейме с помощью метода `info()`.**"
   ]
  },
  {
   "cell_type": "code",
   "execution_count": 3,
   "id": "c07f7000",
   "metadata": {
    "deletable": false,
    "id": "2b757bca",
    "outputId": "15376089-8dad-46c9-b520-c05248d43158"
   },
   "outputs": [
    {
     "name": "stdout",
     "output_type": "stream",
     "text": [
      "<class 'pandas.core.frame.DataFrame'>\n",
      "RangeIndex: 21525 entries, 0 to 21524\n",
      "Data columns (total 12 columns):\n",
      " #   Column            Non-Null Count  Dtype  \n",
      "---  ------            --------------  -----  \n",
      " 0   children          21525 non-null  int64  \n",
      " 1   days_employed     19351 non-null  float64\n",
      " 2   dob_years         21525 non-null  int64  \n",
      " 3   education         21525 non-null  object \n",
      " 4   education_id      21525 non-null  int64  \n",
      " 5   family_status     21525 non-null  object \n",
      " 6   family_status_id  21525 non-null  int64  \n",
      " 7   gender            21525 non-null  object \n",
      " 8   income_type       21525 non-null  object \n",
      " 9   debt              21525 non-null  int64  \n",
      " 10  total_income      19351 non-null  float64\n",
      " 11  purpose           21525 non-null  object \n",
      "dtypes: float64(2), int64(5), object(5)\n",
      "memory usage: 2.0+ MB\n"
     ]
    }
   ],
   "source": [
    "data.info()"
   ]
  },
  {
   "cell_type": "markdown",
   "id": "070c651e",
   "metadata": {
    "deletable": false,
    "editable": false,
    "id": "333ec665"
   },
   "source": [
    "## Предобработка данных"
   ]
  },
  {
   "cell_type": "markdown",
   "id": "948cb414",
   "metadata": {
    "deletable": false,
    "editable": false,
    "id": "02d92d53"
   },
   "source": [
    "### Удаление пропусков"
   ]
  },
  {
   "cell_type": "markdown",
   "id": "272e520b",
   "metadata": {
    "deletable": false,
    "editable": false,
    "id": "cd84967c"
   },
   "source": [
    "**Задание 4. Выведите количество пропущенных значений для каждого столбца. Используйте комбинацию двух методов.**"
   ]
  },
  {
   "cell_type": "code",
   "execution_count": 4,
   "id": "71ae8e71",
   "metadata": {
    "deletable": false,
    "id": "7f9b2309",
    "outputId": "81f4d817-781c-465c-ed15-91ce4446810d"
   },
   "outputs": [
    {
     "data": {
      "text/plain": [
       "children               0\n",
       "days_employed       2174\n",
       "dob_years              0\n",
       "education              0\n",
       "education_id           0\n",
       "family_status          0\n",
       "family_status_id       0\n",
       "gender                 0\n",
       "income_type            0\n",
       "debt                   0\n",
       "total_income        2174\n",
       "purpose                0\n",
       "dtype: int64"
      ]
     },
     "execution_count": 4,
     "metadata": {},
     "output_type": "execute_result"
    }
   ],
   "source": [
    "data.isna().sum()"
   ]
  },
  {
   "cell_type": "markdown",
   "id": "39c7c532",
   "metadata": {
    "deletable": false,
    "editable": false,
    "id": "db86e27b"
   },
   "source": [
    "**Задание 5. В двух столбцах есть пропущенные значения. Один из них — `days_employed`. Пропуски в этом столбце вы обработаете на следующем этапе. Другой столбец с пропущенными значениями — `total_income` — хранит данные о доходах. На сумму дохода сильнее всего влияет тип занятости, поэтому заполнить пропуски в этом столбце нужно медианным значением по каждому типу из столбца `income_type`. Например, у человека с типом занятости `сотрудник` пропуск в столбце `total_income` должен быть заполнен медианным доходом среди всех записей с тем же типом.**"
   ]
  },
  {
   "cell_type": "code",
   "execution_count": 5,
   "id": "15bdf2d0",
   "metadata": {
    "deletable": false,
    "id": "42006a93"
   },
   "outputs": [],
   "source": [
    "for t in data['income_type'].unique():\n",
    "    data.loc[(data['income_type'] == t) & (data['total_income'].isna()), 'total_income'] = \\\n",
    "    data.loc[(data['income_type'] == t), 'total_income'].median()"
   ]
  },
  {
   "cell_type": "markdown",
   "id": "d7ba9b98",
   "metadata": {
    "deletable": false,
    "editable": false,
    "id": "89da5ece"
   },
   "source": [
    "### Обработка аномальных значений"
   ]
  },
  {
   "cell_type": "markdown",
   "id": "b994c40f",
   "metadata": {
    "deletable": false,
    "editable": false,
    "id": "57964554"
   },
   "source": [
    "**Задание 6. В данных могут встречаться артефакты (аномалии) — значения, которые не отражают действительность и появились по какой-то ошибке. таким артефактом будет отрицательное количество дней трудового стажа в столбце `days_employed`. Для реальных данных это нормально. Обработайте значения в этом столбце: замените все отрицательные значения положительными с помощью метода `abs()`.**"
   ]
  },
  {
   "cell_type": "code",
   "execution_count": 6,
   "id": "4cde4a10",
   "metadata": {
    "deletable": false,
    "id": "f6f055bf"
   },
   "outputs": [],
   "source": [
    "data['days_employed'] = data['days_employed'].abs()"
   ]
  },
  {
   "cell_type": "markdown",
   "id": "f1aa575c",
   "metadata": {
    "deletable": false,
    "editable": false,
    "id": "6107dd2f"
   },
   "source": [
    "**Задание 7. Для каждого типа занятости выведите медианное значение трудового стажа `days_employed` в днях.**"
   ]
  },
  {
   "cell_type": "code",
   "execution_count": 7,
   "id": "5214bdba",
   "metadata": {
    "deletable": false,
    "id": "85a5faf6",
    "outputId": "801ef80e-522b-4668-f34e-565af7432bcf"
   },
   "outputs": [
    {
     "data": {
      "text/plain": [
       "income_type\n",
       "безработный        366413.652744\n",
       "в декрете            3296.759962\n",
       "госслужащий          2689.368353\n",
       "компаньон            1547.382223\n",
       "пенсионер          365213.306266\n",
       "предприниматель       520.848083\n",
       "сотрудник            1574.202821\n",
       "студент               578.751554\n",
       "Name: days_employed, dtype: float64"
      ]
     },
     "execution_count": 7,
     "metadata": {},
     "output_type": "execute_result"
    }
   ],
   "source": [
    "data.groupby('income_type')['days_employed'].agg('median')"
   ]
  },
  {
   "cell_type": "markdown",
   "id": "7ec1ee6b",
   "metadata": {
    "deletable": false,
    "editable": false,
    "id": "38d1a030"
   },
   "source": [
    "У двух типов (безработные и пенсионеры) получатся аномально большие значения. Исправить такие значения сложно, поэтому оставьте их как есть. Тем более этот столбец не понадобится вам для исследования."
   ]
  },
  {
   "cell_type": "markdown",
   "id": "f192fa43",
   "metadata": {
    "deletable": false,
    "editable": false,
    "id": "d8a9f147"
   },
   "source": [
    "**Задание 8. Выведите перечень уникальных значений столбца `children`.**"
   ]
  },
  {
   "cell_type": "code",
   "execution_count": 8,
   "id": "496a7a9c",
   "metadata": {
    "deletable": false,
    "id": "ef5056eb",
    "outputId": "6975b15c-7f95-4697-d16d-a0c79b657b03"
   },
   "outputs": [
    {
     "data": {
      "text/plain": [
       "array([ 1,  0,  3,  2, -1,  4, 20,  5])"
      ]
     },
     "execution_count": 8,
     "metadata": {},
     "output_type": "execute_result"
    }
   ],
   "source": [
    "data['children'].unique()"
   ]
  },
  {
   "cell_type": "markdown",
   "id": "a9f38d77",
   "metadata": {
    "deletable": false,
    "editable": false,
    "id": "40b9ebf2"
   },
   "source": [
    "**Задание 9. В столбце `children` есть два аномальных значения. Удалите строки, в которых встречаются такие аномальные значения из датафрейма `data`.**"
   ]
  },
  {
   "cell_type": "code",
   "execution_count": 9,
   "id": "90155bf8",
   "metadata": {
    "deletable": false,
    "id": "3ff9801d"
   },
   "outputs": [],
   "source": [
    "data = data[(data['children'] != -1) & (data['children'] != 20)]"
   ]
  },
  {
   "cell_type": "markdown",
   "id": "46c2ee36",
   "metadata": {
    "deletable": false,
    "editable": false,
    "id": "bbc4d0ce"
   },
   "source": [
    "**Задание 10. Ещё раз выведите перечень уникальных значений столбца `children`, чтобы убедиться, что артефакты удалены.**"
   ]
  },
  {
   "cell_type": "code",
   "execution_count": 10,
   "id": "dee4abbf",
   "metadata": {
    "deletable": false,
    "id": "ad4fa8b7",
    "outputId": "b2097101-d49d-44d9-901b-32a65c9463d1"
   },
   "outputs": [
    {
     "data": {
      "text/plain": [
       "array([1, 0, 3, 2, 4, 5])"
      ]
     },
     "execution_count": 10,
     "metadata": {},
     "output_type": "execute_result"
    }
   ],
   "source": [
    "data['children'].unique()"
   ]
  },
  {
   "cell_type": "markdown",
   "id": "a98e59f5",
   "metadata": {
    "deletable": false,
    "editable": false,
    "id": "75440b63"
   },
   "source": [
    "### Удаление пропусков (продолжение)"
   ]
  },
  {
   "cell_type": "markdown",
   "id": "5a1513cf",
   "metadata": {
    "deletable": false,
    "editable": false,
    "id": "f4ea573f"
   },
   "source": [
    "**Задание 11. Заполните пропуски в столбце `days_employed` медианными значениями по каждого типа занятости `income_type`.**"
   ]
  },
  {
   "cell_type": "code",
   "execution_count": 11,
   "id": "79578792",
   "metadata": {
    "deletable": false,
    "id": "af6b1a7e"
   },
   "outputs": [],
   "source": [
    "for t in data['income_type'].unique():\n",
    "    data.loc[(data['income_type'] == t) & (data['days_employed'].isna()), 'days_employed'] = \\\n",
    "    data.loc[(data['income_type'] == t), 'days_employed'].median()"
   ]
  },
  {
   "cell_type": "markdown",
   "id": "1522e0b4",
   "metadata": {
    "deletable": false,
    "editable": false,
    "id": "2753f40d"
   },
   "source": [
    "**Задание 12. Убедитесь, что все пропуски заполнены. Проверьте себя и ещё раз выведите количество пропущенных значений для каждого столбца с помощью двух методов.**"
   ]
  },
  {
   "cell_type": "code",
   "execution_count": 12,
   "id": "a5c6d76c",
   "metadata": {
    "deletable": false,
    "id": "55f78bc2",
    "outputId": "8da1e4e1-358e-4e87-98c9-f261bce0a7b2"
   },
   "outputs": [
    {
     "data": {
      "text/plain": [
       "children            0\n",
       "days_employed       0\n",
       "dob_years           0\n",
       "education           0\n",
       "education_id        0\n",
       "family_status       0\n",
       "family_status_id    0\n",
       "gender              0\n",
       "income_type         0\n",
       "debt                0\n",
       "total_income        0\n",
       "purpose             0\n",
       "dtype: int64"
      ]
     },
     "execution_count": 12,
     "metadata": {},
     "output_type": "execute_result"
    }
   ],
   "source": [
    "data.isna().sum()"
   ]
  },
  {
   "cell_type": "markdown",
   "id": "9f08bce1",
   "metadata": {
    "deletable": false,
    "editable": false,
    "id": "ddc81e43"
   },
   "source": [
    "### Изменение типов данных"
   ]
  },
  {
   "cell_type": "markdown",
   "id": "cbdddbfc",
   "metadata": {
    "deletable": false,
    "editable": false,
    "id": "42d19d24"
   },
   "source": [
    "**Задание 13. Замените вещественный тип данных в столбце `total_income` на целочисленный с помощью метода `astype()`.**"
   ]
  },
  {
   "cell_type": "code",
   "execution_count": 13,
   "id": "ad95b30b",
   "metadata": {
    "deletable": false,
    "id": "920b65ad"
   },
   "outputs": [],
   "source": [
    "data['total_income'] = data['total_income'].astype(int)"
   ]
  },
  {
   "cell_type": "markdown",
   "id": "84476665",
   "metadata": {
    "deletable": false,
    "editable": false,
    "id": "80c420ba"
   },
   "source": [
    "### Обработка дубликатов"
   ]
  },
  {
   "cell_type": "markdown",
   "id": "c9b9a052",
   "metadata": {
    "deletable": false,
    "editable": false
   },
   "source": [
    "**Задание 14. Обработайте неявные дубликаты в столбце `education`. В этом столбце есть одни и те же значения, но записанные по-разному: с использованием заглавных и строчных букв. Приведите их к нижнему регистру. Проверьте остальные столбцы.**"
   ]
  },
  {
   "cell_type": "code",
   "execution_count": 14,
   "id": "9b692376",
   "metadata": {
    "deletable": false
   },
   "outputs": [],
   "source": [
    "data['education'] = data['education'].str.lower()"
   ]
  },
  {
   "cell_type": "markdown",
   "id": "fc1aa282",
   "metadata": {
    "deletable": false,
    "editable": false,
    "id": "dc587695"
   },
   "source": [
    "**Задание 15. Выведите на экран количество строк-дубликатов в данных. Если такие строки присутствуют, удалите их.**"
   ]
  },
  {
   "cell_type": "code",
   "execution_count": 15,
   "id": "5b97fb03",
   "metadata": {
    "deletable": false,
    "id": "3ee445e4",
    "outputId": "9684deba-1934-42d1-99e1-cda61740f822"
   },
   "outputs": [
    {
     "data": {
      "text/plain": [
       "71"
      ]
     },
     "execution_count": 15,
     "metadata": {},
     "output_type": "execute_result"
    }
   ],
   "source": [
    "data.duplicated().sum()"
   ]
  },
  {
   "cell_type": "code",
   "execution_count": 16,
   "id": "e04bdd67",
   "metadata": {
    "deletable": false,
    "id": "8575fe05"
   },
   "outputs": [],
   "source": [
    "data = data.drop_duplicates()"
   ]
  },
  {
   "cell_type": "markdown",
   "id": "a73d4339",
   "metadata": {
    "deletable": false,
    "editable": false,
    "id": "9904cf55"
   },
   "source": [
    "### Категоризация данных"
   ]
  },
  {
   "cell_type": "markdown",
   "id": "d7821778",
   "metadata": {
    "deletable": false,
    "editable": false,
    "id": "72fcc8a2"
   },
   "source": [
    "**Задание 16. На основании диапазонов, указанных ниже, создайте в датафрейме `data` столбец `total_income_category` с категориями:**\n",
    "\n",
    "- 0–30000 — `'E'`;\n",
    "- 30001–50000 — `'D'`;\n",
    "- 50001–200000 — `'C'`;\n",
    "- 200001–1000000 — `'B'`;\n",
    "- 1000001 и выше — `'A'`.\n",
    "\n",
    "\n",
    "**Например, кредитополучателю с доходом 25000 нужно назначить категорию `'E'`, а клиенту, получающему 235000, — `'B'`. Используйте собственную функцию с именем `categorize_income()` и метод `apply()`.**"
   ]
  },
  {
   "cell_type": "code",
   "execution_count": 17,
   "id": "a20655a3",
   "metadata": {
    "deletable": false,
    "id": "e1771346"
   },
   "outputs": [],
   "source": [
    "def categorize_income(income):\n",
    "    try:\n",
    "        if 0 <= income <= 30000:\n",
    "            return 'E'\n",
    "        elif 30001 <= income <= 50000:\n",
    "            return 'D'\n",
    "        elif 50001 <= income <= 200000:\n",
    "            return 'C'\n",
    "        elif 200001 <= income <= 1000000:\n",
    "            return 'B'\n",
    "        elif income >= 1000001:\n",
    "            return 'A'\n",
    "    except:\n",
    "        pass"
   ]
  },
  {
   "cell_type": "code",
   "execution_count": 18,
   "id": "b79b441c",
   "metadata": {
    "deletable": false,
    "id": "d5f3586d"
   },
   "outputs": [],
   "source": [
    "data['total_income_category'] = data['total_income'].apply(categorize_income)"
   ]
  },
  {
   "cell_type": "markdown",
   "id": "7aeeb696",
   "metadata": {
    "deletable": false,
    "editable": false,
    "id": "dde49b5c"
   },
   "source": [
    "**Задание 17. Выведите на экран перечень уникальных целей взятия кредита из столбца `purpose`.**"
   ]
  },
  {
   "cell_type": "code",
   "execution_count": 19,
   "id": "44257811",
   "metadata": {
    "deletable": false,
    "id": "f67ce9b3",
    "outputId": "673c12d9-7d7e-4ae0-9812-c622c89dd244"
   },
   "outputs": [
    {
     "data": {
      "text/plain": [
       "array(['покупка жилья', 'приобретение автомобиля',\n",
       "       'дополнительное образование', 'сыграть свадьбу',\n",
       "       'операции с жильем', 'образование', 'на проведение свадьбы',\n",
       "       'покупка жилья для семьи', 'покупка недвижимости',\n",
       "       'покупка коммерческой недвижимости', 'покупка жилой недвижимости',\n",
       "       'строительство собственной недвижимости', 'недвижимость',\n",
       "       'строительство недвижимости', 'на покупку подержанного автомобиля',\n",
       "       'на покупку своего автомобиля',\n",
       "       'операции с коммерческой недвижимостью',\n",
       "       'строительство жилой недвижимости', 'жилье',\n",
       "       'операции со своей недвижимостью', 'автомобили',\n",
       "       'заняться образованием', 'сделка с подержанным автомобилем',\n",
       "       'получение образования', 'автомобиль', 'свадьба',\n",
       "       'получение дополнительного образования', 'покупка своего жилья',\n",
       "       'операции с недвижимостью', 'получение высшего образования',\n",
       "       'свой автомобиль', 'сделка с автомобилем',\n",
       "       'профильное образование', 'высшее образование',\n",
       "       'покупка жилья для сдачи', 'на покупку автомобиля', 'ремонт жилью',\n",
       "       'заняться высшим образованием'], dtype=object)"
      ]
     },
     "execution_count": 19,
     "metadata": {},
     "output_type": "execute_result"
    }
   ],
   "source": [
    "data['purpose'].unique()"
   ]
  },
  {
   "cell_type": "markdown",
   "id": "93b849e9",
   "metadata": {
    "deletable": false,
    "editable": false,
    "id": "85d0aef0"
   },
   "source": [
    "**Задание 18. Создайте функцию, которая на основании данных из столбца `purpose` сформирует новый столбец `purpose_category`, в который войдут следующие категории:**\n",
    "\n",
    "- `'операции с автомобилем'`,\n",
    "- `'операции с недвижимостью'`,\n",
    "- `'проведение свадьбы'`,\n",
    "- `'получение образования'`.\n",
    "\n",
    "**Например, если в столбце `purpose` находится подстрока `'на покупку автомобиля'`, то в столбце `purpose_category` должна появиться строка `'операции с автомобилем'`.**\n",
    "\n",
    "**Используйте собственную функцию с именем `categorize_purpose()` и метод `apply()`. Изучите данные в столбце `purpose` и определите, какие подстроки помогут вам правильно определить категорию.**"
   ]
  },
  {
   "cell_type": "code",
   "execution_count": 20,
   "id": "d27de12e",
   "metadata": {
    "deletable": false,
    "id": "e149fab4"
   },
   "outputs": [],
   "source": [
    "def categorize_purpose(row):\n",
    "    try:\n",
    "        if 'автом' in row:\n",
    "            return 'операции с автомобилем'\n",
    "        elif 'жил' in row or 'недвиж' in row:\n",
    "            return 'операции с недвижимостью'\n",
    "        elif 'свад' in row:\n",
    "            return 'проведение свадьбы'\n",
    "        elif 'образов' in row:\n",
    "            return 'получение образования'\n",
    "    except:\n",
    "        return 'нет категории'"
   ]
  },
  {
   "cell_type": "code",
   "execution_count": 21,
   "id": "9eda7c13",
   "metadata": {
    "deletable": false,
    "id": "bf36e69b"
   },
   "outputs": [],
   "source": [
    "data['purpose_category'] = data['purpose'].apply(categorize_purpose)"
   ]
  },
  {
   "cell_type": "markdown",
   "id": "6270b68e",
   "metadata": {
    "deletable": false,
    "editable": false,
    "id": "09b242bf"
   },
   "source": [
    "### Шаг 3. Исследуйте данные и ответьте на вопросы"
   ]
  },
  {
   "cell_type": "markdown",
   "id": "4b3e1369",
   "metadata": {
    "deletable": false,
    "editable": false,
    "id": "c5d66278"
   },
   "source": [
    "#### 3.1 Есть ли зависимость между количеством детей и возвратом кредита в срок?"
   ]
  },
  {
   "cell_type": "code",
   "execution_count": 22,
   "id": "8de20098",
   "metadata": {
    "deletable": false,
    "id": "2cacfc4a"
   },
   "outputs": [
    {
     "data": {
      "text/html": [
       "<div>\n",
       "<style scoped>\n",
       "    .dataframe tbody tr th:only-of-type {\n",
       "        vertical-align: middle;\n",
       "    }\n",
       "\n",
       "    .dataframe tbody tr th {\n",
       "        vertical-align: top;\n",
       "    }\n",
       "\n",
       "    .dataframe thead th {\n",
       "        text-align: right;\n",
       "    }\n",
       "</style>\n",
       "<table border=\"1\" class=\"dataframe\">\n",
       "  <thead>\n",
       "    <tr style=\"text-align: right;\">\n",
       "      <th></th>\n",
       "      <th>total_debtors</th>\n",
       "      <th>share_of_debtor</th>\n",
       "      <th>number_of_debtor</th>\n",
       "    </tr>\n",
       "    <tr>\n",
       "      <th>children</th>\n",
       "      <th></th>\n",
       "      <th></th>\n",
       "      <th></th>\n",
       "    </tr>\n",
       "  </thead>\n",
       "  <tbody>\n",
       "    <tr>\n",
       "      <th>4</th>\n",
       "      <td>41.0</td>\n",
       "      <td>0.098</td>\n",
       "      <td>4.0</td>\n",
       "    </tr>\n",
       "    <tr>\n",
       "      <th>2</th>\n",
       "      <td>2052.0</td>\n",
       "      <td>0.095</td>\n",
       "      <td>194.0</td>\n",
       "    </tr>\n",
       "    <tr>\n",
       "      <th>1</th>\n",
       "      <td>4808.0</td>\n",
       "      <td>0.092</td>\n",
       "      <td>444.0</td>\n",
       "    </tr>\n",
       "    <tr>\n",
       "      <th>3</th>\n",
       "      <td>330.0</td>\n",
       "      <td>0.082</td>\n",
       "      <td>27.0</td>\n",
       "    </tr>\n",
       "    <tr>\n",
       "      <th>0</th>\n",
       "      <td>14091.0</td>\n",
       "      <td>0.075</td>\n",
       "      <td>1063.0</td>\n",
       "    </tr>\n",
       "    <tr>\n",
       "      <th>5</th>\n",
       "      <td>9.0</td>\n",
       "      <td>0.000</td>\n",
       "      <td>0.0</td>\n",
       "    </tr>\n",
       "  </tbody>\n",
       "</table>\n",
       "</div>"
      ],
      "text/plain": [
       "          total_debtors  share_of_debtor  number_of_debtor\n",
       "children                                                  \n",
       "4                  41.0            0.098               4.0\n",
       "2                2052.0            0.095             194.0\n",
       "1                4808.0            0.092             444.0\n",
       "3                 330.0            0.082              27.0\n",
       "0               14091.0            0.075            1063.0\n",
       "5                   9.0            0.000               0.0"
      ]
     },
     "execution_count": 22,
     "metadata": {},
     "output_type": "execute_result"
    }
   ],
   "source": [
    "# Создание сводной таблицы, где знаечния задолженности группируются по количетсву детей\n",
    "debt_pivot_table = data.pivot_table(index = 'children', values = 'debt', aggfunc = ({'sum', 'count', 'mean'}))\n",
    "debt_pivot_table = debt_pivot_table.rename(columns = {'count':'total_debtors', 'sum':'number_of_debtor', 'mean':'share_of_debtor'})\n",
    "debt_pivot_table['share_of_debtor'] = round(debt_pivot_table['share_of_debtor'], 3)\n",
    "debt_pivot_table = debt_pivot_table.sort_values(by = 'share_of_debtor', ascending = False)\n",
    "debt_pivot_table"
   ]
  },
  {
   "cell_type": "markdown",
   "id": "f07363bb",
   "metadata": {
    "deletable": false,
    "id": "3a6b99ec"
   },
   "source": [
    "**Вывод:** Из полученных результатов видно, что самая большая доля должников - семьи с 4 детьми, но по общему количеству заемщиков и должников они уступают семьям с 2 детьми, с одним ребенком и семьям без детей.\n",
    "\n",
    "Семьи без детей имеют наименьшую долю задолженности из-за небольшой финансовой нагрузки, что также может являться причиной того, что данная категория чаще всего берет кредиты.\n",
    "\n",
    "Семьи с 1 - 2 детьми имеют большую финансовую нагрузку и менее платежеспособны поэтому попадают в категории с высокой долей должников\n",
    "\n",
    "Семьи с 3-мя имеют средний показатель по задолженности и практически минимальный по количествку должников - это может говорить о более высокой отвестсвенности, что можно сказать и о категории семей с 5-ю детьми, которые стараются не допускать задолженностей или вовсе не брать кредиты\n",
    "\n",
    "Если сравнивать первую тройку высоких показателей по доле задолженности, то гипотеза о зависимости между количеством детей и выплатой кредита в срок подтверждается."
   ]
  },
  {
   "cell_type": "markdown",
   "id": "9b1621f2",
   "metadata": {
    "deletable": false,
    "editable": false,
    "id": "97be82ca"
   },
   "source": [
    "#### 3.2 Есть ли зависимость между семейным положением и возвратом кредита в срок?"
   ]
  },
  {
   "cell_type": "code",
   "execution_count": 23,
   "id": "38b1fe3f",
   "metadata": {
    "deletable": false,
    "id": "dc3f7ee8"
   },
   "outputs": [
    {
     "data": {
      "text/html": [
       "<div>\n",
       "<style scoped>\n",
       "    .dataframe tbody tr th:only-of-type {\n",
       "        vertical-align: middle;\n",
       "    }\n",
       "\n",
       "    .dataframe tbody tr th {\n",
       "        vertical-align: top;\n",
       "    }\n",
       "\n",
       "    .dataframe thead th {\n",
       "        text-align: right;\n",
       "    }\n",
       "</style>\n",
       "<table border=\"1\" class=\"dataframe\">\n",
       "  <thead>\n",
       "    <tr style=\"text-align: right;\">\n",
       "      <th></th>\n",
       "      <th>total_debtors</th>\n",
       "      <th>share_of_debtor</th>\n",
       "      <th>number_of_debtor</th>\n",
       "    </tr>\n",
       "    <tr>\n",
       "      <th>family_status</th>\n",
       "      <th></th>\n",
       "      <th></th>\n",
       "      <th></th>\n",
       "    </tr>\n",
       "  </thead>\n",
       "  <tbody>\n",
       "    <tr>\n",
       "      <th>Не женат / не замужем</th>\n",
       "      <td>2796.0</td>\n",
       "      <td>0.098</td>\n",
       "      <td>273.0</td>\n",
       "    </tr>\n",
       "    <tr>\n",
       "      <th>гражданский брак</th>\n",
       "      <td>4134.0</td>\n",
       "      <td>0.093</td>\n",
       "      <td>385.0</td>\n",
       "    </tr>\n",
       "    <tr>\n",
       "      <th>женат / замужем</th>\n",
       "      <td>12261.0</td>\n",
       "      <td>0.076</td>\n",
       "      <td>927.0</td>\n",
       "    </tr>\n",
       "    <tr>\n",
       "      <th>в разводе</th>\n",
       "      <td>1189.0</td>\n",
       "      <td>0.071</td>\n",
       "      <td>84.0</td>\n",
       "    </tr>\n",
       "    <tr>\n",
       "      <th>вдовец / вдова</th>\n",
       "      <td>951.0</td>\n",
       "      <td>0.066</td>\n",
       "      <td>63.0</td>\n",
       "    </tr>\n",
       "  </tbody>\n",
       "</table>\n",
       "</div>"
      ],
      "text/plain": [
       "                       total_debtors  share_of_debtor  number_of_debtor\n",
       "family_status                                                          \n",
       "Не женат / не замужем         2796.0            0.098             273.0\n",
       "гражданский брак              4134.0            0.093             385.0\n",
       "женат / замужем              12261.0            0.076             927.0\n",
       "в разводе                     1189.0            0.071              84.0\n",
       "вдовец / вдова                 951.0            0.066              63.0"
      ]
     },
     "execution_count": 23,
     "metadata": {},
     "output_type": "execute_result"
    }
   ],
   "source": [
    "# Ваш код будет здесь. Вы можете создавать новые ячейки.\n",
    "\n",
    "debt_pivot_table = data.pivot_table(index = 'family_status', values = 'debt', aggfunc = ({'sum', 'count', 'mean'}))\n",
    "debt_pivot_table = debt_pivot_table.rename(columns = {'count':'total_debtors', 'sum':'number_of_debtor', 'mean':'share_of_debtor'})\n",
    "debt_pivot_table['share_of_debtor'] = round(debt_pivot_table['share_of_debtor'], 3)\n",
    "debt_pivot_table = debt_pivot_table.sort_values(by = 'share_of_debtor', ascending = False)\n",
    "debt_pivot_table"
   ]
  },
  {
   "cell_type": "markdown",
   "id": "ae331a63",
   "metadata": {
    "deletable": false,
    "id": "1cef7837"
   },
   "source": [
    "**Вывод:** Максимальный показатель имеют люди не вступавшие в брак, в то время как люди состоящие или состоявшие в браке имеют более низкие показатели по возврату кредита в срок по ряду возможных причин:\n",
    "- материальная поддержка со стороны\n",
    "- такие люди более ответственны\n",
    "- они более платежеспособны\n",
    "\n",
    "Исходя из этого можно сказать, что имеется зависимость от семейного положения."
   ]
  },
  {
   "cell_type": "markdown",
   "id": "913623e3",
   "metadata": {
    "deletable": false,
    "editable": false,
    "id": "1e8b2fca"
   },
   "source": [
    "#### 3.3 Есть ли зависимость между уровнем дохода и возвратом кредита в срок?"
   ]
  },
  {
   "cell_type": "code",
   "execution_count": 24,
   "id": "7dde354d",
   "metadata": {
    "deletable": false,
    "id": "cd7e3720"
   },
   "outputs": [
    {
     "data": {
      "text/html": [
       "<div>\n",
       "<style scoped>\n",
       "    .dataframe tbody tr th:only-of-type {\n",
       "        vertical-align: middle;\n",
       "    }\n",
       "\n",
       "    .dataframe tbody tr th {\n",
       "        vertical-align: top;\n",
       "    }\n",
       "\n",
       "    .dataframe thead th {\n",
       "        text-align: right;\n",
       "    }\n",
       "</style>\n",
       "<table border=\"1\" class=\"dataframe\">\n",
       "  <thead>\n",
       "    <tr style=\"text-align: right;\">\n",
       "      <th></th>\n",
       "      <th>total_debtors</th>\n",
       "      <th>share_of_debtor</th>\n",
       "      <th>number_of_debtor</th>\n",
       "    </tr>\n",
       "    <tr>\n",
       "      <th>total_income_category</th>\n",
       "      <th></th>\n",
       "      <th></th>\n",
       "      <th></th>\n",
       "    </tr>\n",
       "  </thead>\n",
       "  <tbody>\n",
       "    <tr>\n",
       "      <th>E</th>\n",
       "      <td>22.0</td>\n",
       "      <td>0.091</td>\n",
       "      <td>2.0</td>\n",
       "    </tr>\n",
       "    <tr>\n",
       "      <th>C</th>\n",
       "      <td>15921.0</td>\n",
       "      <td>0.085</td>\n",
       "      <td>1353.0</td>\n",
       "    </tr>\n",
       "    <tr>\n",
       "      <th>A</th>\n",
       "      <td>25.0</td>\n",
       "      <td>0.080</td>\n",
       "      <td>2.0</td>\n",
       "    </tr>\n",
       "    <tr>\n",
       "      <th>B</th>\n",
       "      <td>5014.0</td>\n",
       "      <td>0.071</td>\n",
       "      <td>354.0</td>\n",
       "    </tr>\n",
       "    <tr>\n",
       "      <th>D</th>\n",
       "      <td>349.0</td>\n",
       "      <td>0.060</td>\n",
       "      <td>21.0</td>\n",
       "    </tr>\n",
       "  </tbody>\n",
       "</table>\n",
       "</div>"
      ],
      "text/plain": [
       "                       total_debtors  share_of_debtor  number_of_debtor\n",
       "total_income_category                                                  \n",
       "E                               22.0            0.091               2.0\n",
       "C                            15921.0            0.085            1353.0\n",
       "A                               25.0            0.080               2.0\n",
       "B                             5014.0            0.071             354.0\n",
       "D                              349.0            0.060              21.0"
      ]
     },
     "execution_count": 24,
     "metadata": {},
     "output_type": "execute_result"
    }
   ],
   "source": [
    "# Ваш код будет здесь. Вы можете создавать новые ячейки.\n",
    "debt_pivot_table = data.pivot_table(index = 'total_income_category', values = 'debt', aggfunc = ({'sum', 'count', 'mean'}))\n",
    "debt_pivot_table = debt_pivot_table.rename(columns = {'count':'total_debtors', 'sum':'number_of_debtor', 'mean':'share_of_debtor'})\n",
    "debt_pivot_table['share_of_debtor'] = round(debt_pivot_table['share_of_debtor'], 3)\n",
    "debt_pivot_table = debt_pivot_table.sort_values(by = 'share_of_debtor', ascending = False)\n",
    "debt_pivot_table"
   ]
  },
  {
   "cell_type": "markdown",
   "id": "d411de96",
   "metadata": {
    "deletable": false,
    "id": "e8593def"
   },
   "source": [
    "**Вывод:** В таблице видна явная зависимость между уровнем дохода и возвратом кредита в срок:\n",
    "\n",
    "Сравнивая категории В и С (общее количество людей, взявших кредит и число должников намного больше, чем в остальных категориях) можно сказать, что люди с меньшим доходом как чаще берут кредиты, так и чаще оказываются в должниках в виду более малой платежеспособности. "
   ]
  },
  {
   "cell_type": "markdown",
   "id": "4bd3a193",
   "metadata": {
    "deletable": false,
    "editable": false,
    "id": "99ecbd1f"
   },
   "source": [
    "#### 3.4 Как разные цели кредита влияют на его возврат в срок?"
   ]
  },
  {
   "cell_type": "code",
   "execution_count": 25,
   "id": "f07c11ce",
   "metadata": {
    "deletable": false,
    "id": "2b687290"
   },
   "outputs": [
    {
     "data": {
      "text/html": [
       "<div>\n",
       "<style scoped>\n",
       "    .dataframe tbody tr th:only-of-type {\n",
       "        vertical-align: middle;\n",
       "    }\n",
       "\n",
       "    .dataframe tbody tr th {\n",
       "        vertical-align: top;\n",
       "    }\n",
       "\n",
       "    .dataframe thead th {\n",
       "        text-align: right;\n",
       "    }\n",
       "</style>\n",
       "<table border=\"1\" class=\"dataframe\">\n",
       "  <thead>\n",
       "    <tr style=\"text-align: right;\">\n",
       "      <th></th>\n",
       "      <th>total_operation</th>\n",
       "      <th>share_of_debtor</th>\n",
       "      <th>number_of_debtor</th>\n",
       "    </tr>\n",
       "    <tr>\n",
       "      <th>purpose_category</th>\n",
       "      <th></th>\n",
       "      <th></th>\n",
       "      <th></th>\n",
       "    </tr>\n",
       "  </thead>\n",
       "  <tbody>\n",
       "    <tr>\n",
       "      <th>операции с автомобилем</th>\n",
       "      <td>4279.0</td>\n",
       "      <td>0.093</td>\n",
       "      <td>400.0</td>\n",
       "    </tr>\n",
       "    <tr>\n",
       "      <th>получение образования</th>\n",
       "      <td>3988.0</td>\n",
       "      <td>0.093</td>\n",
       "      <td>369.0</td>\n",
       "    </tr>\n",
       "    <tr>\n",
       "      <th>проведение свадьбы</th>\n",
       "      <td>2313.0</td>\n",
       "      <td>0.079</td>\n",
       "      <td>183.0</td>\n",
       "    </tr>\n",
       "    <tr>\n",
       "      <th>операции с недвижимостью</th>\n",
       "      <td>10751.0</td>\n",
       "      <td>0.073</td>\n",
       "      <td>780.0</td>\n",
       "    </tr>\n",
       "  </tbody>\n",
       "</table>\n",
       "</div>"
      ],
      "text/plain": [
       "                          total_operation  share_of_debtor  number_of_debtor\n",
       "purpose_category                                                            \n",
       "операции с автомобилем             4279.0            0.093             400.0\n",
       "получение образования              3988.0            0.093             369.0\n",
       "проведение свадьбы                 2313.0            0.079             183.0\n",
       "операции с недвижимостью          10751.0            0.073             780.0"
      ]
     },
     "execution_count": 25,
     "metadata": {},
     "output_type": "execute_result"
    }
   ],
   "source": [
    "# Ваш код будет здесь. Вы можете создавать новые ячейки.\n",
    "debt_pivot_table = data.pivot_table(index = 'purpose_category', values = 'debt', aggfunc = ({'sum', 'count', 'mean'}))\n",
    "debt_pivot_table = debt_pivot_table.rename(columns = {'count':'total_operation', 'sum':'number_of_debtor', 'mean':'share_of_debtor'})\n",
    "debt_pivot_table['share_of_debtor'] = round(debt_pivot_table['share_of_debtor'], 3)\n",
    "debt_pivot_table = debt_pivot_table.sort_values(by = 'share_of_debtor', ascending = False)\n",
    "debt_pivot_table"
   ]
  },
  {
   "cell_type": "markdown",
   "id": "d067b441",
   "metadata": {
    "deletable": false,
    "id": "b4bb2ce6"
   },
   "source": [
    "**Вывод:** Самые высокие показатели задержки по возврату кредита имеют цели:\n",
    "- операции с автомобилем\n",
    "- получение образования\n",
    "\n",
    "Можно сказать, что есть взаимосвязь с размером суммы и её сроком возврата, т.к. операций с недвижимостью имеют самую большую стоимость из всех представленных и наименьший показатель задолженности."
   ]
  },
  {
   "cell_type": "markdown",
   "id": "d09037da",
   "metadata": {
    "deletable": false,
    "editable": false,
    "id": "09c3ac4c"
   },
   "source": [
    "#### 3.5 Приведите возможные причины появления пропусков в исходных данных."
   ]
  },
  {
   "cell_type": "markdown",
   "id": "1b1ab6d2",
   "metadata": {
    "deletable": false,
    "id": "9da2ceda"
   },
   "source": [
    "*Ответ:* Основной причиной пропусков в данном случае явяется человеческий фактор, т.к. пропуски допущены в столбцах с информацией о трудовом стаже в днях и ежемесячном доходе человека."
   ]
  },
  {
   "cell_type": "markdown",
   "id": "de8e191d",
   "metadata": {
    "deletable": false,
    "editable": false,
    "id": "7b0487d6"
   },
   "source": [
    "#### 3.6 Объясните, почему заполнить пропуски медианным значением — лучшее решение для количественных переменных."
   ]
  },
  {
   "cell_type": "markdown",
   "id": "603100fc",
   "metadata": {
    "deletable": false,
    "id": "7ecf2b8e"
   },
   "source": [
    "*Ответ:* Медианное значение является лучшим решенияем для заполенения пропусков, т.к. для расчета она берет два значения посередине и выдает их средний показатель. Такое значение более устойчиво и учитывает разброс данных."
   ]
  },
  {
   "cell_type": "markdown",
   "id": "e19d8c7c",
   "metadata": {
    "deletable": false,
    "editable": false,
    "id": "6db5255a"
   },
   "source": [
    "### Шаг 4: общий вывод."
   ]
  },
  {
   "cell_type": "markdown",
   "id": "7a4c2e86",
   "metadata": {
    "deletable": false,
    "id": "bad65432"
   },
   "source": [
    "**В ходе проведенной работы было рассмотрено несколько гипотез, на основе которых можно сказать, что люди с большими показателями задолженности будут иметь следующие параметры:**\n",
    "- семья с 4-мя детьми\n",
    "- не состоят в браке, либо заключили гражданский брак\n",
    "- имеют низкий уровень дохода(категория Е)\n",
    "- цель кредита: операции с автомобилем\n"
   ]
  }
 ],
 "metadata": {
  "ExecuteTimeLog": [
   {
    "duration": 497,
    "start_time": "2023-10-28T13:12:10.286Z"
   },
   {
    "duration": 21,
    "start_time": "2023-10-28T13:12:10.785Z"
   },
   {
    "duration": 15,
    "start_time": "2023-10-28T13:12:10.808Z"
   },
   {
    "duration": 23,
    "start_time": "2023-10-28T13:12:10.825Z"
   },
   {
    "duration": 33,
    "start_time": "2023-10-28T13:12:10.849Z"
   },
   {
    "duration": 3,
    "start_time": "2023-10-28T13:12:10.884Z"
   },
   {
    "duration": 13,
    "start_time": "2023-10-28T13:12:10.888Z"
   },
   {
    "duration": 4,
    "start_time": "2023-10-28T13:12:10.902Z"
   },
   {
    "duration": 11,
    "start_time": "2023-10-28T13:12:10.907Z"
   },
   {
    "duration": 14,
    "start_time": "2023-10-28T13:12:10.920Z"
   },
   {
    "duration": 33,
    "start_time": "2023-10-28T13:12:10.944Z"
   },
   {
    "duration": 9,
    "start_time": "2023-10-28T13:12:10.979Z"
   },
   {
    "duration": 20,
    "start_time": "2023-10-28T13:12:10.989Z"
   },
   {
    "duration": 19,
    "start_time": "2023-10-28T13:12:11.011Z"
   },
   {
    "duration": 38,
    "start_time": "2023-10-28T13:12:11.031Z"
   },
   {
    "duration": 16,
    "start_time": "2023-10-28T13:12:11.070Z"
   },
   {
    "duration": 3,
    "start_time": "2023-10-28T13:12:11.088Z"
   },
   {
    "duration": 17,
    "start_time": "2023-10-28T13:12:11.093Z"
   },
   {
    "duration": 8,
    "start_time": "2023-10-28T13:12:11.112Z"
   },
   {
    "duration": 7,
    "start_time": "2023-10-28T13:12:11.121Z"
   },
   {
    "duration": 15,
    "start_time": "2023-10-28T13:12:11.129Z"
   },
   {
    "duration": 4,
    "start_time": "2023-10-28T13:12:11.146Z"
   },
   {
    "duration": 4,
    "start_time": "2023-10-28T13:12:11.152Z"
   },
   {
    "duration": 5,
    "start_time": "2023-10-28T13:12:11.157Z"
   },
   {
    "duration": 6,
    "start_time": "2023-10-28T13:12:11.163Z"
   },
   {
    "duration": 60,
    "start_time": "2023-10-28T13:17:14.313Z"
   },
   {
    "duration": 8,
    "start_time": "2023-10-28T13:17:22.219Z"
   },
   {
    "duration": 3,
    "start_time": "2023-10-28T13:18:16.363Z"
   },
   {
    "duration": 4,
    "start_time": "2023-10-28T13:20:02.356Z"
   },
   {
    "duration": 9,
    "start_time": "2023-10-28T13:20:21.397Z"
   },
   {
    "duration": 8,
    "start_time": "2023-10-28T13:21:10.840Z"
   },
   {
    "duration": 8,
    "start_time": "2023-10-28T13:21:21.520Z"
   },
   {
    "duration": 7,
    "start_time": "2023-10-28T13:22:34.597Z"
   },
   {
    "duration": 8,
    "start_time": "2023-10-28T13:23:03.664Z"
   },
   {
    "duration": 4,
    "start_time": "2023-10-28T13:23:41.921Z"
   },
   {
    "duration": 8,
    "start_time": "2023-10-28T13:26:16.019Z"
   },
   {
    "duration": 12,
    "start_time": "2023-10-28T13:26:38.214Z"
   },
   {
    "duration": 8,
    "start_time": "2023-10-28T13:26:48.504Z"
   },
   {
    "duration": 7,
    "start_time": "2023-10-28T13:33:29.175Z"
   },
   {
    "duration": 8,
    "start_time": "2023-10-28T13:33:36.119Z"
   },
   {
    "duration": 7,
    "start_time": "2023-10-28T13:33:43.727Z"
   },
   {
    "duration": 7,
    "start_time": "2023-10-28T13:33:59.400Z"
   },
   {
    "duration": 8,
    "start_time": "2023-10-28T13:40:56.938Z"
   },
   {
    "duration": 9,
    "start_time": "2023-10-28T13:51:28.807Z"
   },
   {
    "duration": 20,
    "start_time": "2023-10-28T13:51:39.260Z"
   },
   {
    "duration": 10,
    "start_time": "2023-10-28T13:51:48.945Z"
   },
   {
    "duration": 13,
    "start_time": "2023-10-28T13:52:06.786Z"
   },
   {
    "duration": 15,
    "start_time": "2023-10-28T13:53:38.563Z"
   },
   {
    "duration": 14,
    "start_time": "2023-10-28T13:53:49.729Z"
   },
   {
    "duration": 30,
    "start_time": "2023-10-28T13:54:24.489Z"
   },
   {
    "duration": 16,
    "start_time": "2023-10-28T13:54:45.038Z"
   },
   {
    "duration": 19,
    "start_time": "2023-10-28T13:55:13.343Z"
   },
   {
    "duration": 18,
    "start_time": "2023-10-28T13:56:37.396Z"
   },
   {
    "duration": 18,
    "start_time": "2023-10-28T13:57:23.199Z"
   },
   {
    "duration": 15,
    "start_time": "2023-10-28T14:00:51.757Z"
   },
   {
    "duration": 14,
    "start_time": "2023-10-28T14:06:01.775Z"
   },
   {
    "duration": 16,
    "start_time": "2023-10-28T14:07:35.145Z"
   },
   {
    "duration": 13,
    "start_time": "2023-10-28T14:11:31.430Z"
   },
   {
    "duration": 14,
    "start_time": "2023-10-28T14:12:37.145Z"
   },
   {
    "duration": 14,
    "start_time": "2023-10-28T14:12:43.539Z"
   },
   {
    "duration": 13,
    "start_time": "2023-10-28T14:13:05.084Z"
   },
   {
    "duration": 13,
    "start_time": "2023-10-28T14:13:17.380Z"
   },
   {
    "duration": 13,
    "start_time": "2023-10-28T14:14:11.160Z"
   },
   {
    "duration": 14,
    "start_time": "2023-10-28T14:21:05.121Z"
   },
   {
    "duration": 17,
    "start_time": "2023-10-28T14:21:33.370Z"
   },
   {
    "duration": 15,
    "start_time": "2023-10-28T14:22:30.365Z"
   },
   {
    "duration": 18,
    "start_time": "2023-10-28T14:22:39.357Z"
   },
   {
    "duration": 4,
    "start_time": "2023-10-28T14:24:02.216Z"
   },
   {
    "duration": 13,
    "start_time": "2023-10-28T14:25:05.478Z"
   },
   {
    "duration": 12,
    "start_time": "2023-10-28T14:25:27.021Z"
   },
   {
    "duration": 15,
    "start_time": "2023-10-28T14:25:38.960Z"
   },
   {
    "duration": 17,
    "start_time": "2023-10-28T14:26:08.177Z"
   },
   {
    "duration": 20,
    "start_time": "2023-10-28T14:27:41.902Z"
   },
   {
    "duration": 28,
    "start_time": "2023-10-28T14:28:14.233Z"
   },
   {
    "duration": 26,
    "start_time": "2023-10-28T14:28:52.938Z"
   },
   {
    "duration": 24,
    "start_time": "2023-10-28T14:29:04.141Z"
   },
   {
    "duration": 21,
    "start_time": "2023-10-28T15:52:17.054Z"
   },
   {
    "duration": 48,
    "start_time": "2023-10-29T11:47:37.230Z"
   },
   {
    "duration": 712,
    "start_time": "2023-10-29T11:47:52.926Z"
   },
   {
    "duration": 23,
    "start_time": "2023-10-29T11:47:53.639Z"
   },
   {
    "duration": 15,
    "start_time": "2023-10-29T11:47:53.663Z"
   },
   {
    "duration": 15,
    "start_time": "2023-10-29T11:47:53.680Z"
   },
   {
    "duration": 52,
    "start_time": "2023-10-29T11:47:53.697Z"
   },
   {
    "duration": 4,
    "start_time": "2023-10-29T11:47:53.751Z"
   },
   {
    "duration": 11,
    "start_time": "2023-10-29T11:47:53.756Z"
   },
   {
    "duration": 4,
    "start_time": "2023-10-29T11:47:53.769Z"
   },
   {
    "duration": 13,
    "start_time": "2023-10-29T11:47:53.775Z"
   },
   {
    "duration": 10,
    "start_time": "2023-10-29T11:47:53.791Z"
   },
   {
    "duration": 65,
    "start_time": "2023-10-29T11:47:53.805Z"
   },
   {
    "duration": 11,
    "start_time": "2023-10-29T11:47:53.872Z"
   },
   {
    "duration": 11,
    "start_time": "2023-10-29T11:47:53.885Z"
   },
   {
    "duration": 30,
    "start_time": "2023-10-29T11:47:53.897Z"
   },
   {
    "duration": 39,
    "start_time": "2023-10-29T11:47:53.928Z"
   },
   {
    "duration": 16,
    "start_time": "2023-10-29T11:47:53.969Z"
   },
   {
    "duration": 4,
    "start_time": "2023-10-29T11:47:53.986Z"
   },
   {
    "duration": 29,
    "start_time": "2023-10-29T11:47:53.991Z"
   },
   {
    "duration": 7,
    "start_time": "2023-10-29T11:47:54.021Z"
   },
   {
    "duration": 6,
    "start_time": "2023-10-29T11:47:54.030Z"
   },
   {
    "duration": 16,
    "start_time": "2023-10-29T11:47:54.037Z"
   },
   {
    "duration": 28,
    "start_time": "2023-10-29T11:47:54.054Z"
   },
   {
    "duration": 15,
    "start_time": "2023-10-29T11:47:54.083Z"
   },
   {
    "duration": 28,
    "start_time": "2023-10-29T11:47:54.099Z"
   },
   {
    "duration": 19,
    "start_time": "2023-10-29T11:47:54.128Z"
   },
   {
    "duration": 30,
    "start_time": "2023-10-29T11:48:30.142Z"
   },
   {
    "duration": 19,
    "start_time": "2023-10-29T11:48:41.678Z"
   },
   {
    "duration": 96,
    "start_time": "2023-10-29T13:33:33.861Z"
   },
   {
    "duration": 19,
    "start_time": "2023-10-29T13:33:33.960Z"
   },
   {
    "duration": 19,
    "start_time": "2023-10-29T13:33:33.985Z"
   },
   {
    "duration": 17,
    "start_time": "2023-10-29T13:33:34.005Z"
   },
   {
    "duration": 68,
    "start_time": "2023-10-29T13:33:34.024Z"
   },
   {
    "duration": 4,
    "start_time": "2023-10-29T13:33:34.095Z"
   },
   {
    "duration": 24,
    "start_time": "2023-10-29T13:33:34.101Z"
   },
   {
    "duration": 6,
    "start_time": "2023-10-29T13:33:34.127Z"
   },
   {
    "duration": 25,
    "start_time": "2023-10-29T13:33:34.150Z"
   },
   {
    "duration": 29,
    "start_time": "2023-10-29T13:33:34.177Z"
   },
   {
    "duration": 44,
    "start_time": "2023-10-29T13:33:34.207Z"
   },
   {
    "duration": 17,
    "start_time": "2023-10-29T13:33:34.254Z"
   },
   {
    "duration": 11,
    "start_time": "2023-10-29T13:33:34.274Z"
   },
   {
    "duration": 20,
    "start_time": "2023-10-29T13:33:34.286Z"
   },
   {
    "duration": 27,
    "start_time": "2023-10-29T13:33:34.308Z"
   },
   {
    "duration": 36,
    "start_time": "2023-10-29T13:33:34.337Z"
   },
   {
    "duration": 4,
    "start_time": "2023-10-29T13:33:34.375Z"
   },
   {
    "duration": 26,
    "start_time": "2023-10-29T13:33:34.380Z"
   },
   {
    "duration": 18,
    "start_time": "2023-10-29T13:33:34.408Z"
   },
   {
    "duration": 27,
    "start_time": "2023-10-29T13:33:34.428Z"
   },
   {
    "duration": 26,
    "start_time": "2023-10-29T13:33:34.458Z"
   },
   {
    "duration": 30,
    "start_time": "2023-10-29T13:33:34.486Z"
   },
   {
    "duration": 41,
    "start_time": "2023-10-29T13:33:34.517Z"
   },
   {
    "duration": 23,
    "start_time": "2023-10-29T13:33:34.561Z"
   },
   {
    "duration": 27,
    "start_time": "2023-10-29T13:33:34.586Z"
   },
   {
    "duration": 51,
    "start_time": "2023-10-30T10:47:07.350Z"
   },
   {
    "duration": 693,
    "start_time": "2023-10-30T10:47:15.650Z"
   },
   {
    "duration": 24,
    "start_time": "2023-10-30T10:47:16.346Z"
   },
   {
    "duration": 26,
    "start_time": "2023-10-30T10:47:16.372Z"
   },
   {
    "duration": 18,
    "start_time": "2023-10-30T10:47:16.401Z"
   },
   {
    "duration": 55,
    "start_time": "2023-10-30T10:47:16.421Z"
   },
   {
    "duration": 4,
    "start_time": "2023-10-30T10:47:16.478Z"
   },
   {
    "duration": 12,
    "start_time": "2023-10-30T10:47:16.484Z"
   },
   {
    "duration": 6,
    "start_time": "2023-10-30T10:47:16.498Z"
   },
   {
    "duration": 11,
    "start_time": "2023-10-30T10:47:16.506Z"
   },
   {
    "duration": 28,
    "start_time": "2023-10-30T10:47:16.521Z"
   },
   {
    "duration": 65,
    "start_time": "2023-10-30T10:47:16.552Z"
   },
   {
    "duration": 12,
    "start_time": "2023-10-30T10:47:16.618Z"
   },
   {
    "duration": 6,
    "start_time": "2023-10-30T10:47:16.632Z"
   },
   {
    "duration": 15,
    "start_time": "2023-10-30T10:47:16.640Z"
   },
   {
    "duration": 41,
    "start_time": "2023-10-30T10:47:16.656Z"
   },
   {
    "duration": 24,
    "start_time": "2023-10-30T10:47:16.699Z"
   },
   {
    "duration": 8,
    "start_time": "2023-10-30T10:47:16.724Z"
   },
   {
    "duration": 22,
    "start_time": "2023-10-30T10:47:16.733Z"
   },
   {
    "duration": 12,
    "start_time": "2023-10-30T10:47:16.757Z"
   },
   {
    "duration": 9,
    "start_time": "2023-10-30T10:47:16.771Z"
   },
   {
    "duration": 13,
    "start_time": "2023-10-30T10:47:16.782Z"
   },
   {
    "duration": 23,
    "start_time": "2023-10-30T10:47:20.558Z"
   },
   {
    "duration": 16,
    "start_time": "2023-10-30T10:47:40.891Z"
   },
   {
    "duration": 19,
    "start_time": "2023-10-30T10:47:52.772Z"
   },
   {
    "duration": 15,
    "start_time": "2023-10-30T10:50:38.516Z"
   },
   {
    "duration": 36,
    "start_time": "2023-10-30T10:54:00.436Z"
   },
   {
    "duration": 20,
    "start_time": "2023-10-30T10:54:41.814Z"
   },
   {
    "duration": 14,
    "start_time": "2023-10-30T10:59:55.857Z"
   },
   {
    "duration": 15,
    "start_time": "2023-10-30T11:02:01.339Z"
   },
   {
    "duration": 13,
    "start_time": "2023-10-30T11:02:38.734Z"
   },
   {
    "duration": 17,
    "start_time": "2023-10-30T11:02:56.303Z"
   },
   {
    "duration": 15,
    "start_time": "2023-10-30T11:07:22.887Z"
   },
   {
    "duration": 18,
    "start_time": "2023-10-30T11:07:41.172Z"
   },
   {
    "duration": 13,
    "start_time": "2023-10-30T11:07:56.611Z"
   },
   {
    "duration": 14,
    "start_time": "2023-10-30T11:19:23.688Z"
   },
   {
    "duration": 14,
    "start_time": "2023-10-30T11:19:40.228Z"
   },
   {
    "duration": 20,
    "start_time": "2023-10-30T11:19:55.511Z"
   },
   {
    "duration": 268,
    "start_time": "2023-10-30T11:21:03.358Z"
   },
   {
    "duration": 13,
    "start_time": "2023-10-30T11:21:33.223Z"
   },
   {
    "duration": 18,
    "start_time": "2023-10-30T11:22:07.423Z"
   },
   {
    "duration": 86,
    "start_time": "2023-10-30T11:35:22.169Z"
   },
   {
    "duration": 9,
    "start_time": "2023-10-30T11:35:29.863Z"
   },
   {
    "duration": 22,
    "start_time": "2023-10-30T11:35:40.569Z"
   },
   {
    "duration": 18,
    "start_time": "2023-10-30T11:36:00.954Z"
   },
   {
    "duration": 14,
    "start_time": "2023-10-30T11:36:36.994Z"
   },
   {
    "duration": 17,
    "start_time": "2023-10-30T11:36:59.939Z"
   },
   {
    "duration": 18,
    "start_time": "2023-10-30T11:42:15.423Z"
   },
   {
    "duration": 78,
    "start_time": "2023-10-30T11:42:52.116Z"
   },
   {
    "duration": 16,
    "start_time": "2023-10-30T11:42:52.196Z"
   },
   {
    "duration": 30,
    "start_time": "2023-10-30T11:42:52.214Z"
   },
   {
    "duration": 20,
    "start_time": "2023-10-30T11:42:52.247Z"
   },
   {
    "duration": 46,
    "start_time": "2023-10-30T11:42:52.269Z"
   },
   {
    "duration": 3,
    "start_time": "2023-10-30T11:42:52.317Z"
   },
   {
    "duration": 29,
    "start_time": "2023-10-30T11:42:52.321Z"
   },
   {
    "duration": 4,
    "start_time": "2023-10-30T11:42:52.352Z"
   },
   {
    "duration": 20,
    "start_time": "2023-10-30T11:42:52.358Z"
   },
   {
    "duration": 25,
    "start_time": "2023-10-30T11:42:52.380Z"
   },
   {
    "duration": 51,
    "start_time": "2023-10-30T11:42:52.407Z"
   },
   {
    "duration": 10,
    "start_time": "2023-10-30T11:42:52.460Z"
   },
   {
    "duration": 17,
    "start_time": "2023-10-30T11:42:52.472Z"
   },
   {
    "duration": 42,
    "start_time": "2023-10-30T11:42:52.491Z"
   },
   {
    "duration": 46,
    "start_time": "2023-10-30T11:42:52.535Z"
   },
   {
    "duration": 21,
    "start_time": "2023-10-30T11:42:52.583Z"
   },
   {
    "duration": 5,
    "start_time": "2023-10-30T11:42:52.605Z"
   },
   {
    "duration": 50,
    "start_time": "2023-10-30T11:42:52.611Z"
   },
   {
    "duration": 35,
    "start_time": "2023-10-30T11:42:52.663Z"
   },
   {
    "duration": 23,
    "start_time": "2023-10-30T11:42:52.700Z"
   },
   {
    "duration": 51,
    "start_time": "2023-10-30T11:42:52.725Z"
   },
   {
    "duration": 48,
    "start_time": "2023-10-30T11:42:52.778Z"
   },
   {
    "duration": 0,
    "start_time": "2023-10-30T11:42:52.827Z"
   },
   {
    "duration": 0,
    "start_time": "2023-10-30T11:42:52.829Z"
   },
   {
    "duration": 0,
    "start_time": "2023-10-30T11:42:52.830Z"
   },
   {
    "duration": 19,
    "start_time": "2023-10-30T11:51:20.848Z"
   },
   {
    "duration": 1480,
    "start_time": "2023-10-30T11:51:35.087Z"
   },
   {
    "duration": 1227,
    "start_time": "2023-10-30T11:51:52.465Z"
   },
   {
    "duration": 15,
    "start_time": "2023-10-30T11:52:21.548Z"
   },
   {
    "duration": 16,
    "start_time": "2023-10-30T11:57:02.479Z"
   },
   {
    "duration": 28,
    "start_time": "2023-10-30T11:57:43.777Z"
   },
   {
    "duration": 21,
    "start_time": "2023-10-30T11:57:56.764Z"
   },
   {
    "duration": 22,
    "start_time": "2023-10-30T11:59:12.406Z"
   },
   {
    "duration": 22,
    "start_time": "2023-10-30T12:00:19.278Z"
   },
   {
    "duration": 20,
    "start_time": "2023-10-30T12:00:46.512Z"
   },
   {
    "duration": 22,
    "start_time": "2023-10-30T12:01:28.535Z"
   },
   {
    "duration": 21,
    "start_time": "2023-10-30T12:02:08.566Z"
   },
   {
    "duration": 21,
    "start_time": "2023-10-30T12:02:23.430Z"
   },
   {
    "duration": 26,
    "start_time": "2023-10-30T12:17:34.612Z"
   },
   {
    "duration": 15,
    "start_time": "2023-10-30T12:24:08.970Z"
   },
   {
    "duration": 23,
    "start_time": "2023-10-30T12:25:14.163Z"
   },
   {
    "duration": 23,
    "start_time": "2023-10-30T12:25:46.847Z"
   },
   {
    "duration": 23,
    "start_time": "2023-10-30T12:27:19.408Z"
   },
   {
    "duration": 21,
    "start_time": "2023-10-30T12:33:03.814Z"
   },
   {
    "duration": 23,
    "start_time": "2023-10-30T12:36:01.258Z"
   },
   {
    "duration": 25,
    "start_time": "2023-10-30T12:36:30.023Z"
   },
   {
    "duration": 668,
    "start_time": "2023-10-30T14:26:37.180Z"
   },
   {
    "duration": 24,
    "start_time": "2023-10-30T14:26:37.850Z"
   },
   {
    "duration": 34,
    "start_time": "2023-10-30T14:26:37.876Z"
   },
   {
    "duration": 67,
    "start_time": "2023-10-30T14:26:37.913Z"
   },
   {
    "duration": 180,
    "start_time": "2023-10-30T14:26:37.982Z"
   },
   {
    "duration": 19,
    "start_time": "2023-10-30T14:26:38.164Z"
   },
   {
    "duration": 74,
    "start_time": "2023-10-30T14:26:38.184Z"
   },
   {
    "duration": 18,
    "start_time": "2023-10-30T14:26:38.260Z"
   },
   {
    "duration": 15,
    "start_time": "2023-10-30T14:26:38.280Z"
   },
   {
    "duration": 14,
    "start_time": "2023-10-30T14:26:38.298Z"
   },
   {
    "duration": 37,
    "start_time": "2023-10-30T14:26:38.314Z"
   },
   {
    "duration": 10,
    "start_time": "2023-10-30T14:26:38.353Z"
   },
   {
    "duration": 23,
    "start_time": "2023-10-30T14:26:38.364Z"
   },
   {
    "duration": 25,
    "start_time": "2023-10-30T14:26:38.388Z"
   },
   {
    "duration": 24,
    "start_time": "2023-10-30T14:26:38.415Z"
   },
   {
    "duration": 16,
    "start_time": "2023-10-30T14:26:38.441Z"
   },
   {
    "duration": 34,
    "start_time": "2023-10-30T14:26:38.459Z"
   },
   {
    "duration": 54,
    "start_time": "2023-10-30T14:26:38.495Z"
   },
   {
    "duration": 24,
    "start_time": "2023-10-30T14:26:38.550Z"
   },
   {
    "duration": 115,
    "start_time": "2023-10-30T14:26:38.576Z"
   },
   {
    "duration": 217,
    "start_time": "2023-10-30T14:26:38.692Z"
   },
   {
    "duration": 127,
    "start_time": "2023-10-30T14:26:38.912Z"
   },
   {
    "duration": 24,
    "start_time": "2023-10-30T14:26:39.041Z"
   },
   {
    "duration": 39,
    "start_time": "2023-10-30T14:26:39.066Z"
   },
   {
    "duration": 27,
    "start_time": "2023-10-30T14:26:39.107Z"
   }
  ],
  "colab": {
   "name": "dpp_template_part2.ipynb",
   "provenance": []
  },
  "kernelspec": {
   "display_name": "Python 3 (ipykernel)",
   "language": "python",
   "name": "python3"
  },
  "language_info": {
   "codemirror_mode": {
    "name": "ipython",
    "version": 3
   },
   "file_extension": ".py",
   "mimetype": "text/x-python",
   "name": "python",
   "nbconvert_exporter": "python",
   "pygments_lexer": "ipython3",
   "version": "3.9.19"
  },
  "toc": {
   "base_numbering": 1,
   "nav_menu": {},
   "number_sections": true,
   "sideBar": true,
   "skip_h1_title": true,
   "title_cell": "Table of Contents",
   "title_sidebar": "Contents",
   "toc_cell": false,
   "toc_position": {},
   "toc_section_display": true,
   "toc_window_display": false
  }
 },
 "nbformat": 4,
 "nbformat_minor": 5
}
