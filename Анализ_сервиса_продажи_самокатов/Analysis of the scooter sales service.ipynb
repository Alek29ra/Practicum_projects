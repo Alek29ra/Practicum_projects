{
 "cells": [
  {
   "cell_type": "markdown",
   "id": "cde2d8e0",
   "metadata": {},
   "source": [
    "# Анализ сервиса продажи самокатов\n",
    "В данных содержится информация о пользователях из нескольких городов, а также об их поездках.\n",
    "Чтобы совершать поездки по городу, пользователи сервиса GoFast пользуются мобильным приложением. Сервисом можно пользоваться:\n",
    "- без подписки\n",
    " - абонентская плата отсутствует;\n",
    " - стоимость одной минуты поездки — 8 рублей;\n",
    " - стоимость старта (начала поездки) — 50 рублей;\n",
    "- с подпиской Ultra\n",
    " - абонентская плата — 199 рублей в месяц;\n",
    " - стоимость одной минуты поездки — 6 рублей;\n",
    " - стоимость старта — бесплатно.\n",
    "\n",
    "**Цель:** Проанализировать данные и проверить некоторые гипотезы.\n",
    "\n",
    "**Этапы:**\n",
    " - Загрузка файлов и считывание данных.\n",
    " - Проверка данных на наличие несоответствия типов данных и дубликатов.\n",
    " - Описание и визуализация информации о поездках\n",
    " - Обьединение датафреймов\n",
    " - Подсчет выручки\n",
    " - Проверка гипотез\n",
    " - Общий вывод"
   ]
  },
  {
   "cell_type": "markdown",
   "id": "47c3b14b",
   "metadata": {},
   "source": [
    "**Описание данных**\n",
    "\n",
    "В основных данных есть информация о пользователях, их поездках и подписках.\n",
    "\n",
    "Пользователи — users_go.csv:\n",
    " * user_id - уникальный идентификатор пользователя\n",
    " * name - имя пользователя\n",
    " * age - возраст\n",
    " * city - город\n",
    " * subscription_type - тип подписки (free, ultra)\n",
    " \n",
    "Поездки — rides_go.csv:\n",
    " * user_id - уникальный идентификатор пользователя\n",
    " * distance - расстояние, которое пользователь проехал в текущей сессии (в метрах)\n",
    " * duration - продолжительность сессии (в минутах) — время с того момента, как пользователь нажал кнопку «Начать поездку» до момента, как он нажал кнопку «Завершить поездку»\n",
    " * date - дата совершения поездки\n",
    "\n",
    "Подписки — subscriptions_go.csv:\n",
    " * subscription_type - тип подписки\n",
    " * minute_price - стоимость одной минуты поездки по данной подписке\n",
    " * start_ride_price - стоимость начала поездки\n",
    " * subscription_fee - стоимость ежемесячного платежа"
   ]
  },
  {
   "cell_type": "markdown",
   "id": "a517b6c9",
   "metadata": {},
   "source": [
    "**Импорт библиотек**"
   ]
  },
  {
   "cell_type": "code",
   "execution_count": 20,
   "id": "72576667",
   "metadata": {},
   "outputs": [],
   "source": [
    "import pandas as pd\n",
    "import matplotlib.pyplot as plt \n",
    "from scipy import stats as st\n",
    "import numpy as np\n",
    "import seaborn as sns\n",
    "from math import factorial"
   ]
  },
  {
   "cell_type": "markdown",
   "id": "c42cbe00",
   "metadata": {},
   "source": [
    "## Шаг 1. Загрузка данных"
   ]
  },
  {
   "cell_type": "markdown",
   "id": "0e13cd71",
   "metadata": {},
   "source": [
    "### Считывание данных из файлов и их загрузка в датафремы"
   ]
  },
  {
   "cell_type": "code",
   "execution_count": 21,
   "id": "ce39c987",
   "metadata": {},
   "outputs": [],
   "source": [
    "users = pd.read_csv('/datasets/users_go.csv')\n",
    "rides = pd.read_csv('/datasets/rides_go.csv')\n",
    "subscriptions = pd.read_csv('/datasets/subscriptions_go.csv')"
   ]
  },
  {
   "cell_type": "markdown",
   "id": "4c56baac",
   "metadata": {},
   "source": [
    "### Вывод первых строк и общей информации каждого датафрейма"
   ]
  },
  {
   "cell_type": "markdown",
   "id": "ddfcbd70",
   "metadata": {},
   "source": [
    "#### Информация о пользователях"
   ]
  },
  {
   "cell_type": "code",
   "execution_count": 22,
   "id": "eff9f206",
   "metadata": {},
   "outputs": [
    {
     "data": {
      "text/html": [
       "<div>\n",
       "<style scoped>\n",
       "    .dataframe tbody tr th:only-of-type {\n",
       "        vertical-align: middle;\n",
       "    }\n",
       "\n",
       "    .dataframe tbody tr th {\n",
       "        vertical-align: top;\n",
       "    }\n",
       "\n",
       "    .dataframe thead th {\n",
       "        text-align: right;\n",
       "    }\n",
       "</style>\n",
       "<table border=\"1\" class=\"dataframe\">\n",
       "  <thead>\n",
       "    <tr style=\"text-align: right;\">\n",
       "      <th></th>\n",
       "      <th>user_id</th>\n",
       "      <th>name</th>\n",
       "      <th>age</th>\n",
       "      <th>city</th>\n",
       "      <th>subscription_type</th>\n",
       "    </tr>\n",
       "  </thead>\n",
       "  <tbody>\n",
       "    <tr>\n",
       "      <th>0</th>\n",
       "      <td>1</td>\n",
       "      <td>Кира</td>\n",
       "      <td>22</td>\n",
       "      <td>Тюмень</td>\n",
       "      <td>ultra</td>\n",
       "    </tr>\n",
       "    <tr>\n",
       "      <th>1</th>\n",
       "      <td>2</td>\n",
       "      <td>Станислав</td>\n",
       "      <td>31</td>\n",
       "      <td>Омск</td>\n",
       "      <td>ultra</td>\n",
       "    </tr>\n",
       "    <tr>\n",
       "      <th>2</th>\n",
       "      <td>3</td>\n",
       "      <td>Алексей</td>\n",
       "      <td>20</td>\n",
       "      <td>Москва</td>\n",
       "      <td>ultra</td>\n",
       "    </tr>\n",
       "    <tr>\n",
       "      <th>3</th>\n",
       "      <td>4</td>\n",
       "      <td>Константин</td>\n",
       "      <td>26</td>\n",
       "      <td>Ростов-на-Дону</td>\n",
       "      <td>ultra</td>\n",
       "    </tr>\n",
       "    <tr>\n",
       "      <th>4</th>\n",
       "      <td>5</td>\n",
       "      <td>Адель</td>\n",
       "      <td>28</td>\n",
       "      <td>Омск</td>\n",
       "      <td>ultra</td>\n",
       "    </tr>\n",
       "  </tbody>\n",
       "</table>\n",
       "</div>"
      ],
      "text/plain": [
       "   user_id        name  age            city subscription_type\n",
       "0        1        Кира   22          Тюмень             ultra\n",
       "1        2   Станислав   31            Омск             ultra\n",
       "2        3     Алексей   20          Москва             ultra\n",
       "3        4  Константин   26  Ростов-на-Дону             ultra\n",
       "4        5       Адель   28            Омск             ultra"
      ]
     },
     "execution_count": 22,
     "metadata": {},
     "output_type": "execute_result"
    }
   ],
   "source": [
    "users.head()"
   ]
  },
  {
   "cell_type": "code",
   "execution_count": 23,
   "id": "87a42d2f",
   "metadata": {},
   "outputs": [
    {
     "name": "stdout",
     "output_type": "stream",
     "text": [
      "<class 'pandas.core.frame.DataFrame'>\n",
      "RangeIndex: 1565 entries, 0 to 1564\n",
      "Data columns (total 5 columns):\n",
      " #   Column             Non-Null Count  Dtype \n",
      "---  ------             --------------  ----- \n",
      " 0   user_id            1565 non-null   int64 \n",
      " 1   name               1565 non-null   object\n",
      " 2   age                1565 non-null   int64 \n",
      " 3   city               1565 non-null   object\n",
      " 4   subscription_type  1565 non-null   object\n",
      "dtypes: int64(2), object(3)\n",
      "memory usage: 61.3+ KB\n"
     ]
    }
   ],
   "source": [
    "users.info()"
   ]
  },
  {
   "cell_type": "code",
   "execution_count": 24,
   "id": "bf4ec514",
   "metadata": {},
   "outputs": [
    {
     "data": {
      "text/html": [
       "<div>\n",
       "<style scoped>\n",
       "    .dataframe tbody tr th:only-of-type {\n",
       "        vertical-align: middle;\n",
       "    }\n",
       "\n",
       "    .dataframe tbody tr th {\n",
       "        vertical-align: top;\n",
       "    }\n",
       "\n",
       "    .dataframe thead th {\n",
       "        text-align: right;\n",
       "    }\n",
       "</style>\n",
       "<table border=\"1\" class=\"dataframe\">\n",
       "  <thead>\n",
       "    <tr style=\"text-align: right;\">\n",
       "      <th></th>\n",
       "      <th>count</th>\n",
       "      <th>mean</th>\n",
       "      <th>std</th>\n",
       "      <th>min</th>\n",
       "      <th>25%</th>\n",
       "      <th>50%</th>\n",
       "      <th>75%</th>\n",
       "      <th>max</th>\n",
       "    </tr>\n",
       "  </thead>\n",
       "  <tbody>\n",
       "    <tr>\n",
       "      <th>user_id</th>\n",
       "      <td>1565.0</td>\n",
       "      <td>762.633866</td>\n",
       "      <td>443.260155</td>\n",
       "      <td>1.0</td>\n",
       "      <td>378.0</td>\n",
       "      <td>762.0</td>\n",
       "      <td>1146.0</td>\n",
       "      <td>1534.0</td>\n",
       "    </tr>\n",
       "    <tr>\n",
       "      <th>age</th>\n",
       "      <td>1565.0</td>\n",
       "      <td>24.922045</td>\n",
       "      <td>4.553496</td>\n",
       "      <td>12.0</td>\n",
       "      <td>22.0</td>\n",
       "      <td>25.0</td>\n",
       "      <td>28.0</td>\n",
       "      <td>43.0</td>\n",
       "    </tr>\n",
       "  </tbody>\n",
       "</table>\n",
       "</div>"
      ],
      "text/plain": [
       "          count        mean         std   min    25%    50%     75%     max\n",
       "user_id  1565.0  762.633866  443.260155   1.0  378.0  762.0  1146.0  1534.0\n",
       "age      1565.0   24.922045    4.553496  12.0   22.0   25.0    28.0    43.0"
      ]
     },
     "execution_count": 24,
     "metadata": {},
     "output_type": "execute_result"
    }
   ],
   "source": [
    "users.describe().T"
   ]
  },
  {
   "cell_type": "code",
   "execution_count": 25,
   "id": "6047581f",
   "metadata": {},
   "outputs": [
    {
     "data": {
      "image/png": "[encoded data removed]",
      "text/plain": [
       "<Figure size 720x360 with 1 Axes>"
      ]
     },
     "metadata": {
      "needs_background": "light"
     },
     "output_type": "display_data"
    }
   ],
   "source": [
    "users['age'].hist(figsize = (10, 5));\n",
    "plt.title('Распределение пользователей по возрастам')\n",
    "plt.xlabel('Возраст')\n",
    "plt.ylabel('Количество пользователей');"
   ]
  },
  {
   "cell_type": "markdown",
   "id": "216aa354",
   "metadata": {},
   "source": [
    "Пропусков нет, аномальных значений в возрасте не наблюдается, проблем в типах данных не обнаружено. Распределение значений на графике близко к нормальному."
   ]
  },
  {
   "cell_type": "markdown",
   "id": "60ec3cd3",
   "metadata": {},
   "source": [
    "#### Информация о поездках"
   ]
  },
  {
   "cell_type": "code",
   "execution_count": 26,
   "id": "591ebf86",
   "metadata": {},
   "outputs": [
    {
     "data": {
      "text/html": [
       "<div>\n",
       "<style scoped>\n",
       "    .dataframe tbody tr th:only-of-type {\n",
       "        vertical-align: middle;\n",
       "    }\n",
       "\n",
       "    .dataframe tbody tr th {\n",
       "        vertical-align: top;\n",
       "    }\n",
       "\n",
       "    .dataframe thead th {\n",
       "        text-align: right;\n",
       "    }\n",
       "</style>\n",
       "<table border=\"1\" class=\"dataframe\">\n",
       "  <thead>\n",
       "    <tr style=\"text-align: right;\">\n",
       "      <th></th>\n",
       "      <th>user_id</th>\n",
       "      <th>distance</th>\n",
       "      <th>duration</th>\n",
       "      <th>date</th>\n",
       "    </tr>\n",
       "  </thead>\n",
       "  <tbody>\n",
       "    <tr>\n",
       "      <th>0</th>\n",
       "      <td>1</td>\n",
       "      <td>4409.919140</td>\n",
       "      <td>25.599769</td>\n",
       "      <td>2021-01-01</td>\n",
       "    </tr>\n",
       "    <tr>\n",
       "      <th>1</th>\n",
       "      <td>1</td>\n",
       "      <td>2617.592153</td>\n",
       "      <td>15.816871</td>\n",
       "      <td>2021-01-18</td>\n",
       "    </tr>\n",
       "    <tr>\n",
       "      <th>2</th>\n",
       "      <td>1</td>\n",
       "      <td>754.159807</td>\n",
       "      <td>6.232113</td>\n",
       "      <td>2021-04-20</td>\n",
       "    </tr>\n",
       "    <tr>\n",
       "      <th>3</th>\n",
       "      <td>1</td>\n",
       "      <td>2694.783254</td>\n",
       "      <td>18.511000</td>\n",
       "      <td>2021-08-11</td>\n",
       "    </tr>\n",
       "    <tr>\n",
       "      <th>4</th>\n",
       "      <td>1</td>\n",
       "      <td>4028.687306</td>\n",
       "      <td>26.265803</td>\n",
       "      <td>2021-08-28</td>\n",
       "    </tr>\n",
       "  </tbody>\n",
       "</table>\n",
       "</div>"
      ],
      "text/plain": [
       "   user_id     distance   duration        date\n",
       "0        1  4409.919140  25.599769  2021-01-01\n",
       "1        1  2617.592153  15.816871  2021-01-18\n",
       "2        1   754.159807   6.232113  2021-04-20\n",
       "3        1  2694.783254  18.511000  2021-08-11\n",
       "4        1  4028.687306  26.265803  2021-08-28"
      ]
     },
     "execution_count": 26,
     "metadata": {},
     "output_type": "execute_result"
    }
   ],
   "source": [
    "rides.head()"
   ]
  },
  {
   "cell_type": "code",
   "execution_count": 27,
   "id": "36ce4231",
   "metadata": {},
   "outputs": [
    {
     "name": "stdout",
     "output_type": "stream",
     "text": [
      "<class 'pandas.core.frame.DataFrame'>\n",
      "RangeIndex: 18068 entries, 0 to 18067\n",
      "Data columns (total 4 columns):\n",
      " #   Column    Non-Null Count  Dtype  \n",
      "---  ------    --------------  -----  \n",
      " 0   user_id   18068 non-null  int64  \n",
      " 1   distance  18068 non-null  float64\n",
      " 2   duration  18068 non-null  float64\n",
      " 3   date      18068 non-null  object \n",
      "dtypes: float64(2), int64(1), object(1)\n",
      "memory usage: 564.8+ KB\n"
     ]
    }
   ],
   "source": [
    "rides.info()"
   ]
  },
  {
   "cell_type": "code",
   "execution_count": 28,
   "id": "1d7cd789",
   "metadata": {},
   "outputs": [
    {
     "data": {
      "text/html": [
       "<div>\n",
       "<style scoped>\n",
       "    .dataframe tbody tr th:only-of-type {\n",
       "        vertical-align: middle;\n",
       "    }\n",
       "\n",
       "    .dataframe tbody tr th {\n",
       "        vertical-align: top;\n",
       "    }\n",
       "\n",
       "    .dataframe thead th {\n",
       "        text-align: right;\n",
       "    }\n",
       "</style>\n",
       "<table border=\"1\" class=\"dataframe\">\n",
       "  <thead>\n",
       "    <tr style=\"text-align: right;\">\n",
       "      <th></th>\n",
       "      <th>count</th>\n",
       "      <th>mean</th>\n",
       "      <th>std</th>\n",
       "      <th>min</th>\n",
       "      <th>25%</th>\n",
       "      <th>50%</th>\n",
       "      <th>75%</th>\n",
       "      <th>max</th>\n",
       "    </tr>\n",
       "  </thead>\n",
       "  <tbody>\n",
       "    <tr>\n",
       "      <th>user_id</th>\n",
       "      <td>18068.0</td>\n",
       "      <td>842.869936</td>\n",
       "      <td>434.734317</td>\n",
       "      <td>1.000000</td>\n",
       "      <td>487.000000</td>\n",
       "      <td>889.000000</td>\n",
       "      <td>1213.250000</td>\n",
       "      <td>1534.000000</td>\n",
       "    </tr>\n",
       "    <tr>\n",
       "      <th>distance</th>\n",
       "      <td>18068.0</td>\n",
       "      <td>3070.659976</td>\n",
       "      <td>1116.831209</td>\n",
       "      <td>0.855683</td>\n",
       "      <td>2543.226360</td>\n",
       "      <td>3133.609994</td>\n",
       "      <td>3776.222735</td>\n",
       "      <td>7211.007745</td>\n",
       "    </tr>\n",
       "    <tr>\n",
       "      <th>duration</th>\n",
       "      <td>18068.0</td>\n",
       "      <td>17.805011</td>\n",
       "      <td>6.091051</td>\n",
       "      <td>0.500000</td>\n",
       "      <td>13.597563</td>\n",
       "      <td>17.678395</td>\n",
       "      <td>21.724800</td>\n",
       "      <td>40.823963</td>\n",
       "    </tr>\n",
       "  </tbody>\n",
       "</table>\n",
       "</div>"
      ],
      "text/plain": [
       "            count         mean          std       min          25%  \\\n",
       "user_id   18068.0   842.869936   434.734317  1.000000   487.000000   \n",
       "distance  18068.0  3070.659976  1116.831209  0.855683  2543.226360   \n",
       "duration  18068.0    17.805011     6.091051  0.500000    13.597563   \n",
       "\n",
       "                  50%          75%          max  \n",
       "user_id    889.000000  1213.250000  1534.000000  \n",
       "distance  3133.609994  3776.222735  7211.007745  \n",
       "duration    17.678395    21.724800    40.823963  "
      ]
     },
     "execution_count": 28,
     "metadata": {},
     "output_type": "execute_result"
    }
   ],
   "source": [
    "rides.describe().T"
   ]
  },
  {
   "cell_type": "code",
   "execution_count": 29,
   "id": "5d098aec",
   "metadata": {},
   "outputs": [
    {
     "data": {
      "image/png": "[encoded data removed]",
      "text/plain": [
       "<Figure size 504x360 with 1 Axes>"
      ]
     },
     "metadata": {
      "needs_background": "light"
     },
     "output_type": "display_data"
    }
   ],
   "source": [
    "rides['distance'].hist(figsize = (7, 5));\n",
    "plt.title('Распределение значений расстояния')\n",
    "plt.xlabel('Расстояние(м)');"
   ]
  },
  {
   "cell_type": "code",
   "execution_count": 30,
   "id": "fb9a1a67",
   "metadata": {},
   "outputs": [
    {
     "data": {
      "image/png": "[encoded data removed]",
      "text/plain": [
       "<Figure size 504x360 with 1 Axes>"
      ]
     },
     "metadata": {
      "needs_background": "light"
     },
     "output_type": "display_data"
    }
   ],
   "source": [
    "rides['duration'].hist(figsize = (7, 5))\n",
    "plt.title('Распределение значений продолжительности поездок')\n",
    "plt.xlabel('Время(минуты)');"
   ]
  },
  {
   "cell_type": "markdown",
   "id": "300f752b",
   "metadata": {},
   "source": [
    "В целом все хорошо, также нет пропусков, сильных отклонений в графиках и аномально больших и малых значений, но нужно изменить тип данных у столбца 'date'"
   ]
  },
  {
   "cell_type": "markdown",
   "id": "47537684",
   "metadata": {},
   "source": [
    "#### Информация о подписках"
   ]
  },
  {
   "cell_type": "code",
   "execution_count": 31,
   "id": "906c7ca9",
   "metadata": {},
   "outputs": [
    {
     "data": {
      "text/html": [
       "<div>\n",
       "<style scoped>\n",
       "    .dataframe tbody tr th:only-of-type {\n",
       "        vertical-align: middle;\n",
       "    }\n",
       "\n",
       "    .dataframe tbody tr th {\n",
       "        vertical-align: top;\n",
       "    }\n",
       "\n",
       "    .dataframe thead th {\n",
       "        text-align: right;\n",
       "    }\n",
       "</style>\n",
       "<table border=\"1\" class=\"dataframe\">\n",
       "  <thead>\n",
       "    <tr style=\"text-align: right;\">\n",
       "      <th></th>\n",
       "      <th>subscription_type</th>\n",
       "      <th>minute_price</th>\n",
       "      <th>start_ride_price</th>\n",
       "      <th>subscription_fee</th>\n",
       "    </tr>\n",
       "  </thead>\n",
       "  <tbody>\n",
       "    <tr>\n",
       "      <th>0</th>\n",
       "      <td>free</td>\n",
       "      <td>8</td>\n",
       "      <td>50</td>\n",
       "      <td>0</td>\n",
       "    </tr>\n",
       "    <tr>\n",
       "      <th>1</th>\n",
       "      <td>ultra</td>\n",
       "      <td>6</td>\n",
       "      <td>0</td>\n",
       "      <td>199</td>\n",
       "    </tr>\n",
       "  </tbody>\n",
       "</table>\n",
       "</div>"
      ],
      "text/plain": [
       "  subscription_type  minute_price  start_ride_price  subscription_fee\n",
       "0              free             8                50                 0\n",
       "1             ultra             6                 0               199"
      ]
     },
     "execution_count": 31,
     "metadata": {},
     "output_type": "execute_result"
    }
   ],
   "source": [
    "subscriptions.head()"
   ]
  },
  {
   "cell_type": "code",
   "execution_count": 32,
   "id": "3c80f371",
   "metadata": {},
   "outputs": [
    {
     "name": "stdout",
     "output_type": "stream",
     "text": [
      "<class 'pandas.core.frame.DataFrame'>\n",
      "RangeIndex: 2 entries, 0 to 1\n",
      "Data columns (total 4 columns):\n",
      " #   Column             Non-Null Count  Dtype \n",
      "---  ------             --------------  ----- \n",
      " 0   subscription_type  2 non-null      object\n",
      " 1   minute_price       2 non-null      int64 \n",
      " 2   start_ride_price   2 non-null      int64 \n",
      " 3   subscription_fee   2 non-null      int64 \n",
      "dtypes: int64(3), object(1)\n",
      "memory usage: 192.0+ bytes\n"
     ]
    }
   ],
   "source": [
    "subscriptions.info()"
   ]
  },
  {
   "cell_type": "code",
   "execution_count": 33,
   "id": "fa77e062",
   "metadata": {},
   "outputs": [
    {
     "data": {
      "text/html": [
       "<div>\n",
       "<style scoped>\n",
       "    .dataframe tbody tr th:only-of-type {\n",
       "        vertical-align: middle;\n",
       "    }\n",
       "\n",
       "    .dataframe tbody tr th {\n",
       "        vertical-align: top;\n",
       "    }\n",
       "\n",
       "    .dataframe thead th {\n",
       "        text-align: right;\n",
       "    }\n",
       "</style>\n",
       "<table border=\"1\" class=\"dataframe\">\n",
       "  <thead>\n",
       "    <tr style=\"text-align: right;\">\n",
       "      <th></th>\n",
       "      <th>count</th>\n",
       "      <th>mean</th>\n",
       "      <th>std</th>\n",
       "      <th>min</th>\n",
       "      <th>25%</th>\n",
       "      <th>50%</th>\n",
       "      <th>75%</th>\n",
       "      <th>max</th>\n",
       "    </tr>\n",
       "  </thead>\n",
       "  <tbody>\n",
       "    <tr>\n",
       "      <th>minute_price</th>\n",
       "      <td>2.0</td>\n",
       "      <td>7.0</td>\n",
       "      <td>1.414214</td>\n",
       "      <td>6.0</td>\n",
       "      <td>6.50</td>\n",
       "      <td>7.0</td>\n",
       "      <td>7.50</td>\n",
       "      <td>8.0</td>\n",
       "    </tr>\n",
       "    <tr>\n",
       "      <th>start_ride_price</th>\n",
       "      <td>2.0</td>\n",
       "      <td>25.0</td>\n",
       "      <td>35.355339</td>\n",
       "      <td>0.0</td>\n",
       "      <td>12.50</td>\n",
       "      <td>25.0</td>\n",
       "      <td>37.50</td>\n",
       "      <td>50.0</td>\n",
       "    </tr>\n",
       "    <tr>\n",
       "      <th>subscription_fee</th>\n",
       "      <td>2.0</td>\n",
       "      <td>99.5</td>\n",
       "      <td>140.714249</td>\n",
       "      <td>0.0</td>\n",
       "      <td>49.75</td>\n",
       "      <td>99.5</td>\n",
       "      <td>149.25</td>\n",
       "      <td>199.0</td>\n",
       "    </tr>\n",
       "  </tbody>\n",
       "</table>\n",
       "</div>"
      ],
      "text/plain": [
       "                  count  mean         std  min    25%   50%     75%    max\n",
       "minute_price        2.0   7.0    1.414214  6.0   6.50   7.0    7.50    8.0\n",
       "start_ride_price    2.0  25.0   35.355339  0.0  12.50  25.0   37.50   50.0\n",
       "subscription_fee    2.0  99.5  140.714249  0.0  49.75  99.5  149.25  199.0"
      ]
     },
     "execution_count": 33,
     "metadata": {},
     "output_type": "execute_result"
    }
   ],
   "source": [
    "subscriptions.describe().T"
   ]
  },
  {
   "cell_type": "markdown",
   "id": "a08ecd8e",
   "metadata": {},
   "source": [
    "С данными и типами данных все в порядке."
   ]
  },
  {
   "cell_type": "markdown",
   "id": "e95ebca7",
   "metadata": {},
   "source": [
    "## Шаг 2. Предобработка данных"
   ]
  },
  {
   "cell_type": "markdown",
   "id": "b6326eaa",
   "metadata": {},
   "source": [
    "### Изменение типа данных у столбца date "
   ]
  },
  {
   "cell_type": "code",
   "execution_count": 34,
   "id": "e337b711",
   "metadata": {},
   "outputs": [
    {
     "name": "stdout",
     "output_type": "stream",
     "text": [
      "<class 'pandas.core.frame.DataFrame'>\n",
      "RangeIndex: 18068 entries, 0 to 18067\n",
      "Data columns (total 4 columns):\n",
      " #   Column    Non-Null Count  Dtype         \n",
      "---  ------    --------------  -----         \n",
      " 0   user_id   18068 non-null  int64         \n",
      " 1   distance  18068 non-null  float64       \n",
      " 2   duration  18068 non-null  float64       \n",
      " 3   date      18068 non-null  datetime64[ns]\n",
      "dtypes: datetime64[ns](1), float64(2), int64(1)\n",
      "memory usage: 564.8 KB\n"
     ]
    }
   ],
   "source": [
    "rides['date'] = pd.to_datetime(rides['date'], format = '%Y-%m-%d')\n",
    "rides.info()"
   ]
  },
  {
   "cell_type": "markdown",
   "id": "1d0408c6",
   "metadata": {},
   "source": [
    "### Создание нового столбца с номером месяца"
   ]
  },
  {
   "cell_type": "markdown",
   "id": "7282ffb9",
   "metadata": {},
   "source": [
    "Проверим за сколько лет содержаться данные в таблице о пользователях, т.к. если представлены данные за несколько лет, то месяца разных годов могут слится в один."
   ]
  },
  {
   "cell_type": "code",
   "execution_count": 35,
   "id": "b3b2ea9b",
   "metadata": {},
   "outputs": [
    {
     "data": {
      "text/plain": [
       "array([2021])"
      ]
     },
     "execution_count": 35,
     "metadata": {},
     "output_type": "execute_result"
    }
   ],
   "source": [
    "rides['date'].dt.year.unique()"
   ]
  },
  {
   "cell_type": "markdown",
   "id": "8f1a850d",
   "metadata": {},
   "source": [
    "Данные предоставлены за один год, поэтому можно применить следующий метод"
   ]
  },
  {
   "cell_type": "code",
   "execution_count": 36,
   "id": "619c22a3",
   "metadata": {},
   "outputs": [
    {
     "name": "stdout",
     "output_type": "stream",
     "text": [
      "<class 'pandas.core.frame.DataFrame'>\n",
      "RangeIndex: 18068 entries, 0 to 18067\n",
      "Data columns (total 5 columns):\n",
      " #   Column    Non-Null Count  Dtype         \n",
      "---  ------    --------------  -----         \n",
      " 0   user_id   18068 non-null  int64         \n",
      " 1   distance  18068 non-null  float64       \n",
      " 2   duration  18068 non-null  float64       \n",
      " 3   date      18068 non-null  datetime64[ns]\n",
      " 4   month     18068 non-null  int64         \n",
      "dtypes: datetime64[ns](1), float64(2), int64(2)\n",
      "memory usage: 705.9 KB\n"
     ]
    }
   ],
   "source": [
    "rides['month'] = rides['date'].dt.month\n",
    "rides.head()\n",
    "rides.info()"
   ]
  },
  {
   "cell_type": "markdown",
   "id": "087c0ee8",
   "metadata": {},
   "source": [
    "### Проверка на наличие пропущенных значений и дубликатов в датафреймах."
   ]
  },
  {
   "cell_type": "markdown",
   "id": "970d21c3",
   "metadata": {},
   "source": [
    "Проверим на наличие пропусков с помощью комбинации методов."
   ]
  },
  {
   "cell_type": "code",
   "execution_count": 37,
   "id": "32a1c357",
   "metadata": {},
   "outputs": [
    {
     "name": "stdout",
     "output_type": "stream",
     "text": [
      "Пропуски в таблице \"users\" \n",
      " user_id              0\n",
      "name                 0\n",
      "age                  0\n",
      "city                 0\n",
      "subscription_type    0\n",
      "dtype: int64\n",
      "\n",
      "Пропуски в таблице \"rides\" \n",
      " user_id     0\n",
      "distance    0\n",
      "duration    0\n",
      "date        0\n",
      "month       0\n",
      "dtype: int64\n",
      "\n",
      "Пропуски в таблице \"subcriptions\" \n",
      " subscription_type    0\n",
      "minute_price         0\n",
      "start_ride_price     0\n",
      "subscription_fee     0\n",
      "dtype: int64\n"
     ]
    }
   ],
   "source": [
    "print('Пропуски в таблице \"users\" \\n', users.isna().sum())\n",
    "print()\n",
    "print('Пропуски в таблице \"rides\" \\n', rides.isna().sum())\n",
    "print()\n",
    "print('Пропуски в таблице \"subcriptions\" \\n', subscriptions.isna().sum())"
   ]
  },
  {
   "cell_type": "markdown",
   "id": "0d93e203",
   "metadata": {},
   "source": [
    "#### Проверка на наличие явных дубликатов"
   ]
  },
  {
   "cell_type": "code",
   "execution_count": 38,
   "id": "83c04ea9",
   "metadata": {},
   "outputs": [
    {
     "name": "stdout",
     "output_type": "stream",
     "text": [
      "Явных дубликатов в таблице \"users\" 31\n",
      "\n",
      "Явных дубликатов в таблице \"rides\" 0\n",
      "\n",
      "Явных дубликатов в таблице \"subcriptions\" 0\n"
     ]
    }
   ],
   "source": [
    "print('Явных дубликатов в таблице \"users\"', users.duplicated().sum())\n",
    "print()\n",
    "print('Явных дубликатов в таблице \"rides\"', rides.duplicated().sum())\n",
    "print()\n",
    "print('Явных дубликатов в таблице \"subcriptions\"', subscriptions.duplicated().sum())"
   ]
  },
  {
   "cell_type": "code",
   "execution_count": 39,
   "id": "9e4ae41f",
   "metadata": {},
   "outputs": [
    {
     "name": "stdout",
     "output_type": "stream",
     "text": [
      "Явных дубликатов в таблице \"users\" 0\n"
     ]
    }
   ],
   "source": [
    "users = users.drop_duplicates().reset_index(drop = True)\n",
    "print('Явных дубликатов в таблице \"users\"', users.duplicated().sum())"
   ]
  },
  {
   "cell_type": "markdown",
   "id": "41eb689f",
   "metadata": {},
   "source": [
    "#### Проверка на наличие неявных дубликатов"
   ]
  },
  {
   "cell_type": "markdown",
   "id": "706c88cd",
   "metadata": {},
   "source": [
    "Проверим названия городов в таблице пользователей на наличие неявных дубликатов"
   ]
  },
  {
   "cell_type": "code",
   "execution_count": 40,
   "id": "09e8d790",
   "metadata": {},
   "outputs": [
    {
     "data": {
      "text/plain": [
       "array(['Екатеринбург', 'Краснодар', 'Москва', 'Омск', 'Пятигорск',\n",
       "       'Ростов-на-Дону', 'Сочи', 'Тюмень'], dtype=object)"
      ]
     },
     "execution_count": 40,
     "metadata": {},
     "output_type": "execute_result"
    }
   ],
   "source": [
    "users['city'].sort_values().unique()"
   ]
  },
  {
   "cell_type": "markdown",
   "id": "7da523a6",
   "metadata": {},
   "source": [
    "**Вывод**\n",
    "\n",
    "Изменен тип данных у столбца с датами на корректный формат, добавлен столбец с номером месяца.\n",
    "\n",
    "При проверке таблиц пропуски не обнаружены, явные дубликаты содержались в таблице 'users' и были удалены. Неявные дубликаты также не выявлены."
   ]
  },
  {
   "cell_type": "markdown",
   "id": "212593c7",
   "metadata": {},
   "source": [
    "## Шаг 3. Исследовательский анализ данных"
   ]
  },
  {
   "cell_type": "markdown",
   "id": "e48636b5",
   "metadata": {},
   "source": [
    "В разделе будем описывать и визуализировать общую информацию о пользователях и поездках:\n",
    " - частота встречаемости городов;\n",
    " - соотношение пользователей с подпиской и без подписки;\n",
    " - возраст пользователей;\n",
    " - расстояние, которое пользователь преодолел за одну поездку;\n",
    " - продолжительность поездок."
   ]
  },
  {
   "cell_type": "markdown",
   "id": "9f1e055e",
   "metadata": {},
   "source": [
    "### Частота встречаемости городов"
   ]
  },
  {
   "cell_type": "code",
   "execution_count": 41,
   "id": "081e8484",
   "metadata": {},
   "outputs": [
    {
     "data": {
      "text/plain": [
       "Пятигорск         219\n",
       "Екатеринбург      204\n",
       "Ростов-на-Дону    198\n",
       "Краснодар         193\n",
       "Сочи              189\n",
       "Омск              183\n",
       "Тюмень            180\n",
       "Москва            168\n",
       "Name: city, dtype: int64"
      ]
     },
     "execution_count": 41,
     "metadata": {},
     "output_type": "execute_result"
    }
   ],
   "source": [
    "cities = users['city'].value_counts()\n",
    "cities"
   ]
  },
  {
   "cell_type": "code",
   "execution_count": 42,
   "id": "5f2ff40e",
   "metadata": {},
   "outputs": [
    {
     "data": {
      "image/png": "[encoded data removed]",
      "text/plain": [
       "<Figure size 720x504 with 1 Axes>"
      ]
     },
     "metadata": {
      "needs_background": "light"
     },
     "output_type": "display_data"
    }
   ],
   "source": [
    "cities.sort_values().plot(kind = 'barh', figsize = (10, 7))\n",
    "\n",
    "plt.title('Распределение количества городов')\n",
    "plt.ylabel('Название города')\n",
    "plt.xlabel('частота встречаемости');"
   ]
  },
  {
   "cell_type": "markdown",
   "id": "79f1904c",
   "metadata": {},
   "source": [
    "Из диаграммы можно сделать следующие выводы:\n",
    " - Чаще всего в таблице встречается город с названием \"Пятигорск\"\n",
    " - Меньше всего упоминается Москва\n",
    " - Города распределены равномерно"
   ]
  },
  {
   "cell_type": "markdown",
   "id": "74b1adcc",
   "metadata": {},
   "source": [
    "### Соотношение пользователей с подпиской и без подписки"
   ]
  },
  {
   "cell_type": "code",
   "execution_count": 43,
   "id": "18845f09",
   "metadata": {},
   "outputs": [
    {
     "data": {
      "image/png": "[encoded data removed]",
      "text/plain": [
       "<Figure size 504x504 with 1 Axes>"
      ]
     },
     "metadata": {},
     "output_type": "display_data"
    }
   ],
   "source": [
    "users['subscription_type'].value_counts().plot(\n",
    "    kind = 'pie',\n",
    "    figsize = (7, 7),\n",
    "    autopct = '%0.f%%',\n",
    "    title = 'Соотношение пользователей по типу подписки'\n",
    ");"
   ]
  },
  {
   "cell_type": "markdown",
   "id": "c42a2b06",
   "metadata": {},
   "source": [
    "Пользователей без подписки больше, чем тех, кто оформил подписку."
   ]
  },
  {
   "cell_type": "markdown",
   "id": "55be6cd0",
   "metadata": {},
   "source": [
    "### Возраст пользователей"
   ]
  },
  {
   "cell_type": "code",
   "execution_count": 44,
   "id": "d63a622e",
   "metadata": {},
   "outputs": [
    {
     "data": {
      "image/png": "[encoded data removed]",
      "text/plain": [
       "<Figure size 864x504 with 1 Axes>"
      ]
     },
     "metadata": {
      "needs_background": "light"
     },
     "output_type": "display_data"
    }
   ],
   "source": [
    "users['age'].plot(\n",
    "    kind = 'hist',\n",
    "    figsize = (12, 7),\n",
    "    bins = 50,\n",
    "    title = 'Соотношение возраста пользователей'\n",
    ")\n",
    "plt.xlabel('Возраст')\n",
    "plt.ylabel('Пользователи');"
   ]
  },
  {
   "cell_type": "code",
   "execution_count": 45,
   "id": "8ed1f6ff",
   "metadata": {},
   "outputs": [
    {
     "data": {
      "text/plain": [
       "count    1534.000000\n",
       "mean       24.903520\n",
       "std         4.572367\n",
       "min        12.000000\n",
       "25%        22.000000\n",
       "50%        25.000000\n",
       "75%        28.000000\n",
       "max        43.000000\n",
       "Name: age, dtype: float64"
      ]
     },
     "execution_count": 45,
     "metadata": {},
     "output_type": "execute_result"
    }
   ],
   "source": [
    "age = users['age']\n",
    "age.describe()"
   ]
  },
  {
   "cell_type": "markdown",
   "id": "49b60146",
   "metadata": {},
   "source": [
    "Большую часть пользователей составляют от 22 до 28 лет. Меньше всего используют самокаты для передвижения следующие возрастные группы:\n",
    " - до 18 лет\n",
    " - после 32\n",
    " - люди за 40 предпочитают их вовсе не использовать"
   ]
  },
  {
   "cell_type": "markdown",
   "id": "83bf70d0",
   "metadata": {},
   "source": [
    "### Расстояние, которое пользователь преодолел за одну поездку"
   ]
  },
  {
   "cell_type": "code",
   "execution_count": 46,
   "id": "f79b6cf7",
   "metadata": {},
   "outputs": [
    {
     "data": {
      "image/png": "[encoded data removed]",
      "text/plain": [
       "<Figure size 864x504 with 1 Axes>"
      ]
     },
     "metadata": {
      "needs_background": "light"
     },
     "output_type": "display_data"
    }
   ],
   "source": [
    "rides['distance'].plot(\n",
    "    kind = 'hist',\n",
    "    figsize = (12, 7),\n",
    "    bins = 100,\n",
    "    xlim = (0, 6000),\n",
    "    title = 'Расстояние за одну поездку'\n",
    ")\n",
    "plt.xlabel('Расстояние в метрах')\n",
    "plt.ylabel('Пользователи');"
   ]
  },
  {
   "cell_type": "code",
   "execution_count": 47,
   "id": "f3b0ea0a",
   "metadata": {},
   "outputs": [
    {
     "data": {
      "text/plain": [
       "7211.01"
      ]
     },
     "execution_count": 47,
     "metadata": {},
     "output_type": "execute_result"
    }
   ],
   "source": [
    "max_distance = round(rides['distance'].max(), 2)\n",
    "max_distance"
   ]
  },
  {
   "cell_type": "markdown",
   "id": "c4e5cad5",
   "metadata": {},
   "source": [
    "В большинстве случаев преодолевают расстояния от 2800 до 3200 метров, ещё наблюдается пик значений от 500 до 1000 метров. Самое большое расстояние составляет примерно 7200 метров, но это единичные случаи."
   ]
  },
  {
   "cell_type": "markdown",
   "id": "f388ac55",
   "metadata": {},
   "source": [
    "### Продолжительность поездок"
   ]
  },
  {
   "cell_type": "code",
   "execution_count": 48,
   "id": "155300a9",
   "metadata": {},
   "outputs": [
    {
     "data": {
      "image/png": "[encoded data removed]",
      "text/plain": [
       "<Figure size 864x504 with 1 Axes>"
      ]
     },
     "metadata": {
      "needs_background": "light"
     },
     "output_type": "display_data"
    }
   ],
   "source": [
    "rides['duration'].plot(\n",
    "    kind = 'hist',\n",
    "    figsize = (12, 7),\n",
    "    bins = 50,\n",
    "    xlim = (0, 40),\n",
    "    title = 'Продолжительность поездки'\n",
    ")\n",
    "plt.xlabel('Время в минутах')\n",
    "plt.ylabel('Пользователи');"
   ]
  },
  {
   "cell_type": "code",
   "execution_count": 49,
   "id": "9d8131e9",
   "metadata": {},
   "outputs": [
    {
     "data": {
      "text/plain": [
       "17.81"
      ]
     },
     "execution_count": 49,
     "metadata": {},
     "output_type": "execute_result"
    }
   ],
   "source": [
    "mean_time = round(rides['duration'].mean(), 2)\n",
    "mean_time"
   ]
  },
  {
   "cell_type": "markdown",
   "id": "23e03bc5",
   "metadata": {},
   "source": [
    "Большинство поездок имеют продолжительность от 12 до 20 минут, наблюдается небольшой пик значений около нуля, который нужно рассмотреть. Среднее время поездок составляет примерно 18 минут, ещё можно заметить, что идет значительный спад после 25 минут использования самоката."
   ]
  },
  {
   "cell_type": "code",
   "execution_count": 50,
   "id": "60817792",
   "metadata": {},
   "outputs": [
    {
     "name": "stdout",
     "output_type": "stream",
     "text": [
      "12013    0.5\n",
      "17314    0.5\n",
      "15029    0.5\n",
      "7437     0.5\n",
      "12967    0.5\n",
      "Name: duration, dtype: float64\n",
      "AxesSubplot(0.125,0.125;0.775x0.755)\n"
     ]
    },
    {
     "data": {
      "image/png": "[encoded data removed]",
      "text/plain": [
       "<Figure size 504x504 with 1 Axes>"
      ]
     },
     "metadata": {
      "needs_background": "light"
     },
     "output_type": "display_data"
    }
   ],
   "source": [
    "print(rides['duration'].sort_values().head())\n",
    "print(rides.boxplot(column = 'duration', figsize = (7, 7)))"
   ]
  },
  {
   "cell_type": "markdown",
   "id": "09b7864f",
   "metadata": {},
   "source": [
    "Либо люди быстро передумывали брать самокат, либо это ошибка при заполнении данных. Посмотрим сколько всего таких значений"
   ]
  },
  {
   "cell_type": "code",
   "execution_count": 51,
   "id": "802146a7",
   "metadata": {},
   "outputs": [
    {
     "data": {
      "text/plain": [
       "95"
      ]
     },
     "execution_count": 51,
     "metadata": {},
     "output_type": "execute_result"
    }
   ],
   "source": [
    "min_duration = rides.query('duration == 0.5')\n",
    "min_duration['duration'].count()"
   ]
  },
  {
   "cell_type": "markdown",
   "id": "4ef51331",
   "metadata": {},
   "source": [
    "## Шаг 4. Объединение данных"
   ]
  },
  {
   "cell_type": "markdown",
   "id": "c6add267",
   "metadata": {},
   "source": [
    "### Обьединение данных о ползователях, поездках и подписках в один датафрейм"
   ]
  },
  {
   "cell_type": "code",
   "execution_count": 52,
   "id": "99693fae",
   "metadata": {
    "scrolled": true
   },
   "outputs": [
    {
     "data": {
      "text/html": [
       "<div>\n",
       "<style scoped>\n",
       "    .dataframe tbody tr th:only-of-type {\n",
       "        vertical-align: middle;\n",
       "    }\n",
       "\n",
       "    .dataframe tbody tr th {\n",
       "        vertical-align: top;\n",
       "    }\n",
       "\n",
       "    .dataframe thead th {\n",
       "        text-align: right;\n",
       "    }\n",
       "</style>\n",
       "<table border=\"1\" class=\"dataframe\">\n",
       "  <thead>\n",
       "    <tr style=\"text-align: right;\">\n",
       "      <th></th>\n",
       "      <th>user_id</th>\n",
       "      <th>name</th>\n",
       "      <th>age</th>\n",
       "      <th>city</th>\n",
       "      <th>subscription_type</th>\n",
       "      <th>distance</th>\n",
       "      <th>duration</th>\n",
       "      <th>date</th>\n",
       "      <th>month</th>\n",
       "      <th>minute_price</th>\n",
       "      <th>start_ride_price</th>\n",
       "      <th>subscription_fee</th>\n",
       "    </tr>\n",
       "  </thead>\n",
       "  <tbody>\n",
       "    <tr>\n",
       "      <th>0</th>\n",
       "      <td>1</td>\n",
       "      <td>Кира</td>\n",
       "      <td>22</td>\n",
       "      <td>Тюмень</td>\n",
       "      <td>ultra</td>\n",
       "      <td>4409.919140</td>\n",
       "      <td>25.599769</td>\n",
       "      <td>2021-01-01</td>\n",
       "      <td>1</td>\n",
       "      <td>6</td>\n",
       "      <td>0</td>\n",
       "      <td>199</td>\n",
       "    </tr>\n",
       "    <tr>\n",
       "      <th>1</th>\n",
       "      <td>1</td>\n",
       "      <td>Кира</td>\n",
       "      <td>22</td>\n",
       "      <td>Тюмень</td>\n",
       "      <td>ultra</td>\n",
       "      <td>2617.592153</td>\n",
       "      <td>15.816871</td>\n",
       "      <td>2021-01-18</td>\n",
       "      <td>1</td>\n",
       "      <td>6</td>\n",
       "      <td>0</td>\n",
       "      <td>199</td>\n",
       "    </tr>\n",
       "    <tr>\n",
       "      <th>2</th>\n",
       "      <td>1</td>\n",
       "      <td>Кира</td>\n",
       "      <td>22</td>\n",
       "      <td>Тюмень</td>\n",
       "      <td>ultra</td>\n",
       "      <td>754.159807</td>\n",
       "      <td>6.232113</td>\n",
       "      <td>2021-04-20</td>\n",
       "      <td>4</td>\n",
       "      <td>6</td>\n",
       "      <td>0</td>\n",
       "      <td>199</td>\n",
       "    </tr>\n",
       "    <tr>\n",
       "      <th>3</th>\n",
       "      <td>1</td>\n",
       "      <td>Кира</td>\n",
       "      <td>22</td>\n",
       "      <td>Тюмень</td>\n",
       "      <td>ultra</td>\n",
       "      <td>2694.783254</td>\n",
       "      <td>18.511000</td>\n",
       "      <td>2021-08-11</td>\n",
       "      <td>8</td>\n",
       "      <td>6</td>\n",
       "      <td>0</td>\n",
       "      <td>199</td>\n",
       "    </tr>\n",
       "    <tr>\n",
       "      <th>4</th>\n",
       "      <td>1</td>\n",
       "      <td>Кира</td>\n",
       "      <td>22</td>\n",
       "      <td>Тюмень</td>\n",
       "      <td>ultra</td>\n",
       "      <td>4028.687306</td>\n",
       "      <td>26.265803</td>\n",
       "      <td>2021-08-28</td>\n",
       "      <td>8</td>\n",
       "      <td>6</td>\n",
       "      <td>0</td>\n",
       "      <td>199</td>\n",
       "    </tr>\n",
       "    <tr>\n",
       "      <th>5</th>\n",
       "      <td>1</td>\n",
       "      <td>Кира</td>\n",
       "      <td>22</td>\n",
       "      <td>Тюмень</td>\n",
       "      <td>ultra</td>\n",
       "      <td>2770.890808</td>\n",
       "      <td>16.650138</td>\n",
       "      <td>2021-10-09</td>\n",
       "      <td>10</td>\n",
       "      <td>6</td>\n",
       "      <td>0</td>\n",
       "      <td>199</td>\n",
       "    </tr>\n",
       "    <tr>\n",
       "      <th>6</th>\n",
       "      <td>1</td>\n",
       "      <td>Кира</td>\n",
       "      <td>22</td>\n",
       "      <td>Тюмень</td>\n",
       "      <td>ultra</td>\n",
       "      <td>3039.020292</td>\n",
       "      <td>14.927879</td>\n",
       "      <td>2021-10-19</td>\n",
       "      <td>10</td>\n",
       "      <td>6</td>\n",
       "      <td>0</td>\n",
       "      <td>199</td>\n",
       "    </tr>\n",
       "    <tr>\n",
       "      <th>7</th>\n",
       "      <td>1</td>\n",
       "      <td>Кира</td>\n",
       "      <td>22</td>\n",
       "      <td>Тюмень</td>\n",
       "      <td>ultra</td>\n",
       "      <td>2842.118050</td>\n",
       "      <td>23.117468</td>\n",
       "      <td>2021-11-06</td>\n",
       "      <td>11</td>\n",
       "      <td>6</td>\n",
       "      <td>0</td>\n",
       "      <td>199</td>\n",
       "    </tr>\n",
       "    <tr>\n",
       "      <th>8</th>\n",
       "      <td>1</td>\n",
       "      <td>Кира</td>\n",
       "      <td>22</td>\n",
       "      <td>Тюмень</td>\n",
       "      <td>ultra</td>\n",
       "      <td>3412.690668</td>\n",
       "      <td>15.238072</td>\n",
       "      <td>2021-11-14</td>\n",
       "      <td>11</td>\n",
       "      <td>6</td>\n",
       "      <td>0</td>\n",
       "      <td>199</td>\n",
       "    </tr>\n",
       "    <tr>\n",
       "      <th>9</th>\n",
       "      <td>1</td>\n",
       "      <td>Кира</td>\n",
       "      <td>22</td>\n",
       "      <td>Тюмень</td>\n",
       "      <td>ultra</td>\n",
       "      <td>748.690645</td>\n",
       "      <td>15.041884</td>\n",
       "      <td>2021-11-22</td>\n",
       "      <td>11</td>\n",
       "      <td>6</td>\n",
       "      <td>0</td>\n",
       "      <td>199</td>\n",
       "    </tr>\n",
       "    <tr>\n",
       "      <th>10</th>\n",
       "      <td>1</td>\n",
       "      <td>Кира</td>\n",
       "      <td>22</td>\n",
       "      <td>Тюмень</td>\n",
       "      <td>ultra</td>\n",
       "      <td>4031.020195</td>\n",
       "      <td>17.674448</td>\n",
       "      <td>2021-12-14</td>\n",
       "      <td>12</td>\n",
       "      <td>6</td>\n",
       "      <td>0</td>\n",
       "      <td>199</td>\n",
       "    </tr>\n",
       "    <tr>\n",
       "      <th>11</th>\n",
       "      <td>1</td>\n",
       "      <td>Кира</td>\n",
       "      <td>22</td>\n",
       "      <td>Тюмень</td>\n",
       "      <td>ultra</td>\n",
       "      <td>2720.609748</td>\n",
       "      <td>9.529463</td>\n",
       "      <td>2021-12-22</td>\n",
       "      <td>12</td>\n",
       "      <td>6</td>\n",
       "      <td>0</td>\n",
       "      <td>199</td>\n",
       "    </tr>\n",
       "    <tr>\n",
       "      <th>12</th>\n",
       "      <td>2</td>\n",
       "      <td>Станислав</td>\n",
       "      <td>31</td>\n",
       "      <td>Омск</td>\n",
       "      <td>ultra</td>\n",
       "      <td>3105.086678</td>\n",
       "      <td>24.307514</td>\n",
       "      <td>2021-03-15</td>\n",
       "      <td>3</td>\n",
       "      <td>6</td>\n",
       "      <td>0</td>\n",
       "      <td>199</td>\n",
       "    </tr>\n",
       "    <tr>\n",
       "      <th>13</th>\n",
       "      <td>2</td>\n",
       "      <td>Станислав</td>\n",
       "      <td>31</td>\n",
       "      <td>Омск</td>\n",
       "      <td>ultra</td>\n",
       "      <td>3053.519401</td>\n",
       "      <td>11.543256</td>\n",
       "      <td>2021-03-18</td>\n",
       "      <td>3</td>\n",
       "      <td>6</td>\n",
       "      <td>0</td>\n",
       "      <td>199</td>\n",
       "    </tr>\n",
       "    <tr>\n",
       "      <th>14</th>\n",
       "      <td>2</td>\n",
       "      <td>Станислав</td>\n",
       "      <td>31</td>\n",
       "      <td>Омск</td>\n",
       "      <td>ultra</td>\n",
       "      <td>4029.116927</td>\n",
       "      <td>25.109188</td>\n",
       "      <td>2021-03-23</td>\n",
       "      <td>3</td>\n",
       "      <td>6</td>\n",
       "      <td>0</td>\n",
       "      <td>199</td>\n",
       "    </tr>\n",
       "    <tr>\n",
       "      <th>15</th>\n",
       "      <td>2</td>\n",
       "      <td>Станислав</td>\n",
       "      <td>31</td>\n",
       "      <td>Омск</td>\n",
       "      <td>ultra</td>\n",
       "      <td>2805.786329</td>\n",
       "      <td>20.652145</td>\n",
       "      <td>2021-04-08</td>\n",
       "      <td>4</td>\n",
       "      <td>6</td>\n",
       "      <td>0</td>\n",
       "      <td>199</td>\n",
       "    </tr>\n",
       "    <tr>\n",
       "      <th>16</th>\n",
       "      <td>2</td>\n",
       "      <td>Станислав</td>\n",
       "      <td>31</td>\n",
       "      <td>Омск</td>\n",
       "      <td>ultra</td>\n",
       "      <td>3358.595495</td>\n",
       "      <td>18.396489</td>\n",
       "      <td>2021-04-13</td>\n",
       "      <td>4</td>\n",
       "      <td>6</td>\n",
       "      <td>0</td>\n",
       "      <td>199</td>\n",
       "    </tr>\n",
       "    <tr>\n",
       "      <th>17</th>\n",
       "      <td>2</td>\n",
       "      <td>Станислав</td>\n",
       "      <td>31</td>\n",
       "      <td>Омск</td>\n",
       "      <td>ultra</td>\n",
       "      <td>3255.338202</td>\n",
       "      <td>13.851127</td>\n",
       "      <td>2021-06-20</td>\n",
       "      <td>6</td>\n",
       "      <td>6</td>\n",
       "      <td>0</td>\n",
       "      <td>199</td>\n",
       "    </tr>\n",
       "    <tr>\n",
       "      <th>18</th>\n",
       "      <td>2</td>\n",
       "      <td>Станислав</td>\n",
       "      <td>31</td>\n",
       "      <td>Омск</td>\n",
       "      <td>ultra</td>\n",
       "      <td>3942.817648</td>\n",
       "      <td>20.142725</td>\n",
       "      <td>2021-07-02</td>\n",
       "      <td>7</td>\n",
       "      <td>6</td>\n",
       "      <td>0</td>\n",
       "      <td>199</td>\n",
       "    </tr>\n",
       "    <tr>\n",
       "      <th>19</th>\n",
       "      <td>2</td>\n",
       "      <td>Станислав</td>\n",
       "      <td>31</td>\n",
       "      <td>Омск</td>\n",
       "      <td>ultra</td>\n",
       "      <td>2837.905316</td>\n",
       "      <td>26.027432</td>\n",
       "      <td>2021-07-18</td>\n",
       "      <td>7</td>\n",
       "      <td>6</td>\n",
       "      <td>0</td>\n",
       "      <td>199</td>\n",
       "    </tr>\n",
       "  </tbody>\n",
       "</table>\n",
       "</div>"
      ],
      "text/plain": [
       "    user_id       name  age    city subscription_type     distance   duration  \\\n",
       "0         1       Кира   22  Тюмень             ultra  4409.919140  25.599769   \n",
       "1         1       Кира   22  Тюмень             ultra  2617.592153  15.816871   \n",
       "2         1       Кира   22  Тюмень             ultra   754.159807   6.232113   \n",
       "3         1       Кира   22  Тюмень             ultra  2694.783254  18.511000   \n",
       "4         1       Кира   22  Тюмень             ultra  4028.687306  26.265803   \n",
       "5         1       Кира   22  Тюмень             ultra  2770.890808  16.650138   \n",
       "6         1       Кира   22  Тюмень             ultra  3039.020292  14.927879   \n",
       "7         1       Кира   22  Тюмень             ultra  2842.118050  23.117468   \n",
       "8         1       Кира   22  Тюмень             ultra  3412.690668  15.238072   \n",
       "9         1       Кира   22  Тюмень             ultra   748.690645  15.041884   \n",
       "10        1       Кира   22  Тюмень             ultra  4031.020195  17.674448   \n",
       "11        1       Кира   22  Тюмень             ultra  2720.609748   9.529463   \n",
       "12        2  Станислав   31    Омск             ultra  3105.086678  24.307514   \n",
       "13        2  Станислав   31    Омск             ultra  3053.519401  11.543256   \n",
       "14        2  Станислав   31    Омск             ultra  4029.116927  25.109188   \n",
       "15        2  Станислав   31    Омск             ultra  2805.786329  20.652145   \n",
       "16        2  Станислав   31    Омск             ultra  3358.595495  18.396489   \n",
       "17        2  Станислав   31    Омск             ultra  3255.338202  13.851127   \n",
       "18        2  Станислав   31    Омск             ultra  3942.817648  20.142725   \n",
       "19        2  Станислав   31    Омск             ultra  2837.905316  26.027432   \n",
       "\n",
       "         date  month  minute_price  start_ride_price  subscription_fee  \n",
       "0  2021-01-01      1             6                 0               199  \n",
       "1  2021-01-18      1             6                 0               199  \n",
       "2  2021-04-20      4             6                 0               199  \n",
       "3  2021-08-11      8             6                 0               199  \n",
       "4  2021-08-28      8             6                 0               199  \n",
       "5  2021-10-09     10             6                 0               199  \n",
       "6  2021-10-19     10             6                 0               199  \n",
       "7  2021-11-06     11             6                 0               199  \n",
       "8  2021-11-14     11             6                 0               199  \n",
       "9  2021-11-22     11             6                 0               199  \n",
       "10 2021-12-14     12             6                 0               199  \n",
       "11 2021-12-22     12             6                 0               199  \n",
       "12 2021-03-15      3             6                 0               199  \n",
       "13 2021-03-18      3             6                 0               199  \n",
       "14 2021-03-23      3             6                 0               199  \n",
       "15 2021-04-08      4             6                 0               199  \n",
       "16 2021-04-13      4             6                 0               199  \n",
       "17 2021-06-20      6             6                 0               199  \n",
       "18 2021-07-02      7             6                 0               199  \n",
       "19 2021-07-18      7             6                 0               199  "
      ]
     },
     "execution_count": 52,
     "metadata": {},
     "output_type": "execute_result"
    }
   ],
   "source": [
    "service_info = users.merge(rides, on = 'user_id', how = 'left')\n",
    "service_info = service_info.merge(subscriptions, on = 'subscription_type', how = 'left')\n",
    "service_info.head(20)"
   ]
  },
  {
   "cell_type": "code",
   "execution_count": 53,
   "id": "84ce59c5",
   "metadata": {},
   "outputs": [
    {
     "name": "stdout",
     "output_type": "stream",
     "text": [
      "<class 'pandas.core.frame.DataFrame'>\n",
      "Int64Index: 18068 entries, 0 to 18067\n",
      "Data columns (total 12 columns):\n",
      " #   Column             Non-Null Count  Dtype         \n",
      "---  ------             --------------  -----         \n",
      " 0   user_id            18068 non-null  int64         \n",
      " 1   name               18068 non-null  object        \n",
      " 2   age                18068 non-null  int64         \n",
      " 3   city               18068 non-null  object        \n",
      " 4   subscription_type  18068 non-null  object        \n",
      " 5   distance           18068 non-null  float64       \n",
      " 6   duration           18068 non-null  float64       \n",
      " 7   date               18068 non-null  datetime64[ns]\n",
      " 8   month              18068 non-null  int64         \n",
      " 9   minute_price       18068 non-null  int64         \n",
      " 10  start_ride_price   18068 non-null  int64         \n",
      " 11  subscription_fee   18068 non-null  int64         \n",
      "dtypes: datetime64[ns](1), float64(2), int64(6), object(3)\n",
      "memory usage: 1.8+ MB\n"
     ]
    }
   ],
   "source": [
    "service_info.info()"
   ]
  },
  {
   "cell_type": "code",
   "execution_count": 54,
   "id": "df505f87",
   "metadata": {},
   "outputs": [
    {
     "data": {
      "text/html": [
       "<div>\n",
       "<style scoped>\n",
       "    .dataframe tbody tr th:only-of-type {\n",
       "        vertical-align: middle;\n",
       "    }\n",
       "\n",
       "    .dataframe tbody tr th {\n",
       "        vertical-align: top;\n",
       "    }\n",
       "\n",
       "    .dataframe thead th {\n",
       "        text-align: right;\n",
       "    }\n",
       "</style>\n",
       "<table border=\"1\" class=\"dataframe\">\n",
       "  <thead>\n",
       "    <tr style=\"text-align: right;\">\n",
       "      <th></th>\n",
       "      <th>user_id</th>\n",
       "      <th>age</th>\n",
       "      <th>distance</th>\n",
       "      <th>duration</th>\n",
       "      <th>month</th>\n",
       "      <th>minute_price</th>\n",
       "      <th>start_ride_price</th>\n",
       "      <th>subscription_fee</th>\n",
       "    </tr>\n",
       "  </thead>\n",
       "  <tbody>\n",
       "    <tr>\n",
       "      <th>count</th>\n",
       "      <td>18068.000000</td>\n",
       "      <td>18068.000000</td>\n",
       "      <td>18068.000000</td>\n",
       "      <td>18068.000000</td>\n",
       "      <td>18068.000000</td>\n",
       "      <td>18068.000000</td>\n",
       "      <td>18068.000000</td>\n",
       "      <td>18068.000000</td>\n",
       "    </tr>\n",
       "    <tr>\n",
       "      <th>mean</th>\n",
       "      <td>842.869936</td>\n",
       "      <td>24.893071</td>\n",
       "      <td>3070.659976</td>\n",
       "      <td>17.805011</td>\n",
       "      <td>6.486772</td>\n",
       "      <td>7.280496</td>\n",
       "      <td>32.012398</td>\n",
       "      <td>71.590658</td>\n",
       "    </tr>\n",
       "    <tr>\n",
       "      <th>std</th>\n",
       "      <td>434.734317</td>\n",
       "      <td>4.582216</td>\n",
       "      <td>1116.831209</td>\n",
       "      <td>6.091051</td>\n",
       "      <td>3.437410</td>\n",
       "      <td>0.959882</td>\n",
       "      <td>23.997045</td>\n",
       "      <td>95.508238</td>\n",
       "    </tr>\n",
       "    <tr>\n",
       "      <th>min</th>\n",
       "      <td>1.000000</td>\n",
       "      <td>12.000000</td>\n",
       "      <td>0.855683</td>\n",
       "      <td>0.500000</td>\n",
       "      <td>1.000000</td>\n",
       "      <td>6.000000</td>\n",
       "      <td>0.000000</td>\n",
       "      <td>0.000000</td>\n",
       "    </tr>\n",
       "    <tr>\n",
       "      <th>25%</th>\n",
       "      <td>487.000000</td>\n",
       "      <td>22.000000</td>\n",
       "      <td>2543.226360</td>\n",
       "      <td>13.597563</td>\n",
       "      <td>4.000000</td>\n",
       "      <td>6.000000</td>\n",
       "      <td>0.000000</td>\n",
       "      <td>0.000000</td>\n",
       "    </tr>\n",
       "    <tr>\n",
       "      <th>50%</th>\n",
       "      <td>889.000000</td>\n",
       "      <td>25.000000</td>\n",
       "      <td>3133.609994</td>\n",
       "      <td>17.678395</td>\n",
       "      <td>6.000000</td>\n",
       "      <td>8.000000</td>\n",
       "      <td>50.000000</td>\n",
       "      <td>0.000000</td>\n",
       "    </tr>\n",
       "    <tr>\n",
       "      <th>75%</th>\n",
       "      <td>1213.250000</td>\n",
       "      <td>28.000000</td>\n",
       "      <td>3776.222735</td>\n",
       "      <td>21.724800</td>\n",
       "      <td>9.000000</td>\n",
       "      <td>8.000000</td>\n",
       "      <td>50.000000</td>\n",
       "      <td>199.000000</td>\n",
       "    </tr>\n",
       "    <tr>\n",
       "      <th>max</th>\n",
       "      <td>1534.000000</td>\n",
       "      <td>43.000000</td>\n",
       "      <td>7211.007745</td>\n",
       "      <td>40.823963</td>\n",
       "      <td>12.000000</td>\n",
       "      <td>8.000000</td>\n",
       "      <td>50.000000</td>\n",
       "      <td>199.000000</td>\n",
       "    </tr>\n",
       "  </tbody>\n",
       "</table>\n",
       "</div>"
      ],
      "text/plain": [
       "            user_id           age      distance      duration         month  \\\n",
       "count  18068.000000  18068.000000  18068.000000  18068.000000  18068.000000   \n",
       "mean     842.869936     24.893071   3070.659976     17.805011      6.486772   \n",
       "std      434.734317      4.582216   1116.831209      6.091051      3.437410   \n",
       "min        1.000000     12.000000      0.855683      0.500000      1.000000   \n",
       "25%      487.000000     22.000000   2543.226360     13.597563      4.000000   \n",
       "50%      889.000000     25.000000   3133.609994     17.678395      6.000000   \n",
       "75%     1213.250000     28.000000   3776.222735     21.724800      9.000000   \n",
       "max     1534.000000     43.000000   7211.007745     40.823963     12.000000   \n",
       "\n",
       "       minute_price  start_ride_price  subscription_fee  \n",
       "count  18068.000000      18068.000000      18068.000000  \n",
       "mean       7.280496         32.012398         71.590658  \n",
       "std        0.959882         23.997045         95.508238  \n",
       "min        6.000000          0.000000          0.000000  \n",
       "25%        6.000000          0.000000          0.000000  \n",
       "50%        8.000000         50.000000          0.000000  \n",
       "75%        8.000000         50.000000        199.000000  \n",
       "max        8.000000         50.000000        199.000000  "
      ]
     },
     "execution_count": 54,
     "metadata": {},
     "output_type": "execute_result"
    }
   ],
   "source": [
    "service_info.describe()"
   ]
  },
  {
   "cell_type": "markdown",
   "id": "98238751",
   "metadata": {},
   "source": [
    "### Создание ещё двух датафреймов из датафрейма 'service_info'\n",
    "\n",
    " 1. 'free_data' c данными о пользователях без подписки\n",
    " 2. 'ultra_data' с данными о пользователях с подпиской"
   ]
  },
  {
   "cell_type": "markdown",
   "id": "99ae0c18",
   "metadata": {},
   "source": [
    "#### Создание датафрейма с данными о пользователях без подписки"
   ]
  },
  {
   "cell_type": "code",
   "execution_count": 55,
   "id": "5febed78",
   "metadata": {},
   "outputs": [
    {
     "data": {
      "text/html": [
       "<div>\n",
       "<style scoped>\n",
       "    .dataframe tbody tr th:only-of-type {\n",
       "        vertical-align: middle;\n",
       "    }\n",
       "\n",
       "    .dataframe tbody tr th {\n",
       "        vertical-align: top;\n",
       "    }\n",
       "\n",
       "    .dataframe thead th {\n",
       "        text-align: right;\n",
       "    }\n",
       "</style>\n",
       "<table border=\"1\" class=\"dataframe\">\n",
       "  <thead>\n",
       "    <tr style=\"text-align: right;\">\n",
       "      <th></th>\n",
       "      <th>user_id</th>\n",
       "      <th>name</th>\n",
       "      <th>age</th>\n",
       "      <th>city</th>\n",
       "      <th>subscription_type</th>\n",
       "      <th>distance</th>\n",
       "      <th>duration</th>\n",
       "      <th>date</th>\n",
       "      <th>month</th>\n",
       "      <th>minute_price</th>\n",
       "      <th>start_ride_price</th>\n",
       "      <th>subscription_fee</th>\n",
       "    </tr>\n",
       "  </thead>\n",
       "  <tbody>\n",
       "    <tr>\n",
       "      <th>6500</th>\n",
       "      <td>700</td>\n",
       "      <td>Айдар</td>\n",
       "      <td>22</td>\n",
       "      <td>Омск</td>\n",
       "      <td>free</td>\n",
       "      <td>2515.690719</td>\n",
       "      <td>14.944286</td>\n",
       "      <td>2021-01-02</td>\n",
       "      <td>1</td>\n",
       "      <td>8</td>\n",
       "      <td>50</td>\n",
       "      <td>0</td>\n",
       "    </tr>\n",
       "    <tr>\n",
       "      <th>6501</th>\n",
       "      <td>700</td>\n",
       "      <td>Айдар</td>\n",
       "      <td>22</td>\n",
       "      <td>Омск</td>\n",
       "      <td>free</td>\n",
       "      <td>846.932642</td>\n",
       "      <td>16.234663</td>\n",
       "      <td>2021-02-01</td>\n",
       "      <td>2</td>\n",
       "      <td>8</td>\n",
       "      <td>50</td>\n",
       "      <td>0</td>\n",
       "    </tr>\n",
       "    <tr>\n",
       "      <th>6502</th>\n",
       "      <td>700</td>\n",
       "      <td>Айдар</td>\n",
       "      <td>22</td>\n",
       "      <td>Омск</td>\n",
       "      <td>free</td>\n",
       "      <td>4004.434142</td>\n",
       "      <td>20.016628</td>\n",
       "      <td>2021-02-04</td>\n",
       "      <td>2</td>\n",
       "      <td>8</td>\n",
       "      <td>50</td>\n",
       "      <td>0</td>\n",
       "    </tr>\n",
       "    <tr>\n",
       "      <th>6503</th>\n",
       "      <td>700</td>\n",
       "      <td>Айдар</td>\n",
       "      <td>22</td>\n",
       "      <td>Омск</td>\n",
       "      <td>free</td>\n",
       "      <td>1205.911290</td>\n",
       "      <td>9.782872</td>\n",
       "      <td>2021-02-10</td>\n",
       "      <td>2</td>\n",
       "      <td>8</td>\n",
       "      <td>50</td>\n",
       "      <td>0</td>\n",
       "    </tr>\n",
       "    <tr>\n",
       "      <th>6504</th>\n",
       "      <td>700</td>\n",
       "      <td>Айдар</td>\n",
       "      <td>22</td>\n",
       "      <td>Омск</td>\n",
       "      <td>free</td>\n",
       "      <td>3047.379435</td>\n",
       "      <td>17.427673</td>\n",
       "      <td>2021-02-14</td>\n",
       "      <td>2</td>\n",
       "      <td>8</td>\n",
       "      <td>50</td>\n",
       "      <td>0</td>\n",
       "    </tr>\n",
       "  </tbody>\n",
       "</table>\n",
       "</div>"
      ],
      "text/plain": [
       "      user_id   name  age  city subscription_type     distance   duration  \\\n",
       "6500      700  Айдар   22  Омск              free  2515.690719  14.944286   \n",
       "6501      700  Айдар   22  Омск              free   846.932642  16.234663   \n",
       "6502      700  Айдар   22  Омск              free  4004.434142  20.016628   \n",
       "6503      700  Айдар   22  Омск              free  1205.911290   9.782872   \n",
       "6504      700  Айдар   22  Омск              free  3047.379435  17.427673   \n",
       "\n",
       "           date  month  minute_price  start_ride_price  subscription_fee  \n",
       "6500 2021-01-02      1             8                50                 0  \n",
       "6501 2021-02-01      2             8                50                 0  \n",
       "6502 2021-02-04      2             8                50                 0  \n",
       "6503 2021-02-10      2             8                50                 0  \n",
       "6504 2021-02-14      2             8                50                 0  "
      ]
     },
     "execution_count": 55,
     "metadata": {},
     "output_type": "execute_result"
    }
   ],
   "source": [
    "free_data = service_info.query('subscription_type == \"free\"')\n",
    "free_data.head()"
   ]
  },
  {
   "cell_type": "code",
   "execution_count": 56,
   "id": "9e73a072",
   "metadata": {},
   "outputs": [
    {
     "name": "stdout",
     "output_type": "stream",
     "text": [
      "<class 'pandas.core.frame.DataFrame'>\n",
      "Int64Index: 11568 entries, 6500 to 18067\n",
      "Data columns (total 12 columns):\n",
      " #   Column             Non-Null Count  Dtype         \n",
      "---  ------             --------------  -----         \n",
      " 0   user_id            11568 non-null  int64         \n",
      " 1   name               11568 non-null  object        \n",
      " 2   age                11568 non-null  int64         \n",
      " 3   city               11568 non-null  object        \n",
      " 4   subscription_type  11568 non-null  object        \n",
      " 5   distance           11568 non-null  float64       \n",
      " 6   duration           11568 non-null  float64       \n",
      " 7   date               11568 non-null  datetime64[ns]\n",
      " 8   month              11568 non-null  int64         \n",
      " 9   minute_price       11568 non-null  int64         \n",
      " 10  start_ride_price   11568 non-null  int64         \n",
      " 11  subscription_fee   11568 non-null  int64         \n",
      "dtypes: datetime64[ns](1), float64(2), int64(6), object(3)\n",
      "memory usage: 1.1+ MB\n"
     ]
    }
   ],
   "source": [
    "free_data.info()"
   ]
  },
  {
   "cell_type": "markdown",
   "id": "e202823b",
   "metadata": {},
   "source": [
    "#### Создание датафрейма о пользователях с подпиской"
   ]
  },
  {
   "cell_type": "code",
   "execution_count": 57,
   "id": "5f301b43",
   "metadata": {},
   "outputs": [
    {
     "data": {
      "text/html": [
       "<div>\n",
       "<style scoped>\n",
       "    .dataframe tbody tr th:only-of-type {\n",
       "        vertical-align: middle;\n",
       "    }\n",
       "\n",
       "    .dataframe tbody tr th {\n",
       "        vertical-align: top;\n",
       "    }\n",
       "\n",
       "    .dataframe thead th {\n",
       "        text-align: right;\n",
       "    }\n",
       "</style>\n",
       "<table border=\"1\" class=\"dataframe\">\n",
       "  <thead>\n",
       "    <tr style=\"text-align: right;\">\n",
       "      <th></th>\n",
       "      <th>user_id</th>\n",
       "      <th>name</th>\n",
       "      <th>age</th>\n",
       "      <th>city</th>\n",
       "      <th>subscription_type</th>\n",
       "      <th>distance</th>\n",
       "      <th>duration</th>\n",
       "      <th>date</th>\n",
       "      <th>month</th>\n",
       "      <th>minute_price</th>\n",
       "      <th>start_ride_price</th>\n",
       "      <th>subscription_fee</th>\n",
       "    </tr>\n",
       "  </thead>\n",
       "  <tbody>\n",
       "    <tr>\n",
       "      <th>0</th>\n",
       "      <td>1</td>\n",
       "      <td>Кира</td>\n",
       "      <td>22</td>\n",
       "      <td>Тюмень</td>\n",
       "      <td>ultra</td>\n",
       "      <td>4409.919140</td>\n",
       "      <td>25.599769</td>\n",
       "      <td>2021-01-01</td>\n",
       "      <td>1</td>\n",
       "      <td>6</td>\n",
       "      <td>0</td>\n",
       "      <td>199</td>\n",
       "    </tr>\n",
       "    <tr>\n",
       "      <th>1</th>\n",
       "      <td>1</td>\n",
       "      <td>Кира</td>\n",
       "      <td>22</td>\n",
       "      <td>Тюмень</td>\n",
       "      <td>ultra</td>\n",
       "      <td>2617.592153</td>\n",
       "      <td>15.816871</td>\n",
       "      <td>2021-01-18</td>\n",
       "      <td>1</td>\n",
       "      <td>6</td>\n",
       "      <td>0</td>\n",
       "      <td>199</td>\n",
       "    </tr>\n",
       "    <tr>\n",
       "      <th>2</th>\n",
       "      <td>1</td>\n",
       "      <td>Кира</td>\n",
       "      <td>22</td>\n",
       "      <td>Тюмень</td>\n",
       "      <td>ultra</td>\n",
       "      <td>754.159807</td>\n",
       "      <td>6.232113</td>\n",
       "      <td>2021-04-20</td>\n",
       "      <td>4</td>\n",
       "      <td>6</td>\n",
       "      <td>0</td>\n",
       "      <td>199</td>\n",
       "    </tr>\n",
       "    <tr>\n",
       "      <th>3</th>\n",
       "      <td>1</td>\n",
       "      <td>Кира</td>\n",
       "      <td>22</td>\n",
       "      <td>Тюмень</td>\n",
       "      <td>ultra</td>\n",
       "      <td>2694.783254</td>\n",
       "      <td>18.511000</td>\n",
       "      <td>2021-08-11</td>\n",
       "      <td>8</td>\n",
       "      <td>6</td>\n",
       "      <td>0</td>\n",
       "      <td>199</td>\n",
       "    </tr>\n",
       "    <tr>\n",
       "      <th>4</th>\n",
       "      <td>1</td>\n",
       "      <td>Кира</td>\n",
       "      <td>22</td>\n",
       "      <td>Тюмень</td>\n",
       "      <td>ultra</td>\n",
       "      <td>4028.687306</td>\n",
       "      <td>26.265803</td>\n",
       "      <td>2021-08-28</td>\n",
       "      <td>8</td>\n",
       "      <td>6</td>\n",
       "      <td>0</td>\n",
       "      <td>199</td>\n",
       "    </tr>\n",
       "  </tbody>\n",
       "</table>\n",
       "</div>"
      ],
      "text/plain": [
       "   user_id  name  age    city subscription_type     distance   duration  \\\n",
       "0        1  Кира   22  Тюмень             ultra  4409.919140  25.599769   \n",
       "1        1  Кира   22  Тюмень             ultra  2617.592153  15.816871   \n",
       "2        1  Кира   22  Тюмень             ultra   754.159807   6.232113   \n",
       "3        1  Кира   22  Тюмень             ultra  2694.783254  18.511000   \n",
       "4        1  Кира   22  Тюмень             ultra  4028.687306  26.265803   \n",
       "\n",
       "        date  month  minute_price  start_ride_price  subscription_fee  \n",
       "0 2021-01-01      1             6                 0               199  \n",
       "1 2021-01-18      1             6                 0               199  \n",
       "2 2021-04-20      4             6                 0               199  \n",
       "3 2021-08-11      8             6                 0               199  \n",
       "4 2021-08-28      8             6                 0               199  "
      ]
     },
     "execution_count": 57,
     "metadata": {},
     "output_type": "execute_result"
    }
   ],
   "source": [
    "ultra_data = service_info.query('subscription_type == \"ultra\"')\n",
    "ultra_data.head()"
   ]
  },
  {
   "cell_type": "code",
   "execution_count": 58,
   "id": "01fb66e8",
   "metadata": {},
   "outputs": [
    {
     "name": "stdout",
     "output_type": "stream",
     "text": [
      "<class 'pandas.core.frame.DataFrame'>\n",
      "Int64Index: 6500 entries, 0 to 6499\n",
      "Data columns (total 12 columns):\n",
      " #   Column             Non-Null Count  Dtype         \n",
      "---  ------             --------------  -----         \n",
      " 0   user_id            6500 non-null   int64         \n",
      " 1   name               6500 non-null   object        \n",
      " 2   age                6500 non-null   int64         \n",
      " 3   city               6500 non-null   object        \n",
      " 4   subscription_type  6500 non-null   object        \n",
      " 5   distance           6500 non-null   float64       \n",
      " 6   duration           6500 non-null   float64       \n",
      " 7   date               6500 non-null   datetime64[ns]\n",
      " 8   month              6500 non-null   int64         \n",
      " 9   minute_price       6500 non-null   int64         \n",
      " 10  start_ride_price   6500 non-null   int64         \n",
      " 11  subscription_fee   6500 non-null   int64         \n",
      "dtypes: datetime64[ns](1), float64(2), int64(6), object(3)\n",
      "memory usage: 660.2+ KB\n"
     ]
    }
   ],
   "source": [
    "ultra_data.info()"
   ]
  },
  {
   "cell_type": "markdown",
   "id": "8f0bfaf0",
   "metadata": {},
   "source": [
    "### Визуализация информации о расстоянии и времени поездок для пользователей обеих категорий"
   ]
  },
  {
   "cell_type": "markdown",
   "id": "7d4e2efe",
   "metadata": {},
   "source": [
    "#### Информация о расстоянии и времени поездок для пользователей без подписки"
   ]
  },
  {
   "cell_type": "markdown",
   "id": "2267c2f5",
   "metadata": {},
   "source": [
    "Посмотрим как изменился график для расстояния у 'free_data'."
   ]
  },
  {
   "cell_type": "code",
   "execution_count": 59,
   "id": "24e2ccf8",
   "metadata": {},
   "outputs": [
    {
     "data": {
      "image/png": "[encoded data removed]",
      "text/plain": [
       "<Figure size 864x504 with 1 Axes>"
      ]
     },
     "metadata": {
      "needs_background": "light"
     },
     "output_type": "display_data"
    }
   ],
   "source": [
    "free_data['distance'].plot(\n",
    "    kind = 'hist',\n",
    "    figsize = (12, 7),\n",
    "    bins = 100,\n",
    "    xlim = (0, 6000),\n",
    "    label = 'расстояние для пользователей без подписки',\n",
    "    title = 'Расстояние за одну поездку'\n",
    ")\n",
    "rides['distance'].plot(\n",
    "    kind = 'hist',\n",
    "    figsize = (12, 7),\n",
    "    bins = 50,\n",
    "    xlim = (0, 6000),\n",
    "    alpha = 0.3,\n",
    "    label = 'общее расстояние'\n",
    ")\n",
    "plt.legend()\n",
    "plt.xlabel('Расстояние')\n",
    "plt.ylabel('Пользователи');"
   ]
  },
  {
   "cell_type": "markdown",
   "id": "464b81eb",
   "metadata": {},
   "source": [
    "График претерпел не сильные изменения, за исключением появления нескольких пиков значений. Но по прежнему наблюдается рост от 0 до 1000 м, от 2000 до 4000. Появился новый спад на 3000 м."
   ]
  },
  {
   "cell_type": "markdown",
   "id": "5044ee72",
   "metadata": {},
   "source": [
    "Также рассмотрим график для продолжительности поездки для людей без подписки."
   ]
  },
  {
   "cell_type": "code",
   "execution_count": 60,
   "id": "b413b83b",
   "metadata": {},
   "outputs": [
    {
     "data": {
      "image/png": "[encoded data removed]",
      "text/plain": [
       "<Figure size 864x504 with 1 Axes>"
      ]
     },
     "metadata": {
      "needs_background": "light"
     },
     "output_type": "display_data"
    }
   ],
   "source": [
    "free_data['duration'].plot(\n",
    "    kind = 'hist',\n",
    "    figsize = (12, 7),\n",
    "    bins = 50,\n",
    "    xlim = (2, 35),\n",
    "    label = 'продолжительность для людей без подписки',\n",
    "    title = 'Продолжительность поездки'\n",
    ")\n",
    "rides['duration'].plot(\n",
    "    kind = 'hist',\n",
    "    figsize = (12, 7),\n",
    "    bins = 50,\n",
    "    xlim = (2, 35),\n",
    "    alpha = 0.3,\n",
    "    label = 'общая продолжительность',\n",
    ")\n",
    "plt.legend()\n",
    "plt.xlabel('Время(мин)')\n",
    "plt.ylabel('Пользователи');"
   ]
  },
  {
   "cell_type": "markdown",
   "id": "0cb3bf1f",
   "metadata": {},
   "source": [
    "В случае графика продолжительности, он почти повторяет первоначальный силуэт, пики значений не поменялись, но появилось два новых пика: 12 минут и 22 минуты."
   ]
  },
  {
   "cell_type": "markdown",
   "id": "c73cd9bb",
   "metadata": {},
   "source": [
    "#### Информация о расстоянии и времени поездок для пользователей c с подпиской"
   ]
  },
  {
   "cell_type": "code",
   "execution_count": 61,
   "id": "4323e578",
   "metadata": {},
   "outputs": [
    {
     "data": {
      "image/png": "[encoded data removed]",
      "text/plain": [
       "<Figure size 864x504 with 1 Axes>"
      ]
     },
     "metadata": {
      "needs_background": "light"
     },
     "output_type": "display_data"
    }
   ],
   "source": [
    "ultra_data['distance'].plot(\n",
    "    kind = 'hist',\n",
    "    figsize = (12, 7),\n",
    "    bins = 50,\n",
    "    xlim = (0, 6000),\n",
    "    label = 'расстояние для пользователей с подпиской',\n",
    "    title = 'Расстояние за одну поездку'\n",
    ")\n",
    "rides['distance'].plot(\n",
    "    kind = 'hist',\n",
    "    figsize = (12, 7),\n",
    "    bins = 50,\n",
    "    xlim = (0, 6000),\n",
    "    alpha = 0.3,\n",
    "    label = 'общее расстояние',\n",
    ")\n",
    "plt.legend()\n",
    "plt.xlabel('Время(мин)')\n",
    "plt.ylabel('Пользователи');"
   ]
  },
  {
   "cell_type": "markdown",
   "id": "8a668efa",
   "metadata": {},
   "source": [
    "График почти не поменялся, появился небольшой сдвиг значений от 0 до 1000 и сместилось максимальное значение на этом промежутке."
   ]
  },
  {
   "cell_type": "code",
   "execution_count": 62,
   "id": "554bc4af",
   "metadata": {},
   "outputs": [
    {
     "data": {
      "image/png": "[encoded data removed]",
      "text/plain": [
       "<Figure size 864x504 with 1 Axes>"
      ]
     },
     "metadata": {
      "needs_background": "light"
     },
     "output_type": "display_data"
    }
   ],
   "source": [
    "ultra_data['duration'].plot(\n",
    "    kind = 'hist',\n",
    "    figsize = (12, 7),\n",
    "    bins = 50,\n",
    "    xlim = (2, 35),\n",
    "    label = 'продолжительность для людей с подпиской',\n",
    "    title = 'Продолжительность поездки'\n",
    ")\n",
    "rides['duration'].plot(\n",
    "    kind = 'hist',\n",
    "    figsize = (12, 7),\n",
    "    bins = 50,\n",
    "    xlim = (2, 35),\n",
    "    alpha = 0.3,\n",
    "    label = 'общая продолжительность',\n",
    ")\n",
    "plt.legend()\n",
    "plt.xlabel('Время(мин)')\n",
    "plt.ylabel('Пользователи');"
   ]
  },
  {
   "cell_type": "markdown",
   "id": "41bbd19e",
   "metadata": {},
   "source": [
    "Наблюдаются минимальные изменения в графике"
   ]
  },
  {
   "cell_type": "markdown",
   "id": "402d620f",
   "metadata": {},
   "source": [
    "## Шаг 5. Подсчёт выручки"
   ]
  },
  {
   "cell_type": "markdown",
   "id": "a267ef6a",
   "metadata": {},
   "source": [
    "### Создание датафрейма с агрегированными данными на основе датафрейма 'service_info'\n",
    "\n",
    "Найти суммарное расстояние, количество поездок и суммарное время для каждого пользователя за каждый месяц."
   ]
  },
  {
   "cell_type": "markdown",
   "id": "34baa659",
   "metadata": {},
   "source": [
    "Округляем значения в столбце 'duration'."
   ]
  },
  {
   "cell_type": "code",
   "execution_count": 63,
   "id": "39a70dfe",
   "metadata": {},
   "outputs": [
    {
     "data": {
      "text/plain": [
       "0    26.0\n",
       "1    16.0\n",
       "2     7.0\n",
       "3    19.0\n",
       "4    27.0\n",
       "Name: duration, dtype: float64"
      ]
     },
     "execution_count": 63,
     "metadata": {},
     "output_type": "execute_result"
    }
   ],
   "source": [
    "service_info['duration'] = np.ceil(service_info['duration'])\n",
    "service_info['duration'].head()"
   ]
  },
  {
   "cell_type": "code",
   "execution_count": 64,
   "id": "beea30c1",
   "metadata": {},
   "outputs": [
    {
     "data": {
      "text/html": [
       "<div>\n",
       "<style scoped>\n",
       "    .dataframe tbody tr th:only-of-type {\n",
       "        vertical-align: middle;\n",
       "    }\n",
       "\n",
       "    .dataframe tbody tr th {\n",
       "        vertical-align: top;\n",
       "    }\n",
       "\n",
       "    .dataframe thead th {\n",
       "        text-align: right;\n",
       "    }\n",
       "</style>\n",
       "<table border=\"1\" class=\"dataframe\">\n",
       "  <thead>\n",
       "    <tr style=\"text-align: right;\">\n",
       "      <th></th>\n",
       "      <th></th>\n",
       "      <th>distance</th>\n",
       "      <th>duration</th>\n",
       "      <th>name</th>\n",
       "      <th>subscription_type</th>\n",
       "    </tr>\n",
       "    <tr>\n",
       "      <th>user_id</th>\n",
       "      <th>month</th>\n",
       "      <th></th>\n",
       "      <th></th>\n",
       "      <th></th>\n",
       "      <th></th>\n",
       "    </tr>\n",
       "  </thead>\n",
       "  <tbody>\n",
       "    <tr>\n",
       "      <th rowspan=\"6\" valign=\"top\">1</th>\n",
       "      <th>1</th>\n",
       "      <td>7027.511294</td>\n",
       "      <td>42.0</td>\n",
       "      <td>2</td>\n",
       "      <td>ultra</td>\n",
       "    </tr>\n",
       "    <tr>\n",
       "      <th>4</th>\n",
       "      <td>754.159807</td>\n",
       "      <td>7.0</td>\n",
       "      <td>1</td>\n",
       "      <td>ultra</td>\n",
       "    </tr>\n",
       "    <tr>\n",
       "      <th>8</th>\n",
       "      <td>6723.470560</td>\n",
       "      <td>46.0</td>\n",
       "      <td>2</td>\n",
       "      <td>ultra</td>\n",
       "    </tr>\n",
       "    <tr>\n",
       "      <th>10</th>\n",
       "      <td>5809.911100</td>\n",
       "      <td>32.0</td>\n",
       "      <td>2</td>\n",
       "      <td>ultra</td>\n",
       "    </tr>\n",
       "    <tr>\n",
       "      <th>11</th>\n",
       "      <td>7003.499363</td>\n",
       "      <td>56.0</td>\n",
       "      <td>3</td>\n",
       "      <td>ultra</td>\n",
       "    </tr>\n",
       "    <tr>\n",
       "      <th>12</th>\n",
       "      <td>6751.629942</td>\n",
       "      <td>28.0</td>\n",
       "      <td>2</td>\n",
       "      <td>ultra</td>\n",
       "    </tr>\n",
       "    <tr>\n",
       "      <th rowspan=\"7\" valign=\"top\">2</th>\n",
       "      <th>3</th>\n",
       "      <td>10187.723006</td>\n",
       "      <td>63.0</td>\n",
       "      <td>3</td>\n",
       "      <td>ultra</td>\n",
       "    </tr>\n",
       "    <tr>\n",
       "      <th>4</th>\n",
       "      <td>6164.381824</td>\n",
       "      <td>40.0</td>\n",
       "      <td>2</td>\n",
       "      <td>ultra</td>\n",
       "    </tr>\n",
       "    <tr>\n",
       "      <th>6</th>\n",
       "      <td>3255.338202</td>\n",
       "      <td>14.0</td>\n",
       "      <td>1</td>\n",
       "      <td>ultra</td>\n",
       "    </tr>\n",
       "    <tr>\n",
       "      <th>7</th>\n",
       "      <td>6780.722964</td>\n",
       "      <td>48.0</td>\n",
       "      <td>2</td>\n",
       "      <td>ultra</td>\n",
       "    </tr>\n",
       "    <tr>\n",
       "      <th>8</th>\n",
       "      <td>923.007439</td>\n",
       "      <td>7.0</td>\n",
       "      <td>1</td>\n",
       "      <td>ultra</td>\n",
       "    </tr>\n",
       "    <tr>\n",
       "      <th>10</th>\n",
       "      <td>2824.636598</td>\n",
       "      <td>19.0</td>\n",
       "      <td>1</td>\n",
       "      <td>ultra</td>\n",
       "    </tr>\n",
       "    <tr>\n",
       "      <th>12</th>\n",
       "      <td>3828.248580</td>\n",
       "      <td>12.0</td>\n",
       "      <td>1</td>\n",
       "      <td>ultra</td>\n",
       "    </tr>\n",
       "    <tr>\n",
       "      <th rowspan=\"7\" valign=\"top\">3</th>\n",
       "      <th>1</th>\n",
       "      <td>3061.777147</td>\n",
       "      <td>13.0</td>\n",
       "      <td>1</td>\n",
       "      <td>ultra</td>\n",
       "    </tr>\n",
       "    <tr>\n",
       "      <th>2</th>\n",
       "      <td>5421.152016</td>\n",
       "      <td>39.0</td>\n",
       "      <td>2</td>\n",
       "      <td>ultra</td>\n",
       "    </tr>\n",
       "    <tr>\n",
       "      <th>4</th>\n",
       "      <td>2956.651632</td>\n",
       "      <td>21.0</td>\n",
       "      <td>1</td>\n",
       "      <td>ultra</td>\n",
       "    </tr>\n",
       "    <tr>\n",
       "      <th>5</th>\n",
       "      <td>9064.026918</td>\n",
       "      <td>63.0</td>\n",
       "      <td>3</td>\n",
       "      <td>ultra</td>\n",
       "    </tr>\n",
       "    <tr>\n",
       "      <th>7</th>\n",
       "      <td>10919.595403</td>\n",
       "      <td>67.0</td>\n",
       "      <td>3</td>\n",
       "      <td>ultra</td>\n",
       "    </tr>\n",
       "    <tr>\n",
       "      <th>9</th>\n",
       "      <td>2891.012822</td>\n",
       "      <td>23.0</td>\n",
       "      <td>1</td>\n",
       "      <td>ultra</td>\n",
       "    </tr>\n",
       "    <tr>\n",
       "      <th>12</th>\n",
       "      <td>2593.381928</td>\n",
       "      <td>13.0</td>\n",
       "      <td>1</td>\n",
       "      <td>ultra</td>\n",
       "    </tr>\n",
       "  </tbody>\n",
       "</table>\n",
       "</div>"
      ],
      "text/plain": [
       "                   distance  duration  name subscription_type\n",
       "user_id month                                                \n",
       "1       1       7027.511294      42.0     2             ultra\n",
       "        4        754.159807       7.0     1             ultra\n",
       "        8       6723.470560      46.0     2             ultra\n",
       "        10      5809.911100      32.0     2             ultra\n",
       "        11      7003.499363      56.0     3             ultra\n",
       "        12      6751.629942      28.0     2             ultra\n",
       "2       3      10187.723006      63.0     3             ultra\n",
       "        4       6164.381824      40.0     2             ultra\n",
       "        6       3255.338202      14.0     1             ultra\n",
       "        7       6780.722964      48.0     2             ultra\n",
       "        8        923.007439       7.0     1             ultra\n",
       "        10      2824.636598      19.0     1             ultra\n",
       "        12      3828.248580      12.0     1             ultra\n",
       "3       1       3061.777147      13.0     1             ultra\n",
       "        2       5421.152016      39.0     2             ultra\n",
       "        4       2956.651632      21.0     1             ultra\n",
       "        5       9064.026918      63.0     3             ultra\n",
       "        7      10919.595403      67.0     3             ultra\n",
       "        9       2891.012822      23.0     1             ultra\n",
       "        12      2593.381928      13.0     1             ultra"
      ]
     },
     "execution_count": 64,
     "metadata": {},
     "output_type": "execute_result"
    }
   ],
   "source": [
    "pivot_info = service_info.pivot_table(index = ['user_id', 'month'],\n",
    "                                      values = ['distance', \n",
    "                                                'duration',\n",
    "                                                'name',\n",
    "                                                'subscription_type'],\n",
    "                                      aggfunc = {'distance': sum,\n",
    "                                                 'duration': sum,\n",
    "                                                 'name': len,\n",
    "                                                 'subscription_type': min})\n",
    "pivot_info.head(20)"
   ]
  },
  {
   "cell_type": "markdown",
   "id": "5f276d26",
   "metadata": {},
   "source": [
    "В колонке 'name' содержится количество поездок, поэтому следует переименовать столбец"
   ]
  },
  {
   "cell_type": "code",
   "execution_count": 65,
   "id": "c3b99d96",
   "metadata": {},
   "outputs": [
    {
     "name": "stdout",
     "output_type": "stream",
     "text": [
      "<class 'pandas.core.frame.DataFrame'>\n",
      "MultiIndex: 11331 entries, (1, 1) to (1534, 12)\n",
      "Data columns (total 4 columns):\n",
      " #   Column             Non-Null Count  Dtype  \n",
      "---  ------             --------------  -----  \n",
      " 0   distance           11331 non-null  float64\n",
      " 1   duration           11331 non-null  float64\n",
      " 2   ride_count         11331 non-null  int64  \n",
      " 3   subscription_type  11331 non-null  object \n",
      "dtypes: float64(2), int64(1), object(1)\n",
      "memory usage: 399.5+ KB\n"
     ]
    }
   ],
   "source": [
    "pivot_info = pivot_info.rename(columns = {'name':'ride_count'})\n",
    "pivot_info.info()"
   ]
  },
  {
   "cell_type": "markdown",
   "id": "cc80da3d",
   "metadata": {},
   "source": [
    "### Добавление столбца с помесячной выручкой "
   ]
  },
  {
   "cell_type": "markdown",
   "id": "df6ad7b5",
   "metadata": {},
   "source": [
    "Добавляем столбец 'monthly_revenue' с расчетом помесячной выручки."
   ]
  },
  {
   "cell_type": "code",
   "execution_count": 66,
   "id": "331ddd02",
   "metadata": {},
   "outputs": [
    {
     "data": {
      "text/html": [
       "<div>\n",
       "<style scoped>\n",
       "    .dataframe tbody tr th:only-of-type {\n",
       "        vertical-align: middle;\n",
       "    }\n",
       "\n",
       "    .dataframe tbody tr th {\n",
       "        vertical-align: top;\n",
       "    }\n",
       "\n",
       "    .dataframe thead th {\n",
       "        text-align: right;\n",
       "    }\n",
       "</style>\n",
       "<table border=\"1\" class=\"dataframe\">\n",
       "  <thead>\n",
       "    <tr style=\"text-align: right;\">\n",
       "      <th></th>\n",
       "      <th>subscription_type</th>\n",
       "      <th>minute_price</th>\n",
       "      <th>start_ride_price</th>\n",
       "      <th>subscription_fee</th>\n",
       "    </tr>\n",
       "  </thead>\n",
       "  <tbody>\n",
       "    <tr>\n",
       "      <th>0</th>\n",
       "      <td>free</td>\n",
       "      <td>8</td>\n",
       "      <td>50</td>\n",
       "      <td>0</td>\n",
       "    </tr>\n",
       "    <tr>\n",
       "      <th>1</th>\n",
       "      <td>ultra</td>\n",
       "      <td>6</td>\n",
       "      <td>0</td>\n",
       "      <td>199</td>\n",
       "    </tr>\n",
       "  </tbody>\n",
       "</table>\n",
       "</div>"
      ],
      "text/plain": [
       "  subscription_type  minute_price  start_ride_price  subscription_fee\n",
       "0              free             8                50                 0\n",
       "1             ultra             6                 0               199"
      ]
     },
     "execution_count": 66,
     "metadata": {},
     "output_type": "execute_result"
    }
   ],
   "source": [
    "subscriptions.head()"
   ]
  },
  {
   "cell_type": "code",
   "execution_count": 67,
   "id": "9f16dc65",
   "metadata": {},
   "outputs": [],
   "source": [
    "def revenue(item):\n",
    "    sub_type = item['subscription_type']\n",
    "    if sub_type == 'ultra':\n",
    "        return 0 * item['ride_count'] + 6 * item['duration'] + 199\n",
    "    if sub_type == 'free':\n",
    "        return 50 * item['ride_count'] + 8 * item['duration'] + 0"
   ]
  },
  {
   "cell_type": "code",
   "execution_count": 68,
   "id": "0f3cd500",
   "metadata": {},
   "outputs": [
    {
     "data": {
      "text/html": [
       "<div>\n",
       "<style scoped>\n",
       "    .dataframe tbody tr th:only-of-type {\n",
       "        vertical-align: middle;\n",
       "    }\n",
       "\n",
       "    .dataframe tbody tr th {\n",
       "        vertical-align: top;\n",
       "    }\n",
       "\n",
       "    .dataframe thead th {\n",
       "        text-align: right;\n",
       "    }\n",
       "</style>\n",
       "<table border=\"1\" class=\"dataframe\">\n",
       "  <thead>\n",
       "    <tr style=\"text-align: right;\">\n",
       "      <th></th>\n",
       "      <th></th>\n",
       "      <th>distance</th>\n",
       "      <th>duration</th>\n",
       "      <th>ride_count</th>\n",
       "      <th>subscription_type</th>\n",
       "      <th>month_revenue</th>\n",
       "    </tr>\n",
       "    <tr>\n",
       "      <th>user_id</th>\n",
       "      <th>month</th>\n",
       "      <th></th>\n",
       "      <th></th>\n",
       "      <th></th>\n",
       "      <th></th>\n",
       "      <th></th>\n",
       "    </tr>\n",
       "  </thead>\n",
       "  <tbody>\n",
       "    <tr>\n",
       "      <th rowspan=\"5\" valign=\"top\">1</th>\n",
       "      <th>1</th>\n",
       "      <td>7027.511294</td>\n",
       "      <td>42.0</td>\n",
       "      <td>2</td>\n",
       "      <td>ultra</td>\n",
       "      <td>451.0</td>\n",
       "    </tr>\n",
       "    <tr>\n",
       "      <th>4</th>\n",
       "      <td>754.159807</td>\n",
       "      <td>7.0</td>\n",
       "      <td>1</td>\n",
       "      <td>ultra</td>\n",
       "      <td>241.0</td>\n",
       "    </tr>\n",
       "    <tr>\n",
       "      <th>8</th>\n",
       "      <td>6723.470560</td>\n",
       "      <td>46.0</td>\n",
       "      <td>2</td>\n",
       "      <td>ultra</td>\n",
       "      <td>475.0</td>\n",
       "    </tr>\n",
       "    <tr>\n",
       "      <th>10</th>\n",
       "      <td>5809.911100</td>\n",
       "      <td>32.0</td>\n",
       "      <td>2</td>\n",
       "      <td>ultra</td>\n",
       "      <td>391.0</td>\n",
       "    </tr>\n",
       "    <tr>\n",
       "      <th>11</th>\n",
       "      <td>7003.499363</td>\n",
       "      <td>56.0</td>\n",
       "      <td>3</td>\n",
       "      <td>ultra</td>\n",
       "      <td>535.0</td>\n",
       "    </tr>\n",
       "  </tbody>\n",
       "</table>\n",
       "</div>"
      ],
      "text/plain": [
       "                  distance  duration  ride_count subscription_type  \\\n",
       "user_id month                                                        \n",
       "1       1      7027.511294      42.0           2             ultra   \n",
       "        4       754.159807       7.0           1             ultra   \n",
       "        8      6723.470560      46.0           2             ultra   \n",
       "        10     5809.911100      32.0           2             ultra   \n",
       "        11     7003.499363      56.0           3             ultra   \n",
       "\n",
       "               month_revenue  \n",
       "user_id month                 \n",
       "1       1              451.0  \n",
       "        4              241.0  \n",
       "        8              475.0  \n",
       "        10             391.0  \n",
       "        11             535.0  "
      ]
     },
     "execution_count": 68,
     "metadata": {},
     "output_type": "execute_result"
    }
   ],
   "source": [
    "pivot_info['month_revenue'] = pivot_info.apply(revenue, axis = 1)\n",
    "pivot_info.head()"
   ]
  },
  {
   "cell_type": "markdown",
   "id": "41545ac0",
   "metadata": {},
   "source": [
    "## Шаг 6. Проверка гипотез\n",
    "\n",
    "Для первой гипотезы используем два отдельных датафрейма с разными типами подписок: 'free_data' и 'ultra_data'\n",
    "\n",
    "Для проверки последующих гипотез используем датафрейм 'pivot_info'\n",
    "\n",
    "Параметр **alpha** укажем равным 0.05"
   ]
  },
  {
   "cell_type": "markdown",
   "id": "f17ef317",
   "metadata": {},
   "source": [
    "### Гипотеза 1. Тратят ли пользователи с подпиской больше времени на поездки."
   ]
  },
  {
   "cell_type": "markdown",
   "id": "34914b0b",
   "metadata": {},
   "source": [
    "**H0:** Время поездки обычных пользователей равно времени, которое затрачивают на путь пользователи с подпиской \n",
    "\n",
    "**H1:** Время поездки пользователей с подпиской больше, чем время поездки у обычных пользователей"
   ]
  },
  {
   "cell_type": "code",
   "execution_count": 69,
   "id": "82bc5b61",
   "metadata": {},
   "outputs": [
    {
     "name": "stdout",
     "output_type": "stream",
     "text": [
      "p-значение 1.2804098316645618e-34\n",
      "\n",
      "Отвергаем нулевую гипотезу\n"
     ]
    }
   ],
   "source": [
    "#массив со значениями продолжительности времени у обычных пользователей\n",
    "time_free = free_data['duration']\n",
    "#у пользователей с подпиской\n",
    "time_ultra = ultra_data['duration']\n",
    "\n",
    "alpha = 0.05 # уровень статистической значимости\n",
    "\n",
    "result = st.ttest_ind(\n",
    "    time_ultra,\n",
    "    time_free,\n",
    "    alternative = 'greater'\n",
    ")\n",
    "\n",
    "print('p-значение', result.pvalue)\n",
    "print()\n",
    "if result.pvalue < alpha:\n",
    "    print('Отвергаем нулевую гипотезу')\n",
    "else:\n",
    "    print('Не отвергаем нулевую гипотезу')"
   ]
  },
  {
   "cell_type": "markdown",
   "id": "7ea2940b",
   "metadata": {},
   "source": [
    "Для проверки достоверности вывода построим диаграмму"
   ]
  },
  {
   "cell_type": "code",
   "execution_count": 70,
   "id": "155eb9ad",
   "metadata": {},
   "outputs": [
    {
     "data": {
      "image/png": "[encoded data removed]",
      "text/plain": [
       "<Figure size 432x288 with 1 Axes>"
      ]
     },
     "metadata": {
      "needs_background": "light"
     },
     "output_type": "display_data"
    }
   ],
   "source": [
    "barplot = sns.barplot(\n",
    "    data = service_info,\n",
    "    x = 'month',\n",
    "    y = 'duration',\n",
    "    hue = 'subscription_type'\n",
    ")\n",
    "plt.figsize = (10, 10)\n",
    "plt.title('Соотношение продолжительности времени поездки')\n",
    "plt.ylabel('Время поездки')\n",
    "plt.xlabel('Месяц');"
   ]
  },
  {
   "cell_type": "markdown",
   "id": "7ff618ef",
   "metadata": {},
   "source": [
    "По результатам проверки отвергаем нулевую гипотезу в пользу первой, т.е. продолжительность поездки у обычных пользователей меньше, чем у пользователей с подпиской."
   ]
  },
  {
   "cell_type": "markdown",
   "id": "2a96ed79",
   "metadata": {},
   "source": [
    "### Гипотеза 2. Среднее расстояние, которое проезжают пользователи, не превышает 3130 метров."
   ]
  },
  {
   "cell_type": "markdown",
   "id": "b81f130f",
   "metadata": {},
   "source": [
    "**H0:** Среднее расстояние, которое проежают пользователи равно 3130 метров\n",
    "\n",
    "**H1:** среднее расстояние больше 3130 метра"
   ]
  },
  {
   "cell_type": "code",
   "execution_count": 71,
   "id": "7bccf529",
   "metadata": {},
   "outputs": [
    {
     "name": "stdout",
     "output_type": "stream",
     "text": [
      "p-значение 0.9999999999995223\n",
      "\n",
      "Не отвергаем нулевую гипотезу\n"
     ]
    }
   ],
   "source": [
    "#массив со значениями расстояния\n",
    "distance = service_info['distance']\n",
    "#среднее растояние\n",
    "average_distance = 3130\n",
    "\n",
    "alpha = 0.05\n",
    "\n",
    "result = st.ttest_1samp(\n",
    "    distance,\n",
    "    average_distance,\n",
    "    alternative = 'greater'\n",
    ")\n",
    "\n",
    "print('p-значение', result.pvalue)\n",
    "print()\n",
    "if result.pvalue < alpha:\n",
    "    print('Отвергаем нулевую гипотезу')\n",
    "else:\n",
    "    print('Не отвергаем нулевую гипотезу')"
   ]
  },
  {
   "cell_type": "markdown",
   "id": "596deb42",
   "metadata": {},
   "source": [
    "В данном случае гипотеза о среднем расстоянии подтвердилась - расстояние не превышает 3130 метров."
   ]
  },
  {
   "cell_type": "markdown",
   "id": "e4848ee8",
   "metadata": {},
   "source": [
    "### Гипотеза 3. Помесячная выручка от пользователей с подпиской по месяцам выше, чем выручка от пользователей без подписки."
   ]
  },
  {
   "cell_type": "markdown",
   "id": "c3b685e6",
   "metadata": {},
   "source": [
    "**H0:** Помесячная выручка от пользователей с подпиской равна помесячной выручке от пользователей без подписки\n",
    "\n",
    "**H1:** Помесячная выручка от пользователей с подпиской выше помесячной выручки от пользователей без подписки"
   ]
  },
  {
   "cell_type": "code",
   "execution_count": 72,
   "id": "4b4fe9f2",
   "metadata": {},
   "outputs": [
    {
     "name": "stdout",
     "output_type": "stream",
     "text": [
      "p-значение 1.8850394384715216e-31\n",
      "\n",
      "Отвергаем нулевую гипотезу\n"
     ]
    }
   ],
   "source": [
    "#массив с помесячной выручкой от пользователей без подписки\n",
    "month_revenue_free = pivot_info.loc[pivot_info['subscription_type'] == 'free', 'month_revenue']\n",
    "#от пользователей с подпиской\n",
    "month_revenue_ultra = pivot_info.loc[pivot_info['subscription_type'] == 'ultra', 'month_revenue']\n",
    "\n",
    "alpha = 0.05\n",
    "\n",
    "result = st.ttest_ind(\n",
    "    month_revenue_ultra,\n",
    "    month_revenue_free,\n",
    "    alternative = 'greater'\n",
    ")\n",
    "\n",
    "print('p-значение', result.pvalue)\n",
    "print()\n",
    "if result.pvalue < alpha:\n",
    "    print('Отвергаем нулевую гипотезу')\n",
    "else:\n",
    "    print('Не отвергаем нулевую гипотезу')"
   ]
  },
  {
   "cell_type": "code",
   "execution_count": 73,
   "id": "84a39793",
   "metadata": {},
   "outputs": [
    {
     "data": {
      "image/png": "[encoded data removed]",
      "text/plain": [
       "<Figure size 432x288 with 1 Axes>"
      ]
     },
     "metadata": {
      "needs_background": "light"
     },
     "output_type": "display_data"
    }
   ],
   "source": [
    "barplot = sns.barplot(\n",
    "    data = pivot_info,\n",
    "    x = 'subscription_type',\n",
    "    y = 'month_revenue',\n",
    ")\n",
    "plt.figsize = (10, 10)\n",
    "plt.title('Соотношение помесячной вырчуки')\n",
    "plt.ylabel('Выручка')\n",
    "plt.xlabel('Тип подписки');"
   ]
  },
  {
   "cell_type": "markdown",
   "id": "4343726c",
   "metadata": {},
   "source": [
    "Здесь также можно утверждать, что сумма выручки от пользователей с подпиской больше, чем от простых пользователей."
   ]
  },
  {
   "cell_type": "markdown",
   "id": "b9da4e86",
   "metadata": {},
   "source": [
    "### Подбор соотвестсвующей гипотезы для проверки ситуации:\n",
    "\n",
    "Техническая команда сервиса обновила сервера, с которыми взаимодействует мобильное приложение. Она надеется, что из-за этого количество обращений в техподдержку значимо снизилось. Некоторый файл содержит для каждого пользователя данные о количестве обращений до обновления и после него. \n",
    "\n",
    "Какой тест вам понадобился бы для проверки этой гипотезы?"
   ]
  },
  {
   "cell_type": "markdown",
   "id": "c4e56d83",
   "metadata": {},
   "source": [
    "**H0:** Количество обращений в тех.поддержку после обновления сервера равно количеству обращений до обновления\n",
    "\n",
    "**H1:** Количество обращений в тех.поддержку после обновления сервера меньше количества обращений до обновленя\n",
    "\n",
    "В данном случае нужно проверять зависимые или парные выборки: до изменения и после, а именно, сравниить средние значения. Для этого подойдет метод 'ttest_rel', который принимает два аргумента:\n",
    "1. Выборка до изменения\n",
    "2. Выборка после изменения\n",
    "\n",
    "Важно, чтобы они были одинаковыми по размеру. Также стоит добавить атрибут 'alternative = \"less\"', т.к. проверяется левосторонняя альтернативная гипотеза."
   ]
  },
  {
   "cell_type": "markdown",
   "id": "61213c5e",
   "metadata": {},
   "source": [
    "## Шаг 7. Общий вывод"
   ]
  },
  {
   "cell_type": "markdown",
   "id": "b5959071",
   "metadata": {},
   "source": [
    "В ходе работы были изучены датафреймы с информацией о пользователях, поездках и подписках. Выявлены следующие проблемы:\n",
    " - тип данных у столбца с датами\n",
    " - слишком маленькие значения продолжительности поездки (0.5 минуты)\n",
    " - явные дубликаты в таблице с информацией о пользователях\n",
    "\n",
    "В целом данные не содержат пропусков, сильных выбросов и разбросов значений.\n",
    "\n",
    "Цель проекта и поставленные этапы выполненны - проведен анализ данных и проверено несколько гипотез,"
   ]
  },
  {
   "cell_type": "markdown",
   "id": "e3e60984",
   "metadata": {},
   "source": [
    "Более выгодными пользователями являются оформившие подписку. На это указывают следующие факторы:\n",
    " - наличие абонентской платы\n",
    " - большая сумма выручки\n",
    " - большая продолжительность времени поездки на самокате"
   ]
  }
 ],
 "metadata": {
  "ExecuteTimeLog": [
   {
    "duration": 395,
    "start_time": "2023-11-28T15:00:18.181Z"
   },
   {
    "duration": 188,
    "start_time": "2023-11-28T15:03:09.302Z"
   },
   {
    "duration": 19,
    "start_time": "2023-11-28T15:04:10.480Z"
   },
   {
    "duration": 12,
    "start_time": "2023-11-28T15:04:35.804Z"
   },
   {
    "duration": 12,
    "start_time": "2023-11-28T15:04:48.743Z"
   },
   {
    "duration": 10,
    "start_time": "2023-11-28T15:05:28.910Z"
   },
   {
    "duration": 9,
    "start_time": "2023-11-28T15:05:45.503Z"
   },
   {
    "duration": 70,
    "start_time": "2023-11-28T15:06:21.536Z"
   },
   {
    "duration": 877,
    "start_time": "2023-11-28T15:07:41.241Z"
   },
   {
    "duration": 18,
    "start_time": "2023-11-28T15:09:46.739Z"
   },
   {
    "duration": 21,
    "start_time": "2023-11-28T15:10:05.528Z"
   },
   {
    "duration": 18,
    "start_time": "2023-11-28T15:10:22.292Z"
   },
   {
    "duration": 8,
    "start_time": "2023-11-28T15:10:46.012Z"
   },
   {
    "duration": 8,
    "start_time": "2023-11-28T15:10:53.364Z"
   },
   {
    "duration": 9,
    "start_time": "2023-11-28T15:11:12.332Z"
   },
   {
    "duration": 13,
    "start_time": "2023-11-28T15:11:17.772Z"
   },
   {
    "duration": 18,
    "start_time": "2023-11-28T15:11:26.172Z"
   },
   {
    "duration": 7,
    "start_time": "2023-11-28T15:13:08.981Z"
   },
   {
    "duration": 10,
    "start_time": "2023-11-28T15:13:32.594Z"
   },
   {
    "duration": 40,
    "start_time": "2023-11-28T15:13:45.030Z"
   },
   {
    "duration": 21,
    "start_time": "2023-11-28T15:13:56.711Z"
   },
   {
    "duration": 7,
    "start_time": "2023-11-28T15:16:11.457Z"
   },
   {
    "duration": 10,
    "start_time": "2023-11-28T15:16:40.282Z"
   },
   {
    "duration": 17,
    "start_time": "2023-11-28T15:17:17.738Z"
   },
   {
    "duration": 25,
    "start_time": "2023-11-28T15:17:23.241Z"
   },
   {
    "duration": 227,
    "start_time": "2023-11-28T15:19:40.005Z"
   },
   {
    "duration": 278,
    "start_time": "2023-11-28T15:20:18.023Z"
   },
   {
    "duration": 221,
    "start_time": "2023-11-28T15:20:25.182Z"
   },
   {
    "duration": 242,
    "start_time": "2023-11-28T15:20:34.997Z"
   },
   {
    "duration": 133,
    "start_time": "2023-11-28T15:20:57.085Z"
   },
   {
    "duration": 409,
    "start_time": "2023-11-28T15:21:43.270Z"
   },
   {
    "duration": 354,
    "start_time": "2023-11-28T15:21:48.062Z"
   },
   {
    "duration": 14,
    "start_time": "2023-11-28T15:22:10.185Z"
   },
   {
    "duration": 235,
    "start_time": "2023-11-28T15:22:14.825Z"
   },
   {
    "duration": 223,
    "start_time": "2023-11-28T15:22:21.207Z"
   },
   {
    "duration": 258,
    "start_time": "2023-11-28T15:22:59.629Z"
   },
   {
    "duration": 8,
    "start_time": "2023-11-28T15:27:26.476Z"
   },
   {
    "duration": 255,
    "start_time": "2023-11-28T15:27:35.212Z"
   },
   {
    "duration": 9,
    "start_time": "2023-11-28T15:35:36.383Z"
   },
   {
    "duration": 10,
    "start_time": "2023-11-28T15:35:43.485Z"
   },
   {
    "duration": 703,
    "start_time": "2023-11-28T15:36:08.830Z"
   },
   {
    "duration": 18,
    "start_time": "2023-11-28T15:36:31.671Z"
   },
   {
    "duration": 101,
    "start_time": "2023-11-28T15:36:55.215Z"
   },
   {
    "duration": 9,
    "start_time": "2023-11-28T15:37:40.918Z"
   },
   {
    "duration": 8,
    "start_time": "2023-11-28T15:38:34.912Z"
   },
   {
    "duration": 10,
    "start_time": "2023-11-28T15:38:54.872Z"
   },
   {
    "duration": 9,
    "start_time": "2023-11-28T15:46:55.840Z"
   },
   {
    "duration": 8,
    "start_time": "2023-11-28T15:47:22.115Z"
   },
   {
    "duration": 12,
    "start_time": "2023-11-28T15:53:40.400Z"
   },
   {
    "duration": 10,
    "start_time": "2023-11-28T15:53:50.591Z"
   },
   {
    "duration": 10,
    "start_time": "2023-11-28T15:54:05.336Z"
   },
   {
    "duration": 11,
    "start_time": "2023-11-28T15:54:13.639Z"
   },
   {
    "duration": 19,
    "start_time": "2023-11-28T15:57:46.061Z"
   },
   {
    "duration": 15,
    "start_time": "2023-11-28T15:57:56.885Z"
   },
   {
    "duration": 10,
    "start_time": "2023-11-28T15:58:45.365Z"
   },
   {
    "duration": 10,
    "start_time": "2023-11-28T15:59:09.214Z"
   },
   {
    "duration": 9,
    "start_time": "2023-11-28T15:59:46.210Z"
   },
   {
    "duration": 12,
    "start_time": "2023-11-28T16:02:46.725Z"
   },
   {
    "duration": 9,
    "start_time": "2023-11-28T16:03:22.385Z"
   },
   {
    "duration": 11,
    "start_time": "2023-11-28T16:03:44.458Z"
   },
   {
    "duration": 6,
    "start_time": "2023-11-28T16:04:45.955Z"
   },
   {
    "duration": 16,
    "start_time": "2023-11-28T16:04:53.180Z"
   },
   {
    "duration": 13,
    "start_time": "2023-11-28T16:06:08.755Z"
   },
   {
    "duration": 52,
    "start_time": "2023-11-29T10:50:03.661Z"
   },
   {
    "duration": 1307,
    "start_time": "2023-11-29T10:50:07.485Z"
   },
   {
    "duration": 192,
    "start_time": "2023-11-29T10:50:08.794Z"
   },
   {
    "duration": 13,
    "start_time": "2023-11-29T10:50:08.988Z"
   },
   {
    "duration": 10,
    "start_time": "2023-11-29T10:50:09.003Z"
   },
   {
    "duration": 23,
    "start_time": "2023-11-29T10:50:09.015Z"
   },
   {
    "duration": 166,
    "start_time": "2023-11-29T10:50:09.040Z"
   },
   {
    "duration": 9,
    "start_time": "2023-11-29T10:50:09.207Z"
   },
   {
    "duration": 40,
    "start_time": "2023-11-29T10:50:09.218Z"
   },
   {
    "duration": 22,
    "start_time": "2023-11-29T10:50:09.259Z"
   },
   {
    "duration": 270,
    "start_time": "2023-11-29T10:50:09.283Z"
   },
   {
    "duration": 8,
    "start_time": "2023-11-29T10:50:09.557Z"
   },
   {
    "duration": 12,
    "start_time": "2023-11-29T10:50:09.567Z"
   },
   {
    "duration": 21,
    "start_time": "2023-11-29T10:50:09.581Z"
   },
   {
    "duration": 15,
    "start_time": "2023-11-29T10:50:09.603Z"
   },
   {
    "duration": 43,
    "start_time": "2023-11-29T10:50:09.619Z"
   },
   {
    "duration": 10,
    "start_time": "2023-11-29T10:50:09.663Z"
   },
   {
    "duration": 18,
    "start_time": "2023-11-29T10:50:09.674Z"
   },
   {
    "duration": 10,
    "start_time": "2023-11-29T10:50:09.693Z"
   },
   {
    "duration": 6,
    "start_time": "2023-11-29T10:50:57.235Z"
   },
   {
    "duration": 6,
    "start_time": "2023-11-29T10:51:15.667Z"
   },
   {
    "duration": 6,
    "start_time": "2023-11-29T10:59:07.035Z"
   },
   {
    "duration": 67,
    "start_time": "2023-11-29T11:09:37.656Z"
   },
   {
    "duration": 6,
    "start_time": "2023-11-29T11:15:09.509Z"
   },
   {
    "duration": 8,
    "start_time": "2023-11-29T11:15:41.133Z"
   },
   {
    "duration": 110,
    "start_time": "2023-11-29T11:21:31.609Z"
   },
   {
    "duration": 134,
    "start_time": "2023-11-29T11:21:50.635Z"
   },
   {
    "duration": 144,
    "start_time": "2023-11-29T11:22:00.345Z"
   },
   {
    "duration": 140,
    "start_time": "2023-11-29T11:22:31.523Z"
   },
   {
    "duration": 4,
    "start_time": "2023-11-29T11:23:06.802Z"
   },
   {
    "duration": 6,
    "start_time": "2023-11-29T11:23:15.333Z"
   },
   {
    "duration": 144,
    "start_time": "2023-11-29T11:23:25.405Z"
   },
   {
    "duration": 79,
    "start_time": "2023-11-29T11:26:19.103Z"
   },
   {
    "duration": 173,
    "start_time": "2023-11-29T11:26:23.124Z"
   },
   {
    "duration": 225,
    "start_time": "2023-11-29T11:26:29.674Z"
   },
   {
    "duration": 116,
    "start_time": "2023-11-29T11:32:22.238Z"
   },
   {
    "duration": 202,
    "start_time": "2023-11-29T11:33:59.922Z"
   },
   {
    "duration": 143,
    "start_time": "2023-11-29T11:34:10.569Z"
   },
   {
    "duration": 137,
    "start_time": "2023-11-29T11:34:19.122Z"
   },
   {
    "duration": 125,
    "start_time": "2023-11-29T11:34:27.586Z"
   },
   {
    "duration": 116,
    "start_time": "2023-11-29T11:34:38.202Z"
   },
   {
    "duration": 127,
    "start_time": "2023-11-29T11:35:40.188Z"
   },
   {
    "duration": 124,
    "start_time": "2023-11-29T11:35:50.916Z"
   },
   {
    "duration": 125,
    "start_time": "2023-11-29T11:35:57.442Z"
   },
   {
    "duration": 160,
    "start_time": "2023-11-29T11:38:07.478Z"
   },
   {
    "duration": 156,
    "start_time": "2023-11-29T11:38:15.557Z"
   },
   {
    "duration": 306,
    "start_time": "2023-11-29T11:40:48.776Z"
   },
   {
    "duration": 259,
    "start_time": "2023-11-29T11:41:01.816Z"
   },
   {
    "duration": 273,
    "start_time": "2023-11-29T11:41:10.664Z"
   },
   {
    "duration": 258,
    "start_time": "2023-11-29T11:41:22.640Z"
   },
   {
    "duration": 259,
    "start_time": "2023-11-29T11:41:30.736Z"
   },
   {
    "duration": 462,
    "start_time": "2023-11-29T11:42:24.977Z"
   },
   {
    "duration": 249,
    "start_time": "2023-11-29T11:42:35.985Z"
   },
   {
    "duration": 285,
    "start_time": "2023-11-29T11:44:27.365Z"
   },
   {
    "duration": 278,
    "start_time": "2023-11-29T11:44:27.851Z"
   },
   {
    "duration": 572,
    "start_time": "2023-11-29T11:44:54.252Z"
   },
   {
    "duration": 174,
    "start_time": "2023-11-29T11:45:37.784Z"
   },
   {
    "duration": 18488,
    "start_time": "2023-11-29T11:45:55.788Z"
   },
   {
    "duration": 161,
    "start_time": "2023-11-29T11:46:20.853Z"
   },
   {
    "duration": 134,
    "start_time": "2023-11-29T11:47:09.742Z"
   },
   {
    "duration": 276,
    "start_time": "2023-11-29T11:47:12.737Z"
   },
   {
    "duration": 207,
    "start_time": "2023-11-29T11:47:20.046Z"
   },
   {
    "duration": 135,
    "start_time": "2023-11-29T11:52:54.913Z"
   },
   {
    "duration": 576,
    "start_time": "2023-11-29T11:53:21.187Z"
   },
   {
    "duration": 289,
    "start_time": "2023-11-29T11:54:04.933Z"
   },
   {
    "duration": 273,
    "start_time": "2023-11-29T12:00:16.237Z"
   },
   {
    "duration": 4,
    "start_time": "2023-11-29T12:02:08.265Z"
   },
   {
    "duration": 5,
    "start_time": "2023-11-29T12:02:26.242Z"
   },
   {
    "duration": 265,
    "start_time": "2023-11-29T12:04:25.248Z"
   },
   {
    "duration": 206,
    "start_time": "2023-11-29T12:04:34.871Z"
   },
   {
    "duration": 200,
    "start_time": "2023-11-29T12:04:49.863Z"
   },
   {
    "duration": 3,
    "start_time": "2023-11-29T12:05:28.071Z"
   },
   {
    "duration": 4,
    "start_time": "2023-11-29T12:05:34.623Z"
   },
   {
    "duration": 4,
    "start_time": "2023-11-29T12:05:46.935Z"
   },
   {
    "duration": 8,
    "start_time": "2023-11-29T12:09:39.538Z"
   },
   {
    "duration": 7,
    "start_time": "2023-11-29T12:09:53.298Z"
   },
   {
    "duration": 7,
    "start_time": "2023-11-29T12:11:05.548Z"
   },
   {
    "duration": 31,
    "start_time": "2023-11-29T12:16:20.377Z"
   },
   {
    "duration": 8,
    "start_time": "2023-11-29T12:16:29.993Z"
   },
   {
    "duration": 6,
    "start_time": "2023-11-29T12:17:31.283Z"
   },
   {
    "duration": 99,
    "start_time": "2023-11-29T12:18:03.209Z"
   },
   {
    "duration": 4,
    "start_time": "2023-11-29T12:18:07.345Z"
   },
   {
    "duration": 7,
    "start_time": "2023-11-29T12:19:50.315Z"
   },
   {
    "duration": 7,
    "start_time": "2023-11-29T12:20:13.708Z"
   },
   {
    "duration": 21,
    "start_time": "2023-11-29T12:21:01.917Z"
   },
   {
    "duration": 111,
    "start_time": "2023-11-29T12:36:50.533Z"
   },
   {
    "duration": 212,
    "start_time": "2023-11-29T12:36:59.453Z"
   },
   {
    "duration": 113,
    "start_time": "2023-11-29T12:37:16.733Z"
   },
   {
    "duration": 3,
    "start_time": "2023-11-29T12:37:23.216Z"
   },
   {
    "duration": 82,
    "start_time": "2023-11-29T12:37:23.224Z"
   },
   {
    "duration": 7,
    "start_time": "2023-11-29T12:37:23.308Z"
   },
   {
    "duration": 27,
    "start_time": "2023-11-29T12:37:23.317Z"
   },
   {
    "duration": 26,
    "start_time": "2023-11-29T12:37:23.346Z"
   },
   {
    "duration": 156,
    "start_time": "2023-11-29T12:37:23.374Z"
   },
   {
    "duration": 8,
    "start_time": "2023-11-29T12:37:23.531Z"
   },
   {
    "duration": 29,
    "start_time": "2023-11-29T12:37:23.541Z"
   },
   {
    "duration": 35,
    "start_time": "2023-11-29T12:37:23.571Z"
   },
   {
    "duration": 246,
    "start_time": "2023-11-29T12:37:23.608Z"
   },
   {
    "duration": 7,
    "start_time": "2023-11-29T12:37:23.857Z"
   },
   {
    "duration": 26,
    "start_time": "2023-11-29T12:37:23.865Z"
   },
   {
    "duration": 36,
    "start_time": "2023-11-29T12:37:23.893Z"
   },
   {
    "duration": 39,
    "start_time": "2023-11-29T12:37:23.930Z"
   },
   {
    "duration": 22,
    "start_time": "2023-11-29T12:37:23.971Z"
   },
   {
    "duration": 36,
    "start_time": "2023-11-29T12:37:23.995Z"
   },
   {
    "duration": 10,
    "start_time": "2023-11-29T12:37:24.033Z"
   },
   {
    "duration": 35,
    "start_time": "2023-11-29T12:37:24.045Z"
   },
   {
    "duration": 27,
    "start_time": "2023-11-29T12:37:24.082Z"
   },
   {
    "duration": 16,
    "start_time": "2023-11-29T12:37:24.111Z"
   },
   {
    "duration": 177,
    "start_time": "2023-11-29T12:37:24.128Z"
   },
   {
    "duration": 150,
    "start_time": "2023-11-29T12:37:24.307Z"
   },
   {
    "duration": 214,
    "start_time": "2023-11-29T12:37:24.460Z"
   },
   {
    "duration": 289,
    "start_time": "2023-11-29T12:37:24.676Z"
   },
   {
    "duration": 5,
    "start_time": "2023-11-29T12:37:24.967Z"
   },
   {
    "duration": 229,
    "start_time": "2023-11-29T12:37:24.973Z"
   },
   {
    "duration": 5,
    "start_time": "2023-11-29T12:37:25.204Z"
   },
   {
    "duration": 243,
    "start_time": "2023-11-29T12:37:25.210Z"
   },
   {
    "duration": 8,
    "start_time": "2023-11-29T12:37:25.460Z"
   },
   {
    "duration": 111,
    "start_time": "2023-11-29T12:37:31.765Z"
   },
   {
    "duration": 147,
    "start_time": "2023-11-29T12:37:47.077Z"
   },
   {
    "duration": 7,
    "start_time": "2023-11-29T12:37:58.421Z"
   },
   {
    "duration": 24,
    "start_time": "2023-11-29T12:37:59.597Z"
   },
   {
    "duration": 124,
    "start_time": "2023-11-29T12:38:20.416Z"
   },
   {
    "duration": 3,
    "start_time": "2023-11-29T12:38:26.426Z"
   },
   {
    "duration": 66,
    "start_time": "2023-11-29T12:38:26.433Z"
   },
   {
    "duration": 8,
    "start_time": "2023-11-29T12:38:26.501Z"
   },
   {
    "duration": 16,
    "start_time": "2023-11-29T12:38:26.510Z"
   },
   {
    "duration": 37,
    "start_time": "2023-11-29T12:38:26.528Z"
   },
   {
    "duration": 150,
    "start_time": "2023-11-29T12:38:26.567Z"
   },
   {
    "duration": 8,
    "start_time": "2023-11-29T12:38:26.718Z"
   },
   {
    "duration": 23,
    "start_time": "2023-11-29T12:38:26.727Z"
   },
   {
    "duration": 21,
    "start_time": "2023-11-29T12:38:26.758Z"
   },
   {
    "duration": 286,
    "start_time": "2023-11-29T12:38:26.781Z"
   },
   {
    "duration": 7,
    "start_time": "2023-11-29T12:38:27.071Z"
   },
   {
    "duration": 17,
    "start_time": "2023-11-29T12:38:27.079Z"
   },
   {
    "duration": 21,
    "start_time": "2023-11-29T12:38:27.098Z"
   },
   {
    "duration": 43,
    "start_time": "2023-11-29T12:38:27.121Z"
   },
   {
    "duration": 6,
    "start_time": "2023-11-29T12:38:27.166Z"
   },
   {
    "duration": 38,
    "start_time": "2023-11-29T12:38:27.174Z"
   },
   {
    "duration": 11,
    "start_time": "2023-11-29T12:38:27.214Z"
   },
   {
    "duration": 17,
    "start_time": "2023-11-29T12:38:27.226Z"
   },
   {
    "duration": 15,
    "start_time": "2023-11-29T12:38:27.245Z"
   },
   {
    "duration": 6,
    "start_time": "2023-11-29T12:38:27.262Z"
   },
   {
    "duration": 172,
    "start_time": "2023-11-29T12:38:27.269Z"
   },
   {
    "duration": 139,
    "start_time": "2023-11-29T12:38:27.442Z"
   },
   {
    "duration": 209,
    "start_time": "2023-11-29T12:38:27.583Z"
   },
   {
    "duration": 362,
    "start_time": "2023-11-29T12:38:27.794Z"
   },
   {
    "duration": 4,
    "start_time": "2023-11-29T12:38:28.158Z"
   },
   {
    "duration": 240,
    "start_time": "2023-11-29T12:38:28.164Z"
   },
   {
    "duration": 5,
    "start_time": "2023-11-29T12:38:28.405Z"
   },
   {
    "duration": 139,
    "start_time": "2023-11-29T12:38:28.411Z"
   },
   {
    "duration": 7,
    "start_time": "2023-11-29T12:38:28.558Z"
   },
   {
    "duration": 26,
    "start_time": "2023-11-29T12:38:28.567Z"
   },
   {
    "duration": 20,
    "start_time": "2023-11-29T13:43:12.529Z"
   },
   {
    "duration": 18,
    "start_time": "2023-11-29T13:43:36.102Z"
   },
   {
    "duration": 18,
    "start_time": "2023-11-29T13:44:28.482Z"
   },
   {
    "duration": 18,
    "start_time": "2023-11-29T13:44:57.754Z"
   },
   {
    "duration": 17,
    "start_time": "2023-11-29T13:46:54.285Z"
   },
   {
    "duration": 16,
    "start_time": "2023-11-29T13:47:01.835Z"
   },
   {
    "duration": 30,
    "start_time": "2023-11-29T13:47:18.925Z"
   },
   {
    "duration": 19,
    "start_time": "2023-11-29T13:47:53.062Z"
   },
   {
    "duration": 15,
    "start_time": "2023-11-29T13:48:00.022Z"
   },
   {
    "duration": 24,
    "start_time": "2023-11-29T13:48:23.294Z"
   },
   {
    "duration": 27,
    "start_time": "2023-11-29T13:48:27.087Z"
   },
   {
    "duration": 25,
    "start_time": "2023-11-29T13:49:10.280Z"
   },
   {
    "duration": 20,
    "start_time": "2023-11-29T13:49:24.200Z"
   },
   {
    "duration": 20,
    "start_time": "2023-11-29T13:49:27.991Z"
   },
   {
    "duration": 27,
    "start_time": "2023-11-29T13:49:45.775Z"
   },
   {
    "duration": 1336,
    "start_time": "2023-11-29T13:50:45.168Z"
   },
   {
    "duration": 1278,
    "start_time": "2023-11-29T13:50:52.463Z"
   },
   {
    "duration": 9,
    "start_time": "2023-11-29T13:51:07.968Z"
   },
   {
    "duration": 1275,
    "start_time": "2023-11-29T13:51:30.089Z"
   },
   {
    "duration": 9,
    "start_time": "2023-11-29T13:52:16.441Z"
   },
   {
    "duration": 15,
    "start_time": "2023-11-29T13:52:35.912Z"
   },
   {
    "duration": 14,
    "start_time": "2023-11-29T13:53:28.699Z"
   },
   {
    "duration": 14,
    "start_time": "2023-11-29T13:53:59.443Z"
   },
   {
    "duration": 33,
    "start_time": "2023-11-29T13:54:20.435Z"
   },
   {
    "duration": 13,
    "start_time": "2023-11-29T13:55:26.828Z"
   },
   {
    "duration": 18,
    "start_time": "2023-11-29T13:56:06.365Z"
   },
   {
    "duration": 364,
    "start_time": "2023-11-29T14:02:30.982Z"
   },
   {
    "duration": 358,
    "start_time": "2023-11-29T14:02:42.117Z"
   },
   {
    "duration": 221,
    "start_time": "2023-11-29T14:03:14.461Z"
   },
   {
    "duration": 222,
    "start_time": "2023-11-29T14:04:32.792Z"
   },
   {
    "duration": 88,
    "start_time": "2023-11-29T14:04:52.221Z"
   },
   {
    "duration": 217,
    "start_time": "2023-11-29T14:04:55.696Z"
   },
   {
    "duration": 214,
    "start_time": "2023-11-29T14:05:44.534Z"
   },
   {
    "duration": 419,
    "start_time": "2023-11-29T14:05:48.818Z"
   },
   {
    "duration": 232,
    "start_time": "2023-11-29T14:06:32.994Z"
   },
   {
    "duration": 233,
    "start_time": "2023-11-29T14:06:47.554Z"
   },
   {
    "duration": 290,
    "start_time": "2023-11-29T14:07:21.917Z"
   },
   {
    "duration": 121,
    "start_time": "2023-11-29T14:07:34.725Z"
   },
   {
    "duration": 287,
    "start_time": "2023-11-29T14:07:39.229Z"
   },
   {
    "duration": 351,
    "start_time": "2023-11-29T14:09:56.488Z"
   },
   {
    "duration": 486,
    "start_time": "2023-11-29T14:10:05.092Z"
   },
   {
    "duration": 288,
    "start_time": "2023-11-29T14:10:47.080Z"
   },
   {
    "duration": 334,
    "start_time": "2023-11-29T14:13:20.383Z"
   },
   {
    "duration": 407,
    "start_time": "2023-11-29T14:14:11.306Z"
   },
   {
    "duration": 426,
    "start_time": "2023-11-29T14:14:31.897Z"
   },
   {
    "duration": 574,
    "start_time": "2023-11-29T14:15:30.432Z"
   },
   {
    "duration": 343,
    "start_time": "2023-11-29T14:16:15.578Z"
   },
   {
    "duration": 279,
    "start_time": "2023-11-29T14:16:48.198Z"
   },
   {
    "duration": 436,
    "start_time": "2023-11-29T14:16:56.602Z"
   },
   {
    "duration": 469,
    "start_time": "2023-11-29T14:18:02.129Z"
   },
   {
    "duration": 334,
    "start_time": "2023-11-29T14:18:02.600Z"
   },
   {
    "duration": 339,
    "start_time": "2023-11-29T14:18:34.515Z"
   },
   {
    "duration": 349,
    "start_time": "2023-11-29T14:19:14.900Z"
   },
   {
    "duration": 323,
    "start_time": "2023-11-29T14:19:36.396Z"
   },
   {
    "duration": 4,
    "start_time": "2023-11-29T14:41:44.996Z"
   },
   {
    "duration": 16,
    "start_time": "2023-11-29T14:47:56.610Z"
   },
   {
    "duration": 115,
    "start_time": "2023-11-29T14:54:03.053Z"
   },
   {
    "duration": 92,
    "start_time": "2023-11-29T14:54:29.710Z"
   },
   {
    "duration": 86,
    "start_time": "2023-11-29T14:54:56.181Z"
   },
   {
    "duration": 92,
    "start_time": "2023-11-29T14:55:27.830Z"
   },
   {
    "duration": 92,
    "start_time": "2023-11-29T14:55:48.116Z"
   },
   {
    "duration": 879,
    "start_time": "2023-11-29T14:56:54.232Z"
   },
   {
    "duration": 898,
    "start_time": "2023-11-29T14:57:07.507Z"
   },
   {
    "duration": 77,
    "start_time": "2023-11-29T15:00:51.100Z"
   },
   {
    "duration": 9,
    "start_time": "2023-11-29T15:01:42.053Z"
   },
   {
    "duration": 10,
    "start_time": "2023-11-29T15:01:49.989Z"
   },
   {
    "duration": 4,
    "start_time": "2023-11-29T15:01:58.495Z"
   },
   {
    "duration": 5,
    "start_time": "2023-11-29T15:02:12.038Z"
   },
   {
    "duration": 8,
    "start_time": "2023-11-29T15:05:50.051Z"
   },
   {
    "duration": 7,
    "start_time": "2023-11-29T15:07:38.188Z"
   },
   {
    "duration": 11,
    "start_time": "2023-11-29T15:07:44.831Z"
   },
   {
    "duration": 953,
    "start_time": "2023-11-29T15:08:06.467Z"
   },
   {
    "duration": 12,
    "start_time": "2023-11-29T15:08:13.707Z"
   },
   {
    "duration": 6,
    "start_time": "2023-11-29T15:08:41.132Z"
   },
   {
    "duration": 927,
    "start_time": "2023-11-29T15:09:02.955Z"
   },
   {
    "duration": 952,
    "start_time": "2023-11-29T15:09:16.588Z"
   },
   {
    "duration": 12,
    "start_time": "2023-11-29T15:10:14.758Z"
   },
   {
    "duration": 12,
    "start_time": "2023-11-29T15:13:55.786Z"
   },
   {
    "duration": 51,
    "start_time": "2023-11-30T09:22:01.484Z"
   },
   {
    "duration": 1329,
    "start_time": "2023-11-30T09:22:08.412Z"
   },
   {
    "duration": 290,
    "start_time": "2023-11-30T09:22:09.743Z"
   },
   {
    "duration": 14,
    "start_time": "2023-11-30T09:22:10.035Z"
   },
   {
    "duration": 18,
    "start_time": "2023-11-30T09:22:10.050Z"
   },
   {
    "duration": 24,
    "start_time": "2023-11-30T09:22:10.069Z"
   },
   {
    "duration": 158,
    "start_time": "2023-11-30T09:22:10.095Z"
   },
   {
    "duration": 8,
    "start_time": "2023-11-30T09:22:10.254Z"
   },
   {
    "duration": 31,
    "start_time": "2023-11-30T09:22:10.264Z"
   },
   {
    "duration": 32,
    "start_time": "2023-11-30T09:22:10.296Z"
   },
   {
    "duration": 267,
    "start_time": "2023-11-30T09:22:10.331Z"
   },
   {
    "duration": 10,
    "start_time": "2023-11-30T09:22:10.599Z"
   },
   {
    "duration": 16,
    "start_time": "2023-11-30T09:22:10.610Z"
   },
   {
    "duration": 22,
    "start_time": "2023-11-30T09:22:10.628Z"
   },
   {
    "duration": 26,
    "start_time": "2023-11-30T09:22:10.652Z"
   },
   {
    "duration": 6,
    "start_time": "2023-11-30T09:22:10.679Z"
   },
   {
    "duration": 35,
    "start_time": "2023-11-30T09:22:10.686Z"
   },
   {
    "duration": 25,
    "start_time": "2023-11-30T09:22:10.722Z"
   },
   {
    "duration": 10,
    "start_time": "2023-11-30T09:22:10.749Z"
   },
   {
    "duration": 6,
    "start_time": "2023-11-30T09:22:10.761Z"
   },
   {
    "duration": 5,
    "start_time": "2023-11-30T09:22:10.769Z"
   },
   {
    "duration": 177,
    "start_time": "2023-11-30T09:22:10.775Z"
   },
   {
    "duration": 142,
    "start_time": "2023-11-30T09:22:10.953Z"
   },
   {
    "duration": 226,
    "start_time": "2023-11-30T09:22:11.097Z"
   },
   {
    "duration": 298,
    "start_time": "2023-11-30T09:22:11.325Z"
   },
   {
    "duration": 5,
    "start_time": "2023-11-30T09:22:11.625Z"
   },
   {
    "duration": 260,
    "start_time": "2023-11-30T09:22:11.631Z"
   },
   {
    "duration": 5,
    "start_time": "2023-11-30T09:22:11.893Z"
   },
   {
    "duration": 220,
    "start_time": "2023-11-30T09:22:11.901Z"
   },
   {
    "duration": 7,
    "start_time": "2023-11-30T09:22:12.123Z"
   },
   {
    "duration": 42,
    "start_time": "2023-11-30T09:22:12.132Z"
   },
   {
    "duration": 28,
    "start_time": "2023-11-30T09:22:12.175Z"
   },
   {
    "duration": 14,
    "start_time": "2023-11-30T09:22:12.204Z"
   },
   {
    "duration": 54,
    "start_time": "2023-11-30T09:22:12.220Z"
   },
   {
    "duration": 15,
    "start_time": "2023-11-30T09:22:12.275Z"
   },
   {
    "duration": 12,
    "start_time": "2023-11-30T09:22:12.292Z"
   },
   {
    "duration": 15,
    "start_time": "2023-11-30T09:22:12.306Z"
   },
   {
    "duration": 12,
    "start_time": "2023-11-30T09:22:12.322Z"
   },
   {
    "duration": 454,
    "start_time": "2023-11-30T09:22:12.336Z"
   },
   {
    "duration": 346,
    "start_time": "2023-11-30T09:22:12.791Z"
   },
   {
    "duration": 368,
    "start_time": "2023-11-30T09:22:13.139Z"
   },
   {
    "duration": 356,
    "start_time": "2023-11-30T09:22:13.508Z"
   },
   {
    "duration": 939,
    "start_time": "2023-11-30T09:22:13.865Z"
   },
   {
    "duration": 11,
    "start_time": "2023-11-30T09:22:14.805Z"
   },
   {
    "duration": 32,
    "start_time": "2023-11-30T09:22:14.818Z"
   },
   {
    "duration": 19,
    "start_time": "2023-11-30T09:22:14.852Z"
   },
   {
    "duration": 80,
    "start_time": "2023-11-30T09:22:14.873Z"
   },
   {
    "duration": 39,
    "start_time": "2023-11-30T09:29:30.462Z"
   },
   {
    "duration": 901,
    "start_time": "2023-11-30T09:31:08.771Z"
   },
   {
    "duration": 922,
    "start_time": "2023-11-30T09:38:14.304Z"
   },
   {
    "duration": 42,
    "start_time": "2023-11-30T09:38:59.822Z"
   },
   {
    "duration": 41,
    "start_time": "2023-11-30T09:40:12.927Z"
   },
   {
    "duration": 44,
    "start_time": "2023-11-30T09:40:44.069Z"
   },
   {
    "duration": 1340,
    "start_time": "2023-11-30T09:40:56.378Z"
   },
   {
    "duration": 924,
    "start_time": "2023-11-30T09:41:34.209Z"
   },
   {
    "duration": 995,
    "start_time": "2023-11-30T09:41:43.499Z"
   },
   {
    "duration": 917,
    "start_time": "2023-11-30T09:47:35.976Z"
   },
   {
    "duration": 4,
    "start_time": "2023-11-30T09:51:39.403Z"
   },
   {
    "duration": 8,
    "start_time": "2023-11-30T09:52:06.821Z"
   },
   {
    "duration": 4,
    "start_time": "2023-11-30T09:52:13.188Z"
   },
   {
    "duration": 7,
    "start_time": "2023-11-30T09:55:00.814Z"
   },
   {
    "duration": 32,
    "start_time": "2023-11-30T09:55:37.063Z"
   },
   {
    "duration": 6,
    "start_time": "2023-11-30T09:57:06.057Z"
   },
   {
    "duration": 3,
    "start_time": "2023-11-30T10:03:33.417Z"
   },
   {
    "duration": 103,
    "start_time": "2023-11-30T10:04:49.632Z"
   },
   {
    "duration": 4,
    "start_time": "2023-11-30T10:06:10.763Z"
   },
   {
    "duration": 1053,
    "start_time": "2023-11-30T10:06:11.481Z"
   },
   {
    "duration": 877,
    "start_time": "2023-11-30T10:06:46.073Z"
   },
   {
    "duration": 10,
    "start_time": "2023-11-30T10:06:47.720Z"
   },
   {
    "duration": 11,
    "start_time": "2023-11-30T10:07:02.618Z"
   },
   {
    "duration": 7,
    "start_time": "2023-11-30T10:07:06.090Z"
   },
   {
    "duration": 7,
    "start_time": "2023-11-30T10:07:10.449Z"
   },
   {
    "duration": 3,
    "start_time": "2023-11-30T10:07:12.083Z"
   },
   {
    "duration": 141,
    "start_time": "2023-11-30T10:07:13.060Z"
   },
   {
    "duration": 19,
    "start_time": "2023-11-30T12:00:57.949Z"
   },
   {
    "duration": 18,
    "start_time": "2023-11-30T12:02:16.376Z"
   },
   {
    "duration": 6,
    "start_time": "2023-11-30T12:03:49.178Z"
   },
   {
    "duration": 6,
    "start_time": "2023-11-30T12:13:01.051Z"
   },
   {
    "duration": 6,
    "start_time": "2023-11-30T12:13:28.281Z"
   },
   {
    "duration": 151,
    "start_time": "2023-11-30T12:19:36.425Z"
   },
   {
    "duration": 11,
    "start_time": "2023-11-30T12:25:44.110Z"
   },
   {
    "duration": 348,
    "start_time": "2023-11-30T12:50:44.702Z"
   },
   {
    "duration": 360,
    "start_time": "2023-11-30T12:51:53.633Z"
   },
   {
    "duration": 156,
    "start_time": "2023-11-30T12:53:42.832Z"
   },
   {
    "duration": 28991,
    "start_time": "2023-11-30T12:54:10.823Z"
   },
   {
    "duration": 229,
    "start_time": "2023-11-30T13:01:18.518Z"
   },
   {
    "duration": 14,
    "start_time": "2023-11-30T13:04:56.588Z"
   },
   {
    "duration": 108300,
    "start_time": "2023-11-30T13:06:56.327Z"
   },
   {
    "duration": 4,
    "start_time": "2023-11-30T13:15:34.908Z"
   },
   {
    "duration": 13,
    "start_time": "2023-11-30T13:15:34.913Z"
   },
   {
    "duration": 643,
    "start_time": "2023-11-30T13:17:54.957Z"
   },
   {
    "duration": 11,
    "start_time": "2023-11-30T13:24:50.351Z"
   },
   {
    "duration": 97,
    "start_time": "2023-11-30T13:24:56.983Z"
   },
   {
    "duration": 19,
    "start_time": "2023-11-30T13:25:02.703Z"
   },
   {
    "duration": 532,
    "start_time": "2023-11-30T13:26:33.467Z"
   },
   {
    "duration": 211,
    "start_time": "2023-11-30T13:28:03.100Z"
   },
   {
    "duration": 212,
    "start_time": "2023-11-30T13:28:44.638Z"
   },
   {
    "duration": 248,
    "start_time": "2023-11-30T13:29:54.465Z"
   },
   {
    "duration": 215,
    "start_time": "2023-11-30T13:30:18.920Z"
   },
   {
    "duration": 216,
    "start_time": "2023-11-30T13:30:34.258Z"
   },
   {
    "duration": 211,
    "start_time": "2023-11-30T13:34:02.996Z"
   },
   {
    "duration": 525,
    "start_time": "2023-11-30T13:37:00.590Z"
   },
   {
    "duration": 890,
    "start_time": "2023-11-30T13:37:58.362Z"
   },
   {
    "duration": 10,
    "start_time": "2023-11-30T13:59:16.283Z"
   },
   {
    "duration": 3,
    "start_time": "2023-11-30T14:01:51.605Z"
   },
   {
    "duration": 12,
    "start_time": "2023-11-30T14:03:48.746Z"
   },
   {
    "duration": 240,
    "start_time": "2023-11-30T14:03:55.248Z"
   },
   {
    "duration": 16,
    "start_time": "2023-11-30T14:14:17.553Z"
   },
   {
    "duration": 1167,
    "start_time": "2023-11-30T14:32:36.297Z"
   },
   {
    "duration": 72,
    "start_time": "2023-11-30T14:32:37.466Z"
   },
   {
    "duration": 11,
    "start_time": "2023-11-30T14:32:37.540Z"
   },
   {
    "duration": 22,
    "start_time": "2023-11-30T14:32:37.553Z"
   },
   {
    "duration": 34,
    "start_time": "2023-11-30T14:32:37.576Z"
   },
   {
    "duration": 153,
    "start_time": "2023-11-30T14:32:37.612Z"
   },
   {
    "duration": 9,
    "start_time": "2023-11-30T14:32:37.767Z"
   },
   {
    "duration": 40,
    "start_time": "2023-11-30T14:32:37.778Z"
   },
   {
    "duration": 25,
    "start_time": "2023-11-30T14:32:37.820Z"
   },
   {
    "duration": 266,
    "start_time": "2023-11-30T14:32:37.849Z"
   },
   {
    "duration": 8,
    "start_time": "2023-11-30T14:32:38.117Z"
   },
   {
    "duration": 31,
    "start_time": "2023-11-30T14:32:38.127Z"
   },
   {
    "duration": 40,
    "start_time": "2023-11-30T14:32:38.159Z"
   },
   {
    "duration": 32,
    "start_time": "2023-11-30T14:32:38.200Z"
   },
   {
    "duration": 19,
    "start_time": "2023-11-30T14:32:38.234Z"
   },
   {
    "duration": 28,
    "start_time": "2023-11-30T14:32:38.255Z"
   },
   {
    "duration": 76,
    "start_time": "2023-11-30T14:32:38.284Z"
   },
   {
    "duration": 10,
    "start_time": "2023-11-30T14:32:38.362Z"
   },
   {
    "duration": 21,
    "start_time": "2023-11-30T14:32:38.373Z"
   },
   {
    "duration": 8,
    "start_time": "2023-11-30T14:32:38.395Z"
   },
   {
    "duration": 167,
    "start_time": "2023-11-30T14:32:38.405Z"
   },
   {
    "duration": 136,
    "start_time": "2023-11-30T14:32:38.574Z"
   },
   {
    "duration": 212,
    "start_time": "2023-11-30T14:32:38.712Z"
   },
   {
    "duration": 281,
    "start_time": "2023-11-30T14:32:38.926Z"
   },
   {
    "duration": 5,
    "start_time": "2023-11-30T14:32:39.208Z"
   },
   {
    "duration": 286,
    "start_time": "2023-11-30T14:32:39.214Z"
   },
   {
    "duration": 5,
    "start_time": "2023-11-30T14:32:39.501Z"
   },
   {
    "duration": 172,
    "start_time": "2023-11-30T14:32:39.509Z"
   },
   {
    "duration": 7,
    "start_time": "2023-11-30T14:32:39.683Z"
   },
   {
    "duration": 32,
    "start_time": "2023-11-30T14:32:39.692Z"
   },
   {
    "duration": 40,
    "start_time": "2023-11-30T14:32:39.726Z"
   },
   {
    "duration": 15,
    "start_time": "2023-11-30T14:32:39.767Z"
   },
   {
    "duration": 32,
    "start_time": "2023-11-30T14:32:39.783Z"
   },
   {
    "duration": 15,
    "start_time": "2023-11-30T14:32:39.817Z"
   },
   {
    "duration": 40,
    "start_time": "2023-11-30T14:32:39.834Z"
   },
   {
    "duration": 14,
    "start_time": "2023-11-30T14:32:39.875Z"
   },
   {
    "duration": 12,
    "start_time": "2023-11-30T14:32:39.891Z"
   },
   {
    "duration": 435,
    "start_time": "2023-11-30T14:32:39.905Z"
   },
   {
    "duration": 348,
    "start_time": "2023-11-30T14:32:40.342Z"
   },
   {
    "duration": 365,
    "start_time": "2023-11-30T14:32:40.692Z"
   },
   {
    "duration": 373,
    "start_time": "2023-11-30T14:32:41.065Z"
   },
   {
    "duration": 901,
    "start_time": "2023-11-30T14:32:41.440Z"
   },
   {
    "duration": 22,
    "start_time": "2023-11-30T14:32:42.343Z"
   },
   {
    "duration": 8,
    "start_time": "2023-11-30T14:32:42.367Z"
   },
   {
    "duration": 108,
    "start_time": "2023-11-30T14:32:42.377Z"
   },
   {
    "duration": 4,
    "start_time": "2023-11-30T14:32:42.487Z"
   },
   {
    "duration": 159,
    "start_time": "2023-11-30T14:32:42.493Z"
   },
   {
    "duration": 12,
    "start_time": "2023-11-30T14:32:42.654Z"
   },
   {
    "duration": 928,
    "start_time": "2023-11-30T14:32:42.668Z"
   },
   {
    "duration": 6,
    "start_time": "2023-11-30T14:32:43.597Z"
   },
   {
    "duration": 12,
    "start_time": "2023-11-30T14:32:43.605Z"
   },
   {
    "duration": 215,
    "start_time": "2023-11-30T14:32:43.619Z"
   },
   {
    "duration": 17,
    "start_time": "2023-11-30T14:33:26.276Z"
   },
   {
    "duration": 1164,
    "start_time": "2023-11-30T14:37:44.291Z"
   },
   {
    "duration": 71,
    "start_time": "2023-11-30T14:37:45.457Z"
   },
   {
    "duration": 12,
    "start_time": "2023-11-30T14:37:45.529Z"
   },
   {
    "duration": 11,
    "start_time": "2023-11-30T14:37:45.544Z"
   },
   {
    "duration": 20,
    "start_time": "2023-11-30T14:37:45.557Z"
   },
   {
    "duration": 153,
    "start_time": "2023-11-30T14:37:45.579Z"
   },
   {
    "duration": 8,
    "start_time": "2023-11-30T14:37:45.734Z"
   },
   {
    "duration": 24,
    "start_time": "2023-11-30T14:37:45.744Z"
   },
   {
    "duration": 20,
    "start_time": "2023-11-30T14:37:45.769Z"
   },
   {
    "duration": 294,
    "start_time": "2023-11-30T14:37:45.791Z"
   },
   {
    "duration": 7,
    "start_time": "2023-11-30T14:37:46.087Z"
   },
   {
    "duration": 20,
    "start_time": "2023-11-30T14:37:46.095Z"
   },
   {
    "duration": 29,
    "start_time": "2023-11-30T14:37:46.117Z"
   },
   {
    "duration": 19,
    "start_time": "2023-11-30T14:37:46.148Z"
   },
   {
    "duration": 5,
    "start_time": "2023-11-30T14:37:46.168Z"
   },
   {
    "duration": 18,
    "start_time": "2023-11-30T14:37:46.175Z"
   },
   {
    "duration": 9,
    "start_time": "2023-11-30T14:37:46.194Z"
   },
   {
    "duration": 17,
    "start_time": "2023-11-30T14:37:46.204Z"
   },
   {
    "duration": 8,
    "start_time": "2023-11-30T14:37:46.223Z"
   },
   {
    "duration": 6,
    "start_time": "2023-11-30T14:37:46.232Z"
   },
   {
    "duration": 190,
    "start_time": "2023-11-30T14:37:46.239Z"
   },
   {
    "duration": 147,
    "start_time": "2023-11-30T14:37:46.430Z"
   },
   {
    "duration": 219,
    "start_time": "2023-11-30T14:37:46.579Z"
   },
   {
    "duration": 282,
    "start_time": "2023-11-30T14:37:46.799Z"
   },
   {
    "duration": 5,
    "start_time": "2023-11-30T14:37:47.083Z"
   },
   {
    "duration": 294,
    "start_time": "2023-11-30T14:37:47.089Z"
   },
   {
    "duration": 4,
    "start_time": "2023-11-30T14:37:47.385Z"
   },
   {
    "duration": 132,
    "start_time": "2023-11-30T14:37:47.392Z"
   },
   {
    "duration": 7,
    "start_time": "2023-11-30T14:37:47.526Z"
   },
   {
    "duration": 38,
    "start_time": "2023-11-30T14:37:47.535Z"
   },
   {
    "duration": 25,
    "start_time": "2023-11-30T14:37:47.574Z"
   },
   {
    "duration": 12,
    "start_time": "2023-11-30T14:37:47.601Z"
   },
   {
    "duration": 52,
    "start_time": "2023-11-30T14:37:47.614Z"
   },
   {
    "duration": 13,
    "start_time": "2023-11-30T14:37:47.668Z"
   },
   {
    "duration": 10,
    "start_time": "2023-11-30T14:37:47.683Z"
   },
   {
    "duration": 12,
    "start_time": "2023-11-30T14:37:47.695Z"
   },
   {
    "duration": 12,
    "start_time": "2023-11-30T14:37:47.709Z"
   },
   {
    "duration": 416,
    "start_time": "2023-11-30T14:37:47.722Z"
   },
   {
    "duration": 342,
    "start_time": "2023-11-30T14:37:48.140Z"
   },
   {
    "duration": 335,
    "start_time": "2023-11-30T14:37:48.483Z"
   },
   {
    "duration": 330,
    "start_time": "2023-11-30T14:37:48.819Z"
   },
   {
    "duration": 910,
    "start_time": "2023-11-30T14:37:49.150Z"
   },
   {
    "duration": 12,
    "start_time": "2023-11-30T14:37:50.064Z"
   },
   {
    "duration": 16,
    "start_time": "2023-11-30T14:37:50.078Z"
   },
   {
    "duration": 105,
    "start_time": "2023-11-30T14:37:50.096Z"
   },
   {
    "duration": 10,
    "start_time": "2023-11-30T14:37:50.203Z"
   },
   {
    "duration": 150,
    "start_time": "2023-11-30T14:37:50.214Z"
   },
   {
    "duration": 5,
    "start_time": "2023-11-30T14:37:50.366Z"
   },
   {
    "duration": 852,
    "start_time": "2023-11-30T14:37:50.373Z"
   },
   {
    "duration": 5,
    "start_time": "2023-11-30T14:37:51.227Z"
   },
   {
    "duration": 15,
    "start_time": "2023-11-30T14:37:51.234Z"
   },
   {
    "duration": 206,
    "start_time": "2023-11-30T14:37:51.251Z"
   },
   {
    "duration": 19,
    "start_time": "2023-11-30T14:37:53.488Z"
   },
   {
    "duration": 105,
    "start_time": "2023-11-30T14:40:35.536Z"
   },
   {
    "duration": 16,
    "start_time": "2023-11-30T14:40:46.186Z"
   },
   {
    "duration": 7,
    "start_time": "2023-11-30T14:41:47.789Z"
   },
   {
    "duration": 9,
    "start_time": "2023-11-30T15:07:29.809Z"
   },
   {
    "duration": 99,
    "start_time": "2023-11-30T15:08:19.946Z"
   },
   {
    "duration": 180,
    "start_time": "2023-11-30T15:15:41.429Z"
   },
   {
    "duration": 147,
    "start_time": "2023-11-30T15:16:44.288Z"
   },
   {
    "duration": 133,
    "start_time": "2023-11-30T15:16:52.431Z"
   },
   {
    "duration": 135,
    "start_time": "2023-11-30T15:16:57.264Z"
   },
   {
    "duration": 153,
    "start_time": "2023-11-30T15:20:55.900Z"
   },
   {
    "duration": 154,
    "start_time": "2023-11-30T15:21:41.370Z"
   },
   {
    "duration": 7,
    "start_time": "2023-11-30T15:23:06.212Z"
   },
   {
    "duration": 120,
    "start_time": "2023-11-30T15:25:37.279Z"
   },
   {
    "duration": 102,
    "start_time": "2023-11-30T15:25:47.455Z"
   },
   {
    "duration": 17,
    "start_time": "2023-11-30T15:26:12.848Z"
   },
   {
    "duration": 15,
    "start_time": "2023-11-30T15:28:22.691Z"
   },
   {
    "duration": 14,
    "start_time": "2023-11-30T15:28:36.357Z"
   },
   {
    "duration": 15,
    "start_time": "2023-11-30T15:29:08.392Z"
   },
   {
    "duration": 153,
    "start_time": "2023-11-30T15:33:06.668Z"
   },
   {
    "duration": 156,
    "start_time": "2023-11-30T15:33:58.917Z"
   },
   {
    "duration": 160,
    "start_time": "2023-11-30T15:34:24.280Z"
   },
   {
    "duration": 221,
    "start_time": "2023-11-30T15:39:30.834Z"
   },
   {
    "duration": 131,
    "start_time": "2023-11-30T15:41:40.175Z"
   },
   {
    "duration": 141,
    "start_time": "2023-11-30T15:42:35.669Z"
   },
   {
    "duration": 11,
    "start_time": "2023-11-30T15:43:03.440Z"
   },
   {
    "duration": 145,
    "start_time": "2023-11-30T15:43:10.085Z"
   },
   {
    "duration": 5,
    "start_time": "2023-11-30T15:43:35.339Z"
   },
   {
    "duration": 10,
    "start_time": "2023-11-30T15:44:41.457Z"
   },
   {
    "duration": 13,
    "start_time": "2023-11-30T15:44:50.197Z"
   },
   {
    "duration": 8,
    "start_time": "2023-11-30T15:45:18.263Z"
   },
   {
    "duration": 9,
    "start_time": "2023-11-30T15:47:43.104Z"
   },
   {
    "duration": 8,
    "start_time": "2023-11-30T15:48:36.384Z"
   },
   {
    "duration": 6,
    "start_time": "2023-11-30T15:52:24.038Z"
   },
   {
    "duration": 932,
    "start_time": "2023-11-30T15:52:28.542Z"
   },
   {
    "duration": 6,
    "start_time": "2023-11-30T15:58:27.505Z"
   },
   {
    "duration": 9,
    "start_time": "2023-11-30T16:08:22.039Z"
   },
   {
    "duration": 8,
    "start_time": "2023-11-30T16:08:27.495Z"
   },
   {
    "duration": 167,
    "start_time": "2023-11-30T16:08:43.672Z"
   },
   {
    "duration": 148,
    "start_time": "2023-11-30T16:13:45.438Z"
   },
   {
    "duration": 140,
    "start_time": "2023-11-30T16:14:10.348Z"
   },
   {
    "duration": 148,
    "start_time": "2023-11-30T16:15:41.712Z"
   },
   {
    "duration": 138,
    "start_time": "2023-11-30T16:16:31.600Z"
   },
   {
    "duration": 150,
    "start_time": "2023-11-30T16:16:37.257Z"
   },
   {
    "duration": 155,
    "start_time": "2023-11-30T16:16:48.746Z"
   },
   {
    "duration": 132,
    "start_time": "2023-11-30T16:19:21.395Z"
   },
   {
    "duration": 136,
    "start_time": "2023-11-30T16:19:30.804Z"
   },
   {
    "duration": 1238,
    "start_time": "2023-11-30T16:48:14.046Z"
   },
   {
    "duration": 185,
    "start_time": "2023-11-30T16:48:15.286Z"
   },
   {
    "duration": 10,
    "start_time": "2023-11-30T16:48:15.473Z"
   },
   {
    "duration": 19,
    "start_time": "2023-11-30T16:48:15.485Z"
   },
   {
    "duration": 17,
    "start_time": "2023-11-30T16:48:15.505Z"
   },
   {
    "duration": 159,
    "start_time": "2023-11-30T16:48:15.523Z"
   },
   {
    "duration": 7,
    "start_time": "2023-11-30T16:48:15.683Z"
   },
   {
    "duration": 21,
    "start_time": "2023-11-30T16:48:15.692Z"
   },
   {
    "duration": 18,
    "start_time": "2023-11-30T16:48:15.714Z"
   },
   {
    "duration": 140,
    "start_time": "2023-11-30T16:48:15.735Z"
   },
   {
    "duration": 143,
    "start_time": "2023-11-30T16:48:15.877Z"
   },
   {
    "duration": 7,
    "start_time": "2023-11-30T16:48:16.021Z"
   },
   {
    "duration": 10,
    "start_time": "2023-11-30T16:48:16.029Z"
   },
   {
    "duration": 23,
    "start_time": "2023-11-30T16:48:16.040Z"
   },
   {
    "duration": 14,
    "start_time": "2023-11-30T16:48:16.081Z"
   },
   {
    "duration": 5,
    "start_time": "2023-11-30T16:48:16.097Z"
   },
   {
    "duration": 13,
    "start_time": "2023-11-30T16:48:16.103Z"
   },
   {
    "duration": 8,
    "start_time": "2023-11-30T16:48:16.117Z"
   },
   {
    "duration": 10,
    "start_time": "2023-11-30T16:48:16.126Z"
   },
   {
    "duration": 6,
    "start_time": "2023-11-30T16:48:16.137Z"
   },
   {
    "duration": 38,
    "start_time": "2023-11-30T16:48:16.145Z"
   },
   {
    "duration": 5,
    "start_time": "2023-11-30T16:48:16.184Z"
   },
   {
    "duration": 157,
    "start_time": "2023-11-30T16:48:16.190Z"
   },
   {
    "duration": 98,
    "start_time": "2023-11-30T16:48:16.349Z"
   },
   {
    "duration": 192,
    "start_time": "2023-11-30T16:48:16.449Z"
   },
   {
    "duration": 7,
    "start_time": "2023-11-30T16:48:16.643Z"
   },
   {
    "duration": 255,
    "start_time": "2023-11-30T16:48:16.651Z"
   },
   {
    "duration": 4,
    "start_time": "2023-11-30T16:48:16.909Z"
   },
   {
    "duration": 272,
    "start_time": "2023-11-30T16:48:16.914Z"
   },
   {
    "duration": 4,
    "start_time": "2023-11-30T16:48:17.188Z"
   },
   {
    "duration": 130,
    "start_time": "2023-11-30T16:48:17.193Z"
   },
   {
    "duration": 7,
    "start_time": "2023-11-30T16:48:17.325Z"
   },
   {
    "duration": 67,
    "start_time": "2023-11-30T16:48:17.333Z"
   },
   {
    "duration": 13,
    "start_time": "2023-11-30T16:48:17.402Z"
   },
   {
    "duration": 35,
    "start_time": "2023-11-30T16:48:17.416Z"
   },
   {
    "duration": 13,
    "start_time": "2023-11-30T16:48:17.453Z"
   },
   {
    "duration": 13,
    "start_time": "2023-11-30T16:48:17.483Z"
   },
   {
    "duration": 14,
    "start_time": "2023-11-30T16:48:17.498Z"
   },
   {
    "duration": 34,
    "start_time": "2023-11-30T16:48:17.513Z"
   },
   {
    "duration": 410,
    "start_time": "2023-11-30T16:48:17.548Z"
   },
   {
    "duration": 350,
    "start_time": "2023-11-30T16:48:17.959Z"
   },
   {
    "duration": 345,
    "start_time": "2023-11-30T16:48:18.311Z"
   },
   {
    "duration": 340,
    "start_time": "2023-11-30T16:48:18.657Z"
   },
   {
    "duration": 6,
    "start_time": "2023-11-30T16:48:18.998Z"
   },
   {
    "duration": 929,
    "start_time": "2023-11-30T16:48:19.006Z"
   },
   {
    "duration": 12,
    "start_time": "2023-11-30T16:48:19.937Z"
   },
   {
    "duration": 7,
    "start_time": "2023-11-30T16:48:19.950Z"
   },
   {
    "duration": 98,
    "start_time": "2023-11-30T16:48:19.959Z"
   },
   {
    "duration": 164,
    "start_time": "2023-11-30T16:48:20.059Z"
   },
   {
    "duration": 6,
    "start_time": "2023-11-30T16:48:20.224Z"
   },
   {
    "duration": 851,
    "start_time": "2023-11-30T16:48:20.232Z"
   },
   {
    "duration": 5,
    "start_time": "2023-11-30T16:48:21.085Z"
   },
   {
    "duration": 13,
    "start_time": "2023-11-30T16:48:21.092Z"
   },
   {
    "duration": 228,
    "start_time": "2023-11-30T16:48:21.107Z"
   },
   {
    "duration": 18,
    "start_time": "2023-11-30T16:49:34.241Z"
   },
   {
    "duration": 42,
    "start_time": "2023-12-04T12:42:34.379Z"
   },
   {
    "duration": 1022,
    "start_time": "2023-12-04T12:42:37.843Z"
   },
   {
    "duration": 189,
    "start_time": "2023-12-04T12:42:38.867Z"
   },
   {
    "duration": 10,
    "start_time": "2023-12-04T12:42:39.057Z"
   },
   {
    "duration": 10,
    "start_time": "2023-12-04T12:42:39.069Z"
   },
   {
    "duration": 13,
    "start_time": "2023-12-04T12:42:39.080Z"
   },
   {
    "duration": 146,
    "start_time": "2023-12-04T12:42:39.094Z"
   },
   {
    "duration": 6,
    "start_time": "2023-12-04T12:42:39.242Z"
   },
   {
    "duration": 9,
    "start_time": "2023-12-04T12:42:39.250Z"
   },
   {
    "duration": 16,
    "start_time": "2023-12-04T12:42:39.260Z"
   },
   {
    "duration": 137,
    "start_time": "2023-12-04T12:42:39.278Z"
   },
   {
    "duration": 131,
    "start_time": "2023-12-04T12:42:39.417Z"
   },
   {
    "duration": 6,
    "start_time": "2023-12-04T12:42:39.550Z"
   },
   {
    "duration": 29,
    "start_time": "2023-12-04T12:42:39.557Z"
   },
   {
    "duration": 30,
    "start_time": "2023-12-04T12:42:39.587Z"
   },
   {
    "duration": 10,
    "start_time": "2023-12-04T12:42:39.618Z"
   },
   {
    "duration": 7,
    "start_time": "2023-12-04T12:42:39.630Z"
   },
   {
    "duration": 59,
    "start_time": "2023-12-04T12:42:39.638Z"
   },
   {
    "duration": 0,
    "start_time": "2023-12-04T12:42:39.699Z"
   },
   {
    "duration": 0,
    "start_time": "2023-12-04T12:42:39.700Z"
   },
   {
    "duration": 0,
    "start_time": "2023-12-04T12:42:39.714Z"
   },
   {
    "duration": 0,
    "start_time": "2023-12-04T12:42:39.715Z"
   },
   {
    "duration": 0,
    "start_time": "2023-12-04T12:42:39.716Z"
   },
   {
    "duration": 0,
    "start_time": "2023-12-04T12:42:39.717Z"
   },
   {
    "duration": 0,
    "start_time": "2023-12-04T12:42:39.718Z"
   },
   {
    "duration": 0,
    "start_time": "2023-12-04T12:42:39.719Z"
   },
   {
    "duration": 0,
    "start_time": "2023-12-04T12:42:39.719Z"
   },
   {
    "duration": 0,
    "start_time": "2023-12-04T12:42:39.720Z"
   },
   {
    "duration": 0,
    "start_time": "2023-12-04T12:42:39.721Z"
   },
   {
    "duration": 0,
    "start_time": "2023-12-04T12:42:39.722Z"
   },
   {
    "duration": 0,
    "start_time": "2023-12-04T12:42:39.722Z"
   },
   {
    "duration": 0,
    "start_time": "2023-12-04T12:42:39.723Z"
   },
   {
    "duration": 0,
    "start_time": "2023-12-04T12:42:39.724Z"
   },
   {
    "duration": 0,
    "start_time": "2023-12-04T12:42:39.725Z"
   },
   {
    "duration": 0,
    "start_time": "2023-12-04T12:42:39.726Z"
   },
   {
    "duration": 0,
    "start_time": "2023-12-04T12:42:39.727Z"
   },
   {
    "duration": 0,
    "start_time": "2023-12-04T12:42:39.728Z"
   },
   {
    "duration": 0,
    "start_time": "2023-12-04T12:42:39.728Z"
   },
   {
    "duration": 0,
    "start_time": "2023-12-04T12:42:39.729Z"
   },
   {
    "duration": 0,
    "start_time": "2023-12-04T12:42:39.730Z"
   },
   {
    "duration": 1,
    "start_time": "2023-12-04T12:42:39.730Z"
   },
   {
    "duration": 0,
    "start_time": "2023-12-04T12:42:39.731Z"
   },
   {
    "duration": 0,
    "start_time": "2023-12-04T12:42:39.732Z"
   },
   {
    "duration": 0,
    "start_time": "2023-12-04T12:42:39.733Z"
   },
   {
    "duration": 0,
    "start_time": "2023-12-04T12:42:39.733Z"
   },
   {
    "duration": 0,
    "start_time": "2023-12-04T12:42:39.734Z"
   },
   {
    "duration": 0,
    "start_time": "2023-12-04T12:42:39.735Z"
   },
   {
    "duration": 0,
    "start_time": "2023-12-04T12:42:39.736Z"
   },
   {
    "duration": 0,
    "start_time": "2023-12-04T12:42:39.736Z"
   },
   {
    "duration": 0,
    "start_time": "2023-12-04T12:42:39.737Z"
   },
   {
    "duration": 0,
    "start_time": "2023-12-04T12:42:39.738Z"
   },
   {
    "duration": 0,
    "start_time": "2023-12-04T12:42:39.739Z"
   },
   {
    "duration": 0,
    "start_time": "2023-12-04T12:42:39.739Z"
   },
   {
    "duration": 0,
    "start_time": "2023-12-04T12:42:39.740Z"
   },
   {
    "duration": 0,
    "start_time": "2023-12-04T12:42:39.741Z"
   },
   {
    "duration": 9,
    "start_time": "2023-12-04T12:42:52.736Z"
   },
   {
    "duration": 2,
    "start_time": "2023-12-04T14:02:34.850Z"
   },
   {
    "duration": 69,
    "start_time": "2023-12-04T14:02:34.857Z"
   },
   {
    "duration": 7,
    "start_time": "2023-12-04T14:02:34.927Z"
   },
   {
    "duration": 10,
    "start_time": "2023-12-04T14:02:34.935Z"
   },
   {
    "duration": 13,
    "start_time": "2023-12-04T14:02:34.947Z"
   },
   {
    "duration": 136,
    "start_time": "2023-12-04T14:02:34.961Z"
   },
   {
    "duration": 6,
    "start_time": "2023-12-04T14:02:35.099Z"
   },
   {
    "duration": 8,
    "start_time": "2023-12-04T14:02:35.115Z"
   },
   {
    "duration": 16,
    "start_time": "2023-12-04T14:02:35.124Z"
   },
   {
    "duration": 132,
    "start_time": "2023-12-04T14:02:35.141Z"
   },
   {
    "duration": 124,
    "start_time": "2023-12-04T14:02:35.275Z"
   },
   {
    "duration": 15,
    "start_time": "2023-12-04T14:02:35.400Z"
   },
   {
    "duration": 9,
    "start_time": "2023-12-04T14:02:35.416Z"
   },
   {
    "duration": 20,
    "start_time": "2023-12-04T14:02:35.426Z"
   },
   {
    "duration": 12,
    "start_time": "2023-12-04T14:02:35.448Z"
   },
   {
    "duration": 25,
    "start_time": "2023-12-04T14:02:35.461Z"
   },
   {
    "duration": 49,
    "start_time": "2023-12-04T14:02:35.487Z"
   },
   {
    "duration": 24,
    "start_time": "2023-12-04T14:02:35.538Z"
   },
   {
    "duration": 10,
    "start_time": "2023-12-04T14:02:35.563Z"
   },
   {
    "duration": 7,
    "start_time": "2023-12-04T14:02:35.574Z"
   },
   {
    "duration": 6,
    "start_time": "2023-12-04T14:02:35.582Z"
   },
   {
    "duration": 4,
    "start_time": "2023-12-04T14:02:35.589Z"
   },
   {
    "duration": 136,
    "start_time": "2023-12-04T14:02:35.595Z"
   },
   {
    "duration": 83,
    "start_time": "2023-12-04T14:02:35.733Z"
   },
   {
    "duration": 222,
    "start_time": "2023-12-04T14:02:35.818Z"
   },
   {
    "duration": 7,
    "start_time": "2023-12-04T14:02:36.041Z"
   },
   {
    "duration": 230,
    "start_time": "2023-12-04T14:02:36.049Z"
   },
   {
    "duration": 5,
    "start_time": "2023-12-04T14:02:36.280Z"
   },
   {
    "duration": 180,
    "start_time": "2023-12-04T14:02:36.288Z"
   },
   {
    "duration": 4,
    "start_time": "2023-12-04T14:02:36.469Z"
   },
   {
    "duration": 113,
    "start_time": "2023-12-04T14:02:36.475Z"
   },
   {
    "duration": 6,
    "start_time": "2023-12-04T14:02:36.589Z"
   },
   {
    "duration": 37,
    "start_time": "2023-12-04T14:02:36.596Z"
   },
   {
    "duration": 13,
    "start_time": "2023-12-04T14:02:36.634Z"
   },
   {
    "duration": 31,
    "start_time": "2023-12-04T14:02:36.648Z"
   },
   {
    "duration": 12,
    "start_time": "2023-12-04T14:02:36.680Z"
   },
   {
    "duration": 24,
    "start_time": "2023-12-04T14:02:36.693Z"
   },
   {
    "duration": 11,
    "start_time": "2023-12-04T14:02:36.718Z"
   },
   {
    "duration": 9,
    "start_time": "2023-12-04T14:02:36.730Z"
   },
   {
    "duration": 333,
    "start_time": "2023-12-04T14:02:36.740Z"
   },
   {
    "duration": 272,
    "start_time": "2023-12-04T14:02:37.074Z"
   },
   {
    "duration": 321,
    "start_time": "2023-12-04T14:02:37.348Z"
   },
   {
    "duration": 270,
    "start_time": "2023-12-04T14:02:37.670Z"
   },
   {
    "duration": 5,
    "start_time": "2023-12-04T14:02:37.941Z"
   },
   {
    "duration": 831,
    "start_time": "2023-12-04T14:02:37.947Z"
   },
   {
    "duration": 9,
    "start_time": "2023-12-04T14:02:38.780Z"
   },
   {
    "duration": 19,
    "start_time": "2023-12-04T14:02:38.790Z"
   },
   {
    "duration": 85,
    "start_time": "2023-12-04T14:02:38.810Z"
   },
   {
    "duration": 142,
    "start_time": "2023-12-04T14:02:38.896Z"
   },
   {
    "duration": 4,
    "start_time": "2023-12-04T14:02:39.040Z"
   },
   {
    "duration": 654,
    "start_time": "2023-12-04T14:02:39.045Z"
   },
   {
    "duration": 4,
    "start_time": "2023-12-04T14:02:39.700Z"
   },
   {
    "duration": 7,
    "start_time": "2023-12-04T14:02:39.715Z"
   },
   {
    "duration": 171,
    "start_time": "2023-12-04T14:02:39.723Z"
   }
  ],
  "kernelspec": {
   "display_name": "Python 3 (ipykernel)",
   "language": "python",
   "name": "python3"
  },
  "language_info": {
   "codemirror_mode": {
    "name": "ipython",
    "version": 3
   },
   "file_extension": ".py",
   "mimetype": "text/x-python",
   "name": "python",
   "nbconvert_exporter": "python",
   "pygments_lexer": "ipython3",
   "version": "3.9.19"
  },
  "toc": {
   "base_numbering": 1,
   "nav_menu": {},
   "number_sections": true,
   "sideBar": true,
   "skip_h1_title": true,
   "title_cell": "Table of Contents",
   "title_sidebar": "Contents",
   "toc_cell": false,
   "toc_position": {},
   "toc_section_display": true,
   "toc_window_display": true
  }
 },
 "nbformat": 4,
 "nbformat_minor": 5
}
