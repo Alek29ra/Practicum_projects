{
 "cells": [
  {
   "cell_type": "markdown",
   "metadata": {
    "toc": true
   },
   "source": [
    "<h1>Содержание<span class=\"tocSkip\"></span></h1>\n",
    "<div class=\"toc\"><ul class=\"toc-item\"><li><ul class=\"toc-item\"><li><span><a href=\"#Установка-компонентов\" data-toc-modified-id=\"Установка-компонентов-0.1\"><span class=\"toc-item-num\">0.1&nbsp;&nbsp;</span>Установка компонентов</a></span></li><li><span><a href=\"#Импорт-библиотек\" data-toc-modified-id=\"Импорт-библиотек-0.2\"><span class=\"toc-item-num\">0.2&nbsp;&nbsp;</span>Импорт библиотек</a></span></li><li><span><a href=\"#Указание-констант\" data-toc-modified-id=\"Указание-констант-0.3\"><span class=\"toc-item-num\">0.3&nbsp;&nbsp;</span>Указание констант</a></span></li></ul></li><li><span><a href=\"#Подготовка\" data-toc-modified-id=\"Подготовка-1\"><span class=\"toc-item-num\">1&nbsp;&nbsp;</span>Подготовка</a></span><ul class=\"toc-item\"><li><span><a href=\"#Изучение-датасета\" data-toc-modified-id=\"Изучение-датасета-1.1\"><span class=\"toc-item-num\">1.1&nbsp;&nbsp;</span>Изучение датасета</a></span></li><li><span><a href=\"#Лематизация-текста\" data-toc-modified-id=\"Лематизация-текста-1.2\"><span class=\"toc-item-num\">1.2&nbsp;&nbsp;</span>Лематизация текста</a></span></li><li><span><a href=\"#Разделение-на-выборки\" data-toc-modified-id=\"Разделение-на-выборки-1.3\"><span class=\"toc-item-num\">1.3&nbsp;&nbsp;</span>Разделение на выборки</a></span><ul class=\"toc-item\"><li><span><a href=\"#Обработка-с-помощью-TF-IDF\" data-toc-modified-id=\"Обработка-с-помощью-TF-IDF-1.3.1\"><span class=\"toc-item-num\">1.3.1&nbsp;&nbsp;</span>Обработка с помощью TF-IDF</a></span></li></ul></li></ul></li><li><span><a href=\"#Обучение\" data-toc-modified-id=\"Обучение-2\"><span class=\"toc-item-num\">2&nbsp;&nbsp;</span>Обучение</a></span><ul class=\"toc-item\"><li><span><a href=\"#LogisticRegression\" data-toc-modified-id=\"LogisticRegression-2.1\"><span class=\"toc-item-num\">2.1&nbsp;&nbsp;</span>LogisticRegression</a></span></li><li><span><a href=\"#DecisionTreeClassifier\" data-toc-modified-id=\"DecisionTreeClassifier-2.2\"><span class=\"toc-item-num\">2.2&nbsp;&nbsp;</span>DecisionTreeClassifier</a></span></li><li><span><a href=\"#CatBoostClassifier\" data-toc-modified-id=\"CatBoostClassifier-2.3\"><span class=\"toc-item-num\">2.3&nbsp;&nbsp;</span>CatBoostClassifier</a></span></li><li><span><a href=\"#Тестирование-лучшей-модели\" data-toc-modified-id=\"Тестирование-лучшей-модели-2.4\"><span class=\"toc-item-num\">2.4&nbsp;&nbsp;</span>Тестирование лучшей модели</a></span></li></ul></li><li><span><a href=\"#Выводы\" data-toc-modified-id=\"Выводы-3\"><span class=\"toc-item-num\">3&nbsp;&nbsp;</span>Выводы</a></span></li></ul></div>"
   ]
  },
  {
   "cell_type": "markdown",
   "metadata": {},
   "source": [
    "# Проект для «Викишоп»"
   ]
  },
  {
   "cell_type": "markdown",
   "metadata": {},
   "source": [
    "Интернет-магазин «Викишоп» запускает новый сервис. Теперь пользователи могут редактировать и дополнять описания товаров, как в вики-сообществах. То есть клиенты предлагают свои правки и комментируют изменения других. Магазину нужен инструмент, который будет искать токсичные комментарии и отправлять их на модерацию. \n",
    "<hr>\n",
    "\n",
    "**Задача:** Обучить модель классифицировать комментарии на позитивные и негативные. В вашем распоряжении набор данных с разметкой о токсичности правок.\n",
    "\n",
    "**Цель:** Построить модель со значением метрики качества *F1* не меньше 0.75. \n",
    "\n",
    "**Этапы:**\n",
    "\n",
    "1. Загрузить и подготовить данные.\n",
    "2. Обучить модели. \n",
    "3. Сделайть выводы.\n",
    "\n",
    "**Описание данных**\n",
    "\n",
    "Данные находятся в файле `toxic_comments.csv`. Столбец *text* в нём содержит текст комментария, а *toxic* — целевой признак."
   ]
  },
  {
   "cell_type": "markdown",
   "metadata": {},
   "source": [
    "### Установка компонентов"
   ]
  },
  {
   "cell_type": "code",
   "execution_count": 1,
   "metadata": {},
   "outputs": [],
   "source": [
    "%%capture\n",
    "!pip install phik\n",
    "!pip install mlxtend\n",
    "!pip install -U scikit-learn\n",
    "!pip install tqdm\n",
    "import sys\n",
    "!{sys.executable} -m pip install spacy\n",
    "# Download spaCy's  'en' Model\n",
    "!{sys.executable} -m spacy download en"
   ]
  },
  {
   "cell_type": "markdown",
   "metadata": {},
   "source": [
    "### Импорт библиотек"
   ]
  },
  {
   "cell_type": "code",
   "execution_count": 10,
   "metadata": {},
   "outputs": [
    {
     "name": "stderr",
     "output_type": "stream",
     "text": [
      "[nltk_data] Downloading package averaged_perceptron_tagger to\n",
      "[nltk_data]     /home/jovyan/nltk_data...\n",
      "[nltk_data]   Package averaged_perceptron_tagger is already up-to-\n",
      "[nltk_data]       date!\n"
     ]
    }
   ],
   "source": [
    "import numpy as np\n",
    "import pandas as pd\n",
    "import random\n",
    "import seaborn as sns\n",
    "import timeit\n",
    "import warnings\n",
    "import spacy\n",
    "\n",
    "from tqdm.auto import tqdm\n",
    "\n",
    "warnings.filterwarnings(\"ignore\") \n",
    "\n",
    "#библиотеки для работы с текстами\n",
    "import re\n",
    "import torch\n",
    "import transformers\n",
    "import nltk\n",
    "from tqdm import notebook\n",
    "from nltk.stem import WordNetLemmatizer\n",
    "from nltk.corpus import stopwords, wordnet\n",
    "from nltk.tag import pos_tag\n",
    "from nltk.tokenize import word_tokenize\n",
    "from sklearn.feature_extraction.text import TfidfVectorizer, CountVectorizer\n",
    "\n",
    "nltk.download('averaged_perceptron_tagger')\n",
    "\n",
    "#библиотеки для работы с графиками\n",
    "import matplotlib.pyplot as plt \n",
    "from mlxtend.plotting import plot_decision_regions\n",
    "from itertools import combinations\n",
    "\n",
    "#класс для разделения данных на выборки\n",
    "from sklearn.model_selection import (\n",
    "    train_test_split,\n",
    "    cross_val_score,\n",
    "    KFold,\n",
    "    TimeSeriesSplit,\n",
    "    RandomizedSearchCV, \n",
    "    GridSearchCV\n",
    ")\n",
    "\n",
    "#модели\n",
    "from sklearn.svm import SVC\n",
    "from lightgbm import LGBMRegressor\n",
    "from catboost import CatBoostRegressor, CatBoostClassifier\n",
    "from sklearn.linear_model import LogisticRegression, LinearRegression, Ridge\n",
    "from sklearn.tree import DecisionTreeClassifier, DecisionTreeRegressor, plot_tree\n",
    "\n",
    "#метрики\n",
    "from phik.report import plot_correlation_matrix\n",
    "from phik import phik_matrix\n",
    "from sklearn.metrics import(\n",
    "    confusion_matrix, \n",
    "    accuracy_score,\n",
    "    f1_score,\n",
    "    fbeta_score,\n",
    "    roc_auc_score,\n",
    "    ConfusionMatrixDisplay,\n",
    "    mean_squared_error\n",
    ")\n",
    "\n",
    "#классы подготовки данных\n",
    "from sklearn.compose import ColumnTransformer, make_column_transformer\n",
    "from sklearn.preprocessing import (\n",
    "    OneHotEncoder,\n",
    "    OrdinalEncoder,\n",
    "    LabelEncoder,\n",
    "    StandardScaler,\n",
    "    MinMaxScaler, \n",
    ")\n",
    "\n",
    "# класс для работы с пропусками\n",
    "from sklearn.impute import SimpleImputer \n",
    "\n",
    "#класс для работы с пайплайнами\n",
    "from sklearn.pipeline import Pipeline"
   ]
  },
  {
   "cell_type": "markdown",
   "metadata": {},
   "source": [
    "### Указание констант"
   ]
  },
  {
   "cell_type": "code",
   "execution_count": 3,
   "metadata": {},
   "outputs": [],
   "source": [
    "TEST_SIZE = 0.2\n",
    "state = np.random.RandomState(12345)"
   ]
  },
  {
   "cell_type": "markdown",
   "metadata": {},
   "source": [
    "## Подготовка"
   ]
  },
  {
   "cell_type": "markdown",
   "metadata": {},
   "source": [
    "### Изучение датасета"
   ]
  },
  {
   "cell_type": "code",
   "execution_count": 4,
   "metadata": {},
   "outputs": [
    {
     "data": {
      "text/html": [
       "<div>\n",
       "<style scoped>\n",
       "    .dataframe tbody tr th:only-of-type {\n",
       "        vertical-align: middle;\n",
       "    }\n",
       "\n",
       "    .dataframe tbody tr th {\n",
       "        vertical-align: top;\n",
       "    }\n",
       "\n",
       "    .dataframe thead th {\n",
       "        text-align: right;\n",
       "    }\n",
       "</style>\n",
       "<table border=\"1\" class=\"dataframe\">\n",
       "  <thead>\n",
       "    <tr style=\"text-align: right;\">\n",
       "      <th></th>\n",
       "      <th>text</th>\n",
       "      <th>toxic</th>\n",
       "    </tr>\n",
       "  </thead>\n",
       "  <tbody>\n",
       "    <tr>\n",
       "      <th>0</th>\n",
       "      <td>Explanation\\nWhy the edits made under my usern...</td>\n",
       "      <td>0</td>\n",
       "    </tr>\n",
       "    <tr>\n",
       "      <th>1</th>\n",
       "      <td>D'aww! He matches this background colour I'm s...</td>\n",
       "      <td>0</td>\n",
       "    </tr>\n",
       "    <tr>\n",
       "      <th>2</th>\n",
       "      <td>Hey man, I'm really not trying to edit war. It...</td>\n",
       "      <td>0</td>\n",
       "    </tr>\n",
       "    <tr>\n",
       "      <th>3</th>\n",
       "      <td>\"\\nMore\\nI can't make any real suggestions on ...</td>\n",
       "      <td>0</td>\n",
       "    </tr>\n",
       "    <tr>\n",
       "      <th>4</th>\n",
       "      <td>You, sir, are my hero. Any chance you remember...</td>\n",
       "      <td>0</td>\n",
       "    </tr>\n",
       "  </tbody>\n",
       "</table>\n",
       "</div>"
      ],
      "text/plain": [
       "                                                text  toxic\n",
       "0  Explanation\\nWhy the edits made under my usern...      0\n",
       "1  D'aww! He matches this background colour I'm s...      0\n",
       "2  Hey man, I'm really not trying to edit war. It...      0\n",
       "3  \"\\nMore\\nI can't make any real suggestions on ...      0\n",
       "4  You, sir, are my hero. Any chance you remember...      0"
      ]
     },
     "metadata": {},
     "output_type": "display_data"
    },
    {
     "name": "stdout",
     "output_type": "stream",
     "text": [
      "<class 'pandas.core.frame.DataFrame'>\n",
      "Int64Index: 159292 entries, 0 to 159450\n",
      "Data columns (total 2 columns):\n",
      " #   Column  Non-Null Count   Dtype \n",
      "---  ------  --------------   ----- \n",
      " 0   text    159292 non-null  object\n",
      " 1   toxic   159292 non-null  int64 \n",
      "dtypes: int64(1), object(1)\n",
      "memory usage: 3.6+ MB\n"
     ]
    }
   ],
   "source": [
    "data = pd.read_csv('/datasets/toxic_comments.csv', index_col = [0])\n",
    "display(data.head())\n",
    "data.info()"
   ]
  },
  {
   "cell_type": "code",
   "execution_count": 5,
   "metadata": {},
   "outputs": [
    {
     "data": {
      "text/plain": [
       "0"
      ]
     },
     "execution_count": 5,
     "metadata": {},
     "output_type": "execute_result"
    }
   ],
   "source": [
    "data.duplicated().sum()"
   ]
  },
  {
   "cell_type": "code",
   "execution_count": 6,
   "metadata": {},
   "outputs": [
    {
     "data": {
      "image/png": "[encoded data removed]",
      "text/plain": [
       "<Figure size 576x576 with 1 Axes>"
      ]
     },
     "metadata": {
      "needs_background": "light"
     },
     "output_type": "display_data"
    }
   ],
   "source": [
    "data['toxic'].value_counts().plot(\n",
    "    kind = 'bar',\n",
    "    figsize = (8, 8)\n",
    ")\n",
    "plt.title('Соотношение классов в целевой переменной', fontsize = 16)\n",
    "plt.ylabel('Количество значений', fontsize = 14)\n",
    "plt.xlabel('Обозначения', fontsize = 14);"
   ]
  },
  {
   "cell_type": "markdown",
   "metadata": {},
   "source": [
    "Пропусов и дубликатов в данных нет, заголовки подходят под стандарт snake_case, типы данных соотвестсвуют содержанию. В целевом признаке наблюдается дисбаланс классов, бороться будем стратификацией по целевому признаку при разделении на выборки и с помощью средств моделей - параметра class_weights"
   ]
  },
  {
   "cell_type": "markdown",
   "metadata": {},
   "source": [
    "### Лематизация текста"
   ]
  },
  {
   "cell_type": "code",
   "execution_count": 42,
   "metadata": {},
   "outputs": [],
   "source": [
    "nlp = spacy.load(\"en_core_web_sm\")\n",
    "\n",
    "lem = WordNetLemmatizer()\n",
    "\n",
    "def lematize(text):\n",
    "    text = text.lower()\n",
    "    spacy_text = nlp(text)\n",
    "    lem_text = \" \".join([token.lemma_ for token in spacy_text])\n",
    "    \n",
    "    cleared_text = re.sub(r'[^a-zA-Z]', ' ', lem_text)\n",
    "    \n",
    "    return \" \".join(cleared_text.split())"
   ]
  },
  {
   "cell_type": "code",
   "execution_count": 44,
   "metadata": {},
   "outputs": [
    {
     "data": {
      "application/vnd.jupyter.widget-view+json": {
       "model_id": "bcfd7c508f3442c687d41e50e622a16a",
       "version_major": 2,
       "version_minor": 0
      },
      "text/plain": [
       "  0%|          | 0/159292 [00:00<?, ?it/s]"
      ]
     },
     "metadata": {},
     "output_type": "display_data"
    },
    {
     "data": {
      "text/html": [
       "<div>\n",
       "<style scoped>\n",
       "    .dataframe tbody tr th:only-of-type {\n",
       "        vertical-align: middle;\n",
       "    }\n",
       "\n",
       "    .dataframe tbody tr th {\n",
       "        vertical-align: top;\n",
       "    }\n",
       "\n",
       "    .dataframe thead th {\n",
       "        text-align: right;\n",
       "    }\n",
       "</style>\n",
       "<table border=\"1\" class=\"dataframe\">\n",
       "  <thead>\n",
       "    <tr style=\"text-align: right;\">\n",
       "      <th></th>\n",
       "      <th>text</th>\n",
       "      <th>toxic</th>\n",
       "      <th>lem_text</th>\n",
       "    </tr>\n",
       "  </thead>\n",
       "  <tbody>\n",
       "    <tr>\n",
       "      <th>0</th>\n",
       "      <td>Explanation\\nWhy the edits made under my usern...</td>\n",
       "      <td>0</td>\n",
       "      <td>explanation why the edit make under my usernam...</td>\n",
       "    </tr>\n",
       "    <tr>\n",
       "      <th>1</th>\n",
       "      <td>D'aww! He matches this background colour I'm s...</td>\n",
       "      <td>0</td>\n",
       "      <td>d aww he match this background colour I be see...</td>\n",
       "    </tr>\n",
       "    <tr>\n",
       "      <th>2</th>\n",
       "      <td>Hey man, I'm really not trying to edit war. It...</td>\n",
       "      <td>0</td>\n",
       "      <td>hey man I be really not try to edit war it be ...</td>\n",
       "    </tr>\n",
       "    <tr>\n",
       "      <th>3</th>\n",
       "      <td>\"\\nMore\\nI can't make any real suggestions on ...</td>\n",
       "      <td>0</td>\n",
       "      <td>more I can not make any real suggestion on imp...</td>\n",
       "    </tr>\n",
       "    <tr>\n",
       "      <th>4</th>\n",
       "      <td>You, sir, are my hero. Any chance you remember...</td>\n",
       "      <td>0</td>\n",
       "      <td>you sir be my hero any chance you remember wha...</td>\n",
       "    </tr>\n",
       "  </tbody>\n",
       "</table>\n",
       "</div>"
      ],
      "text/plain": [
       "                                                text  toxic  \\\n",
       "0  Explanation\\nWhy the edits made under my usern...      0   \n",
       "1  D'aww! He matches this background colour I'm s...      0   \n",
       "2  Hey man, I'm really not trying to edit war. It...      0   \n",
       "3  \"\\nMore\\nI can't make any real suggestions on ...      0   \n",
       "4  You, sir, are my hero. Any chance you remember...      0   \n",
       "\n",
       "                                            lem_text  \n",
       "0  explanation why the edit make under my usernam...  \n",
       "1  d aww he match this background colour I be see...  \n",
       "2  hey man I be really not try to edit war it be ...  \n",
       "3  more I can not make any real suggestion on imp...  \n",
       "4  you sir be my hero any chance you remember wha...  "
      ]
     },
     "metadata": {},
     "output_type": "display_data"
    },
    {
     "name": "stdout",
     "output_type": "stream",
     "text": [
      "<class 'pandas.core.frame.DataFrame'>\n",
      "Int64Index: 159292 entries, 0 to 159450\n",
      "Data columns (total 3 columns):\n",
      " #   Column    Non-Null Count   Dtype \n",
      "---  ------    --------------   ----- \n",
      " 0   text      159292 non-null  object\n",
      " 1   toxic     159292 non-null  int64 \n",
      " 2   lem_text  159292 non-null  object\n",
      "dtypes: int64(1), object(2)\n",
      "memory usage: 4.9+ MB\n"
     ]
    }
   ],
   "source": [
    "tqdm.pandas()\n",
    "\n",
    "data['lem_text'] = data['text'].progress_apply(lematize)\n",
    "display(data.head())\n",
    "data.info()"
   ]
  },
  {
   "cell_type": "code",
   "execution_count": 45,
   "metadata": {},
   "outputs": [
    {
     "data": {
      "text/html": [
       "<div>\n",
       "<style scoped>\n",
       "    .dataframe tbody tr th:only-of-type {\n",
       "        vertical-align: middle;\n",
       "    }\n",
       "\n",
       "    .dataframe tbody tr th {\n",
       "        vertical-align: top;\n",
       "    }\n",
       "\n",
       "    .dataframe thead th {\n",
       "        text-align: right;\n",
       "    }\n",
       "</style>\n",
       "<table border=\"1\" class=\"dataframe\">\n",
       "  <thead>\n",
       "    <tr style=\"text-align: right;\">\n",
       "      <th></th>\n",
       "      <th>toxic</th>\n",
       "      <th>lem_text</th>\n",
       "    </tr>\n",
       "  </thead>\n",
       "  <tbody>\n",
       "    <tr>\n",
       "      <th>0</th>\n",
       "      <td>0</td>\n",
       "      <td>explanation why the edit make under my usernam...</td>\n",
       "    </tr>\n",
       "    <tr>\n",
       "      <th>1</th>\n",
       "      <td>0</td>\n",
       "      <td>d aww he match this background colour I be see...</td>\n",
       "    </tr>\n",
       "    <tr>\n",
       "      <th>2</th>\n",
       "      <td>0</td>\n",
       "      <td>hey man I be really not try to edit war it be ...</td>\n",
       "    </tr>\n",
       "    <tr>\n",
       "      <th>3</th>\n",
       "      <td>0</td>\n",
       "      <td>more I can not make any real suggestion on imp...</td>\n",
       "    </tr>\n",
       "    <tr>\n",
       "      <th>4</th>\n",
       "      <td>0</td>\n",
       "      <td>you sir be my hero any chance you remember wha...</td>\n",
       "    </tr>\n",
       "  </tbody>\n",
       "</table>\n",
       "</div>"
      ],
      "text/plain": [
       "   toxic                                           lem_text\n",
       "0      0  explanation why the edit make under my usernam...\n",
       "1      0  d aww he match this background colour I be see...\n",
       "2      0  hey man I be really not try to edit war it be ...\n",
       "3      0  more I can not make any real suggestion on imp...\n",
       "4      0  you sir be my hero any chance you remember wha..."
      ]
     },
     "execution_count": 45,
     "metadata": {},
     "output_type": "execute_result"
    }
   ],
   "source": [
    "data = data.drop('text', axis = 1)\n",
    "data.head()"
   ]
  },
  {
   "cell_type": "markdown",
   "metadata": {},
   "source": [
    "### Разделение на выборки"
   ]
  },
  {
   "cell_type": "code",
   "execution_count": 46,
   "metadata": {},
   "outputs": [
    {
     "name": "stdout",
     "output_type": "stream",
     "text": [
      "Размер тестовой выборки (127433,) и целевого (127433,)\n",
      "Размер тестовой выборки (31859,) и целевого (31859,)\n"
     ]
    }
   ],
   "source": [
    "X = data['lem_text']\n",
    "y = data['toxic']\n",
    "\n",
    "X_train, X_test, y_train, y_test = train_test_split(\n",
    "    X,\n",
    "    y,\n",
    "    test_size = TEST_SIZE,\n",
    "    stratify = y\n",
    ")\n",
    "\n",
    "\n",
    "print(f'Размер тестовой выборки {X_train.shape} и целевого {y_train.shape}')\n",
    "print(f'Размер тестовой выборки {X_test.shape} и целевого {y_test.shape}')"
   ]
  },
  {
   "cell_type": "markdown",
   "metadata": {},
   "source": [
    "#### Обработка с помощью TF-IDF"
   ]
  },
  {
   "cell_type": "code",
   "execution_count": 47,
   "metadata": {},
   "outputs": [
    {
     "name": "stderr",
     "output_type": "stream",
     "text": [
      "[nltk_data] Downloading package stopwords to /home/jovyan/nltk_data...\n",
      "[nltk_data]   Package stopwords is already up-to-date!\n"
     ]
    },
    {
     "name": "stdout",
     "output_type": "stream",
     "text": [
      "Размер тестовой выборки (127433, 134623) и целевого (127433,)\n",
      "Размер тестовой выборки (31859, 134623) и целевого (31859,)\n"
     ]
    }
   ],
   "source": [
    "nltk.download('stopwords')\n",
    "stop_words = set(stopwords.words('english'))\n",
    "\n",
    "count_tf = TfidfVectorizer(stop_words = list(stop_words))\n",
    "\n",
    "X_train_tf = count_tf.fit_transform(X_train)\n",
    "X_test_tf = count_tf.transform(X_test)\n",
    "\n",
    "print(f'Размер тестовой выборки {X_train_tf.shape} и целевого {y_train.shape}')\n",
    "print(f'Размер тестовой выборки {X_test_tf.shape} и целевого {y_test.shape}')"
   ]
  },
  {
   "cell_type": "markdown",
   "metadata": {},
   "source": [
    "## Обучение\n",
    "\n",
    "Для обучения возьмем три модели: LogisticRegression, DecisionTreeClassifier, CatBoostClassifier"
   ]
  },
  {
   "cell_type": "markdown",
   "metadata": {},
   "source": [
    "### LogisticRegression"
   ]
  },
  {
   "cell_type": "code",
   "execution_count": 48,
   "metadata": {
    "scrolled": true
   },
   "outputs": [],
   "source": [
    "model = LogisticRegression(\n",
    "    penalty = 'l1',\n",
    "    solver = 'liblinear',\n",
    "    random_state = state,\n",
    "    class_weight = 'balanced'\n",
    ")\n",
    "\n",
    "parameters = {\n",
    "    'C': range(1, 10)\n",
    "}\n",
    "\n",
    "search = GridSearchCV(\n",
    "    model,\n",
    "    parameters,\n",
    "    scoring = 'f1',\n",
    "    cv = 4,\n",
    "    n_jobs = -1\n",
    ")"
   ]
  },
  {
   "cell_type": "code",
   "execution_count": 49,
   "metadata": {},
   "outputs": [
    {
     "data": {
      "text/plain": [
       "'Лучшие параметры:'"
      ]
     },
     "metadata": {},
     "output_type": "display_data"
    },
    {
     "data": {
      "text/plain": [
       "{'C': 3}"
      ]
     },
     "metadata": {},
     "output_type": "display_data"
    },
    {
     "data": {
      "text/plain": [
       "'Лучшая метрика при кросс-валидации: 0.761'"
      ]
     },
     "metadata": {},
     "output_type": "display_data"
    },
    {
     "data": {
      "text/html": [
       "<div>\n",
       "<style scoped>\n",
       "    .dataframe tbody tr th:only-of-type {\n",
       "        vertical-align: middle;\n",
       "    }\n",
       "\n",
       "    .dataframe tbody tr th {\n",
       "        vertical-align: top;\n",
       "    }\n",
       "\n",
       "    .dataframe thead th {\n",
       "        text-align: right;\n",
       "    }\n",
       "</style>\n",
       "<table border=\"1\" class=\"dataframe\">\n",
       "  <thead>\n",
       "    <tr style=\"text-align: right;\">\n",
       "      <th></th>\n",
       "      <th>mean_fit_time</th>\n",
       "      <th>param_C</th>\n",
       "      <th>mean_test_score</th>\n",
       "    </tr>\n",
       "  </thead>\n",
       "  <tbody>\n",
       "    <tr>\n",
       "      <th>2</th>\n",
       "      <td>2.425425</td>\n",
       "      <td>3</td>\n",
       "      <td>0.761216</td>\n",
       "    </tr>\n",
       "    <tr>\n",
       "      <th>3</th>\n",
       "      <td>2.620951</td>\n",
       "      <td>4</td>\n",
       "      <td>0.760653</td>\n",
       "    </tr>\n",
       "    <tr>\n",
       "      <th>4</th>\n",
       "      <td>2.779442</td>\n",
       "      <td>5</td>\n",
       "      <td>0.759612</td>\n",
       "    </tr>\n",
       "    <tr>\n",
       "      <th>1</th>\n",
       "      <td>2.208826</td>\n",
       "      <td>2</td>\n",
       "      <td>0.759353</td>\n",
       "    </tr>\n",
       "    <tr>\n",
       "      <th>0</th>\n",
       "      <td>1.318553</td>\n",
       "      <td>1</td>\n",
       "      <td>0.750515</td>\n",
       "    </tr>\n",
       "  </tbody>\n",
       "</table>\n",
       "</div>"
      ],
      "text/plain": [
       "   mean_fit_time  param_C  mean_test_score\n",
       "2       2.425425        3         0.761216\n",
       "3       2.620951        4         0.760653\n",
       "4       2.779442        5         0.759612\n",
       "1       2.208826        2         0.759353\n",
       "0       1.318553        1         0.750515"
      ]
     },
     "metadata": {},
     "output_type": "display_data"
    }
   ],
   "source": [
    "search.fit(X_train_tf, y_train)\n",
    "\n",
    "display('Лучшие параметры:', search.best_params_)\n",
    "display(f'Лучшая метрика при кросс-валидации: {search.best_score_:.3f}')\n",
    "\n",
    "result = pd.DataFrame(search.cv_results_).head().sort_values(by = 'mean_test_score', ascending = False)\n",
    "display(result[['mean_fit_time', 'param_C', 'mean_test_score']])"
   ]
  },
  {
   "cell_type": "markdown",
   "metadata": {},
   "source": [
    "### DecisionTreeClassifier"
   ]
  },
  {
   "cell_type": "code",
   "execution_count": 50,
   "metadata": {},
   "outputs": [],
   "source": [
    "model = DecisionTreeClassifier(random_state = state, class_weight = 'balanced')\n",
    "\n",
    "parameters = {\n",
    "    'max_depth': range(2, 10),\n",
    "    'min_samples_leaf': range(1, 10),\n",
    "    'min_samples_split': range(2, 10),\n",
    "}\n",
    "\n",
    "search_dtc = RandomizedSearchCV(\n",
    "    model,\n",
    "    parameters,\n",
    "    scoring = 'f1',\n",
    "    cv = 4,\n",
    "    n_jobs = -1\n",
    ")"
   ]
  },
  {
   "cell_type": "code",
   "execution_count": 51,
   "metadata": {},
   "outputs": [
    {
     "data": {
      "text/plain": [
       "'Лучшие параметры:'"
      ]
     },
     "metadata": {},
     "output_type": "display_data"
    },
    {
     "data": {
      "text/plain": [
       "{'min_samples_split': 7, 'min_samples_leaf': 4, 'max_depth': 9}"
      ]
     },
     "metadata": {},
     "output_type": "display_data"
    },
    {
     "data": {
      "text/plain": [
       "'Лучшая метрика при кросс-валидации: 0.56'"
      ]
     },
     "metadata": {},
     "output_type": "display_data"
    },
    {
     "data": {
      "text/html": [
       "<div>\n",
       "<style scoped>\n",
       "    .dataframe tbody tr th:only-of-type {\n",
       "        vertical-align: middle;\n",
       "    }\n",
       "\n",
       "    .dataframe tbody tr th {\n",
       "        vertical-align: top;\n",
       "    }\n",
       "\n",
       "    .dataframe thead th {\n",
       "        text-align: right;\n",
       "    }\n",
       "</style>\n",
       "<table border=\"1\" class=\"dataframe\">\n",
       "  <thead>\n",
       "    <tr style=\"text-align: right;\">\n",
       "      <th></th>\n",
       "      <th>mean_fit_time</th>\n",
       "      <th>params</th>\n",
       "      <th>mean_test_score</th>\n",
       "    </tr>\n",
       "  </thead>\n",
       "  <tbody>\n",
       "    <tr>\n",
       "      <th>0</th>\n",
       "      <td>13.497309</td>\n",
       "      <td>{'min_samples_split': 7, 'min_samples_leaf': 4...</td>\n",
       "      <td>0.563978</td>\n",
       "    </tr>\n",
       "    <tr>\n",
       "      <th>1</th>\n",
       "      <td>11.737900</td>\n",
       "      <td>{'min_samples_split': 2, 'min_samples_leaf': 4...</td>\n",
       "      <td>0.476968</td>\n",
       "    </tr>\n",
       "    <tr>\n",
       "      <th>3</th>\n",
       "      <td>10.221436</td>\n",
       "      <td>{'min_samples_split': 7, 'min_samples_leaf': 7...</td>\n",
       "      <td>0.376453</td>\n",
       "    </tr>\n",
       "    <tr>\n",
       "      <th>2</th>\n",
       "      <td>10.568385</td>\n",
       "      <td>{'min_samples_split': 7, 'min_samples_leaf': 8...</td>\n",
       "      <td>0.237240</td>\n",
       "    </tr>\n",
       "    <tr>\n",
       "      <th>4</th>\n",
       "      <td>9.659108</td>\n",
       "      <td>{'min_samples_split': 7, 'min_samples_leaf': 5...</td>\n",
       "      <td>0.216867</td>\n",
       "    </tr>\n",
       "  </tbody>\n",
       "</table>\n",
       "</div>"
      ],
      "text/plain": [
       "   mean_fit_time                                             params  \\\n",
       "0      13.497309  {'min_samples_split': 7, 'min_samples_leaf': 4...   \n",
       "1      11.737900  {'min_samples_split': 2, 'min_samples_leaf': 4...   \n",
       "3      10.221436  {'min_samples_split': 7, 'min_samples_leaf': 7...   \n",
       "2      10.568385  {'min_samples_split': 7, 'min_samples_leaf': 8...   \n",
       "4       9.659108  {'min_samples_split': 7, 'min_samples_leaf': 5...   \n",
       "\n",
       "   mean_test_score  \n",
       "0         0.563978  \n",
       "1         0.476968  \n",
       "3         0.376453  \n",
       "2         0.237240  \n",
       "4         0.216867  "
      ]
     },
     "metadata": {},
     "output_type": "display_data"
    }
   ],
   "source": [
    "search_dtc.fit(X_train_tf, y_train)\n",
    "\n",
    "display('Лучшие параметры:', search_dtc.best_params_)\n",
    "display(f'Лучшая метрика при кросс-валидации: {search_dtc.best_score_:.2f}')\n",
    "\n",
    "result = pd.DataFrame(search_dtc.cv_results_).head().sort_values(by = 'mean_test_score', ascending = False)\n",
    "display(result[['mean_fit_time', 'params', 'mean_test_score']])"
   ]
  },
  {
   "cell_type": "markdown",
   "metadata": {},
   "source": [
    "### CatBoostClassifier"
   ]
  },
  {
   "cell_type": "code",
   "execution_count": 52,
   "metadata": {},
   "outputs": [
    {
     "name": "stdout",
     "output_type": "stream",
     "text": [
      "Learning rate set to 0.5\n",
      "0:\tlearn: 0.3432502\ttotal: 1.6s\tremaining: 1m 18s\n",
      "25:\tlearn: 0.1564987\ttotal: 31.2s\tremaining: 28.8s\n",
      "49:\tlearn: 0.1360526\ttotal: 58.6s\tremaining: 0us\n",
      "Learning rate set to 0.5\n",
      "0:\tlearn: 0.3481393\ttotal: 1.52s\tremaining: 1m 14s\n",
      "25:\tlearn: 0.1588043\ttotal: 31.7s\tremaining: 29.3s\n",
      "49:\tlearn: 0.1383330\ttotal: 58.8s\tremaining: 0us\n",
      "Learning rate set to 0.5\n",
      "0:\tlearn: 0.3357886\ttotal: 1.67s\tremaining: 1m 21s\n",
      "25:\tlearn: 0.1568852\ttotal: 31.7s\tremaining: 29.2s\n",
      "49:\tlearn: 0.1379183\ttotal: 58.9s\tremaining: 0us\n",
      "Learning rate set to 0.5\n",
      "0:\tlearn: 0.3558074\ttotal: 1.46s\tremaining: 1m 11s\n",
      "25:\tlearn: 0.1582347\ttotal: 31.2s\tremaining: 28.8s\n",
      "49:\tlearn: 0.1377936\ttotal: 58.5s\tremaining: 0us\n"
     ]
    },
    {
     "data": {
      "text/plain": [
       "'Метрика при кросс-валидации: 0.71'"
      ]
     },
     "metadata": {},
     "output_type": "display_data"
    }
   ],
   "source": [
    "model = CatBoostClassifier(depth = 5, n_estimators = 50, verbose = 25)\n",
    "\n",
    "score = cross_val_score(\n",
    "    model,\n",
    "    X_train_tf,\n",
    "    y_train,\n",
    "    scoring = 'f1',\n",
    "    cv = 4,\n",
    "    n_jobs = -1\n",
    ").mean()\n",
    "\n",
    "display(f'Метрика при кросс-валидации: {score:.2f}')"
   ]
  },
  {
   "cell_type": "markdown",
   "metadata": {},
   "source": [
    "### Тестирование лучшей модели"
   ]
  },
  {
   "cell_type": "markdown",
   "metadata": {},
   "source": [
    "Лучший показатель метрики у модели логистической регрессии. Проверим модель на тренировочных данных."
   ]
  },
  {
   "cell_type": "code",
   "execution_count": 53,
   "metadata": {},
   "outputs": [
    {
     "data": {
      "text/html": [
       "<style>#sk-container-id-1 {\n",
       "  /* Definition of color scheme common for light and dark mode */\n",
       "  --sklearn-color-text: black;\n",
       "  --sklearn-color-line: gray;\n",
       "  /* Definition of color scheme for unfitted estimators */\n",
       "  --sklearn-color-unfitted-level-0: #fff5e6;\n",
       "  --sklearn-color-unfitted-level-1: #f6e4d2;\n",
       "  --sklearn-color-unfitted-level-2: #ffe0b3;\n",
       "  --sklearn-color-unfitted-level-3: chocolate;\n",
       "  /* Definition of color scheme for fitted estimators */\n",
       "  --sklearn-color-fitted-level-0: #f0f8ff;\n",
       "  --sklearn-color-fitted-level-1: #d4ebff;\n",
       "  --sklearn-color-fitted-level-2: #b3dbfd;\n",
       "  --sklearn-color-fitted-level-3: cornflowerblue;\n",
       "\n",
       "  /* Specific color for light theme */\n",
       "  --sklearn-color-text-on-default-background: var(--sg-text-color, var(--theme-code-foreground, var(--jp-content-font-color1, black)));\n",
       "  --sklearn-color-background: var(--sg-background-color, var(--theme-background, var(--jp-layout-color0, white)));\n",
       "  --sklearn-color-border-box: var(--sg-text-color, var(--theme-code-foreground, var(--jp-content-font-color1, black)));\n",
       "  --sklearn-color-icon: #696969;\n",
       "\n",
       "  @media (prefers-color-scheme: dark) {\n",
       "    /* Redefinition of color scheme for dark theme */\n",
       "    --sklearn-color-text-on-default-background: var(--sg-text-color, var(--theme-code-foreground, var(--jp-content-font-color1, white)));\n",
       "    --sklearn-color-background: var(--sg-background-color, var(--theme-background, var(--jp-layout-color0, #111)));\n",
       "    --sklearn-color-border-box: var(--sg-text-color, var(--theme-code-foreground, var(--jp-content-font-color1, white)));\n",
       "    --sklearn-color-icon: #878787;\n",
       "  }\n",
       "}\n",
       "\n",
       "#sk-container-id-1 {\n",
       "  color: var(--sklearn-color-text);\n",
       "}\n",
       "\n",
       "#sk-container-id-1 pre {\n",
       "  padding: 0;\n",
       "}\n",
       "\n",
       "#sk-container-id-1 input.sk-hidden--visually {\n",
       "  border: 0;\n",
       "  clip: rect(1px 1px 1px 1px);\n",
       "  clip: rect(1px, 1px, 1px, 1px);\n",
       "  height: 1px;\n",
       "  margin: -1px;\n",
       "  overflow: hidden;\n",
       "  padding: 0;\n",
       "  position: absolute;\n",
       "  width: 1px;\n",
       "}\n",
       "\n",
       "#sk-container-id-1 div.sk-dashed-wrapped {\n",
       "  border: 1px dashed var(--sklearn-color-line);\n",
       "  margin: 0 0.4em 0.5em 0.4em;\n",
       "  box-sizing: border-box;\n",
       "  padding-bottom: 0.4em;\n",
       "  background-color: var(--sklearn-color-background);\n",
       "}\n",
       "\n",
       "#sk-container-id-1 div.sk-container {\n",
       "  /* jupyter's `normalize.less` sets `[hidden] { display: none; }`\n",
       "     but bootstrap.min.css set `[hidden] { display: none !important; }`\n",
       "     so we also need the `!important` here to be able to override the\n",
       "     default hidden behavior on the sphinx rendered scikit-learn.org.\n",
       "     See: https://github.com/scikit-learn/scikit-learn/issues/21755 */\n",
       "  display: inline-block !important;\n",
       "  position: relative;\n",
       "}\n",
       "\n",
       "#sk-container-id-1 div.sk-text-repr-fallback {\n",
       "  display: none;\n",
       "}\n",
       "\n",
       "div.sk-parallel-item,\n",
       "div.sk-serial,\n",
       "div.sk-item {\n",
       "  /* draw centered vertical line to link estimators */\n",
       "  background-image: linear-gradient(var(--sklearn-color-text-on-default-background), var(--sklearn-color-text-on-default-background));\n",
       "  background-size: 2px 100%;\n",
       "  background-repeat: no-repeat;\n",
       "  background-position: center center;\n",
       "}\n",
       "\n",
       "/* Parallel-specific style estimator block */\n",
       "\n",
       "#sk-container-id-1 div.sk-parallel-item::after {\n",
       "  content: \"\";\n",
       "  width: 100%;\n",
       "  border-bottom: 2px solid var(--sklearn-color-text-on-default-background);\n",
       "  flex-grow: 1;\n",
       "}\n",
       "\n",
       "#sk-container-id-1 div.sk-parallel {\n",
       "  display: flex;\n",
       "  align-items: stretch;\n",
       "  justify-content: center;\n",
       "  background-color: var(--sklearn-color-background);\n",
       "  position: relative;\n",
       "}\n",
       "\n",
       "#sk-container-id-1 div.sk-parallel-item {\n",
       "  display: flex;\n",
       "  flex-direction: column;\n",
       "}\n",
       "\n",
       "#sk-container-id-1 div.sk-parallel-item:first-child::after {\n",
       "  align-self: flex-end;\n",
       "  width: 50%;\n",
       "}\n",
       "\n",
       "#sk-container-id-1 div.sk-parallel-item:last-child::after {\n",
       "  align-self: flex-start;\n",
       "  width: 50%;\n",
       "}\n",
       "\n",
       "#sk-container-id-1 div.sk-parallel-item:only-child::after {\n",
       "  width: 0;\n",
       "}\n",
       "\n",
       "/* Serial-specific style estimator block */\n",
       "\n",
       "#sk-container-id-1 div.sk-serial {\n",
       "  display: flex;\n",
       "  flex-direction: column;\n",
       "  align-items: center;\n",
       "  background-color: var(--sklearn-color-background);\n",
       "  padding-right: 1em;\n",
       "  padding-left: 1em;\n",
       "}\n",
       "\n",
       "\n",
       "/* Toggleable style: style used for estimator/Pipeline/ColumnTransformer box that is\n",
       "clickable and can be expanded/collapsed.\n",
       "- Pipeline and ColumnTransformer use this feature and define the default style\n",
       "- Estimators will overwrite some part of the style using the `sk-estimator` class\n",
       "*/\n",
       "\n",
       "/* Pipeline and ColumnTransformer style (default) */\n",
       "\n",
       "#sk-container-id-1 div.sk-toggleable {\n",
       "  /* Default theme specific background. It is overwritten whether we have a\n",
       "  specific estimator or a Pipeline/ColumnTransformer */\n",
       "  background-color: var(--sklearn-color-background);\n",
       "}\n",
       "\n",
       "/* Toggleable label */\n",
       "#sk-container-id-1 label.sk-toggleable__label {\n",
       "  cursor: pointer;\n",
       "  display: block;\n",
       "  width: 100%;\n",
       "  margin-bottom: 0;\n",
       "  padding: 0.5em;\n",
       "  box-sizing: border-box;\n",
       "  text-align: center;\n",
       "}\n",
       "\n",
       "#sk-container-id-1 label.sk-toggleable__label-arrow:before {\n",
       "  /* Arrow on the left of the label */\n",
       "  content: \"▸\";\n",
       "  float: left;\n",
       "  margin-right: 0.25em;\n",
       "  color: var(--sklearn-color-icon);\n",
       "}\n",
       "\n",
       "#sk-container-id-1 label.sk-toggleable__label-arrow:hover:before {\n",
       "  color: var(--sklearn-color-text);\n",
       "}\n",
       "\n",
       "/* Toggleable content - dropdown */\n",
       "\n",
       "#sk-container-id-1 div.sk-toggleable__content {\n",
       "  max-height: 0;\n",
       "  max-width: 0;\n",
       "  overflow: hidden;\n",
       "  text-align: left;\n",
       "  /* unfitted */\n",
       "  background-color: var(--sklearn-color-unfitted-level-0);\n",
       "}\n",
       "\n",
       "#sk-container-id-1 div.sk-toggleable__content.fitted {\n",
       "  /* fitted */\n",
       "  background-color: var(--sklearn-color-fitted-level-0);\n",
       "}\n",
       "\n",
       "#sk-container-id-1 div.sk-toggleable__content pre {\n",
       "  margin: 0.2em;\n",
       "  border-radius: 0.25em;\n",
       "  color: var(--sklearn-color-text);\n",
       "  /* unfitted */\n",
       "  background-color: var(--sklearn-color-unfitted-level-0);\n",
       "}\n",
       "\n",
       "#sk-container-id-1 div.sk-toggleable__content.fitted pre {\n",
       "  /* unfitted */\n",
       "  background-color: var(--sklearn-color-fitted-level-0);\n",
       "}\n",
       "\n",
       "#sk-container-id-1 input.sk-toggleable__control:checked~div.sk-toggleable__content {\n",
       "  /* Expand drop-down */\n",
       "  max-height: 200px;\n",
       "  max-width: 100%;\n",
       "  overflow: auto;\n",
       "}\n",
       "\n",
       "#sk-container-id-1 input.sk-toggleable__control:checked~label.sk-toggleable__label-arrow:before {\n",
       "  content: \"▾\";\n",
       "}\n",
       "\n",
       "/* Pipeline/ColumnTransformer-specific style */\n",
       "\n",
       "#sk-container-id-1 div.sk-label input.sk-toggleable__control:checked~label.sk-toggleable__label {\n",
       "  color: var(--sklearn-color-text);\n",
       "  background-color: var(--sklearn-color-unfitted-level-2);\n",
       "}\n",
       "\n",
       "#sk-container-id-1 div.sk-label.fitted input.sk-toggleable__control:checked~label.sk-toggleable__label {\n",
       "  background-color: var(--sklearn-color-fitted-level-2);\n",
       "}\n",
       "\n",
       "/* Estimator-specific style */\n",
       "\n",
       "/* Colorize estimator box */\n",
       "#sk-container-id-1 div.sk-estimator input.sk-toggleable__control:checked~label.sk-toggleable__label {\n",
       "  /* unfitted */\n",
       "  background-color: var(--sklearn-color-unfitted-level-2);\n",
       "}\n",
       "\n",
       "#sk-container-id-1 div.sk-estimator.fitted input.sk-toggleable__control:checked~label.sk-toggleable__label {\n",
       "  /* fitted */\n",
       "  background-color: var(--sklearn-color-fitted-level-2);\n",
       "}\n",
       "\n",
       "#sk-container-id-1 div.sk-label label.sk-toggleable__label,\n",
       "#sk-container-id-1 div.sk-label label {\n",
       "  /* The background is the default theme color */\n",
       "  color: var(--sklearn-color-text-on-default-background);\n",
       "}\n",
       "\n",
       "/* On hover, darken the color of the background */\n",
       "#sk-container-id-1 div.sk-label:hover label.sk-toggleable__label {\n",
       "  color: var(--sklearn-color-text);\n",
       "  background-color: var(--sklearn-color-unfitted-level-2);\n",
       "}\n",
       "\n",
       "/* Label box, darken color on hover, fitted */\n",
       "#sk-container-id-1 div.sk-label.fitted:hover label.sk-toggleable__label.fitted {\n",
       "  color: var(--sklearn-color-text);\n",
       "  background-color: var(--sklearn-color-fitted-level-2);\n",
       "}\n",
       "\n",
       "/* Estimator label */\n",
       "\n",
       "#sk-container-id-1 div.sk-label label {\n",
       "  font-family: monospace;\n",
       "  font-weight: bold;\n",
       "  display: inline-block;\n",
       "  line-height: 1.2em;\n",
       "}\n",
       "\n",
       "#sk-container-id-1 div.sk-label-container {\n",
       "  text-align: center;\n",
       "}\n",
       "\n",
       "/* Estimator-specific */\n",
       "#sk-container-id-1 div.sk-estimator {\n",
       "  font-family: monospace;\n",
       "  border: 1px dotted var(--sklearn-color-border-box);\n",
       "  border-radius: 0.25em;\n",
       "  box-sizing: border-box;\n",
       "  margin-bottom: 0.5em;\n",
       "  /* unfitted */\n",
       "  background-color: var(--sklearn-color-unfitted-level-0);\n",
       "}\n",
       "\n",
       "#sk-container-id-1 div.sk-estimator.fitted {\n",
       "  /* fitted */\n",
       "  background-color: var(--sklearn-color-fitted-level-0);\n",
       "}\n",
       "\n",
       "/* on hover */\n",
       "#sk-container-id-1 div.sk-estimator:hover {\n",
       "  /* unfitted */\n",
       "  background-color: var(--sklearn-color-unfitted-level-2);\n",
       "}\n",
       "\n",
       "#sk-container-id-1 div.sk-estimator.fitted:hover {\n",
       "  /* fitted */\n",
       "  background-color: var(--sklearn-color-fitted-level-2);\n",
       "}\n",
       "\n",
       "/* Specification for estimator info (e.g. \"i\" and \"?\") */\n",
       "\n",
       "/* Common style for \"i\" and \"?\" */\n",
       "\n",
       ".sk-estimator-doc-link,\n",
       "a:link.sk-estimator-doc-link,\n",
       "a:visited.sk-estimator-doc-link {\n",
       "  float: right;\n",
       "  font-size: smaller;\n",
       "  line-height: 1em;\n",
       "  font-family: monospace;\n",
       "  background-color: var(--sklearn-color-background);\n",
       "  border-radius: 1em;\n",
       "  height: 1em;\n",
       "  width: 1em;\n",
       "  text-decoration: none !important;\n",
       "  margin-left: 1ex;\n",
       "  /* unfitted */\n",
       "  border: var(--sklearn-color-unfitted-level-1) 1pt solid;\n",
       "  color: var(--sklearn-color-unfitted-level-1);\n",
       "}\n",
       "\n",
       ".sk-estimator-doc-link.fitted,\n",
       "a:link.sk-estimator-doc-link.fitted,\n",
       "a:visited.sk-estimator-doc-link.fitted {\n",
       "  /* fitted */\n",
       "  border: var(--sklearn-color-fitted-level-1) 1pt solid;\n",
       "  color: var(--sklearn-color-fitted-level-1);\n",
       "}\n",
       "\n",
       "/* On hover */\n",
       "div.sk-estimator:hover .sk-estimator-doc-link:hover,\n",
       ".sk-estimator-doc-link:hover,\n",
       "div.sk-label-container:hover .sk-estimator-doc-link:hover,\n",
       ".sk-estimator-doc-link:hover {\n",
       "  /* unfitted */\n",
       "  background-color: var(--sklearn-color-unfitted-level-3);\n",
       "  color: var(--sklearn-color-background);\n",
       "  text-decoration: none;\n",
       "}\n",
       "\n",
       "div.sk-estimator.fitted:hover .sk-estimator-doc-link.fitted:hover,\n",
       ".sk-estimator-doc-link.fitted:hover,\n",
       "div.sk-label-container:hover .sk-estimator-doc-link.fitted:hover,\n",
       ".sk-estimator-doc-link.fitted:hover {\n",
       "  /* fitted */\n",
       "  background-color: var(--sklearn-color-fitted-level-3);\n",
       "  color: var(--sklearn-color-background);\n",
       "  text-decoration: none;\n",
       "}\n",
       "\n",
       "/* Span, style for the box shown on hovering the info icon */\n",
       ".sk-estimator-doc-link span {\n",
       "  display: none;\n",
       "  z-index: 9999;\n",
       "  position: relative;\n",
       "  font-weight: normal;\n",
       "  right: .2ex;\n",
       "  padding: .5ex;\n",
       "  margin: .5ex;\n",
       "  width: min-content;\n",
       "  min-width: 20ex;\n",
       "  max-width: 50ex;\n",
       "  color: var(--sklearn-color-text);\n",
       "  box-shadow: 2pt 2pt 4pt #999;\n",
       "  /* unfitted */\n",
       "  background: var(--sklearn-color-unfitted-level-0);\n",
       "  border: .5pt solid var(--sklearn-color-unfitted-level-3);\n",
       "}\n",
       "\n",
       ".sk-estimator-doc-link.fitted span {\n",
       "  /* fitted */\n",
       "  background: var(--sklearn-color-fitted-level-0);\n",
       "  border: var(--sklearn-color-fitted-level-3);\n",
       "}\n",
       "\n",
       ".sk-estimator-doc-link:hover span {\n",
       "  display: block;\n",
       "}\n",
       "\n",
       "/* \"?\"-specific style due to the `<a>` HTML tag */\n",
       "\n",
       "#sk-container-id-1 a.estimator_doc_link {\n",
       "  float: right;\n",
       "  font-size: 1rem;\n",
       "  line-height: 1em;\n",
       "  font-family: monospace;\n",
       "  background-color: var(--sklearn-color-background);\n",
       "  border-radius: 1rem;\n",
       "  height: 1rem;\n",
       "  width: 1rem;\n",
       "  text-decoration: none;\n",
       "  /* unfitted */\n",
       "  color: var(--sklearn-color-unfitted-level-1);\n",
       "  border: var(--sklearn-color-unfitted-level-1) 1pt solid;\n",
       "}\n",
       "\n",
       "#sk-container-id-1 a.estimator_doc_link.fitted {\n",
       "  /* fitted */\n",
       "  border: var(--sklearn-color-fitted-level-1) 1pt solid;\n",
       "  color: var(--sklearn-color-fitted-level-1);\n",
       "}\n",
       "\n",
       "/* On hover */\n",
       "#sk-container-id-1 a.estimator_doc_link:hover {\n",
       "  /* unfitted */\n",
       "  background-color: var(--sklearn-color-unfitted-level-3);\n",
       "  color: var(--sklearn-color-background);\n",
       "  text-decoration: none;\n",
       "}\n",
       "\n",
       "#sk-container-id-1 a.estimator_doc_link.fitted:hover {\n",
       "  /* fitted */\n",
       "  background-color: var(--sklearn-color-fitted-level-3);\n",
       "}\n",
       "</style><div id=\"sk-container-id-1\" class=\"sk-top-container\"><div class=\"sk-text-repr-fallback\"><pre>LogisticRegression(C=3, class_weight=&#x27;balanced&#x27;, penalty=&#x27;l1&#x27;,\n",
       "                   random_state=RandomState(MT19937) at 0x7F92373EB340,\n",
       "                   solver=&#x27;liblinear&#x27;)</pre><b>In a Jupyter environment, please rerun this cell to show the HTML representation or trust the notebook. <br />On GitHub, the HTML representation is unable to render, please try loading this page with nbviewer.org.</b></div><div class=\"sk-container\" hidden><div class=\"sk-item\"><div class=\"sk-estimator fitted sk-toggleable\"><input class=\"sk-toggleable__control sk-hidden--visually\" id=\"sk-estimator-id-1\" type=\"checkbox\" checked><label for=\"sk-estimator-id-1\" class=\"sk-toggleable__label fitted sk-toggleable__label-arrow fitted\">&nbsp;&nbsp;LogisticRegression<a class=\"sk-estimator-doc-link fitted\" rel=\"noreferrer\" target=\"_blank\" href=\"https://scikit-learn.org/1.5/modules/generated/sklearn.linear_model.LogisticRegression.html\">?<span>Documentation for LogisticRegression</span></a><span class=\"sk-estimator-doc-link fitted\">i<span>Fitted</span></span></label><div class=\"sk-toggleable__content fitted\"><pre>LogisticRegression(C=3, class_weight=&#x27;balanced&#x27;, penalty=&#x27;l1&#x27;,\n",
       "                   random_state=RandomState(MT19937) at 0x7F92373EB340,\n",
       "                   solver=&#x27;liblinear&#x27;)</pre></div> </div></div></div></div>"
      ],
      "text/plain": [
       "LogisticRegression(C=3, class_weight='balanced', penalty='l1',\n",
       "                   random_state=RandomState(MT19937) at 0x7F92373EB340,\n",
       "                   solver='liblinear')"
      ]
     },
     "execution_count": 53,
     "metadata": {},
     "output_type": "execute_result"
    }
   ],
   "source": [
    "model = search.best_estimator_\n",
    "model"
   ]
  },
  {
   "cell_type": "code",
   "execution_count": 54,
   "metadata": {},
   "outputs": [
    {
     "name": "stdout",
     "output_type": "stream",
     "text": [
      "Метрика на тестовых данных: 0.770\n"
     ]
    }
   ],
   "source": [
    "predict = model.predict(X_test_tf)\n",
    "f1 = f1_score(y_test, predict)\n",
    "\n",
    "print(f'Метрика на тестовых данных: {f1:.3f}')"
   ]
  },
  {
   "cell_type": "markdown",
   "metadata": {},
   "source": [
    "## Выводы"
   ]
  },
  {
   "cell_type": "markdown",
   "metadata": {},
   "source": [
    "При изучении датасета был выявлен дисбаланс классов в целевом признаке, для его устранения была применена стратификация по целевому признаку при разделении на выборки и средство моделей - параметра class_weights. \n",
    "\n",
    "При обучении моделей лучшей себя показала Логистическая регрессия, справившись быстрее остальных моделей и показав значение метрики F1 = 76 на тренировочных и F1 = 77 на тестовых данных со следующими параметрами:\n",
    "- penalty = 'l1',\n",
    "- solver = 'liblinear',\n",
    "- random_state = state,\n",
    "- class_weight = 'balanced',\n",
    "- С = 3\n",
    "\n",
    "Модель успешно разделяет позитивные и негативные комментарии в 77% случаев."
   ]
  }
 ],
 "metadata": {
  "ExecuteTimeLog": [
   {
    "duration": 60,
    "start_time": "2024-08-01T11:48:17.937Z"
   },
   {
    "duration": 2211,
    "start_time": "2024-08-01T11:52:32.970Z"
   },
   {
    "duration": 12694,
    "start_time": "2024-08-01T11:57:12.847Z"
   },
   {
    "duration": 1069,
    "start_time": "2024-08-01T11:59:56.853Z"
   },
   {
    "duration": 7632,
    "start_time": "2024-08-01T12:00:51.886Z"
   },
   {
    "duration": 519,
    "start_time": "2024-08-01T12:00:59.521Z"
   },
   {
    "duration": 0,
    "start_time": "2024-08-01T12:01:00.041Z"
   },
   {
    "duration": 562,
    "start_time": "2024-08-01T12:02:57.379Z"
   },
   {
    "duration": 15,
    "start_time": "2024-08-01T12:03:25.764Z"
   },
   {
    "duration": 7623,
    "start_time": "2024-08-01T12:04:35.639Z"
   },
   {
    "duration": 2604,
    "start_time": "2024-08-01T12:04:43.264Z"
   },
   {
    "duration": 1157,
    "start_time": "2024-08-01T12:04:45.870Z"
   },
   {
    "duration": 3,
    "start_time": "2024-08-01T12:05:30.131Z"
   },
   {
    "duration": 886,
    "start_time": "2024-08-01T12:05:48.205Z"
   },
   {
    "duration": 803,
    "start_time": "2024-08-01T12:06:08.304Z"
   },
   {
    "duration": 862,
    "start_time": "2024-08-01T12:06:27.447Z"
   },
   {
    "duration": 850,
    "start_time": "2024-08-01T12:20:46.518Z"
   },
   {
    "duration": 147,
    "start_time": "2024-08-01T12:23:29.813Z"
   },
   {
    "duration": 11,
    "start_time": "2024-08-01T12:23:36.705Z"
   },
   {
    "duration": 867,
    "start_time": "2024-08-01T12:24:21.699Z"
   },
   {
    "duration": 910,
    "start_time": "2024-08-01T12:24:30.338Z"
   },
   {
    "duration": 12,
    "start_time": "2024-08-01T12:24:53.664Z"
   },
   {
    "duration": 202,
    "start_time": "2024-08-01T12:25:03.924Z"
   },
   {
    "duration": 153,
    "start_time": "2024-08-01T12:25:50.133Z"
   },
   {
    "duration": 97,
    "start_time": "2024-08-01T12:26:09.178Z"
   },
   {
    "duration": 112,
    "start_time": "2024-08-01T12:26:46.179Z"
   },
   {
    "duration": 112,
    "start_time": "2024-08-01T12:28:04.058Z"
   },
   {
    "duration": 131,
    "start_time": "2024-08-01T12:28:26.365Z"
   },
   {
    "duration": 134,
    "start_time": "2024-08-01T12:28:38.138Z"
   },
   {
    "duration": 7,
    "start_time": "2024-08-01T12:30:46.857Z"
   },
   {
    "duration": 2790,
    "start_time": "2024-08-01T15:15:44.309Z"
   },
   {
    "duration": 92849,
    "start_time": "2024-08-01T15:17:21.826Z"
   },
   {
    "duration": 2585,
    "start_time": "2024-08-01T15:18:54.678Z"
   },
   {
    "duration": 3,
    "start_time": "2024-08-01T15:18:57.265Z"
   },
   {
    "duration": 3636,
    "start_time": "2024-08-01T15:18:57.270Z"
   },
   {
    "duration": 208,
    "start_time": "2024-08-01T15:19:00.908Z"
   },
   {
    "duration": 237,
    "start_time": "2024-08-01T15:19:01.117Z"
   },
   {
    "duration": 135,
    "start_time": "2024-08-01T15:36:40.084Z"
   },
   {
    "duration": 4,
    "start_time": "2024-08-01T15:53:25.295Z"
   },
   {
    "duration": 345,
    "start_time": "2024-08-01T15:54:13.923Z"
   },
   {
    "duration": 4,
    "start_time": "2024-08-01T15:54:27.399Z"
   },
   {
    "duration": 6961,
    "start_time": "2024-08-01T15:54:27.836Z"
   },
   {
    "duration": 5607,
    "start_time": "2024-08-01T15:54:48.551Z"
   },
   {
    "duration": 36,
    "start_time": "2024-08-01T15:55:32.311Z"
   },
   {
    "duration": 1614,
    "start_time": "2024-08-01T15:56:06.385Z"
   },
   {
    "duration": 7180,
    "start_time": "2024-08-01T15:56:31.356Z"
   },
   {
    "duration": 7,
    "start_time": "2024-08-01T15:56:38.538Z"
   },
   {
    "duration": 9,
    "start_time": "2024-08-01T15:56:38.546Z"
   },
   {
    "duration": 873,
    "start_time": "2024-08-01T15:56:38.557Z"
   },
   {
    "duration": 218,
    "start_time": "2024-08-01T15:56:39.432Z"
   },
   {
    "duration": 135,
    "start_time": "2024-08-01T15:56:39.651Z"
   },
   {
    "duration": 3,
    "start_time": "2024-08-01T15:56:39.788Z"
   },
   {
    "duration": 5702,
    "start_time": "2024-08-01T15:56:39.793Z"
   },
   {
    "duration": 48,
    "start_time": "2024-08-01T15:56:45.497Z"
   },
   {
    "duration": 806,
    "start_time": "2024-08-01T16:00:17.872Z"
   },
   {
    "duration": 2,
    "start_time": "2024-08-01T16:00:28.770Z"
   },
   {
    "duration": 15,
    "start_time": "2024-08-01T16:01:12.516Z"
   },
   {
    "duration": 55,
    "start_time": "2024-08-01T16:02:28.885Z"
   },
   {
    "duration": 9,
    "start_time": "2024-08-01T16:03:56.528Z"
   },
   {
    "duration": 5,
    "start_time": "2024-08-01T16:04:24.436Z"
   },
   {
    "duration": 161,
    "start_time": "2024-08-01T16:04:28.949Z"
   },
   {
    "duration": 5,
    "start_time": "2024-08-01T16:08:00.129Z"
   },
   {
    "duration": 14,
    "start_time": "2024-08-01T16:13:02.080Z"
   },
   {
    "duration": 2081,
    "start_time": "2024-08-01T16:13:33.997Z"
   },
   {
    "duration": 7343,
    "start_time": "2024-08-01T16:16:40.449Z"
   },
   {
    "duration": 3464,
    "start_time": "2024-08-01T16:16:47.794Z"
   },
   {
    "duration": 4,
    "start_time": "2024-08-01T16:16:51.259Z"
   },
   {
    "duration": 3702,
    "start_time": "2024-08-01T16:16:51.265Z"
   },
   {
    "duration": 220,
    "start_time": "2024-08-01T16:16:54.969Z"
   },
   {
    "duration": 251,
    "start_time": "2024-08-01T16:16:55.191Z"
   },
   {
    "duration": 3,
    "start_time": "2024-08-01T16:16:55.444Z"
   },
   {
    "duration": 7080,
    "start_time": "2024-08-01T16:16:55.449Z"
   },
   {
    "duration": 68,
    "start_time": "2024-08-01T16:17:02.531Z"
   },
   {
    "duration": 2234,
    "start_time": "2024-08-01T16:17:02.601Z"
   },
   {
    "duration": 13,
    "start_time": "2024-08-01T16:18:22.626Z"
   },
   {
    "duration": 13732,
    "start_time": "2024-08-02T14:11:21.985Z"
   },
   {
    "duration": 2930,
    "start_time": "2024-08-02T14:11:35.719Z"
   },
   {
    "duration": 3,
    "start_time": "2024-08-02T14:11:38.650Z"
   },
   {
    "duration": 3942,
    "start_time": "2024-08-02T14:11:38.655Z"
   },
   {
    "duration": 222,
    "start_time": "2024-08-02T14:11:42.598Z"
   },
   {
    "duration": 252,
    "start_time": "2024-08-02T14:11:42.821Z"
   },
   {
    "duration": 12,
    "start_time": "2024-08-02T14:11:43.074Z"
   },
   {
    "duration": 7357,
    "start_time": "2024-08-02T14:11:43.088Z"
   },
   {
    "duration": 64,
    "start_time": "2024-08-02T14:11:50.447Z"
   },
   {
    "duration": 310,
    "start_time": "2024-08-02T14:11:50.514Z"
   },
   {
    "duration": 7,
    "start_time": "2024-08-02T14:13:17.019Z"
   },
   {
    "duration": 1916,
    "start_time": "2024-08-02T14:13:22.184Z"
   },
   {
    "duration": 7949,
    "start_time": "2024-08-02T14:15:47.229Z"
   },
   {
    "duration": 3641,
    "start_time": "2024-08-02T14:15:55.181Z"
   },
   {
    "duration": 3,
    "start_time": "2024-08-02T14:15:58.824Z"
   },
   {
    "duration": 4022,
    "start_time": "2024-08-02T14:15:58.829Z"
   },
   {
    "duration": 225,
    "start_time": "2024-08-02T14:16:02.853Z"
   },
   {
    "duration": 263,
    "start_time": "2024-08-02T14:16:03.080Z"
   },
   {
    "duration": 4,
    "start_time": "2024-08-02T14:16:03.345Z"
   },
   {
    "duration": 7574,
    "start_time": "2024-08-02T14:16:03.350Z"
   },
   {
    "duration": 67,
    "start_time": "2024-08-02T14:16:10.926Z"
   },
   {
    "duration": 9948,
    "start_time": "2024-08-02T14:16:10.995Z"
   },
   {
    "duration": 2457,
    "start_time": "2024-08-02T14:24:39.439Z"
   },
   {
    "duration": 182,
    "start_time": "2024-08-02T14:25:03.225Z"
   },
   {
    "duration": 4,
    "start_time": "2024-08-02T14:25:14.886Z"
   },
   {
    "duration": 3,
    "start_time": "2024-08-02T14:30:34.790Z"
   },
   {
    "duration": 115,
    "start_time": "2024-08-02T14:31:41.920Z"
   },
   {
    "duration": 5,
    "start_time": "2024-08-02T14:32:19.473Z"
   },
   {
    "duration": 102,
    "start_time": "2024-08-02T14:32:40.743Z"
   },
   {
    "duration": 6,
    "start_time": "2024-08-02T14:32:41.625Z"
   },
   {
    "duration": 1150,
    "start_time": "2024-08-02T14:33:29.154Z"
   },
   {
    "duration": 7972,
    "start_time": "2024-08-02T14:34:07.922Z"
   },
   {
    "duration": 9,
    "start_time": "2024-08-02T14:34:15.897Z"
   },
   {
    "duration": 21,
    "start_time": "2024-08-02T14:34:15.907Z"
   },
   {
    "duration": 960,
    "start_time": "2024-08-02T14:34:15.930Z"
   },
   {
    "duration": 225,
    "start_time": "2024-08-02T14:34:16.891Z"
   },
   {
    "duration": 150,
    "start_time": "2024-08-02T14:34:17.117Z"
   },
   {
    "duration": 3,
    "start_time": "2024-08-02T14:34:17.269Z"
   },
   {
    "duration": 6056,
    "start_time": "2024-08-02T14:34:17.274Z"
   },
   {
    "duration": 55,
    "start_time": "2024-08-02T14:34:23.331Z"
   },
   {
    "duration": 129,
    "start_time": "2024-08-02T14:34:23.388Z"
   },
   {
    "duration": 1119,
    "start_time": "2024-08-02T14:34:23.518Z"
   },
   {
    "duration": 91,
    "start_time": "2024-08-02T14:36:06.183Z"
   },
   {
    "duration": 7595,
    "start_time": "2024-08-02T14:36:17.640Z"
   },
   {
    "duration": 3420,
    "start_time": "2024-08-02T14:36:25.238Z"
   },
   {
    "duration": 2,
    "start_time": "2024-08-02T14:36:28.660Z"
   },
   {
    "duration": 3948,
    "start_time": "2024-08-02T14:36:28.664Z"
   },
   {
    "duration": 229,
    "start_time": "2024-08-02T14:36:32.613Z"
   },
   {
    "duration": 253,
    "start_time": "2024-08-02T14:36:32.843Z"
   },
   {
    "duration": 3,
    "start_time": "2024-08-02T14:36:33.098Z"
   },
   {
    "duration": 7321,
    "start_time": "2024-08-02T14:36:33.102Z"
   },
   {
    "duration": 69,
    "start_time": "2024-08-02T14:36:40.426Z"
   },
   {
    "duration": 100,
    "start_time": "2024-08-02T14:36:40.498Z"
   },
   {
    "duration": 11599,
    "start_time": "2024-08-02T14:36:40.600Z"
   },
   {
    "duration": 3,
    "start_time": "2024-08-02T14:37:15.475Z"
   },
   {
    "duration": 7,
    "start_time": "2024-08-02T14:40:22.919Z"
   },
   {
    "duration": 197,
    "start_time": "2024-08-02T14:52:15.663Z"
   },
   {
    "duration": 73,
    "start_time": "2024-08-02T14:52:34.746Z"
   },
   {
    "duration": 32,
    "start_time": "2024-08-02T14:56:15.955Z"
   },
   {
    "duration": 0,
    "start_time": "2024-08-02T15:07:03.799Z"
   },
   {
    "duration": 128425,
    "start_time": "2024-08-02T15:07:07.485Z"
   },
   {
    "duration": 13,
    "start_time": "2024-08-02T15:09:27.325Z"
   },
   {
    "duration": 8154,
    "start_time": "2024-08-02T15:12:07.127Z"
   },
   {
    "duration": 2832,
    "start_time": "2024-08-02T15:12:15.284Z"
   },
   {
    "duration": 3,
    "start_time": "2024-08-02T15:12:18.118Z"
   },
   {
    "duration": 994,
    "start_time": "2024-08-02T15:12:18.123Z"
   },
   {
    "duration": 240,
    "start_time": "2024-08-02T15:12:19.119Z"
   },
   {
    "duration": 262,
    "start_time": "2024-08-02T15:12:19.360Z"
   },
   {
    "duration": 4,
    "start_time": "2024-08-02T15:12:19.623Z"
   },
   {
    "duration": 7570,
    "start_time": "2024-08-02T15:12:19.628Z"
   },
   {
    "duration": 53,
    "start_time": "2024-08-02T15:12:27.199Z"
   },
   {
    "duration": 106,
    "start_time": "2024-08-02T15:12:27.254Z"
   },
   {
    "duration": 12458,
    "start_time": "2024-08-02T15:12:27.362Z"
   },
   {
    "duration": 0,
    "start_time": "2024-08-02T15:14:12.491Z"
   },
   {
    "duration": 0,
    "start_time": "2024-08-02T15:14:12.492Z"
   },
   {
    "duration": 73,
    "start_time": "2024-08-02T15:14:15.797Z"
   },
   {
    "duration": 18924,
    "start_time": "2024-08-02T15:14:20.762Z"
   },
   {
    "duration": 187998,
    "start_time": "2024-08-02T15:15:04.393Z"
   },
   {
    "duration": 161,
    "start_time": "2024-08-02T15:19:00.546Z"
   },
   {
    "duration": 146,
    "start_time": "2024-08-02T15:19:13.753Z"
   },
   {
    "duration": 158,
    "start_time": "2024-08-02T15:19:32.017Z"
   },
   {
    "duration": 150,
    "start_time": "2024-08-02T15:19:45.516Z"
   },
   {
    "duration": 103995,
    "start_time": "2024-08-02T15:20:13.193Z"
   },
   {
    "duration": 17576,
    "start_time": "2024-08-02T15:22:44.705Z"
   },
   {
    "duration": 17311,
    "start_time": "2024-08-02T15:23:07.388Z"
   },
   {
    "duration": 99353,
    "start_time": "2024-08-02T15:23:36.165Z"
   },
   {
    "duration": 19,
    "start_time": "2024-08-02T15:25:24.004Z"
   },
   {
    "duration": 68306,
    "start_time": "2024-08-02T15:26:06.225Z"
   },
   {
    "duration": 97774,
    "start_time": "2024-08-02T15:27:31.283Z"
   },
   {
    "duration": 14,
    "start_time": "2024-08-02T15:30:13.323Z"
   },
   {
    "duration": 248566,
    "start_time": "2024-08-02T15:30:23.827Z"
   },
   {
    "duration": 99107,
    "start_time": "2024-08-02T15:34:32.395Z"
   },
   {
    "duration": 11,
    "start_time": "2024-08-02T15:39:34.260Z"
   },
   {
    "duration": 19,
    "start_time": "2024-08-02T15:40:55.999Z"
   },
   {
    "duration": 250048,
    "start_time": "2024-08-02T15:41:27.479Z"
   },
   {
    "duration": 13426,
    "start_time": "2024-08-06T13:01:43.753Z"
   },
   {
    "duration": 3095,
    "start_time": "2024-08-06T13:01:57.182Z"
   },
   {
    "duration": 3,
    "start_time": "2024-08-06T13:02:00.279Z"
   },
   {
    "duration": 1333,
    "start_time": "2024-08-06T13:02:00.284Z"
   },
   {
    "duration": 215,
    "start_time": "2024-08-06T13:02:01.619Z"
   },
   {
    "duration": 282,
    "start_time": "2024-08-06T13:02:01.836Z"
   },
   {
    "duration": 3,
    "start_time": "2024-08-06T13:02:02.120Z"
   },
   {
    "duration": 7118,
    "start_time": "2024-08-06T13:02:02.125Z"
   },
   {
    "duration": 62,
    "start_time": "2024-08-06T13:02:09.244Z"
   },
   {
    "duration": 100,
    "start_time": "2024-08-06T13:02:09.308Z"
   },
   {
    "duration": 11511,
    "start_time": "2024-08-06T13:02:09.409Z"
   },
   {
    "duration": 100118,
    "start_time": "2024-08-06T13:02:20.921Z"
   },
   {
    "duration": 241268,
    "start_time": "2024-08-06T13:04:01.041Z"
   },
   {
    "duration": 188,
    "start_time": "2024-08-06T13:08:02.311Z"
   },
   {
    "duration": 23,
    "start_time": "2024-08-06T13:09:38.247Z"
   },
   {
    "duration": 21,
    "start_time": "2024-08-06T13:09:56.851Z"
   },
   {
    "duration": 61,
    "start_time": "2024-08-06T13:12:01.765Z"
   },
   {
    "duration": 7603,
    "start_time": "2024-08-06T13:24:50.305Z"
   },
   {
    "duration": 2741,
    "start_time": "2024-08-06T13:24:57.911Z"
   },
   {
    "duration": 3,
    "start_time": "2024-08-06T13:25:00.654Z"
   },
   {
    "duration": 972,
    "start_time": "2024-08-06T13:25:00.660Z"
   },
   {
    "duration": 233,
    "start_time": "2024-08-06T13:25:01.634Z"
   },
   {
    "duration": 320,
    "start_time": "2024-08-06T13:25:01.869Z"
   },
   {
    "duration": 4,
    "start_time": "2024-08-06T13:25:02.192Z"
   },
   {
    "duration": 7498,
    "start_time": "2024-08-06T13:25:02.198Z"
   },
   {
    "duration": 94,
    "start_time": "2024-08-06T13:25:09.698Z"
   },
   {
    "duration": 189,
    "start_time": "2024-08-06T13:25:09.796Z"
   },
   {
    "duration": 13973,
    "start_time": "2024-08-06T13:25:09.988Z"
   },
   {
    "duration": 37385,
    "start_time": "2024-08-06T13:25:23.963Z"
   },
   {
    "duration": 0,
    "start_time": "2024-08-06T13:28:22.846Z"
   },
   {
    "duration": 0,
    "start_time": "2024-08-06T13:28:22.847Z"
   },
   {
    "duration": 203711,
    "start_time": "2024-08-06T13:28:26.954Z"
   },
   {
    "duration": 215581,
    "start_time": "2024-08-06T13:32:18.857Z"
   },
   {
    "duration": 593213,
    "start_time": "2024-08-06T13:43:11.655Z"
   },
   {
    "duration": 220152,
    "start_time": "2024-08-06T13:53:07.257Z"
   },
   {
    "duration": 9,
    "start_time": "2024-08-06T14:09:03.207Z"
   },
   {
    "duration": 7824,
    "start_time": "2024-08-06T14:09:59.037Z"
   },
   {
    "duration": 8,
    "start_time": "2024-08-06T14:10:06.864Z"
   },
   {
    "duration": 22,
    "start_time": "2024-08-06T14:10:06.873Z"
   },
   {
    "duration": 883,
    "start_time": "2024-08-06T14:10:06.897Z"
   },
   {
    "duration": 215,
    "start_time": "2024-08-06T14:10:07.782Z"
   },
   {
    "duration": 142,
    "start_time": "2024-08-06T14:10:07.999Z"
   },
   {
    "duration": 4,
    "start_time": "2024-08-06T14:10:08.142Z"
   },
   {
    "duration": 5846,
    "start_time": "2024-08-06T14:10:08.147Z"
   },
   {
    "duration": 46,
    "start_time": "2024-08-06T14:10:13.994Z"
   },
   {
    "duration": 139,
    "start_time": "2024-08-06T14:10:14.042Z"
   },
   {
    "duration": 11202,
    "start_time": "2024-08-06T14:10:14.183Z"
   },
   {
    "duration": 16727,
    "start_time": "2024-08-06T14:10:25.386Z"
   },
   {
    "duration": 237103,
    "start_time": "2024-08-06T14:10:42.115Z"
   },
   {
    "duration": 385993,
    "start_time": "2024-08-06T14:14:39.220Z"
   },
   {
    "duration": 7,
    "start_time": "2024-08-06T14:21:05.214Z"
   },
   {
    "duration": 20,
    "start_time": "2024-08-06T14:21:21.212Z"
   },
   {
    "duration": 24,
    "start_time": "2024-08-06T14:21:23.951Z"
   },
   {
    "duration": 7,
    "start_time": "2024-08-06T14:21:55.116Z"
   },
   {
    "duration": 7581,
    "start_time": "2024-08-06T14:22:08.964Z"
   },
   {
    "duration": 8,
    "start_time": "2024-08-06T14:22:16.547Z"
   },
   {
    "duration": 16,
    "start_time": "2024-08-06T14:22:16.557Z"
   },
   {
    "duration": 897,
    "start_time": "2024-08-06T14:22:16.574Z"
   },
   {
    "duration": 207,
    "start_time": "2024-08-06T14:22:17.473Z"
   },
   {
    "duration": 134,
    "start_time": "2024-08-06T14:22:17.681Z"
   },
   {
    "duration": 3,
    "start_time": "2024-08-06T14:22:17.817Z"
   },
   {
    "duration": 5781,
    "start_time": "2024-08-06T14:22:17.822Z"
   },
   {
    "duration": 43,
    "start_time": "2024-08-06T14:22:23.605Z"
   },
   {
    "duration": 83,
    "start_time": "2024-08-06T14:22:23.662Z"
   },
   {
    "duration": 11115,
    "start_time": "2024-08-06T14:22:23.746Z"
   },
   {
    "duration": 3,
    "start_time": "2024-08-06T14:22:34.863Z"
   },
   {
    "duration": 11067,
    "start_time": "2024-08-06T14:24:28.094Z"
   },
   {
    "duration": 7863,
    "start_time": "2024-08-06T14:26:27.211Z"
   },
   {
    "duration": 14,
    "start_time": "2024-08-06T14:26:35.078Z"
   },
   {
    "duration": 33,
    "start_time": "2024-08-06T14:26:35.095Z"
   },
   {
    "duration": 1006,
    "start_time": "2024-08-06T14:26:35.132Z"
   },
   {
    "duration": 221,
    "start_time": "2024-08-06T14:26:36.140Z"
   },
   {
    "duration": 145,
    "start_time": "2024-08-06T14:26:36.363Z"
   },
   {
    "duration": 3,
    "start_time": "2024-08-06T14:26:36.510Z"
   },
   {
    "duration": 6001,
    "start_time": "2024-08-06T14:26:36.515Z"
   },
   {
    "duration": 60,
    "start_time": "2024-08-06T14:26:42.518Z"
   },
   {
    "duration": 158,
    "start_time": "2024-08-06T14:26:42.582Z"
   },
   {
    "duration": 12260,
    "start_time": "2024-08-06T14:26:42.743Z"
   },
   {
    "duration": 12308,
    "start_time": "2024-08-06T14:26:55.006Z"
   },
   {
    "duration": 3,
    "start_time": "2024-08-06T14:27:07.316Z"
   },
   {
    "duration": 19695,
    "start_time": "2024-08-06T14:27:07.322Z"
   },
   {
    "duration": 19075,
    "start_time": "2024-08-06T14:27:27.019Z"
   },
   {
    "duration": 5,
    "start_time": "2024-08-06T14:27:46.096Z"
   },
   {
    "duration": 222030,
    "start_time": "2024-08-06T14:27:46.102Z"
   },
   {
    "duration": 151095,
    "start_time": "2024-08-06T14:31:28.134Z"
   },
   {
    "duration": 0,
    "start_time": "2024-08-06T14:33:59.231Z"
   },
   {
    "duration": 0,
    "start_time": "2024-08-06T14:33:59.232Z"
   },
   {
    "duration": 0,
    "start_time": "2024-08-06T14:33:59.234Z"
   },
   {
    "duration": 0,
    "start_time": "2024-08-06T14:33:59.235Z"
   },
   {
    "duration": 6257,
    "start_time": "2024-08-06T14:34:02.728Z"
   },
   {
    "duration": 4,
    "start_time": "2024-08-06T14:37:01.160Z"
   },
   {
    "duration": 18395,
    "start_time": "2024-08-06T14:37:01.521Z"
   },
   {
    "duration": 4,
    "start_time": "2024-08-06T14:37:36.965Z"
   },
   {
    "duration": 17198,
    "start_time": "2024-08-06T14:37:36.970Z"
   },
   {
    "duration": 17094,
    "start_time": "2024-08-06T14:37:54.171Z"
   },
   {
    "duration": 4,
    "start_time": "2024-08-06T14:38:11.266Z"
   },
   {
    "duration": 217627,
    "start_time": "2024-08-06T14:38:11.271Z"
   },
   {
    "duration": 238380,
    "start_time": "2024-08-06T14:41:48.900Z"
   },
   {
    "duration": 378070,
    "start_time": "2024-08-06T14:45:47.282Z"
   },
   {
    "duration": 377767,
    "start_time": "2024-08-06T14:52:05.354Z"
   },
   {
    "duration": 5,
    "start_time": "2024-08-06T14:58:23.123Z"
   },
   {
    "duration": 21,
    "start_time": "2024-08-06T15:02:37.659Z"
   },
   {
    "duration": 20,
    "start_time": "2024-08-06T15:03:02.550Z"
   },
   {
    "duration": 20,
    "start_time": "2024-08-06T15:03:54.034Z"
   },
   {
    "duration": 3,
    "start_time": "2024-08-06T15:04:10.524Z"
   },
   {
    "duration": 46441,
    "start_time": "2024-08-06T15:04:11.110Z"
   },
   {
    "duration": 47206,
    "start_time": "2024-08-06T15:05:20.683Z"
   },
   {
    "duration": 14,
    "start_time": "2024-08-06T15:06:07.892Z"
   },
   {
    "duration": 1,
    "start_time": "2024-08-06T15:06:07.908Z"
   },
   {
    "duration": 14,
    "start_time": "2024-08-06T15:06:20.163Z"
   },
   {
    "duration": 6,
    "start_time": "2024-08-06T15:06:33.650Z"
   },
   {
    "duration": 19,
    "start_time": "2024-08-06T15:06:34.052Z"
   },
   {
    "duration": 27,
    "start_time": "2024-08-06T15:07:37.674Z"
   },
   {
    "duration": 7665,
    "start_time": "2024-08-06T15:08:37.542Z"
   },
   {
    "duration": 13,
    "start_time": "2024-08-06T15:08:45.211Z"
   },
   {
    "duration": 40,
    "start_time": "2024-08-06T15:08:45.226Z"
   },
   {
    "duration": 964,
    "start_time": "2024-08-06T15:08:45.270Z"
   },
   {
    "duration": 224,
    "start_time": "2024-08-06T15:08:46.237Z"
   },
   {
    "duration": 146,
    "start_time": "2024-08-06T15:08:46.463Z"
   },
   {
    "duration": 4,
    "start_time": "2024-08-06T15:08:46.610Z"
   },
   {
    "duration": 6036,
    "start_time": "2024-08-06T15:08:46.616Z"
   },
   {
    "duration": 53,
    "start_time": "2024-08-06T15:08:52.660Z"
   },
   {
    "duration": 140,
    "start_time": "2024-08-06T15:08:52.717Z"
   },
   {
    "duration": 11683,
    "start_time": "2024-08-06T15:08:52.861Z"
   },
   {
    "duration": 3,
    "start_time": "2024-08-06T15:09:04.546Z"
   },
   {
    "duration": 47416,
    "start_time": "2024-08-06T15:09:04.551Z"
   },
   {
    "duration": 5,
    "start_time": "2024-08-06T15:09:51.970Z"
   },
   {
    "duration": 244257,
    "start_time": "2024-08-06T15:09:51.978Z"
   },
   {
    "duration": 7703,
    "start_time": "2024-08-06T15:14:38.500Z"
   },
   {
    "duration": 2958,
    "start_time": "2024-08-06T15:14:46.205Z"
   },
   {
    "duration": 4,
    "start_time": "2024-08-06T15:14:49.166Z"
   },
   {
    "duration": 1043,
    "start_time": "2024-08-06T15:14:49.173Z"
   },
   {
    "duration": 247,
    "start_time": "2024-08-06T15:14:50.218Z"
   },
   {
    "duration": 248,
    "start_time": "2024-08-06T15:14:50.466Z"
   },
   {
    "duration": 3,
    "start_time": "2024-08-06T15:14:50.716Z"
   },
   {
    "duration": 7776,
    "start_time": "2024-08-06T15:14:50.721Z"
   },
   {
    "duration": 62,
    "start_time": "2024-08-06T15:14:58.499Z"
   },
   {
    "duration": 69,
    "start_time": "2024-08-06T15:14:58.565Z"
   },
   {
    "duration": 12002,
    "start_time": "2024-08-06T15:14:58.636Z"
   },
   {
    "duration": 3,
    "start_time": "2024-08-06T15:15:10.640Z"
   },
   {
    "duration": 140011,
    "start_time": "2024-08-06T15:15:10.645Z"
   },
   {
    "duration": 4,
    "start_time": "2024-08-06T15:17:30.661Z"
   },
   {
    "duration": 453873,
    "start_time": "2024-08-06T15:17:30.666Z"
   },
   {
    "duration": 39329,
    "start_time": "2024-08-06T15:25:04.541Z"
   },
   {
    "duration": 0,
    "start_time": "2024-08-06T15:25:43.872Z"
   },
   {
    "duration": 0,
    "start_time": "2024-08-06T15:25:43.873Z"
   },
   {
    "duration": 0,
    "start_time": "2024-08-06T15:25:43.874Z"
   },
   {
    "duration": 352909,
    "start_time": "2024-08-06T15:26:03.543Z"
   },
   {
    "duration": 9,
    "start_time": "2024-08-06T15:32:01.313Z"
   },
   {
    "duration": 17,
    "start_time": "2024-08-06T15:32:02.555Z"
   },
   {
    "duration": 20,
    "start_time": "2024-08-06T15:32:16.815Z"
   },
   {
    "duration": 14249,
    "start_time": "2024-08-07T13:46:55.590Z"
   },
   {
    "duration": 3190,
    "start_time": "2024-08-07T13:47:09.841Z"
   },
   {
    "duration": 3,
    "start_time": "2024-08-07T13:47:13.033Z"
   },
   {
    "duration": 1303,
    "start_time": "2024-08-07T13:47:13.038Z"
   },
   {
    "duration": 243,
    "start_time": "2024-08-07T13:47:14.343Z"
   },
   {
    "duration": 168,
    "start_time": "2024-08-07T13:47:14.588Z"
   },
   {
    "duration": 3,
    "start_time": "2024-08-07T13:47:14.758Z"
   },
   {
    "duration": 7574,
    "start_time": "2024-08-07T13:47:14.763Z"
   },
   {
    "duration": 169,
    "start_time": "2024-08-07T13:48:49.669Z"
   },
   {
    "duration": 7,
    "start_time": "2024-08-07T13:49:42.588Z"
   },
   {
    "duration": 20,
    "start_time": "2024-08-07T13:49:49.276Z"
   },
   {
    "duration": 8115,
    "start_time": "2024-08-07T13:50:44.705Z"
   },
   {
    "duration": 9,
    "start_time": "2024-08-07T13:50:52.823Z"
   },
   {
    "duration": 16,
    "start_time": "2024-08-07T13:50:52.834Z"
   },
   {
    "duration": 1041,
    "start_time": "2024-08-07T13:50:52.853Z"
   },
   {
    "duration": 225,
    "start_time": "2024-08-07T13:50:53.896Z"
   },
   {
    "duration": 151,
    "start_time": "2024-08-07T13:50:54.123Z"
   },
   {
    "duration": 3,
    "start_time": "2024-08-07T13:50:54.276Z"
   },
   {
    "duration": 6367,
    "start_time": "2024-08-07T13:50:54.281Z"
   },
   {
    "duration": 24,
    "start_time": "2024-08-07T13:51:00.650Z"
   },
   {
    "duration": 6,
    "start_time": "2024-08-07T13:54:43.329Z"
   },
   {
    "duration": 15,
    "start_time": "2024-08-07T13:54:53.125Z"
   },
   {
    "duration": 19600,
    "start_time": "2024-08-07T13:55:25.312Z"
   },
   {
    "duration": 49,
    "start_time": "2024-08-07T13:57:46.886Z"
   },
   {
    "duration": 52,
    "start_time": "2024-08-07T14:04:49.500Z"
   },
   {
    "duration": 292,
    "start_time": "2024-08-07T14:06:05.970Z"
   },
   {
    "duration": 12,
    "start_time": "2024-08-07T14:09:42.839Z"
   },
   {
    "duration": 5,
    "start_time": "2024-08-07T14:15:40.687Z"
   },
   {
    "duration": 30063,
    "start_time": "2024-08-07T14:15:44.434Z"
   },
   {
    "duration": 6,
    "start_time": "2024-08-07T14:16:55.331Z"
   },
   {
    "duration": 6491,
    "start_time": "2024-08-07T14:16:56.669Z"
   },
   {
    "duration": 5,
    "start_time": "2024-08-07T14:18:28.274Z"
   },
   {
    "duration": 327632,
    "start_time": "2024-08-07T14:18:31.810Z"
   },
   {
    "duration": 35,
    "start_time": "2024-08-07T14:24:19.134Z"
   },
   {
    "duration": 371000,
    "start_time": "2024-08-07T14:24:22.702Z"
   },
   {
    "duration": 8040,
    "start_time": "2024-08-07T14:30:56.989Z"
   },
   {
    "duration": 2894,
    "start_time": "2024-08-07T14:31:05.032Z"
   },
   {
    "duration": 3,
    "start_time": "2024-08-07T14:31:07.929Z"
   },
   {
    "duration": 1060,
    "start_time": "2024-08-07T14:31:07.935Z"
   },
   {
    "duration": 237,
    "start_time": "2024-08-07T14:31:08.996Z"
   },
   {
    "duration": 266,
    "start_time": "2024-08-07T14:31:09.235Z"
   },
   {
    "duration": 4,
    "start_time": "2024-08-07T14:31:09.503Z"
   },
   {
    "duration": 600,
    "start_time": "2024-08-07T14:31:09.508Z"
   },
   {
    "duration": 0,
    "start_time": "2024-08-07T14:31:10.109Z"
   },
   {
    "duration": 0,
    "start_time": "2024-08-07T14:31:10.111Z"
   },
   {
    "duration": 0,
    "start_time": "2024-08-07T14:31:10.112Z"
   },
   {
    "duration": 0,
    "start_time": "2024-08-07T14:31:10.113Z"
   },
   {
    "duration": 0,
    "start_time": "2024-08-07T14:31:10.114Z"
   },
   {
    "duration": 0,
    "start_time": "2024-08-07T14:31:10.115Z"
   },
   {
    "duration": 0,
    "start_time": "2024-08-07T14:31:10.116Z"
   },
   {
    "duration": 0,
    "start_time": "2024-08-07T14:31:10.117Z"
   },
   {
    "duration": 0,
    "start_time": "2024-08-07T14:31:10.118Z"
   },
   {
    "duration": 0,
    "start_time": "2024-08-07T14:31:10.120Z"
   },
   {
    "duration": 0,
    "start_time": "2024-08-07T14:31:10.120Z"
   },
   {
    "duration": 0,
    "start_time": "2024-08-07T14:31:10.121Z"
   },
   {
    "duration": 6,
    "start_time": "2024-08-07T14:31:33.051Z"
   },
   {
    "duration": 10,
    "start_time": "2024-08-07T14:32:04.462Z"
   },
   {
    "duration": 8013,
    "start_time": "2024-08-07T14:33:10.039Z"
   },
   {
    "duration": 7,
    "start_time": "2024-08-07T14:33:18.055Z"
   },
   {
    "duration": 34,
    "start_time": "2024-08-07T14:33:18.064Z"
   },
   {
    "duration": 1026,
    "start_time": "2024-08-07T14:33:18.100Z"
   },
   {
    "duration": 236,
    "start_time": "2024-08-07T14:33:19.127Z"
   },
   {
    "duration": 145,
    "start_time": "2024-08-07T14:33:19.364Z"
   },
   {
    "duration": 5,
    "start_time": "2024-08-07T14:33:19.510Z"
   },
   {
    "duration": 0,
    "start_time": "2024-08-07T14:40:52.090Z"
   },
   {
    "duration": 0,
    "start_time": "2024-08-07T14:40:52.091Z"
   },
   {
    "duration": 4,
    "start_time": "2024-08-07T14:40:54.272Z"
   },
   {
    "duration": 6378,
    "start_time": "2024-08-07T14:40:54.946Z"
   },
   {
    "duration": 21431,
    "start_time": "2024-08-07T14:42:26.463Z"
   },
   {
    "duration": 21253,
    "start_time": "2024-08-07T14:43:04.458Z"
   },
   {
    "duration": 22404,
    "start_time": "2024-08-07T14:45:36.763Z"
   },
   {
    "duration": 18,
    "start_time": "2024-08-07T14:45:59.168Z"
   },
   {
    "duration": 9747,
    "start_time": "2024-08-07T14:48:10.938Z"
   },
   {
    "duration": 9600,
    "start_time": "2024-08-07T14:49:29.063Z"
   },
   {
    "duration": 28,
    "start_time": "2024-08-07T14:51:47.442Z"
   },
   {
    "duration": 28636,
    "start_time": "2024-08-07T14:52:12.729Z"
   },
   {
    "duration": 21,
    "start_time": "2024-08-07T14:53:36.927Z"
   },
   {
    "duration": 8348,
    "start_time": "2024-08-07T14:53:56.707Z"
   },
   {
    "duration": 9,
    "start_time": "2024-08-07T14:54:05.058Z"
   },
   {
    "duration": 51,
    "start_time": "2024-08-07T14:54:05.068Z"
   },
   {
    "duration": 1005,
    "start_time": "2024-08-07T14:54:05.121Z"
   },
   {
    "duration": 219,
    "start_time": "2024-08-07T14:54:06.128Z"
   },
   {
    "duration": 151,
    "start_time": "2024-08-07T14:54:06.348Z"
   },
   {
    "duration": 5,
    "start_time": "2024-08-07T14:54:06.501Z"
   },
   {
    "duration": 38,
    "start_time": "2024-08-07T14:54:06.507Z"
   },
   {
    "duration": 17,
    "start_time": "2024-08-07T14:54:36.018Z"
   },
   {
    "duration": 9205,
    "start_time": "2024-08-07T14:55:33.518Z"
   },
   {
    "duration": 7,
    "start_time": "2024-08-07T14:55:57.670Z"
   },
   {
    "duration": 5,
    "start_time": "2024-08-07T14:57:56.269Z"
   },
   {
    "duration": 292,
    "start_time": "2024-08-07T14:57:57.231Z"
   },
   {
    "duration": 228,
    "start_time": "2024-08-07T15:00:09.709Z"
   },
   {
    "duration": 8,
    "start_time": "2024-08-07T15:00:10.047Z"
   },
   {
    "duration": 4,
    "start_time": "2024-08-07T15:00:17.389Z"
   },
   {
    "duration": 1171,
    "start_time": "2024-08-07T15:00:18.368Z"
   },
   {
    "duration": 8866,
    "start_time": "2024-08-07T15:00:46.740Z"
   },
   {
    "duration": 8,
    "start_time": "2024-08-07T15:00:55.609Z"
   },
   {
    "duration": 41,
    "start_time": "2024-08-07T15:00:55.619Z"
   },
   {
    "duration": 1038,
    "start_time": "2024-08-07T15:00:55.662Z"
   },
   {
    "duration": 232,
    "start_time": "2024-08-07T15:00:56.701Z"
   },
   {
    "duration": 199,
    "start_time": "2024-08-07T15:00:56.936Z"
   },
   {
    "duration": 4,
    "start_time": "2024-08-07T15:00:57.146Z"
   },
   {
    "duration": 6459,
    "start_time": "2024-08-07T15:00:57.152Z"
   },
   {
    "duration": 5,
    "start_time": "2024-08-07T15:01:03.613Z"
   },
   {
    "duration": 77,
    "start_time": "2024-08-07T15:01:03.620Z"
   },
   {
    "duration": 66,
    "start_time": "2024-08-07T15:02:13.866Z"
   },
   {
    "duration": 7249,
    "start_time": "2024-08-07T15:02:28.147Z"
   },
   {
    "duration": 54,
    "start_time": "2024-08-07T15:04:14.054Z"
   },
   {
    "duration": 1150,
    "start_time": "2024-08-07T15:21:36.683Z"
   },
   {
    "duration": 8175,
    "start_time": "2024-08-07T15:21:48.415Z"
   },
   {
    "duration": 12,
    "start_time": "2024-08-07T15:21:56.593Z"
   },
   {
    "duration": 39,
    "start_time": "2024-08-07T15:21:56.607Z"
   },
   {
    "duration": 949,
    "start_time": "2024-08-07T15:21:56.648Z"
   },
   {
    "duration": 228,
    "start_time": "2024-08-07T15:21:57.599Z"
   },
   {
    "duration": 156,
    "start_time": "2024-08-07T15:21:57.829Z"
   },
   {
    "duration": 4,
    "start_time": "2024-08-07T15:21:57.986Z"
   },
   {
    "duration": 179,
    "start_time": "2024-08-07T15:21:57.992Z"
   },
   {
    "duration": 111,
    "start_time": "2024-08-07T15:22:04.724Z"
   },
   {
    "duration": 110,
    "start_time": "2024-08-07T15:22:20.221Z"
   },
   {
    "duration": 22,
    "start_time": "2024-08-07T15:24:00.371Z"
   },
   {
    "duration": 5,
    "start_time": "2024-08-07T15:25:05.607Z"
   },
   {
    "duration": 989305,
    "start_time": "2024-08-07T15:25:07.144Z"
   },
   {
    "duration": 0,
    "start_time": "2024-08-07T15:41:36.451Z"
   },
   {
    "duration": 8921,
    "start_time": "2024-08-07T15:41:48.086Z"
   },
   {
    "duration": 11,
    "start_time": "2024-08-07T15:41:57.010Z"
   },
   {
    "duration": 69,
    "start_time": "2024-08-07T15:41:57.023Z"
   },
   {
    "duration": 1023,
    "start_time": "2024-08-07T15:41:57.095Z"
   },
   {
    "duration": 228,
    "start_time": "2024-08-07T15:41:58.119Z"
   },
   {
    "duration": 155,
    "start_time": "2024-08-07T15:41:58.348Z"
   },
   {
    "duration": 5,
    "start_time": "2024-08-07T15:41:58.504Z"
   },
   {
    "duration": 199548,
    "start_time": "2024-08-07T15:41:58.510Z"
   },
   {
    "duration": 11789,
    "start_time": "2024-08-07T16:22:34.144Z"
   },
   {
    "duration": 31078,
    "start_time": "2024-08-07T16:22:45.935Z"
   },
   {
    "duration": 4,
    "start_time": "2024-08-07T16:23:17.015Z"
   },
   {
    "duration": 1320,
    "start_time": "2024-08-07T16:23:17.021Z"
   },
   {
    "duration": 231,
    "start_time": "2024-08-07T16:23:18.343Z"
   },
   {
    "duration": 252,
    "start_time": "2024-08-07T16:23:18.575Z"
   },
   {
    "duration": 5,
    "start_time": "2024-08-07T16:23:18.829Z"
   },
   {
    "duration": 1489,
    "start_time": "2024-08-07T16:23:18.836Z"
   },
   {
    "duration": 19690,
    "start_time": "2024-08-07T16:39:25.411Z"
   },
   {
    "duration": 18794,
    "start_time": "2024-08-07T16:39:59.036Z"
   },
   {
    "duration": 2463,
    "start_time": "2024-08-07T16:40:34.661Z"
   },
   {
    "duration": 238,
    "start_time": "2024-08-07T16:45:29.922Z"
   },
   {
    "duration": 19027,
    "start_time": "2024-08-07T16:46:34.566Z"
   },
   {
    "duration": 9,
    "start_time": "2024-08-07T16:46:53.595Z"
   },
   {
    "duration": 8,
    "start_time": "2024-08-07T16:46:53.606Z"
   },
   {
    "duration": 995,
    "start_time": "2024-08-07T16:46:53.616Z"
   },
   {
    "duration": 235,
    "start_time": "2024-08-07T16:46:54.612Z"
   },
   {
    "duration": 152,
    "start_time": "2024-08-07T16:46:54.849Z"
   },
   {
    "duration": 4,
    "start_time": "2024-08-07T16:46:55.002Z"
   },
   {
    "duration": 75,
    "start_time": "2024-08-07T16:46:55.008Z"
   },
   {
    "duration": 956,
    "start_time": "2024-08-07T16:47:38.300Z"
   },
   {
    "duration": 705,
    "start_time": "2024-08-07T16:47:43.647Z"
   },
   {
    "duration": 463,
    "start_time": "2024-08-07T16:48:05.587Z"
   },
   {
    "duration": 215545,
    "start_time": "2024-08-07T16:48:06.399Z"
   },
   {
    "duration": 152880,
    "start_time": "2024-08-07T16:53:55.093Z"
   },
   {
    "duration": 4967,
    "start_time": "2024-08-07T16:56:27.975Z"
   },
   {
    "duration": 6,
    "start_time": "2024-08-07T16:56:32.944Z"
   },
   {
    "duration": 988,
    "start_time": "2024-08-07T16:56:32.951Z"
   },
   {
    "duration": 227,
    "start_time": "2024-08-07T16:56:33.946Z"
   },
   {
    "duration": 157,
    "start_time": "2024-08-07T16:56:34.175Z"
   },
   {
    "duration": 4,
    "start_time": "2024-08-07T16:56:34.333Z"
   },
   {
    "duration": 565,
    "start_time": "2024-08-07T16:56:34.346Z"
   },
   {
    "duration": 353,
    "start_time": "2024-08-07T16:56:34.913Z"
   },
   {
    "duration": 0,
    "start_time": "2024-08-07T16:56:35.269Z"
   },
   {
    "duration": 0,
    "start_time": "2024-08-07T16:56:35.270Z"
   },
   {
    "duration": 1,
    "start_time": "2024-08-07T16:56:35.271Z"
   },
   {
    "duration": 0,
    "start_time": "2024-08-07T16:56:35.273Z"
   },
   {
    "duration": 0,
    "start_time": "2024-08-07T16:56:35.274Z"
   },
   {
    "duration": 0,
    "start_time": "2024-08-07T16:56:35.275Z"
   },
   {
    "duration": 0,
    "start_time": "2024-08-07T16:56:35.276Z"
   },
   {
    "duration": 0,
    "start_time": "2024-08-07T16:56:35.277Z"
   },
   {
    "duration": 0,
    "start_time": "2024-08-07T16:56:35.279Z"
   },
   {
    "duration": 0,
    "start_time": "2024-08-07T16:56:35.280Z"
   },
   {
    "duration": 9,
    "start_time": "2024-08-07T17:00:35.268Z"
   },
   {
    "duration": 21,
    "start_time": "2024-08-07T17:00:45.423Z"
   },
   {
    "duration": 2675333,
    "start_time": "2024-08-07T17:02:28.285Z"
   },
   {
    "duration": 11096,
    "start_time": "2024-08-07T18:00:16.689Z"
   },
   {
    "duration": 5,
    "start_time": "2024-08-07T18:01:10.444Z"
   },
   {
    "duration": 1395408,
    "start_time": "2024-08-07T18:01:11.754Z"
   },
   {
    "duration": 6,
    "start_time": "2024-08-07T18:26:26.037Z"
   },
   {
    "duration": 125,
    "start_time": "2024-08-07T18:26:27.482Z"
   },
   {
    "duration": 6,
    "start_time": "2024-08-07T18:26:37.614Z"
   },
   {
    "duration": 120,
    "start_time": "2024-08-07T18:26:38.346Z"
   },
   {
    "duration": 5,
    "start_time": "2024-08-07T18:27:04.202Z"
   },
   {
    "duration": 107,
    "start_time": "2024-08-07T18:27:07.022Z"
   },
   {
    "duration": 5,
    "start_time": "2024-08-07T18:27:12.898Z"
   },
   {
    "duration": 97,
    "start_time": "2024-08-07T18:27:13.717Z"
   },
   {
    "duration": 5,
    "start_time": "2024-08-07T18:27:18.703Z"
   },
   {
    "duration": 127,
    "start_time": "2024-08-07T18:27:20.821Z"
   },
   {
    "duration": 7,
    "start_time": "2024-08-07T18:27:25.983Z"
   },
   {
    "duration": 101,
    "start_time": "2024-08-07T18:27:28.672Z"
   },
   {
    "duration": 4,
    "start_time": "2024-08-07T18:28:02.765Z"
   },
   {
    "duration": 103,
    "start_time": "2024-08-07T18:28:03.504Z"
   },
   {
    "duration": 7,
    "start_time": "2024-08-07T18:28:28.153Z"
   },
   {
    "duration": 449,
    "start_time": "2024-08-07T18:28:28.976Z"
   },
   {
    "duration": 6,
    "start_time": "2024-08-07T18:28:43.913Z"
   },
   {
    "duration": 98,
    "start_time": "2024-08-07T18:28:45.626Z"
   },
   {
    "duration": 5,
    "start_time": "2024-08-07T18:29:00.419Z"
   },
   {
    "duration": 113,
    "start_time": "2024-08-07T18:29:01.059Z"
   },
   {
    "duration": 5,
    "start_time": "2024-08-07T18:29:17.452Z"
   },
   {
    "duration": 99,
    "start_time": "2024-08-07T18:29:18.074Z"
   },
   {
    "duration": 5,
    "start_time": "2024-08-07T18:30:08.469Z"
   },
   {
    "duration": 367,
    "start_time": "2024-08-07T18:30:09.045Z"
   },
   {
    "duration": 5,
    "start_time": "2024-08-07T18:30:25.165Z"
   },
   {
    "duration": 94,
    "start_time": "2024-08-07T18:30:26.975Z"
   },
   {
    "duration": 491,
    "start_time": "2024-08-07T18:30:45.739Z"
   },
   {
    "duration": 186,
    "start_time": "2024-08-07T18:30:50.015Z"
   },
   {
    "duration": 2721155,
    "start_time": "2024-08-07T18:31:12.102Z"
   },
   {
    "duration": 42,
    "start_time": "2024-08-07T19:26:25.191Z"
   },
   {
    "duration": 84,
    "start_time": "2024-08-07T19:26:25.235Z"
   },
   {
    "duration": 7239,
    "start_time": "2024-08-07T19:26:25.320Z"
   },
   {
    "duration": 4,
    "start_time": "2024-08-07T19:26:32.560Z"
   },
   {
    "duration": 100813,
    "start_time": "2024-08-07T19:26:32.566Z"
   },
   {
    "duration": 4,
    "start_time": "2024-08-07T19:28:13.380Z"
   },
   {
    "duration": 463554,
    "start_time": "2024-08-07T19:28:13.385Z"
   },
   {
    "duration": 333308,
    "start_time": "2024-08-07T19:35:56.946Z"
   },
   {
    "duration": 6,
    "start_time": "2024-08-07T19:41:30.256Z"
   },
   {
    "duration": 153,
    "start_time": "2024-08-07T19:41:30.264Z"
   }
  ],
  "kernelspec": {
   "display_name": "Python 3 (ipykernel)",
   "language": "python",
   "name": "python3"
  },
  "language_info": {
   "codemirror_mode": {
    "name": "ipython",
    "version": 3
   },
   "file_extension": ".py",
   "mimetype": "text/x-python",
   "name": "python",
   "nbconvert_exporter": "python",
   "pygments_lexer": "ipython3",
   "version": "3.9.19"
  },
  "toc": {
   "base_numbering": 1,
   "nav_menu": {},
   "number_sections": true,
   "sideBar": true,
   "skip_h1_title": true,
   "title_cell": "Содержание",
   "title_sidebar": "Contents",
   "toc_cell": true,
   "toc_position": {
    "height": "calc(100% - 180px)",
    "left": "10px",
    "top": "150px",
    "width": "209.492px"
   },
   "toc_section_display": true,
   "toc_window_display": true
  }
 },
 "nbformat": 4,
 "nbformat_minor": 4
}
