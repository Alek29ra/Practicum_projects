{
 "cells": [
  {
   "cell_type": "markdown",
   "metadata": {},
   "source": [
    "# Выбор локации для скважины"
   ]
  },
  {
   "cell_type": "markdown",
   "metadata": {},
   "source": [
    "Допустим, вы работаете в добывающей компании «ГлавРосГосНефть». Нужно решить, где бурить новую скважину.\n",
    "\n",
    "Вам предоставлены пробы нефти в трёх регионах: в каждом 10 000 месторождений, где измерили качество нефти и объём её запасов. Постройте модель машинного обучения, которая поможет определить регион, где добыча принесёт наибольшую прибыль. Проанализируйте возможную прибыль и риски техникой *Bootstrap.*\n",
    "\n",
    "Шаги для выбора локации:\n",
    "\n",
    "- В избранном регионе ищут месторождения, для каждого определяют значения признаков;\n",
    "- Строят модель и оценивают объём запасов;\n",
    "- Выбирают месторождения с самым высокими оценками значений. Количество месторождений зависит от бюджета компании и стоимости разработки одной скважины;\n",
    "- Прибыль равна суммарной прибыли отобранных месторождений.\n",
    "\n",
    "<hr>\n",
    "\n",
    "**Описание данных**\n",
    "\n",
    "Данные геологоразведки трёх регионов находятся в файлах: \n",
    "- /datasets/geo_data_0.csv. \n",
    "- /datasets/geo_data_1.csv. \n",
    "- /datasets/geo_data_2.csv. \n",
    "\n",
    "\n",
    "- `id` — уникальный идентификатор скважины;\n",
    "- `f0, f1, f2` — три признака точек (неважно, что они означают, но сами признаки значимы);\n",
    "- `product` — объём запасов в скважине (тыс. баррелей).\n",
    "\n",
    "\n",
    "**Условия задачи:**\n",
    "\n",
    "1. Для обучения модели подходит только линейная регрессия (остальные — недостаточно предсказуемые).\n",
    "2. При разведке региона исследуют 500 точек, из которых с помощью машинного обучения выбирают 200 лучших для разработки.\n",
    "3. Бюджет на разработку скважин в регионе — 10 млрд рублей.\n",
    "4. При нынешних ценах один баррель сырья приносит 450 рублей дохода. Доход с каждой единицы продукта составляет 450 тыс. рублей, поскольку объём указан в тысячах баррелей.\n",
    "5. После оценки рисков нужно оставить лишь те регионы, в которых вероятность убытков меньше 2.5%. Среди них выбирают регион с наибольшей средней прибылью.\n",
    "\n",
    "Данные синтетические: детали контрактов и характеристики месторождений не разглашаются.\n",
    "<hr>\n",
    "\n",
    "\n",
    "**Этапы выполнения проекта:**\n",
    "1. Загрузка и подготовка данные.\n",
    " 1. Изучение таблиц на пропуски и несоотвестсвие типов данных\n",
    " 2. Изучение описания и графиков на предмет аномальных значений\n",
    " 3. Предобработка данных\n",
    " 4. Исследовательский анализ\n",
    " 5. Корреляционный анализ\n",
    "2. Обучите и проверьте модель для каждого региона:\n",
    " 1. Разбейте данные на обучающую и валидационную выборки в соотношении 75:25.\n",
    " 2. Обучите модель и сделайте предсказания на валидационной выборке.\n",
    " 3. Сохраните предсказания и правильные ответы на валидационной выборке.\n",
    " 4. Напечатайте на экране средний запас предсказанного сырья и RMSE модели.\n",
    " 5. Проанализируйте результаты.\n",
    "3. Подготовьтесь к расчёту прибыли:\n",
    " 1. Все ключевые значения для расчётов сохраните в отдельных переменных.\n",
    " 2. Рассчитайте достаточный объём сырья для безубыточной разработки новой скважины. Сравните полученный объём сырья со средним запасом в каждом регионе. \n",
    " 3. Напишите выводы по этапу подготовки расчёта прибыли.\n",
    "4. Напишите функцию для расчёта прибыли по выбранным скважинам и предсказаниям модели:\n",
    " 1. Выберите скважины с максимальными значениями предсказаний. \n",
    " 2. Просуммируйте целевое значение объёма сырья, соответствующее этим предсказаниям.\n",
    " 3. Рассчитайте прибыль для полученного объёма сырья.\n",
    "5. Посчитайте риски и прибыль для каждого региона:\n",
    " 1. Примените технику Bootstrap с 1000 выборок, чтобы найти распределение прибыли.\n",
    " 2. Найдите среднюю прибыль, 95%-й доверительный интервал и риск убытков. Убыток — это отрицательная прибыль.\n",
    " 3. Напишите выводы: предложите регион для разработки скважин и обоснуйте выбор."
   ]
  },
  {
   "cell_type": "markdown",
   "metadata": {},
   "source": [
    "### Установка компонентов"
   ]
  },
  {
   "cell_type": "code",
   "execution_count": 1,
   "metadata": {},
   "outputs": [],
   "source": [
    "%%capture\n",
    "!pip install phik\n",
    "!pip install shap\n",
    "!pip install mlxtend\n",
    "!pip install -U scikit-learn"
   ]
  },
  {
   "cell_type": "markdown",
   "metadata": {},
   "source": [
    "### Загрузка библиотек"
   ]
  },
  {
   "cell_type": "code",
   "execution_count": 2,
   "metadata": {},
   "outputs": [],
   "source": [
    "import pandas as pd\n",
    "import numpy as np\n",
    "import scipy as scipy\n",
    "import seaborn as sns\n",
    "import phik\n",
    "import shap\n",
    "\n",
    "#для нахождения доверительного интервала\n",
    "from scipy import stats as st\n",
    "\n",
    "#библиотеки для работы с графиками\n",
    "import matplotlib.pyplot as plt \n",
    "from mlxtend.plotting import plot_decision_regions\n",
    "from itertools import combinations\n",
    "\n",
    "#класс для разделения данных на выборки\n",
    "from sklearn.model_selection import (\n",
    "    train_test_split,\n",
    "    cross_val_score,\n",
    "    RandomizedSearchCV, \n",
    "    GridSearchCV\n",
    ")\n",
    "\n",
    "#модели\n",
    "from sklearn.svm import SVC\n",
    "from sklearn.linear_model import LogisticRegression, LinearRegression\n",
    "from sklearn.neighbors import KNeighborsClassifier\n",
    "from sklearn.tree import DecisionTreeClassifier, DecisionTreeRegressor, plot_tree\n",
    "\n",
    "#импорт класса дамми-модели \n",
    "from sklearn.dummy import DummyClassifier\n",
    "\n",
    "#метод для отбора признаков модели\n",
    "from sklearn.feature_selection import SelectKBest, f_classif\n",
    "\n",
    "#метрики\n",
    "from phik.report import plot_correlation_matrix\n",
    "from phik import phik_matrix\n",
    "from sklearn.metrics import(\n",
    "    confusion_matrix, \n",
    "    accuracy_score,\n",
    "    f1_score,\n",
    "    fbeta_score,\n",
    "    roc_auc_score,\n",
    "    ConfusionMatrixDisplay,\n",
    "    mean_squared_error\n",
    ")\n",
    "\n",
    "#классы подготовки данных\n",
    "from sklearn.compose import ColumnTransformer, make_column_transformer\n",
    "from sklearn.preprocessing import (\n",
    "    OneHotEncoder,\n",
    "    OrdinalEncoder,\n",
    "    LabelEncoder,\n",
    "    StandardScaler,\n",
    "    MinMaxScaler, \n",
    ")\n",
    "\n",
    "# класс для работы с пропусками\n",
    "from sklearn.impute import SimpleImputer \n",
    "\n",
    "#класс для работы с пайплайнами\n",
    "from sklearn.pipeline import Pipeline"
   ]
  },
  {
   "cell_type": "markdown",
   "metadata": {},
   "source": [
    "### Указание констант"
   ]
  },
  {
   "cell_type": "code",
   "execution_count": 3,
   "metadata": {},
   "outputs": [],
   "source": [
    "TEST_SIZE = 0.25\n",
    "state = np.random.RandomState(12345)"
   ]
  },
  {
   "cell_type": "markdown",
   "metadata": {},
   "source": [
    "## Загрузка и подготовка данных"
   ]
  },
  {
   "cell_type": "code",
   "execution_count": 4,
   "metadata": {},
   "outputs": [
    {
     "name": "stdout",
     "output_type": "stream",
     "text": [
      "Data_0\n"
     ]
    },
    {
     "data": {
      "text/html": [
       "<div>\n",
       "<style scoped>\n",
       "    .dataframe tbody tr th:only-of-type {\n",
       "        vertical-align: middle;\n",
       "    }\n",
       "\n",
       "    .dataframe tbody tr th {\n",
       "        vertical-align: top;\n",
       "    }\n",
       "\n",
       "    .dataframe thead th {\n",
       "        text-align: right;\n",
       "    }\n",
       "</style>\n",
       "<table border=\"1\" class=\"dataframe\">\n",
       "  <thead>\n",
       "    <tr style=\"text-align: right;\">\n",
       "      <th></th>\n",
       "      <th>id</th>\n",
       "      <th>f0</th>\n",
       "      <th>f1</th>\n",
       "      <th>f2</th>\n",
       "      <th>product</th>\n",
       "    </tr>\n",
       "  </thead>\n",
       "  <tbody>\n",
       "    <tr>\n",
       "      <th>0</th>\n",
       "      <td>txEyH</td>\n",
       "      <td>0.705745</td>\n",
       "      <td>-0.497823</td>\n",
       "      <td>1.221170</td>\n",
       "      <td>105.280062</td>\n",
       "    </tr>\n",
       "    <tr>\n",
       "      <th>1</th>\n",
       "      <td>2acmU</td>\n",
       "      <td>1.334711</td>\n",
       "      <td>-0.340164</td>\n",
       "      <td>4.365080</td>\n",
       "      <td>73.037750</td>\n",
       "    </tr>\n",
       "    <tr>\n",
       "      <th>2</th>\n",
       "      <td>409Wp</td>\n",
       "      <td>1.022732</td>\n",
       "      <td>0.151990</td>\n",
       "      <td>1.419926</td>\n",
       "      <td>85.265647</td>\n",
       "    </tr>\n",
       "    <tr>\n",
       "      <th>3</th>\n",
       "      <td>iJLyR</td>\n",
       "      <td>-0.032172</td>\n",
       "      <td>0.139033</td>\n",
       "      <td>2.978566</td>\n",
       "      <td>168.620776</td>\n",
       "    </tr>\n",
       "    <tr>\n",
       "      <th>4</th>\n",
       "      <td>Xdl7t</td>\n",
       "      <td>1.988431</td>\n",
       "      <td>0.155413</td>\n",
       "      <td>4.751769</td>\n",
       "      <td>154.036647</td>\n",
       "    </tr>\n",
       "  </tbody>\n",
       "</table>\n",
       "</div>"
      ],
      "text/plain": [
       "      id        f0        f1        f2     product\n",
       "0  txEyH  0.705745 -0.497823  1.221170  105.280062\n",
       "1  2acmU  1.334711 -0.340164  4.365080   73.037750\n",
       "2  409Wp  1.022732  0.151990  1.419926   85.265647\n",
       "3  iJLyR -0.032172  0.139033  2.978566  168.620776\n",
       "4  Xdl7t  1.988431  0.155413  4.751769  154.036647"
      ]
     },
     "metadata": {},
     "output_type": "display_data"
    },
    {
     "name": "stdout",
     "output_type": "stream",
     "text": [
      "________________________________________________________________________________________________________________________ \n",
      "\n",
      "Data_1\n"
     ]
    },
    {
     "data": {
      "text/html": [
       "<div>\n",
       "<style scoped>\n",
       "    .dataframe tbody tr th:only-of-type {\n",
       "        vertical-align: middle;\n",
       "    }\n",
       "\n",
       "    .dataframe tbody tr th {\n",
       "        vertical-align: top;\n",
       "    }\n",
       "\n",
       "    .dataframe thead th {\n",
       "        text-align: right;\n",
       "    }\n",
       "</style>\n",
       "<table border=\"1\" class=\"dataframe\">\n",
       "  <thead>\n",
       "    <tr style=\"text-align: right;\">\n",
       "      <th></th>\n",
       "      <th>id</th>\n",
       "      <th>f0</th>\n",
       "      <th>f1</th>\n",
       "      <th>f2</th>\n",
       "      <th>product</th>\n",
       "    </tr>\n",
       "  </thead>\n",
       "  <tbody>\n",
       "    <tr>\n",
       "      <th>0</th>\n",
       "      <td>kBEdx</td>\n",
       "      <td>-15.001348</td>\n",
       "      <td>-8.276000</td>\n",
       "      <td>-0.005876</td>\n",
       "      <td>3.179103</td>\n",
       "    </tr>\n",
       "    <tr>\n",
       "      <th>1</th>\n",
       "      <td>62mP7</td>\n",
       "      <td>14.272088</td>\n",
       "      <td>-3.475083</td>\n",
       "      <td>0.999183</td>\n",
       "      <td>26.953261</td>\n",
       "    </tr>\n",
       "    <tr>\n",
       "      <th>2</th>\n",
       "      <td>vyE1P</td>\n",
       "      <td>6.263187</td>\n",
       "      <td>-5.948386</td>\n",
       "      <td>5.001160</td>\n",
       "      <td>134.766305</td>\n",
       "    </tr>\n",
       "    <tr>\n",
       "      <th>3</th>\n",
       "      <td>KcrkZ</td>\n",
       "      <td>-13.081196</td>\n",
       "      <td>-11.506057</td>\n",
       "      <td>4.999415</td>\n",
       "      <td>137.945408</td>\n",
       "    </tr>\n",
       "    <tr>\n",
       "      <th>4</th>\n",
       "      <td>AHL4O</td>\n",
       "      <td>12.702195</td>\n",
       "      <td>-8.147433</td>\n",
       "      <td>5.004363</td>\n",
       "      <td>134.766305</td>\n",
       "    </tr>\n",
       "  </tbody>\n",
       "</table>\n",
       "</div>"
      ],
      "text/plain": [
       "      id         f0         f1        f2     product\n",
       "0  kBEdx -15.001348  -8.276000 -0.005876    3.179103\n",
       "1  62mP7  14.272088  -3.475083  0.999183   26.953261\n",
       "2  vyE1P   6.263187  -5.948386  5.001160  134.766305\n",
       "3  KcrkZ -13.081196 -11.506057  4.999415  137.945408\n",
       "4  AHL4O  12.702195  -8.147433  5.004363  134.766305"
      ]
     },
     "metadata": {},
     "output_type": "display_data"
    },
    {
     "name": "stdout",
     "output_type": "stream",
     "text": [
      "________________________________________________________________________________________________________________________ \n",
      "\n",
      "Data_2\n"
     ]
    },
    {
     "data": {
      "text/html": [
       "<div>\n",
       "<style scoped>\n",
       "    .dataframe tbody tr th:only-of-type {\n",
       "        vertical-align: middle;\n",
       "    }\n",
       "\n",
       "    .dataframe tbody tr th {\n",
       "        vertical-align: top;\n",
       "    }\n",
       "\n",
       "    .dataframe thead th {\n",
       "        text-align: right;\n",
       "    }\n",
       "</style>\n",
       "<table border=\"1\" class=\"dataframe\">\n",
       "  <thead>\n",
       "    <tr style=\"text-align: right;\">\n",
       "      <th></th>\n",
       "      <th>id</th>\n",
       "      <th>f0</th>\n",
       "      <th>f1</th>\n",
       "      <th>f2</th>\n",
       "      <th>product</th>\n",
       "    </tr>\n",
       "  </thead>\n",
       "  <tbody>\n",
       "    <tr>\n",
       "      <th>0</th>\n",
       "      <td>fwXo0</td>\n",
       "      <td>-1.146987</td>\n",
       "      <td>0.963328</td>\n",
       "      <td>-0.828965</td>\n",
       "      <td>27.758673</td>\n",
       "    </tr>\n",
       "    <tr>\n",
       "      <th>1</th>\n",
       "      <td>WJtFt</td>\n",
       "      <td>0.262778</td>\n",
       "      <td>0.269839</td>\n",
       "      <td>-2.530187</td>\n",
       "      <td>56.069697</td>\n",
       "    </tr>\n",
       "    <tr>\n",
       "      <th>2</th>\n",
       "      <td>ovLUW</td>\n",
       "      <td>0.194587</td>\n",
       "      <td>0.289035</td>\n",
       "      <td>-5.586433</td>\n",
       "      <td>62.871910</td>\n",
       "    </tr>\n",
       "    <tr>\n",
       "      <th>3</th>\n",
       "      <td>q6cA6</td>\n",
       "      <td>2.236060</td>\n",
       "      <td>-0.553760</td>\n",
       "      <td>0.930038</td>\n",
       "      <td>114.572842</td>\n",
       "    </tr>\n",
       "    <tr>\n",
       "      <th>4</th>\n",
       "      <td>WPMUX</td>\n",
       "      <td>-0.515993</td>\n",
       "      <td>1.716266</td>\n",
       "      <td>5.899011</td>\n",
       "      <td>149.600746</td>\n",
       "    </tr>\n",
       "  </tbody>\n",
       "</table>\n",
       "</div>"
      ],
      "text/plain": [
       "      id        f0        f1        f2     product\n",
       "0  fwXo0 -1.146987  0.963328 -0.828965   27.758673\n",
       "1  WJtFt  0.262778  0.269839 -2.530187   56.069697\n",
       "2  ovLUW  0.194587  0.289035 -5.586433   62.871910\n",
       "3  q6cA6  2.236060 -0.553760  0.930038  114.572842\n",
       "4  WPMUX -0.515993  1.716266  5.899011  149.600746"
      ]
     },
     "metadata": {},
     "output_type": "display_data"
    },
    {
     "name": "stdout",
     "output_type": "stream",
     "text": [
      "________________________________________________________________________________________________________________________ \n",
      "\n"
     ]
    }
   ],
   "source": [
    "data_0 = pd.read_csv('/datasets/geo_data_0.csv')\n",
    "data_1 = pd.read_csv('/datasets/geo_data_1.csv')\n",
    "data_2 = pd.read_csv('/datasets/geo_data_2.csv')\n",
    "\n",
    "data = [data_0, data_1, data_2]\n",
    "\n",
    "for i in range(3):\n",
    "    print(f'Data_{i}')\n",
    "    display(data[i].head())\n",
    "    print('_'*120, '\\n')"
   ]
  },
  {
   "cell_type": "markdown",
   "metadata": {},
   "source": [
    "### Изучение данных"
   ]
  },
  {
   "cell_type": "code",
   "execution_count": 5,
   "metadata": {},
   "outputs": [
    {
     "name": "stdout",
     "output_type": "stream",
     "text": [
      "Data_0 \n",
      "\n",
      "<class 'pandas.core.frame.DataFrame'>\n",
      "RangeIndex: 100000 entries, 0 to 99999\n",
      "Data columns (total 5 columns):\n",
      " #   Column   Non-Null Count   Dtype  \n",
      "---  ------   --------------   -----  \n",
      " 0   id       100000 non-null  object \n",
      " 1   f0       100000 non-null  float64\n",
      " 2   f1       100000 non-null  float64\n",
      " 3   f2       100000 non-null  float64\n",
      " 4   product  100000 non-null  float64\n",
      "dtypes: float64(4), object(1)\n",
      "memory usage: 3.8+ MB\n"
     ]
    },
    {
     "data": {
      "text/html": [
       "<div>\n",
       "<style scoped>\n",
       "    .dataframe tbody tr th:only-of-type {\n",
       "        vertical-align: middle;\n",
       "    }\n",
       "\n",
       "    .dataframe tbody tr th {\n",
       "        vertical-align: top;\n",
       "    }\n",
       "\n",
       "    .dataframe thead th {\n",
       "        text-align: right;\n",
       "    }\n",
       "</style>\n",
       "<table border=\"1\" class=\"dataframe\">\n",
       "  <thead>\n",
       "    <tr style=\"text-align: right;\">\n",
       "      <th></th>\n",
       "      <th>count</th>\n",
       "      <th>mean</th>\n",
       "      <th>std</th>\n",
       "      <th>min</th>\n",
       "      <th>25%</th>\n",
       "      <th>50%</th>\n",
       "      <th>75%</th>\n",
       "      <th>max</th>\n",
       "    </tr>\n",
       "  </thead>\n",
       "  <tbody>\n",
       "    <tr>\n",
       "      <th>f0</th>\n",
       "      <td>100000.0</td>\n",
       "      <td>0.500419</td>\n",
       "      <td>0.871832</td>\n",
       "      <td>-1.408605</td>\n",
       "      <td>-0.072580</td>\n",
       "      <td>0.502360</td>\n",
       "      <td>1.073581</td>\n",
       "      <td>2.362331</td>\n",
       "    </tr>\n",
       "    <tr>\n",
       "      <th>f1</th>\n",
       "      <td>100000.0</td>\n",
       "      <td>0.250143</td>\n",
       "      <td>0.504433</td>\n",
       "      <td>-0.848218</td>\n",
       "      <td>-0.200881</td>\n",
       "      <td>0.250252</td>\n",
       "      <td>0.700646</td>\n",
       "      <td>1.343769</td>\n",
       "    </tr>\n",
       "    <tr>\n",
       "      <th>f2</th>\n",
       "      <td>100000.0</td>\n",
       "      <td>2.502647</td>\n",
       "      <td>3.248248</td>\n",
       "      <td>-12.088328</td>\n",
       "      <td>0.287748</td>\n",
       "      <td>2.515969</td>\n",
       "      <td>4.715088</td>\n",
       "      <td>16.003790</td>\n",
       "    </tr>\n",
       "    <tr>\n",
       "      <th>product</th>\n",
       "      <td>100000.0</td>\n",
       "      <td>92.500000</td>\n",
       "      <td>44.288691</td>\n",
       "      <td>0.000000</td>\n",
       "      <td>56.497507</td>\n",
       "      <td>91.849972</td>\n",
       "      <td>128.564089</td>\n",
       "      <td>185.364347</td>\n",
       "    </tr>\n",
       "  </tbody>\n",
       "</table>\n",
       "</div>"
      ],
      "text/plain": [
       "            count       mean        std        min        25%        50%  \\\n",
       "f0       100000.0   0.500419   0.871832  -1.408605  -0.072580   0.502360   \n",
       "f1       100000.0   0.250143   0.504433  -0.848218  -0.200881   0.250252   \n",
       "f2       100000.0   2.502647   3.248248 -12.088328   0.287748   2.515969   \n",
       "product  100000.0  92.500000  44.288691   0.000000  56.497507  91.849972   \n",
       "\n",
       "                75%         max  \n",
       "f0         1.073581    2.362331  \n",
       "f1         0.700646    1.343769  \n",
       "f2         4.715088   16.003790  \n",
       "product  128.564089  185.364347  "
      ]
     },
     "metadata": {},
     "output_type": "display_data"
    },
    {
     "data": {
      "text/plain": [
       "(100000, 5)"
      ]
     },
     "metadata": {},
     "output_type": "display_data"
    },
    {
     "name": "stdout",
     "output_type": "stream",
     "text": [
      "________________________________________________________________________________________________________________________ \n",
      "\n",
      "Data_1 \n",
      "\n",
      "<class 'pandas.core.frame.DataFrame'>\n",
      "RangeIndex: 100000 entries, 0 to 99999\n",
      "Data columns (total 5 columns):\n",
      " #   Column   Non-Null Count   Dtype  \n",
      "---  ------   --------------   -----  \n",
      " 0   id       100000 non-null  object \n",
      " 1   f0       100000 non-null  float64\n",
      " 2   f1       100000 non-null  float64\n",
      " 3   f2       100000 non-null  float64\n",
      " 4   product  100000 non-null  float64\n",
      "dtypes: float64(4), object(1)\n",
      "memory usage: 3.8+ MB\n"
     ]
    },
    {
     "data": {
      "text/html": [
       "<div>\n",
       "<style scoped>\n",
       "    .dataframe tbody tr th:only-of-type {\n",
       "        vertical-align: middle;\n",
       "    }\n",
       "\n",
       "    .dataframe tbody tr th {\n",
       "        vertical-align: top;\n",
       "    }\n",
       "\n",
       "    .dataframe thead th {\n",
       "        text-align: right;\n",
       "    }\n",
       "</style>\n",
       "<table border=\"1\" class=\"dataframe\">\n",
       "  <thead>\n",
       "    <tr style=\"text-align: right;\">\n",
       "      <th></th>\n",
       "      <th>count</th>\n",
       "      <th>mean</th>\n",
       "      <th>std</th>\n",
       "      <th>min</th>\n",
       "      <th>25%</th>\n",
       "      <th>50%</th>\n",
       "      <th>75%</th>\n",
       "      <th>max</th>\n",
       "    </tr>\n",
       "  </thead>\n",
       "  <tbody>\n",
       "    <tr>\n",
       "      <th>f0</th>\n",
       "      <td>100000.0</td>\n",
       "      <td>1.141296</td>\n",
       "      <td>8.965932</td>\n",
       "      <td>-31.609576</td>\n",
       "      <td>-6.298551</td>\n",
       "      <td>1.153055</td>\n",
       "      <td>8.621015</td>\n",
       "      <td>29.421755</td>\n",
       "    </tr>\n",
       "    <tr>\n",
       "      <th>f1</th>\n",
       "      <td>100000.0</td>\n",
       "      <td>-4.796579</td>\n",
       "      <td>5.119872</td>\n",
       "      <td>-26.358598</td>\n",
       "      <td>-8.267985</td>\n",
       "      <td>-4.813172</td>\n",
       "      <td>-1.332816</td>\n",
       "      <td>18.734063</td>\n",
       "    </tr>\n",
       "    <tr>\n",
       "      <th>f2</th>\n",
       "      <td>100000.0</td>\n",
       "      <td>2.494541</td>\n",
       "      <td>1.703572</td>\n",
       "      <td>-0.018144</td>\n",
       "      <td>1.000021</td>\n",
       "      <td>2.011479</td>\n",
       "      <td>3.999904</td>\n",
       "      <td>5.019721</td>\n",
       "    </tr>\n",
       "    <tr>\n",
       "      <th>product</th>\n",
       "      <td>100000.0</td>\n",
       "      <td>68.825000</td>\n",
       "      <td>45.944423</td>\n",
       "      <td>0.000000</td>\n",
       "      <td>26.953261</td>\n",
       "      <td>57.085625</td>\n",
       "      <td>107.813044</td>\n",
       "      <td>137.945408</td>\n",
       "    </tr>\n",
       "  </tbody>\n",
       "</table>\n",
       "</div>"
      ],
      "text/plain": [
       "            count       mean        std        min        25%        50%  \\\n",
       "f0       100000.0   1.141296   8.965932 -31.609576  -6.298551   1.153055   \n",
       "f1       100000.0  -4.796579   5.119872 -26.358598  -8.267985  -4.813172   \n",
       "f2       100000.0   2.494541   1.703572  -0.018144   1.000021   2.011479   \n",
       "product  100000.0  68.825000  45.944423   0.000000  26.953261  57.085625   \n",
       "\n",
       "                75%         max  \n",
       "f0         8.621015   29.421755  \n",
       "f1        -1.332816   18.734063  \n",
       "f2         3.999904    5.019721  \n",
       "product  107.813044  137.945408  "
      ]
     },
     "metadata": {},
     "output_type": "display_data"
    },
    {
     "data": {
      "text/plain": [
       "(100000, 5)"
      ]
     },
     "metadata": {},
     "output_type": "display_data"
    },
    {
     "name": "stdout",
     "output_type": "stream",
     "text": [
      "________________________________________________________________________________________________________________________ \n",
      "\n",
      "Data_2 \n",
      "\n",
      "<class 'pandas.core.frame.DataFrame'>\n",
      "RangeIndex: 100000 entries, 0 to 99999\n",
      "Data columns (total 5 columns):\n",
      " #   Column   Non-Null Count   Dtype  \n",
      "---  ------   --------------   -----  \n",
      " 0   id       100000 non-null  object \n",
      " 1   f0       100000 non-null  float64\n",
      " 2   f1       100000 non-null  float64\n",
      " 3   f2       100000 non-null  float64\n",
      " 4   product  100000 non-null  float64\n",
      "dtypes: float64(4), object(1)\n",
      "memory usage: 3.8+ MB\n"
     ]
    },
    {
     "data": {
      "text/html": [
       "<div>\n",
       "<style scoped>\n",
       "    .dataframe tbody tr th:only-of-type {\n",
       "        vertical-align: middle;\n",
       "    }\n",
       "\n",
       "    .dataframe tbody tr th {\n",
       "        vertical-align: top;\n",
       "    }\n",
       "\n",
       "    .dataframe thead th {\n",
       "        text-align: right;\n",
       "    }\n",
       "</style>\n",
       "<table border=\"1\" class=\"dataframe\">\n",
       "  <thead>\n",
       "    <tr style=\"text-align: right;\">\n",
       "      <th></th>\n",
       "      <th>count</th>\n",
       "      <th>mean</th>\n",
       "      <th>std</th>\n",
       "      <th>min</th>\n",
       "      <th>25%</th>\n",
       "      <th>50%</th>\n",
       "      <th>75%</th>\n",
       "      <th>max</th>\n",
       "    </tr>\n",
       "  </thead>\n",
       "  <tbody>\n",
       "    <tr>\n",
       "      <th>f0</th>\n",
       "      <td>100000.0</td>\n",
       "      <td>0.002023</td>\n",
       "      <td>1.732045</td>\n",
       "      <td>-8.760004</td>\n",
       "      <td>-1.162288</td>\n",
       "      <td>0.009424</td>\n",
       "      <td>1.158535</td>\n",
       "      <td>7.238262</td>\n",
       "    </tr>\n",
       "    <tr>\n",
       "      <th>f1</th>\n",
       "      <td>100000.0</td>\n",
       "      <td>-0.002081</td>\n",
       "      <td>1.730417</td>\n",
       "      <td>-7.084020</td>\n",
       "      <td>-1.174820</td>\n",
       "      <td>-0.009482</td>\n",
       "      <td>1.163678</td>\n",
       "      <td>7.844801</td>\n",
       "    </tr>\n",
       "    <tr>\n",
       "      <th>f2</th>\n",
       "      <td>100000.0</td>\n",
       "      <td>2.495128</td>\n",
       "      <td>3.473445</td>\n",
       "      <td>-11.970335</td>\n",
       "      <td>0.130359</td>\n",
       "      <td>2.484236</td>\n",
       "      <td>4.858794</td>\n",
       "      <td>16.739402</td>\n",
       "    </tr>\n",
       "    <tr>\n",
       "      <th>product</th>\n",
       "      <td>100000.0</td>\n",
       "      <td>95.000000</td>\n",
       "      <td>44.749921</td>\n",
       "      <td>0.000000</td>\n",
       "      <td>59.450441</td>\n",
       "      <td>94.925613</td>\n",
       "      <td>130.595027</td>\n",
       "      <td>190.029838</td>\n",
       "    </tr>\n",
       "  </tbody>\n",
       "</table>\n",
       "</div>"
      ],
      "text/plain": [
       "            count       mean        std        min        25%        50%  \\\n",
       "f0       100000.0   0.002023   1.732045  -8.760004  -1.162288   0.009424   \n",
       "f1       100000.0  -0.002081   1.730417  -7.084020  -1.174820  -0.009482   \n",
       "f2       100000.0   2.495128   3.473445 -11.970335   0.130359   2.484236   \n",
       "product  100000.0  95.000000  44.749921   0.000000  59.450441  94.925613   \n",
       "\n",
       "                75%         max  \n",
       "f0         1.158535    7.238262  \n",
       "f1         1.163678    7.844801  \n",
       "f2         4.858794   16.739402  \n",
       "product  130.595027  190.029838  "
      ]
     },
     "metadata": {},
     "output_type": "display_data"
    },
    {
     "data": {
      "text/plain": [
       "(100000, 5)"
      ]
     },
     "metadata": {},
     "output_type": "display_data"
    },
    {
     "name": "stdout",
     "output_type": "stream",
     "text": [
      "________________________________________________________________________________________________________________________ \n",
      "\n"
     ]
    }
   ],
   "source": [
    "for i in range(3):\n",
    "    print(f'Data_{i} \\n')\n",
    "    data[i].info()\n",
    "    display(data[i].describe().T)\n",
    "    display(data[i].shape)\n",
    "    print('_'*120, '\\n')"
   ]
  },
  {
   "cell_type": "code",
   "execution_count": 6,
   "metadata": {},
   "outputs": [
    {
     "data": {
      "image/png": "[encoded data removed]",
      "text/plain": [
       "<Figure size 720x720 with 4 Axes>"
      ]
     },
     "metadata": {
      "needs_background": "light"
     },
     "output_type": "display_data"
    },
    {
     "data": {
      "image/png": "[encoded data removed]",
      "text/plain": [
       "<Figure size 720x720 with 4 Axes>"
      ]
     },
     "metadata": {
      "needs_background": "light"
     },
     "output_type": "display_data"
    },
    {
     "data": {
      "image/png": "[encoded data removed]",
      "text/plain": [
       "<Figure size 720x720 with 4 Axes>"
      ]
     },
     "metadata": {
      "needs_background": "light"
     },
     "output_type": "display_data"
    }
   ],
   "source": [
    "for i in range(3):\n",
    "    data[i].hist(figsize = (10, 10), bins = 100)\n",
    "    plt.suptitle(f'Распределение данных в Data_{i}', fontsize = 16);"
   ]
  },
  {
   "cell_type": "markdown",
   "metadata": {},
   "source": [
    "### Поиск дубликатов"
   ]
  },
  {
   "cell_type": "markdown",
   "metadata": {},
   "source": [
    "#### Неявные дубликаты"
   ]
  },
  {
   "cell_type": "code",
   "execution_count": 7,
   "metadata": {},
   "outputs": [
    {
     "name": "stdout",
     "output_type": "stream",
     "text": [
      "Неявные дубликаты в data0: ['HZww2' 'bxg6G' 'A5aEY' 'QcMuo' '74z30' 'AGS9W' 'Tdehs' 'fiKDv' 'TtcGQ'\n",
      " 'bsk9y'] \n",
      "\n",
      "         id        f0        f1         f2     product\n",
      "931   HZww2  0.755284  0.368511   1.863211   30.681774\n",
      "7530  HZww2  1.061194 -0.373969  10.430210  158.828695 \n",
      "\n",
      "          id        f0        f1        f2    product\n",
      "1364   bxg6G  0.411645  0.856830 -3.653440  73.604260\n",
      "41724  bxg6G -0.823752  0.546319  3.630479  93.007798 \n",
      "\n",
      "          id        f0        f1        f2    product\n",
      "3389   A5aEY -0.039949  0.156872  0.209861  89.249364\n",
      "51970  A5aEY -0.180335  0.935548 -2.094773  33.020205 \n",
      "\n",
      "          id        f0        f1        f2    product\n",
      "1949   QcMuo  0.506563 -0.323775 -2.215583  75.496502\n",
      "63593  QcMuo  0.635635 -0.473422  0.862670  64.578675 \n",
      "\n",
      "          id        f0        f1        f2     product\n",
      "64022  74z30  0.741456  0.459229  5.153109  140.771492\n",
      "66136  74z30  1.084962 -0.312358  6.990771  127.643327 \n",
      "\n",
      "          id        f0        f1        f2     product\n",
      "42529  AGS9W  1.454747 -0.479651  0.683380  126.370504\n",
      "69163  AGS9W -0.933795  0.116194 -3.655896   19.230453 \n",
      "\n",
      "          id        f0        f1        f2    product\n",
      "21426  Tdehs  0.829407  0.298807 -0.049563  96.035308\n",
      "75715  Tdehs  0.112079  0.430296  3.218993  60.964018 \n",
      "\n",
      "          id        f0        f1        f2     product\n",
      "16633  fiKDv  0.157341  1.028359  5.585586   95.817889\n",
      "90815  fiKDv  0.049883  0.841313  6.394613  137.346586 \n",
      "\n",
      "          id        f0        f1        f2     product\n",
      "60140  TtcGQ  0.569276 -0.104876  6.440215   85.350186\n",
      "92341  TtcGQ  0.110711  1.022689  0.911381  101.318008 \n",
      "\n",
      "          id        f0        f1         f2     product\n",
      "89582  bsk9y  0.398908 -0.400253  10.122376  163.433078\n",
      "97785  bsk9y  0.378429  0.005837   0.160827  160.637302 \n",
      "\n",
      "________________________________________________________________________________________________________________________ \n",
      "\n",
      "Неявные дубликаты в data1: ['LHZR0' 'bfPNe' 'wt4Uk' '5ltQ6'] \n",
      "\n",
      "          id         f0        f1        f2    product\n",
      "1305   LHZR0  11.170835 -1.945066  3.002872  80.859783\n",
      "41906  LHZR0  -8.989672 -4.286607  2.009139  57.085625 \n",
      "\n",
      "          id        f0        f1        f2     product\n",
      "2721   bfPNe -9.494442 -5.463692  4.006042  110.992147\n",
      "82178  bfPNe -6.202799 -4.820045  2.995107   84.038886 \n",
      "\n",
      "          id         f0        f1        f2     product\n",
      "47591  wt4Uk  -9.091098 -8.109279 -0.002314    3.179103\n",
      "82873  wt4Uk  10.259972 -9.376355  4.994297  134.766305 \n",
      "\n",
      "          id         f0         f1        f2     product\n",
      "5849   5ltQ6  -3.435401 -12.296043  1.999796   57.085625\n",
      "84461  5ltQ6  18.213839   2.191999  3.993869  107.813044 \n",
      "\n",
      "________________________________________________________________________________________________________________________ \n",
      "\n",
      "Неявные дубликаты в data2: ['xCHr8' 'VF7Jo' 'KUPhW' 'Vcm5J'] \n",
      "\n",
      "          id        f0        f1        f2     product\n",
      "28039  xCHr8  1.633027  0.368135 -2.378367    6.120525\n",
      "43233  xCHr8 -0.847066  2.101796  5.597130  184.388641 \n",
      "\n",
      "          id        f0        f1        f2     product\n",
      "11449  VF7Jo  2.122656 -0.858275  5.746001  181.716817\n",
      "49564  VF7Jo -0.883115  0.560537  0.723601  136.233420 \n",
      "\n",
      "          id        f0        f1        f2     product\n",
      "45404  KUPhW  0.231846 -1.698941  4.990775   11.716299\n",
      "55967  KUPhW  1.211150  3.176408  5.543540  132.831802 \n",
      "\n",
      "          id        f0        f1        f2     product\n",
      "44378  Vcm5J -1.229484 -2.439204  1.222909  137.968290\n",
      "95090  Vcm5J  2.587702  1.986875  2.482245   92.327572 \n",
      "\n",
      "________________________________________________________________________________________________________________________ \n",
      "\n"
     ]
    }
   ],
   "source": [
    "for i in range(3):\n",
    "    id = data[i].loc[data[i]['id'].duplicated(), 'id'].values\n",
    "    print(f'Неявные дубликаты в data{i}: {id} \\n')\n",
    "    for item in id:\n",
    "        print(data[i].loc[data[i]['id'] == item], '\\n')\n",
    "    print('_'*120, '\\n')"
   ]
  },
  {
   "cell_type": "markdown",
   "metadata": {},
   "source": [
    "Во всех трех датафреймах наблюдаются неявные дубликаты в столбце идентификатора. Можно предположить, что произошел сбой при внесении данных, но точной причины не указано. Решение: оставить дубликаты, т.к. среди данных строк нет полных дубликатов и все значения их атрибутов разные."
   ]
  },
  {
   "cell_type": "markdown",
   "metadata": {},
   "source": [
    "#### Явные дубликаты"
   ]
  },
  {
   "cell_type": "code",
   "execution_count": 8,
   "metadata": {},
   "outputs": [
    {
     "name": "stdout",
     "output_type": "stream",
     "text": [
      "Дубликаты в Data_0 \n",
      "\n"
     ]
    },
    {
     "data": {
      "text/plain": [
       "0"
      ]
     },
     "metadata": {},
     "output_type": "display_data"
    },
    {
     "name": "stdout",
     "output_type": "stream",
     "text": [
      "________________________________________________________________________________________________________________________ \n",
      "\n",
      "Дубликаты в Data_1 \n",
      "\n"
     ]
    },
    {
     "data": {
      "text/plain": [
       "0"
      ]
     },
     "metadata": {},
     "output_type": "display_data"
    },
    {
     "name": "stdout",
     "output_type": "stream",
     "text": [
      "________________________________________________________________________________________________________________________ \n",
      "\n",
      "Дубликаты в Data_2 \n",
      "\n"
     ]
    },
    {
     "data": {
      "text/plain": [
       "0"
      ]
     },
     "metadata": {},
     "output_type": "display_data"
    },
    {
     "name": "stdout",
     "output_type": "stream",
     "text": [
      "________________________________________________________________________________________________________________________ \n",
      "\n"
     ]
    }
   ],
   "source": [
    "for i in range(3):\n",
    "    print(f'Дубликаты в Data_{i} \\n')\n",
    "    display(data[i].duplicated().sum())\n",
    "    print('_'*120, '\\n')"
   ]
  },
  {
   "cell_type": "markdown",
   "metadata": {},
   "source": [
    "### Исследовательский анализ"
   ]
  },
  {
   "cell_type": "code",
   "execution_count": 9,
   "metadata": {},
   "outputs": [
    {
     "data": {
      "image/png": "[encoded data removed]",
      "text/plain": [
       "<Figure size 1152x576 with 2 Axes>"
      ]
     },
     "metadata": {
      "needs_background": "light"
     },
     "output_type": "display_data"
    },
    {
     "data": {
      "text/html": [
       "<div>\n",
       "<style scoped>\n",
       "    .dataframe tbody tr th:only-of-type {\n",
       "        vertical-align: middle;\n",
       "    }\n",
       "\n",
       "    .dataframe tbody tr th {\n",
       "        vertical-align: top;\n",
       "    }\n",
       "\n",
       "    .dataframe thead th {\n",
       "        text-align: right;\n",
       "    }\n",
       "</style>\n",
       "<table border=\"1\" class=\"dataframe\">\n",
       "  <thead>\n",
       "    <tr style=\"text-align: right;\">\n",
       "      <th></th>\n",
       "      <th>f0</th>\n",
       "      <th>f1</th>\n",
       "      <th>f2</th>\n",
       "      <th>product</th>\n",
       "    </tr>\n",
       "  </thead>\n",
       "  <tbody>\n",
       "    <tr>\n",
       "      <th>count</th>\n",
       "      <td>100000.000000</td>\n",
       "      <td>100000.000000</td>\n",
       "      <td>100000.000000</td>\n",
       "      <td>100000.000000</td>\n",
       "    </tr>\n",
       "    <tr>\n",
       "      <th>mean</th>\n",
       "      <td>0.500419</td>\n",
       "      <td>0.250143</td>\n",
       "      <td>2.502647</td>\n",
       "      <td>92.500000</td>\n",
       "    </tr>\n",
       "    <tr>\n",
       "      <th>std</th>\n",
       "      <td>0.871832</td>\n",
       "      <td>0.504433</td>\n",
       "      <td>3.248248</td>\n",
       "      <td>44.288691</td>\n",
       "    </tr>\n",
       "    <tr>\n",
       "      <th>min</th>\n",
       "      <td>-1.408605</td>\n",
       "      <td>-0.848218</td>\n",
       "      <td>-12.088328</td>\n",
       "      <td>0.000000</td>\n",
       "    </tr>\n",
       "    <tr>\n",
       "      <th>25%</th>\n",
       "      <td>-0.072580</td>\n",
       "      <td>-0.200881</td>\n",
       "      <td>0.287748</td>\n",
       "      <td>56.497507</td>\n",
       "    </tr>\n",
       "    <tr>\n",
       "      <th>50%</th>\n",
       "      <td>0.502360</td>\n",
       "      <td>0.250252</td>\n",
       "      <td>2.515969</td>\n",
       "      <td>91.849972</td>\n",
       "    </tr>\n",
       "    <tr>\n",
       "      <th>75%</th>\n",
       "      <td>1.073581</td>\n",
       "      <td>0.700646</td>\n",
       "      <td>4.715088</td>\n",
       "      <td>128.564089</td>\n",
       "    </tr>\n",
       "    <tr>\n",
       "      <th>max</th>\n",
       "      <td>2.362331</td>\n",
       "      <td>1.343769</td>\n",
       "      <td>16.003790</td>\n",
       "      <td>185.364347</td>\n",
       "    </tr>\n",
       "  </tbody>\n",
       "</table>\n",
       "</div>"
      ],
      "text/plain": [
       "                  f0             f1             f2        product\n",
       "count  100000.000000  100000.000000  100000.000000  100000.000000\n",
       "mean        0.500419       0.250143       2.502647      92.500000\n",
       "std         0.871832       0.504433       3.248248      44.288691\n",
       "min        -1.408605      -0.848218     -12.088328       0.000000\n",
       "25%        -0.072580      -0.200881       0.287748      56.497507\n",
       "50%         0.502360       0.250252       2.515969      91.849972\n",
       "75%         1.073581       0.700646       4.715088     128.564089\n",
       "max         2.362331       1.343769      16.003790     185.364347"
      ]
     },
     "metadata": {},
     "output_type": "display_data"
    },
    {
     "name": "stdout",
     "output_type": "stream",
     "text": [
      "________________________________________________________________________________________________________________________\n"
     ]
    },
    {
     "data": {
      "image/png": "[encoded data removed]",
      "text/plain": [
       "<Figure size 1152x576 with 2 Axes>"
      ]
     },
     "metadata": {
      "needs_background": "light"
     },
     "output_type": "display_data"
    },
    {
     "data": {
      "text/html": [
       "<div>\n",
       "<style scoped>\n",
       "    .dataframe tbody tr th:only-of-type {\n",
       "        vertical-align: middle;\n",
       "    }\n",
       "\n",
       "    .dataframe tbody tr th {\n",
       "        vertical-align: top;\n",
       "    }\n",
       "\n",
       "    .dataframe thead th {\n",
       "        text-align: right;\n",
       "    }\n",
       "</style>\n",
       "<table border=\"1\" class=\"dataframe\">\n",
       "  <thead>\n",
       "    <tr style=\"text-align: right;\">\n",
       "      <th></th>\n",
       "      <th>f0</th>\n",
       "      <th>f1</th>\n",
       "      <th>f2</th>\n",
       "      <th>product</th>\n",
       "    </tr>\n",
       "  </thead>\n",
       "  <tbody>\n",
       "    <tr>\n",
       "      <th>count</th>\n",
       "      <td>100000.000000</td>\n",
       "      <td>100000.000000</td>\n",
       "      <td>100000.000000</td>\n",
       "      <td>100000.000000</td>\n",
       "    </tr>\n",
       "    <tr>\n",
       "      <th>mean</th>\n",
       "      <td>1.141296</td>\n",
       "      <td>-4.796579</td>\n",
       "      <td>2.494541</td>\n",
       "      <td>68.825000</td>\n",
       "    </tr>\n",
       "    <tr>\n",
       "      <th>std</th>\n",
       "      <td>8.965932</td>\n",
       "      <td>5.119872</td>\n",
       "      <td>1.703572</td>\n",
       "      <td>45.944423</td>\n",
       "    </tr>\n",
       "    <tr>\n",
       "      <th>min</th>\n",
       "      <td>-31.609576</td>\n",
       "      <td>-26.358598</td>\n",
       "      <td>-0.018144</td>\n",
       "      <td>0.000000</td>\n",
       "    </tr>\n",
       "    <tr>\n",
       "      <th>25%</th>\n",
       "      <td>-6.298551</td>\n",
       "      <td>-8.267985</td>\n",
       "      <td>1.000021</td>\n",
       "      <td>26.953261</td>\n",
       "    </tr>\n",
       "    <tr>\n",
       "      <th>50%</th>\n",
       "      <td>1.153055</td>\n",
       "      <td>-4.813172</td>\n",
       "      <td>2.011479</td>\n",
       "      <td>57.085625</td>\n",
       "    </tr>\n",
       "    <tr>\n",
       "      <th>75%</th>\n",
       "      <td>8.621015</td>\n",
       "      <td>-1.332816</td>\n",
       "      <td>3.999904</td>\n",
       "      <td>107.813044</td>\n",
       "    </tr>\n",
       "    <tr>\n",
       "      <th>max</th>\n",
       "      <td>29.421755</td>\n",
       "      <td>18.734063</td>\n",
       "      <td>5.019721</td>\n",
       "      <td>137.945408</td>\n",
       "    </tr>\n",
       "  </tbody>\n",
       "</table>\n",
       "</div>"
      ],
      "text/plain": [
       "                  f0             f1             f2        product\n",
       "count  100000.000000  100000.000000  100000.000000  100000.000000\n",
       "mean        1.141296      -4.796579       2.494541      68.825000\n",
       "std         8.965932       5.119872       1.703572      45.944423\n",
       "min       -31.609576     -26.358598      -0.018144       0.000000\n",
       "25%        -6.298551      -8.267985       1.000021      26.953261\n",
       "50%         1.153055      -4.813172       2.011479      57.085625\n",
       "75%         8.621015      -1.332816       3.999904     107.813044\n",
       "max        29.421755      18.734063       5.019721     137.945408"
      ]
     },
     "metadata": {},
     "output_type": "display_data"
    },
    {
     "name": "stdout",
     "output_type": "stream",
     "text": [
      "________________________________________________________________________________________________________________________\n"
     ]
    },
    {
     "data": {
      "image/png": "[encoded data removed]",
      "text/plain": [
       "<Figure size 1152x576 with 2 Axes>"
      ]
     },
     "metadata": {
      "needs_background": "light"
     },
     "output_type": "display_data"
    },
    {
     "data": {
      "text/html": [
       "<div>\n",
       "<style scoped>\n",
       "    .dataframe tbody tr th:only-of-type {\n",
       "        vertical-align: middle;\n",
       "    }\n",
       "\n",
       "    .dataframe tbody tr th {\n",
       "        vertical-align: top;\n",
       "    }\n",
       "\n",
       "    .dataframe thead th {\n",
       "        text-align: right;\n",
       "    }\n",
       "</style>\n",
       "<table border=\"1\" class=\"dataframe\">\n",
       "  <thead>\n",
       "    <tr style=\"text-align: right;\">\n",
       "      <th></th>\n",
       "      <th>f0</th>\n",
       "      <th>f1</th>\n",
       "      <th>f2</th>\n",
       "      <th>product</th>\n",
       "    </tr>\n",
       "  </thead>\n",
       "  <tbody>\n",
       "    <tr>\n",
       "      <th>count</th>\n",
       "      <td>100000.000000</td>\n",
       "      <td>100000.000000</td>\n",
       "      <td>100000.000000</td>\n",
       "      <td>100000.000000</td>\n",
       "    </tr>\n",
       "    <tr>\n",
       "      <th>mean</th>\n",
       "      <td>0.002023</td>\n",
       "      <td>-0.002081</td>\n",
       "      <td>2.495128</td>\n",
       "      <td>95.000000</td>\n",
       "    </tr>\n",
       "    <tr>\n",
       "      <th>std</th>\n",
       "      <td>1.732045</td>\n",
       "      <td>1.730417</td>\n",
       "      <td>3.473445</td>\n",
       "      <td>44.749921</td>\n",
       "    </tr>\n",
       "    <tr>\n",
       "      <th>min</th>\n",
       "      <td>-8.760004</td>\n",
       "      <td>-7.084020</td>\n",
       "      <td>-11.970335</td>\n",
       "      <td>0.000000</td>\n",
       "    </tr>\n",
       "    <tr>\n",
       "      <th>25%</th>\n",
       "      <td>-1.162288</td>\n",
       "      <td>-1.174820</td>\n",
       "      <td>0.130359</td>\n",
       "      <td>59.450441</td>\n",
       "    </tr>\n",
       "    <tr>\n",
       "      <th>50%</th>\n",
       "      <td>0.009424</td>\n",
       "      <td>-0.009482</td>\n",
       "      <td>2.484236</td>\n",
       "      <td>94.925613</td>\n",
       "    </tr>\n",
       "    <tr>\n",
       "      <th>75%</th>\n",
       "      <td>1.158535</td>\n",
       "      <td>1.163678</td>\n",
       "      <td>4.858794</td>\n",
       "      <td>130.595027</td>\n",
       "    </tr>\n",
       "    <tr>\n",
       "      <th>max</th>\n",
       "      <td>7.238262</td>\n",
       "      <td>7.844801</td>\n",
       "      <td>16.739402</td>\n",
       "      <td>190.029838</td>\n",
       "    </tr>\n",
       "  </tbody>\n",
       "</table>\n",
       "</div>"
      ],
      "text/plain": [
       "                  f0             f1             f2        product\n",
       "count  100000.000000  100000.000000  100000.000000  100000.000000\n",
       "mean        0.002023      -0.002081       2.495128      95.000000\n",
       "std         1.732045       1.730417       3.473445      44.749921\n",
       "min        -8.760004      -7.084020     -11.970335       0.000000\n",
       "25%        -1.162288      -1.174820       0.130359      59.450441\n",
       "50%         0.009424      -0.009482       2.484236      94.925613\n",
       "75%         1.158535       1.163678       4.858794     130.595027\n",
       "max         7.238262       7.844801      16.739402     190.029838"
      ]
     },
     "metadata": {},
     "output_type": "display_data"
    },
    {
     "name": "stdout",
     "output_type": "stream",
     "text": [
      "________________________________________________________________________________________________________________________\n"
     ]
    }
   ],
   "source": [
    "for i in range(3):\n",
    "    fig, axs = plt.subplots(nrows= 1 , ncols= 2, figsize = (16,8))\n",
    "    \n",
    "    sns.boxplot(data = data[i][['f0', 'f1', 'f2']], ax=axs[0])\n",
    "    axs[0].set_xlabel('Распределение данных')\n",
    "    axs[0].set_title('Диаграмма размаха столбцов f0, f1, f2')\n",
    "    \n",
    "    sns.boxplot(data = data[i][['product']], ax=axs[1])\n",
    "    axs[1].set_xlabel('Распределение данных')\n",
    "    axs[1].set_title('Диаграмма размаха столбца product')\n",
    "    fig.suptitle(f'Выбросы в Data_{i} \\n', fontsize = 16)\n",
    "      \n",
    "    plt.show()\n",
    "    \n",
    "    display(data[i].describe())\n",
    "    print('_'*120)\n",
    "    "
   ]
  },
  {
   "cell_type": "markdown",
   "metadata": {},
   "source": [
    "### Корреляционный анализ"
   ]
  },
  {
   "cell_type": "code",
   "execution_count": 10,
   "metadata": {},
   "outputs": [
    {
     "data": {
      "image/png": "[encoded data removed]",
      "text/plain": [
       "<Figure size 720x576 with 2 Axes>"
      ]
     },
     "metadata": {
      "needs_background": "light"
     },
     "output_type": "display_data"
    },
    {
     "data": {
      "image/png": "[encoded data removed]",
      "text/plain": [
       "<Figure size 720x576 with 2 Axes>"
      ]
     },
     "metadata": {
      "needs_background": "light"
     },
     "output_type": "display_data"
    },
    {
     "data": {
      "image/png": "[encoded data removed]",
      "text/plain": [
       "<Figure size 720x576 with 2 Axes>"
      ]
     },
     "metadata": {
      "needs_background": "light"
     },
     "output_type": "display_data"
    }
   ],
   "source": [
    "for i in range(3):\n",
    "    \n",
    "    fig, ax = plt.subplots(figsize=(10, 8))\n",
    "    sns.heatmap(data[i].corr(method = 'spearman'), annot = True, fmt = '.2f')\n",
    "    plt.title(f'Таблица коэффициентов корреляции Data_{i}', fontsize = 16);\n",
    "    "
   ]
  },
  {
   "cell_type": "markdown",
   "metadata": {},
   "source": [
    "**Вывод**\n",
    "\n",
    "Пропусков и дубликатов в данных не обнаружено, несоответствия типов данных не обнаружено, заголовки соотвестсвуют правилам snake_case.\n",
    "\n",
    "Из графиков распределения данных видно, что в каждом регионе данные распределены по разному. Особое внимание стоит уделить таблице `data_1`, столбцам `f2` и `product`, т.к. данные в них распределены аномально, что может препятствовать качественному обучению модели. Из сравнения среднего значения и второго квартиля цифры не чильно отличаюся, кроме `product` в `data_1`, который имеет большой разброс значений при показателе стандартного отклонения в 45.9.\n",
    "\n",
    "Из корреляционного анализа обнаружено сильное влияние признака `f2` на `product`."
   ]
  },
  {
   "cell_type": "markdown",
   "metadata": {},
   "source": [
    "## Обучение и проверка модели"
   ]
  },
  {
   "cell_type": "markdown",
   "metadata": {},
   "source": [
    "**Целевой признак** - `product`\n",
    "\n",
    "**Входные признаки** - `f0, f1, f2`\n",
    "\n",
    "Идентификатор удалим, т.к. он не влияет на другие признаки и результаты модели.\n",
    "\n",
    "Масштабирование будем проводить с помощью StandartScaler(). Для оценки работы модели будем использовать RMSE, т.к. в целевом признаке нет выбросов, что могло бы увеличить показатель ошибки. "
   ]
  },
  {
   "cell_type": "code",
   "execution_count": 11,
   "metadata": {},
   "outputs": [
    {
     "name": "stdout",
     "output_type": "stream",
     "text": [
      "Размерность тренировочной выборки 0: (75000, 3) и (75000,)\n",
      "Размерность валидационной выборки 0: (25000, 3) и (25000,) \n",
      "\n",
      "Регион 0:\n",
      "Фактический показатель сырья: 92.08 т. баррелей\n",
      "Предсказаный показатель сырья: 92.59 т.баррелей\n",
      "Разница показателей: -0.51\n",
      "RMSE модели: 37.58\n",
      "________________________________________________________________________________________________________________________ \n",
      "\n",
      "Размерность тренировочной выборки 1: (75000, 3) и (75000,)\n",
      "Размерность валидационной выборки 1: (25000, 3) и (25000,) \n",
      "\n",
      "Регион 1:\n",
      "Фактический показатель сырья: 68.77 т. баррелей\n",
      "Предсказаный показатель сырья: 68.77 т.баррелей\n",
      "Разница показателей: 0.00\n",
      "RMSE модели: 0.89\n",
      "________________________________________________________________________________________________________________________ \n",
      "\n",
      "Размерность тренировочной выборки 2: (75000, 3) и (75000,)\n",
      "Размерность валидационной выборки 2: (25000, 3) и (25000,) \n",
      "\n"
     ]
    },
    {
     "name": "stderr",
     "output_type": "stream",
     "text": [
      "/opt/conda/lib/python3.9/site-packages/sklearn/metrics/_regression.py:492: FutureWarning: 'squared' is deprecated in version 1.4 and will be removed in 1.6. To calculate the root mean squared error, use the function'root_mean_squared_error'.\n",
      "  warnings.warn(\n",
      "/opt/conda/lib/python3.9/site-packages/sklearn/metrics/_regression.py:492: FutureWarning: 'squared' is deprecated in version 1.4 and will be removed in 1.6. To calculate the root mean squared error, use the function'root_mean_squared_error'.\n",
      "  warnings.warn(\n"
     ]
    },
    {
     "name": "stdout",
     "output_type": "stream",
     "text": [
      "Регион 2:\n",
      "Фактический показатель сырья: 94.75 т. баррелей\n",
      "Предсказаный показатель сырья: 95.09 т.баррелей\n",
      "Разница показателей: -0.34\n",
      "RMSE модели: 39.96\n",
      "________________________________________________________________________________________________________________________ \n",
      "\n"
     ]
    },
    {
     "name": "stderr",
     "output_type": "stream",
     "text": [
      "/opt/conda/lib/python3.9/site-packages/sklearn/metrics/_regression.py:492: FutureWarning: 'squared' is deprecated in version 1.4 and will be removed in 1.6. To calculate the root mean squared error, use the function'root_mean_squared_error'.\n",
      "  warnings.warn(\n"
     ]
    }
   ],
   "source": [
    "pipe = Pipeline([\n",
    "        ('scaler', StandardScaler()),\n",
    "        ('model', LinearRegression())\n",
    "])\n",
    "\n",
    "results = []\n",
    "\n",
    "for i in range(3):\n",
    "    features = data[i].drop(['id', 'product'], axis = 1)\n",
    "    target = data[i]['product']\n",
    "    \n",
    "    X_train, X_valid, y_train, y_valid = train_test_split(\n",
    "        features,\n",
    "        target,\n",
    "        test_size = TEST_SIZE,\n",
    "        random_state = state\n",
    "    )\n",
    "    \n",
    "    print(f'Размерность тренировочной выборки {i}: {X_train.shape} и {y_train.shape}')\n",
    "    print(f'Размерность валидационной выборки {i}: {X_valid.shape} и {y_valid.shape} \\n')\n",
    "    \n",
    "    pipe.fit(X_train, y_train)\n",
    "    \n",
    "    predict = pipe.predict(X_valid)\n",
    "    \n",
    "    print(f'Регион {i}:')\n",
    "    print(f'Фактический показатель сырья: {y_valid.mean():.2f} т. баррелей')\n",
    "    print(f'Предсказаный показатель сырья: {predict.mean():.2f} т.баррелей')\n",
    "    print(f'Разница показателей: {y_valid.mean() - predict.mean():.2f}')\n",
    "    print(f'RMSE модели: {mean_squared_error(y_valid, predict, squared = False):.2f}')\n",
    "    print('_'*120, '\\n')\n",
    "    \n",
    "    #сохраняем списки с результатами предсказаний\n",
    "    exec(f'preds{i} = pd.Series(predict)')\n",
    "    exec(f'y_valid_{i} = pd.Series(y_valid)')"
   ]
  },
  {
   "cell_type": "code",
   "execution_count": 12,
   "metadata": {},
   "outputs": [
    {
     "name": "stdout",
     "output_type": "stream",
     "text": [
      "Результаты предсказания data_0 \n",
      "0    95.894952\n",
      "1    77.572583\n",
      "2    77.892640\n",
      "3    90.175134\n",
      "4    70.510088\n",
      "dtype: float64\n",
      "\n",
      "Результаты предсказания data_1 \n",
      "0     54.238152\n",
      "1     83.217878\n",
      "2      2.971467\n",
      "3     25.916480\n",
      "4    111.341137\n",
      "dtype: float64\n",
      "\n",
      "Результаты предсказания data_2 \n",
      "0    112.561878\n",
      "1     69.464073\n",
      "2     69.866229\n",
      "3    110.331048\n",
      "4     95.123288\n",
      "dtype: float64\n"
     ]
    }
   ],
   "source": [
    "predict = [preds0, preds1, preds2]\n",
    "\n",
    "print(f'Результаты предсказания data_0 \\n{preds0.head()}\\n')\n",
    "print(f'Результаты предсказания data_1 \\n{preds1.head()}\\n')\n",
    "print(f'Результаты предсказания data_2 \\n{preds2.head()}')"
   ]
  },
  {
   "cell_type": "markdown",
   "metadata": {},
   "source": [
    "Почти во всех моделях предсказаный показатель сырья не сильно отличается от фактического. Что касается RMSE, то наименьший показатель ошибки 0.88 у второго датасета, остальные имеют большие показатели(37.47, 40.10) отклонения предсказания от истинного значения - отражает большой разброс значений в целевом показателе. \n",
    "\n",
    "**Вывод** - предсказания не отражают реальный запас сырья с высокой точностью."
   ]
  },
  {
   "cell_type": "markdown",
   "metadata": {},
   "source": [
    "## Подготовка к расчёту прибыли\n",
    "\n",
    "Условия:\n",
    "\n",
    "1. При разведке региона исследуют 500 точек, из которых с помощью машинного обучения выбирают 200 лучших для разработки.\n",
    "3. Бюджет на разработку скважин в регионе — 10 млрд рублей.\n",
    "4. При нынешних ценах один баррель сырья приносит 450 рублей дохода. Доход с каждой единицы продукта составляет 450 тыс. рублей, поскольку объём указан в тысячах баррелей.\n",
    "5. После оценки рисков нужно оставить лишь те регионы, в которых вероятность убытков меньше 2.5%. Среди них выбирают регион с наибольшей средней прибылью."
   ]
  },
  {
   "cell_type": "code",
   "execution_count": 13,
   "metadata": {},
   "outputs": [],
   "source": [
    "#Общее количество исследуемых точек\n",
    "POINTS = 500\n",
    "BEST_POINTS = 200\n",
    "\n",
    "#Бюджет на разработку скважин\n",
    "BUDGET = 10e9\n",
    "\n",
    "#Доход с единицы продукта\n",
    "PRICE = 450e3\n",
    "\n",
    "LIMIT = 0.025"
   ]
  },
  {
   "cell_type": "code",
   "execution_count": 14,
   "metadata": {},
   "outputs": [
    {
     "name": "stdout",
     "output_type": "stream",
     "text": [
      "Достаточный объём сырья для каждого региорна: 22222.22 т. баррелей\n",
      "Достаточный объём сырья для безубыточной разработки новой скважины: 111.11 т. баррелей\n"
     ]
    }
   ],
   "source": [
    "#Достаточный объем сырья для каждого региона\n",
    "volume_reg = BUDGET/PRICE\n",
    "print(f'Достаточный объём сырья для каждого региорна: {volume_reg:.2f} т. баррелей')\n",
    "\n",
    "#Рассчитаем достаточный объём сырья для безубыточной разработки новой скважины.\n",
    "volume = BUDGET/(PRICE * BEST_POINTS)\n",
    "print(f'Достаточный объём сырья для безубыточной разработки новой скважины: {volume:.2f} т. баррелей')    "
   ]
  },
  {
   "cell_type": "code",
   "execution_count": 15,
   "metadata": {},
   "outputs": [
    {
     "name": "stdout",
     "output_type": "stream",
     "text": [
      "Регион 0\n",
      "Средний запас сырья в регионе: 92.50 т. баррелей\n",
      "Средний предсказанный запас региона: 92.59 т.баррелей\n",
      "Количество скважин с запасом больше, чем порог: 36583\n",
      "Процент скважин с запасом больше, чем порог: 36.58%\n",
      "________________________________________________________________________________________________________________________ \n",
      "\n",
      "Регион 1\n",
      "Средний запас сырья в регионе: 68.83 т. баррелей\n",
      "Средний предсказанный запас региона: 68.77 т.баррелей\n",
      "Количество скважин с запасом больше, чем порог: 16537\n",
      "Процент скважин с запасом больше, чем порог: 16.54%\n",
      "________________________________________________________________________________________________________________________ \n",
      "\n",
      "Регион 2\n",
      "Средний запас сырья в регионе: 95.00 т. баррелей\n",
      "Средний предсказанный запас региона: 95.09 т.баррелей\n",
      "Количество скважин с запасом больше, чем порог: 38178\n",
      "Процент скважин с запасом больше, чем порог: 38.18%\n",
      "________________________________________________________________________________________________________________________ \n",
      "\n"
     ]
    }
   ],
   "source": [
    "for i in range(3):  \n",
    "    print(f'Регион {i}')\n",
    "    print(f'Средний запас сырья в регионе: {data[i][\"product\"].mean():.2f} т. баррелей')\n",
    "    print(f'Средний предсказанный запас региона: {predict[i].mean():.2f} т.баррелей')\n",
    "    print(f'Количество скважин с запасом больше, чем порог: {len(data[i].query(\"product > @volume\"))}')\n",
    "    print(f'Процент скважин с запасом больше, чем порог: {len(data[i].query(\"product > @volume\"))/len(data[i]):.2%}')\n",
    "    print('_'*120, '\\n')"
   ]
  },
  {
   "cell_type": "code",
   "execution_count": 16,
   "metadata": {},
   "outputs": [
    {
     "data": {
      "image/png": "[encoded data removed]",
      "text/plain": [
       "<Figure size 720x504 with 1 Axes>"
      ]
     },
     "metadata": {
      "needs_background": "light"
     },
     "output_type": "display_data"
    }
   ],
   "source": [
    "df = pd.DataFrame(\n",
    "    {\n",
    "        '1': ['region_0', 92.50],\n",
    "        '2': ['region_1', 68.83],\n",
    "        '3': ['region_2', 95.00],\n",
    "    })\n",
    "df = df.T\n",
    "df.columns = ['region', 'mean_product_volume']\n",
    "\n",
    "fig, ax = plt.subplots(figsize = (10,7))\n",
    "sns.barplot(data = df,\n",
    "           x = 'mean_product_volume',\n",
    "           y = 'region')\n",
    "\n",
    "plt.title('Соотношение среднего объема сырья между регоинамии', fontsize = 16)\n",
    "plt.xlabel('Средний показатель продукта', fontsize = 14)\n",
    "plt.ylabel('Регоин', fontsize = 14);"
   ]
  },
  {
   "cell_type": "markdown",
   "metadata": {},
   "source": [
    "Все необходимые показатели были определены в отдельные переменные. После подсчета достаточного количества сырья была получена следующая цифра - 111.11 т. баррелей. Именно столько необходимо получать с 200 лучших точек региона для безубыточной разработки новой скважины. Процент скважин в регионе, с которых получают больше, чем с данного порога:\n",
    "- Регион 0\n",
    "  - Количество скважин с запасом больше, чем порог: 36583\n",
    "  - Процент скважин с запасом больше, чем порог: 36.58%\n",
    "- Регион 1\n",
    "  - Количество скважин с запасом больше, чем порог: 16537\n",
    "  - Процент скважин с запасом больше, чем порог: 16.54%\n",
    "- Регион 2\n",
    "  - Количество скважин с запасом больше, чем порог: 38178\n",
    "  - Процент скважин с запасом больше, чем порог: 38.18%"
   ]
  },
  {
   "cell_type": "markdown",
   "metadata": {},
   "source": [
    "## Расчёт прибыли и рисков "
   ]
  },
  {
   "cell_type": "markdown",
   "metadata": {},
   "source": [
    "Функция для расчета прибыли по выбранным скважинам и предсказаниям модели:"
   ]
  },
  {
   "cell_type": "code",
   "execution_count": 17,
   "metadata": {},
   "outputs": [],
   "source": [
    "def revenue(target, predict, count):\n",
    "    # РЕВЬЮЕР: здесь могли бы быть твои сбросы индексов!\n",
    "    target = target.reset_index(drop = True)\n",
    "    predict = predict.reset_index(drop = True)\n",
    "    \n",
    "    preds_sorted = predict.sort_values(ascending = False)[:count]\n",
    "    selected = target[preds_sorted.index]\n",
    "    \n",
    "    # КОД РЕВЬЮЕРА, DEBUG\n",
    "    if target[preds_sorted.index].shape[0] != preds_sorted.shape[0]:\n",
    "        print(f\"Shape mismatch! You took {target[preds_sorted.index].shape[0]} target values!\")\n",
    "\n",
    "\n",
    "    summa = selected.sum()\n",
    "    revenue = summa * PRICE\n",
    "    return revenue - BUDGET"
   ]
  },
  {
   "cell_type": "code",
   "execution_count": 18,
   "metadata": {},
   "outputs": [
    {
     "name": "stdout",
     "output_type": "stream",
     "text": [
      "Регион 0\n",
      "Средняя прибыль: 39 млн. рублей\n",
      "Доверительный интервал: от -7 до 92 млн. рублей\n",
      "Риск убытков: 6.10%\n",
      "________________________________________________________________________________________________________________________ \n",
      "\n",
      "Регион 1\n",
      "Средняя прибыль: 45 млн. рублей\n",
      "Доверительный интервал: от 6 до 86 млн. рублей\n",
      "Риск убытков: 0.70%\n",
      "________________________________________________________________________________________________________________________ \n",
      "\n",
      "Регион 2\n",
      "Средняя прибыль: 35 млн. рублей\n",
      "Доверительный интервал: от -16 до 85 млн. рублей\n",
      "Риск убытков: 7.60%\n",
      "________________________________________________________________________________________________________________________ \n",
      "\n"
     ]
    }
   ],
   "source": [
    "y_valid = [y_valid_0, y_valid_1, y_valid_2]\n",
    "\n",
    "for i in range(3):\n",
    "    y_valid[i] = y_valid[i].reset_index(drop = True)\n",
    "    \n",
    "    values = []\n",
    "    \n",
    "    for _ in range(1000):\n",
    "        target_samples = y_valid[i].sample(POINTS, random_state = state, replace = True)\n",
    "        preds_samples = predict[i][target_samples.index]\n",
    "        values.append(revenue(target_samples, preds_samples, BEST_POINTS))\n",
    "    \n",
    "    values = pd.Series(values) \n",
    "        \n",
    "    #Средняя прибыль\n",
    "    mean = values.mean() / 10e6\n",
    "        \n",
    "    #Верхний и нижний квартили доверительного интервала. 2.5% и 97.5% от 95% \n",
    "    lower = values.quantile(.025) /10e6\n",
    "    upper = values.quantile(.975) /10e6\n",
    "        \n",
    "    risk = (values.apply(lambda x: x < 0).sum()).mean() / len(values)\n",
    "    \n",
    "    print(f'Регион {i}')\n",
    "    print(f'Средняя прибыль: {mean:.0f} млн. рублей')\n",
    "    print(f'Доверительный интервал: от {lower:.0f} до {upper:.0f} млн. рублей')\n",
    "    print(f'Риск убытков: {risk:.2%}')\n",
    "    print('_'*120, '\\n')    "
   ]
  },
  {
   "cell_type": "markdown",
   "metadata": {},
   "source": [
    "**Вывод** \n",
    "\n",
    "Исходя из рассчетов рисков и прибыли самая большая сумма прибыли наблюдается во **втором** регионе с наименьшим риском убытков среди всех представленных:\n",
    " - Средняя прибыль: 45 млн. рублей\n",
    " - Доверительный интервал: от 6 до 86 млн. рублей\n",
    " - Риск убытков: 0.70%\n",
    "\n",
    "**Для разработки скважин можно порекомендовать данный регион.**\n",
    "\n",
    "Для сравнения можно привести третий регион с самой малой прибылью и наибольшим процентом риска убытков\n",
    "\n",
    "- Средняя прибыль: 35 млн. рублей\n",
    "- Доверительный интервал: от -16 до 85 млн. рублей\n",
    "- Риск убытков: 7.60%"
   ]
  },
  {
   "cell_type": "markdown",
   "metadata": {},
   "source": [
    "# Вывод\n",
    "\n",
    "1. В ходе проекта был проведен исследовательский анализ данных, чтобы выявить аномалии, дубликаты и выбросы в данных. Также построены матрицы корреляции для наглядного представления влияния признаков друг на друга. \n",
    "2. Обучена модель логистической регрессии для подсчета средней прибыли в каждом регионе. Качество работы модели было проверено с помощью метрики RMSE\n",
    "3. Проведен подсчет прибыли и рисков для выявления наилучшего региона для разработки скважин: Второй регион сос редней прибылью в 45 млн.рублей и процентом риска 0.70%"
   ]
  }
 ],
 "metadata": {
  "ExecuteTimeLog": [
   {
    "duration": 16949,
    "start_time": "2024-06-05T11:07:10.988Z"
   },
   {
    "duration": 1850,
    "start_time": "2024-06-05T11:08:16.575Z"
   },
   {
    "duration": 6,
    "start_time": "2024-06-05T11:11:36.004Z"
   },
   {
    "duration": 10266,
    "start_time": "2024-06-05T11:14:44.843Z"
   },
   {
    "duration": 1939,
    "start_time": "2024-06-05T11:16:41.778Z"
   },
   {
    "duration": 451,
    "start_time": "2024-06-05T11:18:25.113Z"
   },
   {
    "duration": 338,
    "start_time": "2024-06-05T11:18:59.292Z"
   },
   {
    "duration": 343,
    "start_time": "2024-06-05T11:19:31.371Z"
   },
   {
    "duration": 373,
    "start_time": "2024-06-05T11:20:12.881Z"
   },
   {
    "duration": 332,
    "start_time": "2024-06-05T11:20:29.433Z"
   },
   {
    "duration": 59,
    "start_time": "2024-06-05T11:20:48.739Z"
   },
   {
    "duration": 334,
    "start_time": "2024-06-05T11:20:54.081Z"
   },
   {
    "duration": 320,
    "start_time": "2024-06-05T11:21:17.356Z"
   },
   {
    "duration": 2,
    "start_time": "2024-06-05T11:23:36.072Z"
   },
   {
    "duration": 324,
    "start_time": "2024-06-05T11:24:29.071Z"
   },
   {
    "duration": 333,
    "start_time": "2024-06-05T11:24:48.383Z"
   },
   {
    "duration": 335,
    "start_time": "2024-06-05T11:25:03.034Z"
   },
   {
    "duration": 317,
    "start_time": "2024-06-05T11:25:16.978Z"
   },
   {
    "duration": 346,
    "start_time": "2024-06-05T11:25:30.243Z"
   },
   {
    "duration": 74,
    "start_time": "2024-06-05T11:25:45.270Z"
   },
   {
    "duration": 325,
    "start_time": "2024-06-05T11:25:53.126Z"
   },
   {
    "duration": 345,
    "start_time": "2024-06-05T11:26:04.125Z"
   },
   {
    "duration": 57,
    "start_time": "2024-06-05T11:26:13.022Z"
   },
   {
    "duration": 339,
    "start_time": "2024-06-05T11:27:14.809Z"
   },
   {
    "duration": 95,
    "start_time": "2024-06-05T11:28:36.011Z"
   },
   {
    "duration": 117,
    "start_time": "2024-06-05T11:28:50.685Z"
   },
   {
    "duration": 109,
    "start_time": "2024-06-05T11:29:03.662Z"
   },
   {
    "duration": 315,
    "start_time": "2024-06-05T11:29:28.082Z"
   },
   {
    "duration": 111,
    "start_time": "2024-06-05T11:29:33.944Z"
   },
   {
    "duration": 2356,
    "start_time": "2024-06-05T11:32:34.363Z"
   },
   {
    "duration": 2341,
    "start_time": "2024-06-05T11:34:03.674Z"
   },
   {
    "duration": 123,
    "start_time": "2024-06-05T11:35:18.716Z"
   },
   {
    "duration": 2230,
    "start_time": "2024-06-05T11:35:46.733Z"
   },
   {
    "duration": 2315,
    "start_time": "2024-06-05T11:35:59.872Z"
   },
   {
    "duration": 2225,
    "start_time": "2024-06-05T11:36:15.248Z"
   },
   {
    "duration": 2330,
    "start_time": "2024-06-05T11:36:33.136Z"
   },
   {
    "duration": 2201,
    "start_time": "2024-06-05T11:36:48.921Z"
   },
   {
    "duration": 10678,
    "start_time": "2024-06-05T11:37:00.626Z"
   },
   {
    "duration": 7,
    "start_time": "2024-06-05T11:37:11.306Z"
   },
   {
    "duration": 16,
    "start_time": "2024-06-05T11:37:11.314Z"
   },
   {
    "duration": 330,
    "start_time": "2024-06-05T11:37:11.331Z"
   },
   {
    "duration": 129,
    "start_time": "2024-06-05T11:37:11.662Z"
   },
   {
    "duration": 2317,
    "start_time": "2024-06-05T11:37:11.792Z"
   },
   {
    "duration": 12,
    "start_time": "2024-06-05T11:40:37.318Z"
   },
   {
    "duration": 394,
    "start_time": "2024-06-05T11:41:07.600Z"
   },
   {
    "duration": 2330,
    "start_time": "2024-06-05T11:42:52.429Z"
   },
   {
    "duration": 2,
    "start_time": "2024-06-05T12:01:01.387Z"
   },
   {
    "duration": 111,
    "start_time": "2024-06-05T12:17:20.347Z"
   },
   {
    "duration": 9,
    "start_time": "2024-06-05T12:22:56.269Z"
   },
   {
    "duration": 20,
    "start_time": "2024-06-05T12:24:59.170Z"
   },
   {
    "duration": 15,
    "start_time": "2024-06-05T12:55:19.676Z"
   },
   {
    "duration": 1171,
    "start_time": "2024-06-05T12:55:30.020Z"
   },
   {
    "duration": 1076,
    "start_time": "2024-06-05T12:55:44.076Z"
   },
   {
    "duration": 971,
    "start_time": "2024-06-05T12:55:49.885Z"
   },
   {
    "duration": 1033,
    "start_time": "2024-06-05T12:56:01.597Z"
   },
   {
    "duration": 1006,
    "start_time": "2024-06-05T12:56:11.646Z"
   },
   {
    "duration": 1087,
    "start_time": "2024-06-05T12:56:40.356Z"
   },
   {
    "duration": 942,
    "start_time": "2024-06-05T12:56:59.082Z"
   },
   {
    "duration": 1040,
    "start_time": "2024-06-05T12:57:33.506Z"
   },
   {
    "duration": 74,
    "start_time": "2024-06-06T12:04:32.853Z"
   },
   {
    "duration": 7,
    "start_time": "2024-06-06T12:04:38.900Z"
   },
   {
    "duration": 18300,
    "start_time": "2024-06-06T12:04:43.198Z"
   },
   {
    "duration": 2138,
    "start_time": "2024-06-06T12:05:01.500Z"
   },
   {
    "duration": 4,
    "start_time": "2024-06-06T12:05:03.639Z"
   },
   {
    "duration": 716,
    "start_time": "2024-06-06T12:05:03.645Z"
   },
   {
    "duration": 164,
    "start_time": "2024-06-06T12:05:04.362Z"
   },
   {
    "duration": 3162,
    "start_time": "2024-06-06T12:05:04.528Z"
   },
   {
    "duration": 152,
    "start_time": "2024-06-06T12:05:07.691Z"
   },
   {
    "duration": 115,
    "start_time": "2024-06-06T12:05:07.845Z"
   },
   {
    "duration": 0,
    "start_time": "2024-06-06T12:05:07.962Z"
   },
   {
    "duration": 13,
    "start_time": "2024-06-06T12:05:12.959Z"
   },
   {
    "duration": 147,
    "start_time": "2024-06-06T12:05:45.338Z"
   },
   {
    "duration": 13,
    "start_time": "2024-06-06T12:05:59.546Z"
   },
   {
    "duration": 138,
    "start_time": "2024-06-06T12:06:27.260Z"
   },
   {
    "duration": 409,
    "start_time": "2024-06-06T12:07:43.153Z"
   },
   {
    "duration": 430,
    "start_time": "2024-06-06T12:08:06.993Z"
   },
   {
    "duration": 454,
    "start_time": "2024-06-06T12:09:08.925Z"
   },
   {
    "duration": 511,
    "start_time": "2024-06-06T12:09:19.327Z"
   },
   {
    "duration": 640,
    "start_time": "2024-06-06T12:11:52.377Z"
   },
   {
    "duration": 877,
    "start_time": "2024-06-06T12:12:06.377Z"
   },
   {
    "duration": 557,
    "start_time": "2024-06-06T12:12:33.531Z"
   },
   {
    "duration": 1219,
    "start_time": "2024-06-06T12:14:09.488Z"
   },
   {
    "duration": 680,
    "start_time": "2024-06-06T12:15:54.671Z"
   },
   {
    "duration": 385,
    "start_time": "2024-06-06T12:19:27.248Z"
   },
   {
    "duration": 994,
    "start_time": "2024-06-06T12:19:34.698Z"
   },
   {
    "duration": 907,
    "start_time": "2024-06-06T12:19:56.994Z"
   },
   {
    "duration": 1146,
    "start_time": "2024-06-06T12:21:03.967Z"
   },
   {
    "duration": 939,
    "start_time": "2024-06-06T12:21:19.398Z"
   },
   {
    "duration": 129,
    "start_time": "2024-06-06T12:25:35.867Z"
   },
   {
    "duration": 1216,
    "start_time": "2024-06-06T12:25:41.333Z"
   },
   {
    "duration": 12,
    "start_time": "2024-06-06T12:29:16.573Z"
   },
   {
    "duration": 12,
    "start_time": "2024-06-06T12:29:33.710Z"
   },
   {
    "duration": 24,
    "start_time": "2024-06-06T12:29:42.118Z"
   },
   {
    "duration": 31,
    "start_time": "2024-06-06T12:31:54.742Z"
   },
   {
    "duration": 16,
    "start_time": "2024-06-06T12:32:22.423Z"
   },
   {
    "duration": 10,
    "start_time": "2024-06-06T12:32:28.671Z"
   },
   {
    "duration": 137,
    "start_time": "2024-06-06T12:34:18.375Z"
   },
   {
    "duration": 27,
    "start_time": "2024-06-06T12:36:27.912Z"
   },
   {
    "duration": 51,
    "start_time": "2024-06-06T12:37:15.051Z"
   },
   {
    "duration": 28,
    "start_time": "2024-06-06T12:37:32.444Z"
   },
   {
    "duration": 28,
    "start_time": "2024-06-06T12:37:39.597Z"
   },
   {
    "duration": 10,
    "start_time": "2024-06-06T12:39:39.580Z"
   },
   {
    "duration": 11,
    "start_time": "2024-06-06T12:39:44.556Z"
   },
   {
    "duration": 3,
    "start_time": "2024-06-06T12:41:36.613Z"
   },
   {
    "duration": 12,
    "start_time": "2024-06-06T12:42:19.472Z"
   },
   {
    "duration": 12,
    "start_time": "2024-06-06T12:42:31.023Z"
   },
   {
    "duration": 133,
    "start_time": "2024-06-06T12:43:21.787Z"
   },
   {
    "duration": 38,
    "start_time": "2024-06-06T12:55:37.081Z"
   },
   {
    "duration": 6,
    "start_time": "2024-06-06T12:57:10.917Z"
   },
   {
    "duration": 272,
    "start_time": "2024-06-06T12:57:15.646Z"
   },
   {
    "duration": 440,
    "start_time": "2024-06-06T12:59:33.679Z"
   },
   {
    "duration": 443,
    "start_time": "2024-06-06T13:00:04.578Z"
   },
   {
    "duration": 416,
    "start_time": "2024-06-06T13:01:41.015Z"
   },
   {
    "duration": 429,
    "start_time": "2024-06-06T13:10:23.302Z"
   },
   {
    "duration": 432,
    "start_time": "2024-06-06T13:13:38.282Z"
   },
   {
    "duration": 458,
    "start_time": "2024-06-06T13:14:04.956Z"
   },
   {
    "duration": 380,
    "start_time": "2024-06-06T13:14:29.443Z"
   },
   {
    "duration": 106,
    "start_time": "2024-06-06T13:20:04.312Z"
   },
   {
    "duration": 416,
    "start_time": "2024-06-06T13:20:15.306Z"
   },
   {
    "duration": 435,
    "start_time": "2024-06-06T13:20:30.282Z"
   },
   {
    "duration": 963,
    "start_time": "2024-06-06T13:24:07.793Z"
   },
   {
    "duration": 47,
    "start_time": "2024-06-07T11:36:25.270Z"
   },
   {
    "duration": 17683,
    "start_time": "2024-06-07T11:36:28.644Z"
   },
   {
    "duration": 1789,
    "start_time": "2024-06-07T11:36:46.329Z"
   },
   {
    "duration": 3,
    "start_time": "2024-06-07T11:36:48.119Z"
   },
   {
    "duration": 1530,
    "start_time": "2024-06-07T11:36:48.123Z"
   },
   {
    "duration": 117,
    "start_time": "2024-06-07T11:36:49.654Z"
   },
   {
    "duration": 2346,
    "start_time": "2024-06-07T11:36:49.772Z"
   },
   {
    "duration": 121,
    "start_time": "2024-06-07T11:36:52.119Z"
   },
   {
    "duration": 791,
    "start_time": "2024-06-07T11:36:52.242Z"
   },
   {
    "duration": 1117,
    "start_time": "2024-06-07T11:36:53.034Z"
   },
   {
    "duration": 326,
    "start_time": "2024-06-07T11:36:54.154Z"
   },
   {
    "duration": 426,
    "start_time": "2024-06-07T11:41:27.470Z"
   },
   {
    "duration": 5,
    "start_time": "2024-06-07T11:42:54.432Z"
   },
   {
    "duration": 29,
    "start_time": "2024-06-07T11:43:22.468Z"
   },
   {
    "duration": 398,
    "start_time": "2024-06-07T11:46:20.696Z"
   },
   {
    "duration": 311,
    "start_time": "2024-06-07T11:47:08.387Z"
   },
   {
    "duration": 3,
    "start_time": "2024-06-07T11:47:30.473Z"
   },
   {
    "duration": 5,
    "start_time": "2024-06-07T11:47:58.842Z"
   },
   {
    "duration": 413,
    "start_time": "2024-06-07T11:48:33.781Z"
   },
   {
    "duration": 5,
    "start_time": "2024-06-07T11:48:48.909Z"
   },
   {
    "duration": 5,
    "start_time": "2024-06-07T11:48:54.197Z"
   },
   {
    "duration": 311,
    "start_time": "2024-06-07T11:49:54.581Z"
   },
   {
    "duration": 5,
    "start_time": "2024-06-07T11:50:33.377Z"
   },
   {
    "duration": 10,
    "start_time": "2024-06-07T11:51:08.733Z"
   },
   {
    "duration": 70,
    "start_time": "2024-06-07T11:52:19.693Z"
   },
   {
    "duration": 6,
    "start_time": "2024-06-07T11:54:25.557Z"
   },
   {
    "duration": 5,
    "start_time": "2024-06-07T11:54:51.348Z"
   },
   {
    "duration": 4,
    "start_time": "2024-06-07T11:55:04.367Z"
   },
   {
    "duration": 5,
    "start_time": "2024-06-07T11:55:15.767Z"
   },
   {
    "duration": 3,
    "start_time": "2024-06-07T12:12:04.447Z"
   },
   {
    "duration": 2,
    "start_time": "2024-06-07T12:13:24.021Z"
   },
   {
    "duration": 3,
    "start_time": "2024-06-07T12:21:35.970Z"
   },
   {
    "duration": 64,
    "start_time": "2024-06-07T12:24:46.729Z"
   },
   {
    "duration": 3,
    "start_time": "2024-06-07T12:24:55.426Z"
   },
   {
    "duration": 3,
    "start_time": "2024-06-07T12:25:29.272Z"
   },
   {
    "duration": 16395,
    "start_time": "2024-06-10T11:39:13.835Z"
   },
   {
    "duration": 1947,
    "start_time": "2024-06-10T11:39:30.233Z"
   },
   {
    "duration": 3,
    "start_time": "2024-06-10T11:39:32.181Z"
   },
   {
    "duration": 648,
    "start_time": "2024-06-10T11:39:32.186Z"
   },
   {
    "duration": 154,
    "start_time": "2024-06-10T11:39:32.836Z"
   },
   {
    "duration": 2771,
    "start_time": "2024-06-10T11:39:32.992Z"
   },
   {
    "duration": 143,
    "start_time": "2024-06-10T11:39:35.765Z"
   },
   {
    "duration": 877,
    "start_time": "2024-06-10T11:39:35.909Z"
   },
   {
    "duration": 1224,
    "start_time": "2024-06-10T11:39:36.788Z"
   },
   {
    "duration": 456,
    "start_time": "2024-06-10T11:39:38.014Z"
   },
   {
    "duration": 9,
    "start_time": "2024-06-10T11:39:38.471Z"
   },
   {
    "duration": 92,
    "start_time": "2024-06-10T11:39:38.482Z"
   },
   {
    "duration": 19,
    "start_time": "2024-06-10T11:39:38.577Z"
   },
   {
    "duration": 33,
    "start_time": "2024-06-10T11:39:38.597Z"
   },
   {
    "duration": 4,
    "start_time": "2024-06-10T12:00:30.760Z"
   },
   {
    "duration": 68,
    "start_time": "2024-06-10T12:13:17.078Z"
   },
   {
    "duration": 65,
    "start_time": "2024-06-10T12:15:25.044Z"
   },
   {
    "duration": 72,
    "start_time": "2024-06-10T12:16:17.829Z"
   },
   {
    "duration": 10685,
    "start_time": "2024-06-10T12:16:20.354Z"
   },
   {
    "duration": 7,
    "start_time": "2024-06-10T12:16:31.041Z"
   },
   {
    "duration": 85,
    "start_time": "2024-06-10T12:16:31.049Z"
   },
   {
    "duration": 456,
    "start_time": "2024-06-10T12:16:31.136Z"
   },
   {
    "duration": 171,
    "start_time": "2024-06-10T12:16:31.594Z"
   },
   {
    "duration": 2886,
    "start_time": "2024-06-10T12:16:31.766Z"
   },
   {
    "duration": 142,
    "start_time": "2024-06-10T12:16:34.654Z"
   },
   {
    "duration": 842,
    "start_time": "2024-06-10T12:16:34.798Z"
   },
   {
    "duration": 1156,
    "start_time": "2024-06-10T12:16:35.641Z"
   },
   {
    "duration": 378,
    "start_time": "2024-06-10T12:16:36.799Z"
   },
   {
    "duration": 88,
    "start_time": "2024-06-10T12:16:37.179Z"
   },
   {
    "duration": 107,
    "start_time": "2024-06-10T12:16:37.270Z"
   },
   {
    "duration": 17,
    "start_time": "2024-06-10T12:16:37.379Z"
   },
   {
    "duration": 54,
    "start_time": "2024-06-10T12:16:37.398Z"
   },
   {
    "duration": 0,
    "start_time": "2024-06-10T12:16:37.453Z"
   },
   {
    "duration": 22,
    "start_time": "2024-06-10T12:17:17.874Z"
   },
   {
    "duration": 19,
    "start_time": "2024-06-10T12:17:31.228Z"
   },
   {
    "duration": 22,
    "start_time": "2024-06-10T12:18:24.180Z"
   },
   {
    "duration": 21,
    "start_time": "2024-06-10T12:19:09.927Z"
   },
   {
    "duration": 28,
    "start_time": "2024-06-10T12:28:30.051Z"
   },
   {
    "duration": 31,
    "start_time": "2024-06-10T12:28:47.814Z"
   },
   {
    "duration": 28,
    "start_time": "2024-06-10T12:29:43.192Z"
   },
   {
    "duration": 27,
    "start_time": "2024-06-10T12:30:12.602Z"
   },
   {
    "duration": 27,
    "start_time": "2024-06-10T12:30:51.172Z"
   },
   {
    "duration": 165,
    "start_time": "2024-06-10T12:35:05.817Z"
   },
   {
    "duration": 19,
    "start_time": "2024-06-10T12:36:08.251Z"
   },
   {
    "duration": 30,
    "start_time": "2024-06-10T12:36:49.670Z"
   },
   {
    "duration": 30,
    "start_time": "2024-06-10T12:37:20.973Z"
   },
   {
    "duration": 20,
    "start_time": "2024-06-10T12:39:50.408Z"
   },
   {
    "duration": 11,
    "start_time": "2024-06-10T14:01:16.747Z"
   },
   {
    "duration": 8,
    "start_time": "2024-06-10T14:01:54.213Z"
   },
   {
    "duration": 68,
    "start_time": "2024-06-10T14:03:52.553Z"
   },
   {
    "duration": 5,
    "start_time": "2024-06-10T14:03:59.858Z"
   },
   {
    "duration": 10,
    "start_time": "2024-06-10T14:04:02.941Z"
   },
   {
    "duration": 16,
    "start_time": "2024-06-10T14:04:17.743Z"
   },
   {
    "duration": 5,
    "start_time": "2024-06-10T14:04:44.419Z"
   },
   {
    "duration": 9,
    "start_time": "2024-06-10T14:04:48.335Z"
   },
   {
    "duration": 104,
    "start_time": "2024-06-10T14:05:58.929Z"
   },
   {
    "duration": 211,
    "start_time": "2024-06-10T14:08:33.713Z"
   },
   {
    "duration": 376,
    "start_time": "2024-06-10T14:08:42.861Z"
   },
   {
    "duration": 136,
    "start_time": "2024-06-10T14:08:53.671Z"
   },
   {
    "duration": 373,
    "start_time": "2024-06-10T14:09:06.181Z"
   },
   {
    "duration": 132,
    "start_time": "2024-06-10T14:09:14.015Z"
   },
   {
    "duration": 117,
    "start_time": "2024-06-10T14:09:19.455Z"
   },
   {
    "duration": 124,
    "start_time": "2024-06-10T14:11:15.068Z"
   },
   {
    "duration": 41,
    "start_time": "2024-06-10T14:14:10.050Z"
   },
   {
    "duration": 28,
    "start_time": "2024-06-10T14:14:42.140Z"
   },
   {
    "duration": 3,
    "start_time": "2024-06-10T14:30:02.949Z"
   },
   {
    "duration": 1267,
    "start_time": "2024-06-10T14:33:46.894Z"
   },
   {
    "duration": 90,
    "start_time": "2024-06-10T14:34:00.484Z"
   },
   {
    "duration": 400,
    "start_time": "2024-06-10T14:35:16.075Z"
   },
   {
    "duration": 6,
    "start_time": "2024-06-10T14:35:43.347Z"
   },
   {
    "duration": 6,
    "start_time": "2024-06-10T14:35:49.335Z"
   },
   {
    "duration": 6,
    "start_time": "2024-06-10T14:35:54.705Z"
   },
   {
    "duration": 3,
    "start_time": "2024-06-10T14:36:46.570Z"
   },
   {
    "duration": 7,
    "start_time": "2024-06-10T14:36:58.637Z"
   },
   {
    "duration": 6,
    "start_time": "2024-06-10T14:37:29.478Z"
   },
   {
    "duration": 12,
    "start_time": "2024-06-10T14:42:25.380Z"
   },
   {
    "duration": 3,
    "start_time": "2024-06-10T14:42:31.070Z"
   },
   {
    "duration": 17,
    "start_time": "2024-06-10T14:42:31.472Z"
   },
   {
    "duration": 3,
    "start_time": "2024-06-10T14:43:16.274Z"
   },
   {
    "duration": 23,
    "start_time": "2024-06-10T14:43:16.571Z"
   },
   {
    "duration": 70,
    "start_time": "2024-06-10T14:49:01.131Z"
   },
   {
    "duration": 26,
    "start_time": "2024-06-10T14:49:07.561Z"
   },
   {
    "duration": 40,
    "start_time": "2024-06-15T11:45:21.658Z"
   },
   {
    "duration": 16309,
    "start_time": "2024-06-15T11:45:26.071Z"
   },
   {
    "duration": 1616,
    "start_time": "2024-06-15T11:45:42.381Z"
   },
   {
    "duration": 2,
    "start_time": "2024-06-15T11:45:43.998Z"
   },
   {
    "duration": 1451,
    "start_time": "2024-06-15T11:45:44.002Z"
   },
   {
    "duration": 107,
    "start_time": "2024-06-15T11:45:45.455Z"
   },
   {
    "duration": 2118,
    "start_time": "2024-06-15T11:45:45.563Z"
   },
   {
    "duration": 110,
    "start_time": "2024-06-15T11:45:47.683Z"
   },
   {
    "duration": 728,
    "start_time": "2024-06-15T11:45:47.794Z"
   },
   {
    "duration": 1069,
    "start_time": "2024-06-15T11:45:48.523Z"
   },
   {
    "duration": 304,
    "start_time": "2024-06-15T11:45:49.594Z"
   },
   {
    "duration": 98,
    "start_time": "2024-06-15T11:45:49.899Z"
   },
   {
    "duration": 100,
    "start_time": "2024-06-15T11:45:49.998Z"
   },
   {
    "duration": 19,
    "start_time": "2024-06-15T11:45:50.099Z"
   },
   {
    "duration": 33,
    "start_time": "2024-06-15T11:45:50.119Z"
   },
   {
    "duration": 116,
    "start_time": "2024-06-15T11:45:50.153Z"
   },
   {
    "duration": 2,
    "start_time": "2024-06-15T11:45:50.270Z"
   },
   {
    "duration": 110,
    "start_time": "2024-06-15T11:45:50.273Z"
   },
   {
    "duration": 2,
    "start_time": "2024-06-15T11:51:01.459Z"
   },
   {
    "duration": 25,
    "start_time": "2024-06-15T11:51:02.412Z"
   },
   {
    "duration": 15532,
    "start_time": "2024-07-09T11:53:34.290Z"
   },
   {
    "duration": 1790,
    "start_time": "2024-07-09T11:53:49.824Z"
   },
   {
    "duration": 3,
    "start_time": "2024-07-09T11:53:51.616Z"
   },
   {
    "duration": 1575,
    "start_time": "2024-07-09T11:53:51.620Z"
   },
   {
    "duration": 124,
    "start_time": "2024-07-09T11:53:53.196Z"
   },
   {
    "duration": 2589,
    "start_time": "2024-07-09T11:53:53.328Z"
   },
   {
    "duration": 125,
    "start_time": "2024-07-09T11:53:55.921Z"
   },
   {
    "duration": 788,
    "start_time": "2024-07-09T11:53:56.047Z"
   },
   {
    "duration": 1165,
    "start_time": "2024-07-09T11:53:56.836Z"
   },
   {
    "duration": 430,
    "start_time": "2024-07-09T11:53:58.004Z"
   },
   {
    "duration": 95,
    "start_time": "2024-07-09T11:53:58.436Z"
   },
   {
    "duration": 3,
    "start_time": "2024-07-09T11:53:58.533Z"
   },
   {
    "duration": 90,
    "start_time": "2024-07-09T11:53:58.538Z"
   },
   {
    "duration": 38,
    "start_time": "2024-07-09T11:53:58.630Z"
   },
   {
    "duration": 119,
    "start_time": "2024-07-09T11:53:58.669Z"
   },
   {
    "duration": 3,
    "start_time": "2024-07-09T11:53:58.790Z"
   },
   {
    "duration": 225,
    "start_time": "2024-07-09T11:53:58.794Z"
   },
   {
    "duration": 3,
    "start_time": "2024-07-09T12:03:33.314Z"
   },
   {
    "duration": 4,
    "start_time": "2024-07-09T12:03:33.834Z"
   },
   {
    "duration": 72,
    "start_time": "2024-07-09T12:19:32.871Z"
   },
   {
    "duration": 11,
    "start_time": "2024-07-09T12:20:11.433Z"
   },
   {
    "duration": 10,
    "start_time": "2024-07-09T12:21:16.935Z"
   },
   {
    "duration": 13,
    "start_time": "2024-07-09T12:39:44.648Z"
   },
   {
    "duration": 11,
    "start_time": "2024-07-09T12:39:55.663Z"
   },
   {
    "duration": 16,
    "start_time": "2024-07-09T12:40:19.544Z"
   },
   {
    "duration": 18,
    "start_time": "2024-07-09T12:57:25.787Z"
   },
   {
    "duration": 19,
    "start_time": "2024-07-09T13:08:37.605Z"
   },
   {
    "duration": 18,
    "start_time": "2024-07-09T13:13:21.586Z"
   },
   {
    "duration": 3,
    "start_time": "2024-07-09T13:14:16.696Z"
   },
   {
    "duration": 19,
    "start_time": "2024-07-09T13:14:17.197Z"
   },
   {
    "duration": 17952,
    "start_time": "2024-07-10T12:14:26.372Z"
   },
   {
    "duration": 1795,
    "start_time": "2024-07-10T12:14:44.326Z"
   },
   {
    "duration": 2,
    "start_time": "2024-07-10T12:14:46.123Z"
   },
   {
    "duration": 1566,
    "start_time": "2024-07-10T12:14:46.127Z"
   },
   {
    "duration": 145,
    "start_time": "2024-07-10T12:14:47.695Z"
   },
   {
    "duration": 2399,
    "start_time": "2024-07-10T12:14:47.842Z"
   },
   {
    "duration": 120,
    "start_time": "2024-07-10T12:14:50.242Z"
   },
   {
    "duration": 901,
    "start_time": "2024-07-10T12:14:50.371Z"
   },
   {
    "duration": 1150,
    "start_time": "2024-07-10T12:14:51.274Z"
   },
   {
    "duration": 546,
    "start_time": "2024-07-10T12:14:52.426Z"
   },
   {
    "duration": 98,
    "start_time": "2024-07-10T12:14:52.974Z"
   },
   {
    "duration": 21,
    "start_time": "2024-07-10T12:14:53.073Z"
   },
   {
    "duration": 20,
    "start_time": "2024-07-10T12:14:53.095Z"
   },
   {
    "duration": 35,
    "start_time": "2024-07-10T12:14:53.117Z"
   },
   {
    "duration": 124,
    "start_time": "2024-07-10T12:14:53.154Z"
   },
   {
    "duration": 3,
    "start_time": "2024-07-10T12:14:53.279Z"
   },
   {
    "duration": 300,
    "start_time": "2024-07-10T12:14:53.284Z"
   },
   {
    "duration": 3,
    "start_time": "2024-07-10T12:15:36.545Z"
   },
   {
    "duration": 18,
    "start_time": "2024-07-10T12:15:36.738Z"
   },
   {
    "duration": 3,
    "start_time": "2024-07-10T12:16:28.355Z"
   },
   {
    "duration": 29,
    "start_time": "2024-07-10T12:16:28.794Z"
   },
   {
    "duration": 11048,
    "start_time": "2024-07-10T12:17:23.328Z"
   },
   {
    "duration": 1710,
    "start_time": "2024-07-10T12:17:34.378Z"
   },
   {
    "duration": 2,
    "start_time": "2024-07-10T12:17:36.090Z"
   },
   {
    "duration": 360,
    "start_time": "2024-07-10T12:17:36.094Z"
   },
   {
    "duration": 133,
    "start_time": "2024-07-10T12:17:36.455Z"
   },
   {
    "duration": 2427,
    "start_time": "2024-07-10T12:17:36.590Z"
   },
   {
    "duration": 120,
    "start_time": "2024-07-10T12:17:39.018Z"
   },
   {
    "duration": 836,
    "start_time": "2024-07-10T12:17:39.139Z"
   },
   {
    "duration": 1051,
    "start_time": "2024-07-10T12:17:39.977Z"
   },
   {
    "duration": 350,
    "start_time": "2024-07-10T12:17:41.030Z"
   },
   {
    "duration": 93,
    "start_time": "2024-07-10T12:17:41.381Z"
   },
   {
    "duration": 100,
    "start_time": "2024-07-10T12:17:41.476Z"
   },
   {
    "duration": 6,
    "start_time": "2024-07-10T12:17:41.578Z"
   },
   {
    "duration": 44,
    "start_time": "2024-07-10T12:17:41.586Z"
   },
   {
    "duration": 113,
    "start_time": "2024-07-10T12:17:41.631Z"
   },
   {
    "duration": 4,
    "start_time": "2024-07-10T12:17:41.745Z"
   },
   {
    "duration": 155,
    "start_time": "2024-07-10T12:17:41.750Z"
   },
   {
    "duration": 7,
    "start_time": "2024-07-10T12:18:47.660Z"
   },
   {
    "duration": 5,
    "start_time": "2024-07-10T12:19:03.015Z"
   },
   {
    "duration": 51,
    "start_time": "2024-07-12T11:29:18.007Z"
   },
   {
    "duration": 18736,
    "start_time": "2024-07-12T11:29:22.969Z"
   },
   {
    "duration": 1950,
    "start_time": "2024-07-12T11:29:41.708Z"
   },
   {
    "duration": 4,
    "start_time": "2024-07-12T11:29:43.660Z"
   },
   {
    "duration": 940,
    "start_time": "2024-07-12T11:29:43.667Z"
   },
   {
    "duration": 156,
    "start_time": "2024-07-12T11:29:44.609Z"
   },
   {
    "duration": 3073,
    "start_time": "2024-07-12T11:29:44.766Z"
   },
   {
    "duration": 167,
    "start_time": "2024-07-12T11:29:47.841Z"
   },
   {
    "duration": 921,
    "start_time": "2024-07-12T11:29:48.009Z"
   },
   {
    "duration": 1272,
    "start_time": "2024-07-12T11:29:48.932Z"
   },
   {
    "duration": 478,
    "start_time": "2024-07-12T11:29:50.208Z"
   },
   {
    "duration": 81,
    "start_time": "2024-07-12T11:29:50.690Z"
   },
   {
    "duration": 91,
    "start_time": "2024-07-12T11:29:50.774Z"
   },
   {
    "duration": 23,
    "start_time": "2024-07-12T11:29:50.867Z"
   },
   {
    "duration": 54,
    "start_time": "2024-07-12T11:29:50.892Z"
   },
   {
    "duration": 189,
    "start_time": "2024-07-12T11:29:50.948Z"
   },
   {
    "duration": 4,
    "start_time": "2024-07-12T11:29:51.139Z"
   },
   {
    "duration": 154,
    "start_time": "2024-07-12T11:29:51.145Z"
   },
   {
    "duration": 0,
    "start_time": "2024-07-12T11:29:51.301Z"
   },
   {
    "duration": 0,
    "start_time": "2024-07-12T11:29:51.302Z"
   },
   {
    "duration": 25,
    "start_time": "2024-07-12T11:30:55.749Z"
   },
   {
    "duration": 28,
    "start_time": "2024-07-12T11:35:00.778Z"
   },
   {
    "duration": 4,
    "start_time": "2024-07-12T11:35:48.577Z"
   },
   {
    "duration": 21,
    "start_time": "2024-07-12T11:35:49.483Z"
   },
   {
    "duration": 25,
    "start_time": "2024-07-12T11:36:01.797Z"
   },
   {
    "duration": 19,
    "start_time": "2024-07-12T11:37:40.953Z"
   },
   {
    "duration": 20,
    "start_time": "2024-07-12T11:38:38.215Z"
   },
   {
    "duration": 5,
    "start_time": "2024-07-12T11:39:07.709Z"
   },
   {
    "duration": 21,
    "start_time": "2024-07-12T11:39:08.735Z"
   },
   {
    "duration": 30,
    "start_time": "2024-07-12T11:39:19.912Z"
   },
   {
    "duration": 26,
    "start_time": "2024-07-12T11:39:28.201Z"
   },
   {
    "duration": 4,
    "start_time": "2024-07-12T11:39:55.080Z"
   },
   {
    "duration": 27,
    "start_time": "2024-07-12T11:39:57.043Z"
   },
   {
    "duration": 4,
    "start_time": "2024-07-12T11:42:08.648Z"
   },
   {
    "duration": 25,
    "start_time": "2024-07-12T11:42:09.084Z"
   },
   {
    "duration": 21,
    "start_time": "2024-07-12T11:43:29.161Z"
   },
   {
    "duration": 4,
    "start_time": "2024-07-12T11:43:44.206Z"
   },
   {
    "duration": 19,
    "start_time": "2024-07-12T11:43:44.728Z"
   },
   {
    "duration": 295,
    "start_time": "2024-07-12T11:44:44.592Z"
   },
   {
    "duration": 5,
    "start_time": "2024-07-12T11:45:31.634Z"
   },
   {
    "duration": 33,
    "start_time": "2024-07-12T11:45:53.321Z"
   },
   {
    "duration": 4,
    "start_time": "2024-07-12T11:47:26.530Z"
   },
   {
    "duration": 21,
    "start_time": "2024-07-12T11:47:43.423Z"
   },
   {
    "duration": 7,
    "start_time": "2024-07-12T11:48:22.990Z"
   },
   {
    "duration": 9,
    "start_time": "2024-07-12T11:48:31.454Z"
   },
   {
    "duration": 19,
    "start_time": "2024-07-12T11:49:45.047Z"
   },
   {
    "duration": 11,
    "start_time": "2024-07-12T11:51:04.881Z"
   },
   {
    "duration": 18,
    "start_time": "2024-07-12T11:51:39.118Z"
   },
   {
    "duration": 17,
    "start_time": "2024-07-12T11:52:36.129Z"
   },
   {
    "duration": 24,
    "start_time": "2024-07-12T11:52:57.314Z"
   },
   {
    "duration": 17,
    "start_time": "2024-07-12T11:54:33.215Z"
   },
   {
    "duration": 16,
    "start_time": "2024-07-12T11:55:10.201Z"
   },
   {
    "duration": 8,
    "start_time": "2024-07-12T11:56:37.527Z"
   },
   {
    "duration": 9,
    "start_time": "2024-07-12T11:57:14.219Z"
   },
   {
    "duration": 20,
    "start_time": "2024-07-12T11:57:35.337Z"
   },
   {
    "duration": 25,
    "start_time": "2024-07-12T11:58:03.003Z"
   },
   {
    "duration": 22,
    "start_time": "2024-07-12T11:58:28.858Z"
   },
   {
    "duration": 26,
    "start_time": "2024-07-12T12:00:10.196Z"
   },
   {
    "duration": 4,
    "start_time": "2024-07-12T12:00:29.985Z"
   },
   {
    "duration": 33,
    "start_time": "2024-07-12T12:00:34.996Z"
   },
   {
    "duration": 24,
    "start_time": "2024-07-12T12:00:51.164Z"
   },
   {
    "duration": 24,
    "start_time": "2024-07-12T12:02:32.274Z"
   },
   {
    "duration": 3724,
    "start_time": "2024-07-12T12:08:09.528Z"
   },
   {
    "duration": 3614,
    "start_time": "2024-07-12T12:08:50.880Z"
   },
   {
    "duration": 3722,
    "start_time": "2024-07-12T12:09:38.611Z"
   },
   {
    "duration": 3748,
    "start_time": "2024-07-12T12:09:57.542Z"
   },
   {
    "duration": 3686,
    "start_time": "2024-07-12T12:13:27.477Z"
   },
   {
    "duration": 10445,
    "start_time": "2024-07-12T12:13:46.759Z"
   },
   {
    "duration": 7,
    "start_time": "2024-07-12T12:13:57.206Z"
   },
   {
    "duration": 27,
    "start_time": "2024-07-12T12:13:57.214Z"
   },
   {
    "duration": 458,
    "start_time": "2024-07-12T12:13:57.243Z"
   },
   {
    "duration": 209,
    "start_time": "2024-07-12T12:13:57.703Z"
   },
   {
    "duration": 3186,
    "start_time": "2024-07-12T12:13:57.914Z"
   },
   {
    "duration": 144,
    "start_time": "2024-07-12T12:14:01.102Z"
   },
   {
    "duration": 958,
    "start_time": "2024-07-12T12:14:01.266Z"
   },
   {
    "duration": 1203,
    "start_time": "2024-07-12T12:14:02.225Z"
   },
   {
    "duration": 459,
    "start_time": "2024-07-12T12:14:03.431Z"
   },
   {
    "duration": 10,
    "start_time": "2024-07-12T12:14:03.965Z"
   },
   {
    "duration": 4,
    "start_time": "2024-07-12T12:14:04.065Z"
   },
   {
    "duration": 7,
    "start_time": "2024-07-12T12:14:04.071Z"
   },
   {
    "duration": 46,
    "start_time": "2024-07-12T12:14:04.080Z"
   },
   {
    "duration": 153,
    "start_time": "2024-07-12T12:14:04.128Z"
   },
   {
    "duration": 4,
    "start_time": "2024-07-12T12:14:04.283Z"
   },
   {
    "duration": 3898,
    "start_time": "2024-07-12T12:14:04.288Z"
   },
   {
    "duration": 8,
    "start_time": "2024-07-12T12:14:08.188Z"
   },
   {
    "duration": 9,
    "start_time": "2024-07-12T12:14:08.198Z"
   },
   {
    "duration": 3776,
    "start_time": "2024-07-12T12:14:51.968Z"
   },
   {
    "duration": 3710,
    "start_time": "2024-07-12T12:16:19.532Z"
   },
   {
    "duration": 3657,
    "start_time": "2024-07-12T12:20:46.004Z"
   },
   {
    "duration": 6893,
    "start_time": "2024-07-12T12:21:34.965Z"
   },
   {
    "duration": 6748,
    "start_time": "2024-07-12T12:22:47.427Z"
   },
   {
    "duration": 24,
    "start_time": "2024-07-12T12:24:00.399Z"
   },
   {
    "duration": 6869,
    "start_time": "2024-07-12T12:24:45.115Z"
   },
   {
    "duration": 3,
    "start_time": "2024-07-12T12:25:12.446Z"
   },
   {
    "duration": 3556,
    "start_time": "2024-07-12T12:25:12.907Z"
   },
   {
    "duration": 3059,
    "start_time": "2024-07-12T12:26:25.169Z"
   },
   {
    "duration": 5,
    "start_time": "2024-07-12T12:27:23.938Z"
   },
   {
    "duration": 25,
    "start_time": "2024-07-12T12:27:24.364Z"
   },
   {
    "duration": 19,
    "start_time": "2024-07-12T12:27:35.652Z"
   },
   {
    "duration": 4,
    "start_time": "2024-07-12T12:29:34.435Z"
   },
   {
    "duration": 26,
    "start_time": "2024-07-12T12:29:34.796Z"
   },
   {
    "duration": 4,
    "start_time": "2024-07-12T12:29:41.090Z"
   },
   {
    "duration": 26,
    "start_time": "2024-07-12T12:29:41.364Z"
   },
   {
    "duration": 5,
    "start_time": "2024-07-12T12:30:05.786Z"
   },
   {
    "duration": 3,
    "start_time": "2024-07-12T12:30:54.250Z"
   },
   {
    "duration": 3507,
    "start_time": "2024-07-12T12:30:54.815Z"
   },
   {
    "duration": 3509,
    "start_time": "2024-07-12T12:31:07.618Z"
   },
   {
    "duration": 3559,
    "start_time": "2024-07-12T12:31:26.066Z"
   },
   {
    "duration": 3561,
    "start_time": "2024-07-12T12:31:46.530Z"
   },
   {
    "duration": 3,
    "start_time": "2024-07-12T12:32:17.259Z"
   },
   {
    "duration": 6731,
    "start_time": "2024-07-12T12:32:17.596Z"
   },
   {
    "duration": 21,
    "start_time": "2024-07-12T12:36:24.981Z"
   },
   {
    "duration": 33282,
    "start_time": "2024-07-12T12:36:32.413Z"
   },
   {
    "duration": 7,
    "start_time": "2024-07-12T12:41:56.682Z"
   },
   {
    "duration": 10,
    "start_time": "2024-07-12T12:46:24.218Z"
   },
   {
    "duration": 2069,
    "start_time": "2024-07-12T12:49:37.675Z"
   },
   {
    "duration": 21,
    "start_time": "2024-07-12T12:50:46.404Z"
   },
   {
    "duration": 1090,
    "start_time": "2024-07-12T12:51:06.756Z"
   },
   {
    "duration": 1007,
    "start_time": "2024-07-12T12:52:12.727Z"
   },
   {
    "duration": 1171,
    "start_time": "2024-07-12T12:52:22.264Z"
   },
   {
    "duration": 98,
    "start_time": "2024-07-12T12:53:18.548Z"
   },
   {
    "duration": 221,
    "start_time": "2024-07-12T12:54:02.924Z"
   },
   {
    "duration": 205,
    "start_time": "2024-07-12T12:54:50.705Z"
   },
   {
    "duration": 224,
    "start_time": "2024-07-12T12:55:29.820Z"
   },
   {
    "duration": 202,
    "start_time": "2024-07-12T12:55:59.645Z"
   },
   {
    "duration": 227,
    "start_time": "2024-07-12T12:56:09.154Z"
   },
   {
    "duration": 179,
    "start_time": "2024-07-12T12:57:01.225Z"
   },
   {
    "duration": 190,
    "start_time": "2024-07-12T12:57:38.987Z"
   },
   {
    "duration": 167,
    "start_time": "2024-07-12T12:57:49.956Z"
   },
   {
    "duration": 168,
    "start_time": "2024-07-12T12:58:14.302Z"
   },
   {
    "duration": 159,
    "start_time": "2024-07-12T12:58:34.872Z"
   },
   {
    "duration": 165,
    "start_time": "2024-07-12T13:00:11.100Z"
   },
   {
    "duration": 23,
    "start_time": "2024-07-12T13:00:19.397Z"
   },
   {
    "duration": 31,
    "start_time": "2024-07-12T13:00:28.383Z"
   },
   {
    "duration": 161,
    "start_time": "2024-07-12T13:00:40.943Z"
   },
   {
    "duration": 36,
    "start_time": "2024-07-12T13:01:00.686Z"
   },
   {
    "duration": 162,
    "start_time": "2024-07-12T13:02:25.173Z"
   },
   {
    "duration": 157,
    "start_time": "2024-07-12T13:02:36.301Z"
   },
   {
    "duration": 188,
    "start_time": "2024-07-12T13:02:55.728Z"
   },
   {
    "duration": 190,
    "start_time": "2024-07-12T13:03:51.923Z"
   },
   {
    "duration": 6838,
    "start_time": "2024-07-12T13:04:38.835Z"
   },
   {
    "duration": 5,
    "start_time": "2024-07-12T14:02:26.858Z"
   },
   {
    "duration": 39,
    "start_time": "2024-07-12T14:02:27.259Z"
   },
   {
    "duration": 4,
    "start_time": "2024-07-12T14:03:11.285Z"
   },
   {
    "duration": 4071,
    "start_time": "2024-07-12T14:03:11.662Z"
   },
   {
    "duration": 4253,
    "start_time": "2024-07-12T14:05:16.466Z"
   },
   {
    "duration": 3,
    "start_time": "2024-07-12T14:05:22.820Z"
   },
   {
    "duration": 7205,
    "start_time": "2024-07-12T14:05:23.360Z"
   },
   {
    "duration": 7335,
    "start_time": "2024-07-12T14:06:11.913Z"
   },
   {
    "duration": 8242,
    "start_time": "2024-07-12T14:06:44.743Z"
   },
   {
    "duration": 7023,
    "start_time": "2024-07-12T14:07:50.207Z"
   },
   {
    "duration": 6658,
    "start_time": "2024-07-12T14:08:07.151Z"
   },
   {
    "duration": 5,
    "start_time": "2024-07-12T14:13:08.521Z"
   },
   {
    "duration": 25,
    "start_time": "2024-07-12T14:13:10.658Z"
   },
   {
    "duration": 5,
    "start_time": "2024-07-12T14:13:32.624Z"
   },
   {
    "duration": 22,
    "start_time": "2024-07-12T14:13:33.346Z"
   },
   {
    "duration": 3,
    "start_time": "2024-07-12T14:14:21.516Z"
   },
   {
    "duration": 21,
    "start_time": "2024-07-12T14:14:21.973Z"
   },
   {
    "duration": 17,
    "start_time": "2024-07-12T14:15:31.565Z"
   },
   {
    "duration": 17,
    "start_time": "2024-07-12T14:16:12.493Z"
   },
   {
    "duration": 21,
    "start_time": "2024-07-12T14:16:20.213Z"
   },
   {
    "duration": 5,
    "start_time": "2024-07-12T14:16:25.412Z"
   },
   {
    "duration": 22,
    "start_time": "2024-07-12T14:16:31.399Z"
   },
   {
    "duration": 16,
    "start_time": "2024-07-12T14:16:40.644Z"
   },
   {
    "duration": 7024,
    "start_time": "2024-07-12T14:16:56.278Z"
   },
   {
    "duration": 8934,
    "start_time": "2024-07-12T14:19:19.383Z"
   },
   {
    "duration": 8823,
    "start_time": "2024-07-12T14:19:50.978Z"
   },
   {
    "duration": 6728,
    "start_time": "2024-07-12T14:20:30.253Z"
   },
   {
    "duration": 4582,
    "start_time": "2024-07-12T14:20:38.829Z"
   },
   {
    "duration": 40,
    "start_time": "2024-07-13T02:47:05.650Z"
   },
   {
    "duration": 1076,
    "start_time": "2024-07-13T02:47:10.744Z"
   },
   {
    "duration": 0,
    "start_time": "2024-07-13T02:47:11.821Z"
   },
   {
    "duration": 0,
    "start_time": "2024-07-13T02:47:11.822Z"
   },
   {
    "duration": 9,
    "start_time": "2024-07-13T02:47:12.099Z"
   },
   {
    "duration": 7,
    "start_time": "2024-07-13T02:47:12.249Z"
   },
   {
    "duration": 17132,
    "start_time": "2024-07-13T02:47:24.739Z"
   },
   {
    "duration": 624,
    "start_time": "2024-07-13T02:47:41.873Z"
   },
   {
    "duration": 3,
    "start_time": "2024-07-13T02:47:42.498Z"
   },
   {
    "duration": 381,
    "start_time": "2024-07-13T02:47:42.503Z"
   },
   {
    "duration": 137,
    "start_time": "2024-07-13T02:47:42.885Z"
   },
   {
    "duration": 2235,
    "start_time": "2024-07-13T02:47:43.023Z"
   },
   {
    "duration": 174,
    "start_time": "2024-07-13T02:47:45.259Z"
   },
   {
    "duration": 18,
    "start_time": "2024-07-13T02:47:45.434Z"
   },
   {
    "duration": 63,
    "start_time": "2024-07-13T02:47:46.390Z"
   },
   {
    "duration": 10273,
    "start_time": "2024-07-13T02:50:51.025Z"
   },
   {
    "duration": 1591,
    "start_time": "2024-07-13T02:51:01.300Z"
   },
   {
    "duration": 2,
    "start_time": "2024-07-13T02:51:02.893Z"
   },
   {
    "duration": 358,
    "start_time": "2024-07-13T02:51:02.896Z"
   },
   {
    "duration": 120,
    "start_time": "2024-07-13T02:51:03.255Z"
   },
   {
    "duration": 2304,
    "start_time": "2024-07-13T02:51:03.376Z"
   },
   {
    "duration": 185,
    "start_time": "2024-07-13T02:51:05.681Z"
   },
   {
    "duration": 110,
    "start_time": "2024-07-13T02:51:05.867Z"
   },
   {
    "duration": 767,
    "start_time": "2024-07-13T02:51:05.979Z"
   },
   {
    "duration": 1082,
    "start_time": "2024-07-13T02:51:06.748Z"
   },
   {
    "duration": 371,
    "start_time": "2024-07-13T02:51:07.831Z"
   },
   {
    "duration": 95,
    "start_time": "2024-07-13T02:51:08.207Z"
   },
   {
    "duration": 3,
    "start_time": "2024-07-13T02:51:08.303Z"
   },
   {
    "duration": 9,
    "start_time": "2024-07-13T02:51:08.308Z"
   },
   {
    "duration": 31,
    "start_time": "2024-07-13T02:51:08.318Z"
   },
   {
    "duration": 127,
    "start_time": "2024-07-13T02:51:08.350Z"
   },
   {
    "duration": 3,
    "start_time": "2024-07-13T02:51:08.478Z"
   },
   {
    "duration": 5042,
    "start_time": "2024-07-13T02:51:08.482Z"
   },
   {
    "duration": 8,
    "start_time": "2024-07-13T02:51:13.526Z"
   },
   {
    "duration": 19,
    "start_time": "2024-07-13T02:51:13.535Z"
   },
   {
    "duration": 130,
    "start_time": "2024-07-13T02:57:24.344Z"
   },
   {
    "duration": 4,
    "start_time": "2024-07-13T02:58:10.564Z"
   },
   {
    "duration": 2484,
    "start_time": "2024-07-13T02:58:11.202Z"
   },
   {
    "duration": 3,
    "start_time": "2024-07-13T02:58:19.032Z"
   },
   {
    "duration": 4883,
    "start_time": "2024-07-13T02:58:19.384Z"
   },
   {
    "duration": 5,
    "start_time": "2024-07-13T02:58:24.269Z"
   },
   {
    "duration": 10,
    "start_time": "2024-07-13T02:58:24.275Z"
   },
   {
    "duration": 11,
    "start_time": "2024-07-13T13:49:57.925Z"
   },
   {
    "duration": 47,
    "start_time": "2024-07-13T13:49:59.074Z"
   },
   {
    "duration": 17400,
    "start_time": "2024-07-13T13:50:02.969Z"
   },
   {
    "duration": 1995,
    "start_time": "2024-07-13T13:50:20.372Z"
   },
   {
    "duration": 3,
    "start_time": "2024-07-13T13:50:22.369Z"
   },
   {
    "duration": 954,
    "start_time": "2024-07-13T13:50:22.374Z"
   },
   {
    "duration": 182,
    "start_time": "2024-07-13T13:50:23.329Z"
   },
   {
    "duration": 3206,
    "start_time": "2024-07-13T13:50:23.513Z"
   },
   {
    "duration": 259,
    "start_time": "2024-07-13T13:50:26.720Z"
   },
   {
    "duration": 188,
    "start_time": "2024-07-13T13:50:26.981Z"
   },
   {
    "duration": 1042,
    "start_time": "2024-07-13T13:50:27.170Z"
   },
   {
    "duration": 1407,
    "start_time": "2024-07-13T13:50:28.215Z"
   },
   {
    "duration": 435,
    "start_time": "2024-07-13T13:50:29.623Z"
   },
   {
    "duration": 91,
    "start_time": "2024-07-13T13:50:30.061Z"
   },
   {
    "duration": 113,
    "start_time": "2024-07-13T13:50:30.161Z"
   },
   {
    "duration": 64,
    "start_time": "2024-07-13T13:50:30.276Z"
   },
   {
    "duration": 147,
    "start_time": "2024-07-13T13:50:30.342Z"
   },
   {
    "duration": 287,
    "start_time": "2024-07-13T13:50:30.490Z"
   },
   {
    "duration": 34,
    "start_time": "2024-07-13T13:50:30.779Z"
   },
   {
    "duration": 517,
    "start_time": "2024-07-13T13:50:30.814Z"
   },
   {
    "duration": 0,
    "start_time": "2024-07-13T13:50:31.333Z"
   },
   {
    "duration": 0,
    "start_time": "2024-07-13T13:50:31.335Z"
   },
   {
    "duration": 5,
    "start_time": "2024-07-13T13:51:06.720Z"
   },
   {
    "duration": 20,
    "start_time": "2024-07-13T13:51:07.102Z"
   },
   {
    "duration": 6,
    "start_time": "2024-07-13T13:51:28.432Z"
   },
   {
    "duration": 27,
    "start_time": "2024-07-13T13:51:28.960Z"
   },
   {
    "duration": 4,
    "start_time": "2024-07-13T13:52:14.947Z"
   },
   {
    "duration": 20,
    "start_time": "2024-07-13T13:52:15.194Z"
   },
   {
    "duration": 27,
    "start_time": "2024-07-13T13:52:30.996Z"
   },
   {
    "duration": 4,
    "start_time": "2024-07-13T13:52:34.467Z"
   },
   {
    "duration": 26,
    "start_time": "2024-07-13T13:52:34.795Z"
   },
   {
    "duration": 4,
    "start_time": "2024-07-13T13:52:48.557Z"
   },
   {
    "duration": 25,
    "start_time": "2024-07-13T13:52:48.862Z"
   },
   {
    "duration": 4,
    "start_time": "2024-07-13T13:52:59.102Z"
   },
   {
    "duration": 4148,
    "start_time": "2024-07-13T13:52:59.342Z"
   },
   {
    "duration": 10845,
    "start_time": "2024-07-13T14:26:51.654Z"
   },
   {
    "duration": 1791,
    "start_time": "2024-07-13T14:27:02.502Z"
   },
   {
    "duration": 4,
    "start_time": "2024-07-13T14:27:04.295Z"
   },
   {
    "duration": 513,
    "start_time": "2024-07-13T14:27:04.302Z"
   },
   {
    "duration": 181,
    "start_time": "2024-07-13T14:27:04.817Z"
   },
   {
    "duration": 3233,
    "start_time": "2024-07-13T14:27:05.000Z"
   },
   {
    "duration": 249,
    "start_time": "2024-07-13T14:27:08.235Z"
   },
   {
    "duration": 195,
    "start_time": "2024-07-13T14:27:08.486Z"
   },
   {
    "duration": 983,
    "start_time": "2024-07-13T14:27:08.683Z"
   },
   {
    "duration": 1311,
    "start_time": "2024-07-13T14:27:09.668Z"
   },
   {
    "duration": 377,
    "start_time": "2024-07-13T14:27:10.981Z"
   },
   {
    "duration": 88,
    "start_time": "2024-07-13T14:27:11.361Z"
   },
   {
    "duration": 102,
    "start_time": "2024-07-13T14:27:11.451Z"
   },
   {
    "duration": 6,
    "start_time": "2024-07-13T14:27:11.555Z"
   },
   {
    "duration": 38,
    "start_time": "2024-07-13T14:27:11.563Z"
   },
   {
    "duration": 150,
    "start_time": "2024-07-13T14:27:11.602Z"
   },
   {
    "duration": 4,
    "start_time": "2024-07-13T14:27:11.754Z"
   },
   {
    "duration": 3990,
    "start_time": "2024-07-13T14:27:11.760Z"
   },
   {
    "duration": 7,
    "start_time": "2024-07-13T14:27:15.753Z"
   },
   {
    "duration": 15,
    "start_time": "2024-07-13T14:27:15.762Z"
   }
  ],
  "kernelspec": {
   "display_name": "Python 3 (ipykernel)",
   "language": "python",
   "name": "python3"
  },
  "language_info": {
   "codemirror_mode": {
    "name": "ipython",
    "version": 3
   },
   "file_extension": ".py",
   "mimetype": "text/x-python",
   "name": "python",
   "nbconvert_exporter": "python",
   "pygments_lexer": "ipython3",
   "version": "3.9.19"
  },
  "toc": {
   "base_numbering": 1,
   "nav_menu": {},
   "number_sections": true,
   "sideBar": true,
   "skip_h1_title": true,
   "title_cell": "Table of Contents",
   "title_sidebar": "Contents",
   "toc_cell": false,
   "toc_position": {
    "height": "calc(100% - 180px)",
    "left": "10px",
    "top": "150px",
    "width": "320px"
   },
   "toc_section_display": true,
   "toc_window_display": true
  }
 },
 "nbformat": 4,
 "nbformat_minor": 4
}
